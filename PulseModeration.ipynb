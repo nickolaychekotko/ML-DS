{
  "nbformat": 4,
  "nbformat_minor": 0,
  "metadata": {
    "colab": {
      "provenance": [],
      "toc_visible": true,
      "collapsed_sections": [
        "j_En8v2kze2l"
      ],
      "gpuType": "T4",
      "include_colab_link": true
    },
    "kernelspec": {
      "name": "python3",
      "display_name": "Python 3"
    },
    "language_info": {
      "name": "python"
    },
    "widgets": {
      "application/vnd.jupyter.widget-state+json": {
        "381f431bf2aa4ea1b6369857a8a54df4": {
          "model_module": "catboost-widget",
          "model_name": "CatboostWidgetModel",
          "model_module_version": "^1.0.0",
          "state": {
            "_dom_classes": [],
            "_model_module": "catboost-widget",
            "_model_module_version": "^1.0.0",
            "_model_name": "CatboostWidgetModel",
            "_view_count": null,
            "_view_module": "catboost-widget",
            "_view_module_version": "^1.0.0",
            "_view_name": "CatboostWidgetView",
            "data": {
              "catboost_info": {
                "path": "catboost_info",
                "name": "catboost_info",
                "content": {
                  "passed_iterations": 999,
                  "total_iterations": 1000,
                  "data": {
                    "iterations": [
                      {
                        "learn": [
                          0.6124013939
                        ],
                        "iteration": 0,
                        "passed_time": 2.287330914,
                        "remaining_time": 2285.043583,
                        "test": [
                          0.6125757055
                        ]
                      },
                      {
                        "learn": [
                          0.5455730981
                        ],
                        "iteration": 1,
                        "passed_time": 3.407942025,
                        "remaining_time": 1700.563071,
                        "test": [
                          0.545925296
                        ]
                      },
                      {
                        "learn": [
                          0.4899752437
                        ],
                        "iteration": 2,
                        "passed_time": 4.271598145,
                        "remaining_time": 1419.59445,
                        "test": [
                          0.4905883694
                        ]
                      },
                      {
                        "learn": [
                          0.4465957972
                        ],
                        "iteration": 3,
                        "passed_time": 5.083590149,
                        "remaining_time": 1265.813947,
                        "test": [
                          0.4473963457
                        ]
                      },
                      {
                        "learn": [
                          0.4113878147
                        ],
                        "iteration": 4,
                        "passed_time": 5.859834096,
                        "remaining_time": 1166.106985,
                        "test": [
                          0.4123276563
                        ]
                      },
                      {
                        "learn": [
                          0.3818049634
                        ],
                        "iteration": 5,
                        "passed_time": 6.664699494,
                        "remaining_time": 1104.118549,
                        "test": [
                          0.382892706
                        ]
                      },
                      {
                        "learn": [
                          0.3569655276
                        ],
                        "iteration": 6,
                        "passed_time": 7.464378673,
                        "remaining_time": 1058.875432,
                        "test": [
                          0.3582437829
                        ]
                      },
                      {
                        "learn": [
                          0.3351987907
                        ],
                        "iteration": 7,
                        "passed_time": 8.476473186,
                        "remaining_time": 1051.082675,
                        "test": [
                          0.3365881107
                        ]
                      },
                      {
                        "learn": [
                          0.3169519224
                        ],
                        "iteration": 8,
                        "passed_time": 9.925533232,
                        "remaining_time": 1092.911493,
                        "test": [
                          0.3185111515
                        ]
                      },
                      {
                        "learn": [
                          0.3017419058
                        ],
                        "iteration": 9,
                        "passed_time": 11.35807643,
                        "remaining_time": 1124.449567,
                        "test": [
                          0.3034485329
                        ]
                      },
                      {
                        "learn": [
                          0.2898260407
                        ],
                        "iteration": 10,
                        "passed_time": 12.65341995,
                        "remaining_time": 1137.657484,
                        "test": [
                          0.29180891
                        ]
                      },
                      {
                        "learn": [
                          0.2790103644
                        ],
                        "iteration": 11,
                        "passed_time": 13.43931715,
                        "remaining_time": 1106.503778,
                        "test": [
                          0.2811285831
                        ]
                      },
                      {
                        "learn": [
                          0.2691283315
                        ],
                        "iteration": 12,
                        "passed_time": 14.239965,
                        "remaining_time": 1081.141958,
                        "test": [
                          0.2712974562
                        ]
                      },
                      {
                        "learn": [
                          0.2613383463
                        ],
                        "iteration": 13,
                        "passed_time": 15.02648151,
                        "remaining_time": 1058.293626,
                        "test": [
                          0.2634332821
                        ]
                      },
                      {
                        "learn": [
                          0.2546039332
                        ],
                        "iteration": 14,
                        "passed_time": 15.82418743,
                        "remaining_time": 1039.121641,
                        "test": [
                          0.2568171085
                        ]
                      },
                      {
                        "learn": [
                          0.2485895343
                        ],
                        "iteration": 15,
                        "passed_time": 16.62655233,
                        "remaining_time": 1022.532968,
                        "test": [
                          0.2508055312
                        ]
                      },
                      {
                        "learn": [
                          0.243456219
                        ],
                        "iteration": 16,
                        "passed_time": 17.45297331,
                        "remaining_time": 1009.192515,
                        "test": [
                          0.2457823579
                        ]
                      },
                      {
                        "learn": [
                          0.238818305
                        ],
                        "iteration": 17,
                        "passed_time": 18.23714645,
                        "remaining_time": 994.9376562,
                        "test": [
                          0.2412335027
                        ]
                      },
                      {
                        "learn": [
                          0.2346735612
                        ],
                        "iteration": 18,
                        "passed_time": 19.06726226,
                        "remaining_time": 984.4728567,
                        "test": [
                          0.2371963964
                        ]
                      },
                      {
                        "learn": [
                          0.2311238004
                        ],
                        "iteration": 19,
                        "passed_time": 19.87737446,
                        "remaining_time": 973.9913484,
                        "test": [
                          0.233724073
                        ]
                      },
                      {
                        "learn": [
                          0.2278123755
                        ],
                        "iteration": 20,
                        "passed_time": 20.68261072,
                        "remaining_time": 964.2036139,
                        "test": [
                          0.2305724277
                        ]
                      },
                      {
                        "learn": [
                          0.224871748
                        ],
                        "iteration": 21,
                        "passed_time": 21.50021282,
                        "remaining_time": 955.7821881,
                        "test": [
                          0.2277878251
                        ]
                      },
                      {
                        "learn": [
                          0.2223328352
                        ],
                        "iteration": 22,
                        "passed_time": 22.28409118,
                        "remaining_time": 946.5894386,
                        "test": [
                          0.2252072091
                        ]
                      },
                      {
                        "learn": [
                          0.2195760833
                        ],
                        "iteration": 23,
                        "passed_time": 23.42375192,
                        "remaining_time": 952.5659112,
                        "test": [
                          0.2224865668
                        ]
                      },
                      {
                        "learn": [
                          0.2174155541
                        ],
                        "iteration": 24,
                        "passed_time": 24.83314193,
                        "remaining_time": 968.4925354,
                        "test": [
                          0.220421556
                        ]
                      },
                      {
                        "learn": [
                          0.2151218066
                        ],
                        "iteration": 25,
                        "passed_time": 26.23808564,
                        "remaining_time": 982.9190542,
                        "test": [
                          0.2182017078
                        ]
                      },
                      {
                        "learn": [
                          0.2131600268
                        ],
                        "iteration": 26,
                        "passed_time": 27.4997051,
                        "remaining_time": 991.0078912,
                        "test": [
                          0.2163805687
                        ]
                      },
                      {
                        "learn": [
                          0.2115445224
                        ],
                        "iteration": 27,
                        "passed_time": 28.31044424,
                        "remaining_time": 982.7768501,
                        "test": [
                          0.2147868896
                        ]
                      },
                      {
                        "learn": [
                          0.2100934436
                        ],
                        "iteration": 28,
                        "passed_time": 29.11826296,
                        "remaining_time": 974.9597702,
                        "test": [
                          0.2133993285
                        ]
                      },
                      {
                        "learn": [
                          0.2083362069
                        ],
                        "iteration": 29,
                        "passed_time": 29.90584928,
                        "remaining_time": 966.9557935,
                        "test": [
                          0.2117188522
                        ]
                      },
                      {
                        "learn": [
                          0.2071135709
                        ],
                        "iteration": 30,
                        "passed_time": 30.68034207,
                        "remaining_time": 959.0081118,
                        "test": [
                          0.2106077671
                        ]
                      },
                      {
                        "learn": [
                          0.2059486745
                        ],
                        "iteration": 31,
                        "passed_time": 31.48190676,
                        "remaining_time": 952.3276795,
                        "test": [
                          0.2093596751
                        ]
                      },
                      {
                        "learn": [
                          0.2047439334
                        ],
                        "iteration": 32,
                        "passed_time": 32.27432703,
                        "remaining_time": 945.7355829,
                        "test": [
                          0.2081714899
                        ]
                      },
                      {
                        "learn": [
                          0.2034922719
                        ],
                        "iteration": 33,
                        "passed_time": 33.07662751,
                        "remaining_time": 939.765358,
                        "test": [
                          0.2068688984
                        ]
                      },
                      {
                        "learn": [
                          0.2023334828
                        ],
                        "iteration": 34,
                        "passed_time": 33.87651792,
                        "remaining_time": 934.023994,
                        "test": [
                          0.2057136239
                        ]
                      },
                      {
                        "learn": [
                          0.2011180633
                        ],
                        "iteration": 35,
                        "passed_time": 34.66190815,
                        "remaining_time": 928.1688738,
                        "test": [
                          0.204559029
                        ]
                      },
                      {
                        "learn": [
                          0.2000631712
                        ],
                        "iteration": 36,
                        "passed_time": 35.46546527,
                        "remaining_time": 923.0606232,
                        "test": [
                          0.2035804216
                        ]
                      },
                      {
                        "learn": [
                          0.1990813216
                        ],
                        "iteration": 37,
                        "passed_time": 36.23700396,
                        "remaining_time": 917.3683635,
                        "test": [
                          0.2024991498
                        ]
                      },
                      {
                        "learn": [
                          0.1983279845
                        ],
                        "iteration": 38,
                        "passed_time": 37.03500512,
                        "remaining_time": 912.5805108,
                        "test": [
                          0.2018615769
                        ]
                      },
                      {
                        "learn": [
                          0.197330725
                        ],
                        "iteration": 39,
                        "passed_time": 38.08171378,
                        "remaining_time": 913.9611308,
                        "test": [
                          0.2009245299
                        ]
                      },
                      {
                        "learn": [
                          0.196364606
                        ],
                        "iteration": 40,
                        "passed_time": 39.55234667,
                        "remaining_time": 925.1390356,
                        "test": [
                          0.199975149
                        ]
                      },
                      {
                        "learn": [
                          0.195463265
                        ],
                        "iteration": 41,
                        "passed_time": 41.00534082,
                        "remaining_time": 935.3122979,
                        "test": [
                          0.1991853884
                        ]
                      },
                      {
                        "learn": [
                          0.194615667
                        ],
                        "iteration": 42,
                        "passed_time": 42.20411536,
                        "remaining_time": 939.2869395,
                        "test": [
                          0.1983139438
                        ]
                      },
                      {
                        "learn": [
                          0.1938503436
                        ],
                        "iteration": 43,
                        "passed_time": 43.01619195,
                        "remaining_time": 934.6245342,
                        "test": [
                          0.197527607
                        ]
                      },
                      {
                        "learn": [
                          0.1928973826
                        ],
                        "iteration": 44,
                        "passed_time": 43.83843006,
                        "remaining_time": 930.3489047,
                        "test": [
                          0.1967223908
                        ]
                      },
                      {
                        "learn": [
                          0.192167974
                        ],
                        "iteration": 45,
                        "passed_time": 44.65803954,
                        "remaining_time": 926.1689069,
                        "test": [
                          0.1960583825
                        ]
                      },
                      {
                        "learn": [
                          0.1915767358
                        ],
                        "iteration": 46,
                        "passed_time": 45.4705141,
                        "remaining_time": 921.9872327,
                        "test": [
                          0.1955487393
                        ]
                      },
                      {
                        "learn": [
                          0.1909535329
                        ],
                        "iteration": 47,
                        "passed_time": 46.25253324,
                        "remaining_time": 917.3419092,
                        "test": [
                          0.1949287834
                        ]
                      },
                      {
                        "learn": [
                          0.1902261214
                        ],
                        "iteration": 48,
                        "passed_time": 47.0603892,
                        "remaining_time": 913.3557169,
                        "test": [
                          0.1943266542
                        ]
                      },
                      {
                        "learn": [
                          0.1896691343
                        ],
                        "iteration": 49,
                        "passed_time": 47.8628609,
                        "remaining_time": 909.3943571,
                        "test": [
                          0.1938393205
                        ]
                      },
                      {
                        "learn": [
                          0.188816177
                        ],
                        "iteration": 50,
                        "passed_time": 48.67620798,
                        "remaining_time": 905.7592427,
                        "test": [
                          0.1929855973
                        ]
                      },
                      {
                        "learn": [
                          0.1882423262
                        ],
                        "iteration": 51,
                        "passed_time": 49.47730215,
                        "remaining_time": 902.0092777,
                        "test": [
                          0.1924059571
                        ]
                      },
                      {
                        "learn": [
                          0.187574972
                        ],
                        "iteration": 52,
                        "passed_time": 50.24897585,
                        "remaining_time": 897.8449081,
                        "test": [
                          0.1916200333
                        ]
                      },
                      {
                        "learn": [
                          0.1869863944
                        ],
                        "iteration": 53,
                        "passed_time": 51.07153631,
                        "remaining_time": 894.6976546,
                        "test": [
                          0.1909687187
                        ]
                      },
                      {
                        "learn": [
                          0.1864014896
                        ],
                        "iteration": 54,
                        "passed_time": 51.90353901,
                        "remaining_time": 891.7971703,
                        "test": [
                          0.190347523
                        ]
                      },
                      {
                        "learn": [
                          0.1856333864
                        ],
                        "iteration": 55,
                        "passed_time": 53.28185783,
                        "remaining_time": 898.1798891,
                        "test": [
                          0.1896543163
                        ]
                      },
                      {
                        "learn": [
                          0.1850063564
                        ],
                        "iteration": 56,
                        "passed_time": 54.75235315,
                        "remaining_time": 905.815246,
                        "test": [
                          0.1891117859
                        ]
                      },
                      {
                        "learn": [
                          0.1843695216
                        ],
                        "iteration": 57,
                        "passed_time": 56.17452355,
                        "remaining_time": 912.3517445,
                        "test": [
                          0.1885807464
                        ]
                      },
                      {
                        "learn": [
                          0.1837594131
                        ],
                        "iteration": 58,
                        "passed_time": 57.03824028,
                        "remaining_time": 909.7115949,
                        "test": [
                          0.1881310138
                        ]
                      },
                      {
                        "learn": [
                          0.1831201326
                        ],
                        "iteration": 59,
                        "passed_time": 57.82823208,
                        "remaining_time": 905.9756359,
                        "test": [
                          0.1875559615
                        ]
                      },
                      {
                        "learn": [
                          0.182271262
                        ],
                        "iteration": 60,
                        "passed_time": 58.63232571,
                        "remaining_time": 902.5533417,
                        "test": [
                          0.1867463041
                        ]
                      },
                      {
                        "learn": [
                          0.1816798365
                        ],
                        "iteration": 61,
                        "passed_time": 59.42733604,
                        "remaining_time": 899.078084,
                        "test": [
                          0.186183654
                        ]
                      },
                      {
                        "learn": [
                          0.1811448235
                        ],
                        "iteration": 62,
                        "passed_time": 60.23109174,
                        "remaining_time": 895.8179834,
                        "test": [
                          0.1857668148
                        ]
                      },
                      {
                        "learn": [
                          0.1806238938
                        ],
                        "iteration": 63,
                        "passed_time": 61.03617088,
                        "remaining_time": 892.6539992,
                        "test": [
                          0.1853417557
                        ]
                      },
                      {
                        "learn": [
                          0.1800003028
                        ],
                        "iteration": 64,
                        "passed_time": 61.81068712,
                        "remaining_time": 889.1229609,
                        "test": [
                          0.1846661138
                        ]
                      },
                      {
                        "learn": [
                          0.1795088192
                        ],
                        "iteration": 65,
                        "passed_time": 62.6158092,
                        "remaining_time": 886.1085726,
                        "test": [
                          0.1842346303
                        ]
                      },
                      {
                        "learn": [
                          0.1789262152
                        ],
                        "iteration": 66,
                        "passed_time": 63.41078971,
                        "remaining_time": 883.0189074,
                        "test": [
                          0.1837360725
                        ]
                      },
                      {
                        "learn": [
                          0.1785273106
                        ],
                        "iteration": 67,
                        "passed_time": 64.20359622,
                        "remaining_time": 879.9669365,
                        "test": [
                          0.1832347336
                        ]
                      },
                      {
                        "learn": [
                          0.1779837127
                        ],
                        "iteration": 68,
                        "passed_time": 64.99893763,
                        "remaining_time": 877.0146513,
                        "test": [
                          0.1826863175
                        ]
                      },
                      {
                        "learn": [
                          0.1774230262
                        ],
                        "iteration": 69,
                        "passed_time": 65.78112134,
                        "remaining_time": 873.9491836,
                        "test": [
                          0.1822712466
                        ]
                      },
                      {
                        "learn": [
                          0.1768606605
                        ],
                        "iteration": 70,
                        "passed_time": 66.68473943,
                        "remaining_time": 872.5369427,
                        "test": [
                          0.1816140319
                        ]
                      },
                      {
                        "learn": [
                          0.1763952192
                        ],
                        "iteration": 71,
                        "passed_time": 68.14663742,
                        "remaining_time": 878.3344379,
                        "test": [
                          0.1812004933
                        ]
                      },
                      {
                        "learn": [
                          0.1759866639
                        ],
                        "iteration": 72,
                        "passed_time": 71.14681524,
                        "remaining_time": 903.4670921,
                        "test": [
                          0.1808518377
                        ]
                      },
                      {
                        "learn": [
                          0.175472177
                        ],
                        "iteration": 73,
                        "passed_time": 71.95213472,
                        "remaining_time": 900.3740101,
                        "test": [
                          0.180450516
                        ]
                      },
                      {
                        "learn": [
                          0.1750126602
                        ],
                        "iteration": 74,
                        "passed_time": 72.74426718,
                        "remaining_time": 897.1792952,
                        "test": [
                          0.1800634993
                        ]
                      },
                      {
                        "learn": [
                          0.1744963927
                        ],
                        "iteration": 75,
                        "passed_time": 73.53920989,
                        "remaining_time": 894.0819729,
                        "test": [
                          0.1795619229
                        ]
                      },
                      {
                        "learn": [
                          0.1740284564
                        ],
                        "iteration": 76,
                        "passed_time": 74.32333545,
                        "remaining_time": 890.9147873,
                        "test": [
                          0.1790409594
                        ]
                      },
                      {
                        "learn": [
                          0.1735856114
                        ],
                        "iteration": 77,
                        "passed_time": 75.11272519,
                        "remaining_time": 887.8709311,
                        "test": [
                          0.1786596173
                        ]
                      },
                      {
                        "learn": [
                          0.1731504158
                        ],
                        "iteration": 78,
                        "passed_time": 75.89328201,
                        "remaining_time": 884.7811738,
                        "test": [
                          0.1781882927
                        ]
                      },
                      {
                        "learn": [
                          0.1727726516
                        ],
                        "iteration": 79,
                        "passed_time": 76.72308403,
                        "remaining_time": 882.3154663,
                        "test": [
                          0.1777792267
                        ]
                      },
                      {
                        "learn": [
                          0.1724103004
                        ],
                        "iteration": 80,
                        "passed_time": 77.5260475,
                        "remaining_time": 879.58565,
                        "test": [
                          0.1773633383
                        ]
                      },
                      {
                        "learn": [
                          0.1718921166
                        ],
                        "iteration": 81,
                        "passed_time": 78.29437098,
                        "remaining_time": 876.5150312,
                        "test": [
                          0.1768960423
                        ]
                      },
                      {
                        "learn": [
                          0.1714075085
                        ],
                        "iteration": 82,
                        "passed_time": 79.09436503,
                        "remaining_time": 873.8497919,
                        "test": [
                          0.1763884404
                        ]
                      },
                      {
                        "learn": [
                          0.1708916849
                        ],
                        "iteration": 83,
                        "passed_time": 79.89805643,
                        "remaining_time": 871.269282,
                        "test": [
                          0.1758122648
                        ]
                      },
                      {
                        "learn": [
                          0.1704707388
                        ],
                        "iteration": 84,
                        "passed_time": 80.6892637,
                        "remaining_time": 868.5961916,
                        "test": [
                          0.1754177399
                        ]
                      },
                      {
                        "learn": [
                          0.1700509794
                        ],
                        "iteration": 85,
                        "passed_time": 81.64531312,
                        "remaining_time": 867.7187929,
                        "test": [
                          0.1749725899
                        ]
                      },
                      {
                        "learn": [
                          0.1695877151
                        ],
                        "iteration": 86,
                        "passed_time": 83.05636449,
                        "remaining_time": 871.6144917,
                        "test": [
                          0.1744583612
                        ]
                      },
                      {
                        "learn": [
                          0.1692300775
                        ],
                        "iteration": 87,
                        "passed_time": 84.44726843,
                        "remaining_time": 875.1807819,
                        "test": [
                          0.1741436067
                        ]
                      },
                      {
                        "learn": [
                          0.1687964246
                        ],
                        "iteration": 88,
                        "passed_time": 85.84761696,
                        "remaining_time": 878.7323489,
                        "test": [
                          0.1737538426
                        ]
                      },
                      {
                        "learn": [
                          0.1683393499
                        ],
                        "iteration": 89,
                        "passed_time": 86.66275697,
                        "remaining_time": 876.256765,
                        "test": [
                          0.173371427
                        ]
                      },
                      {
                        "learn": [
                          0.1677858557
                        ],
                        "iteration": 90,
                        "passed_time": 87.44119022,
                        "remaining_time": 873.45101,
                        "test": [
                          0.1728990117
                        ]
                      },
                      {
                        "learn": [
                          0.1673481333
                        ],
                        "iteration": 91,
                        "passed_time": 88.25357444,
                        "remaining_time": 871.0244086,
                        "test": [
                          0.1724984583
                        ]
                      },
                      {
                        "learn": [
                          0.1669481885
                        ],
                        "iteration": 92,
                        "passed_time": 89.04928517,
                        "remaining_time": 868.4699102,
                        "test": [
                          0.1720506915
                        ]
                      },
                      {
                        "learn": [
                          0.1666054656
                        ],
                        "iteration": 93,
                        "passed_time": 89.82518037,
                        "remaining_time": 865.7618449,
                        "test": [
                          0.1716710966
                        ]
                      },
                      {
                        "learn": [
                          0.1662382061
                        ],
                        "iteration": 94,
                        "passed_time": 90.62395284,
                        "remaining_time": 863.3123928,
                        "test": [
                          0.1713700446
                        ]
                      },
                      {
                        "learn": [
                          0.1658299911
                        ],
                        "iteration": 95,
                        "passed_time": 91.40595342,
                        "remaining_time": 860.7393947,
                        "test": [
                          0.1710087737
                        ]
                      },
                      {
                        "learn": [
                          0.1654393595
                        ],
                        "iteration": 96,
                        "passed_time": 92.18409064,
                        "remaining_time": 858.1673592,
                        "test": [
                          0.1706469735
                        ]
                      },
                      {
                        "learn": [
                          0.1650289943
                        ],
                        "iteration": 97,
                        "passed_time": 92.99170941,
                        "remaining_time": 855.9032846,
                        "test": [
                          0.1701913774
                        ]
                      },
                      {
                        "learn": [
                          0.1647500097
                        ],
                        "iteration": 98,
                        "passed_time": 93.77173478,
                        "remaining_time": 853.4175054,
                        "test": [
                          0.1700245071
                        ]
                      },
                      {
                        "learn": [
                          0.1643822461
                        ],
                        "iteration": 99,
                        "passed_time": 94.56801502,
                        "remaining_time": 851.1121352,
                        "test": [
                          0.1697781624
                        ]
                      },
                      {
                        "learn": [
                          0.1640082322
                        ],
                        "iteration": 100,
                        "passed_time": 95.36257753,
                        "remaining_time": 848.8213584,
                        "test": [
                          0.1694520521
                        ]
                      },
                      {
                        "learn": [
                          0.1636676172
                        ],
                        "iteration": 101,
                        "passed_time": 96.26429672,
                        "remaining_time": 847.5033182,
                        "test": [
                          0.1691776293
                        ]
                      },
                      {
                        "learn": [
                          0.1633452303
                        ],
                        "iteration": 102,
                        "passed_time": 97.62089918,
                        "remaining_time": 850.1548211,
                        "test": [
                          0.1688755773
                        ]
                      },
                      {
                        "learn": [
                          0.163026875
                        ],
                        "iteration": 103,
                        "passed_time": 99.1003584,
                        "remaining_time": 853.7877032,
                        "test": [
                          0.1686527961
                        ]
                      },
                      {
                        "learn": [
                          0.1627042568
                        ],
                        "iteration": 104,
                        "passed_time": 100.5264734,
                        "remaining_time": 856.8685112,
                        "test": [
                          0.1683257337
                        ]
                      },
                      {
                        "learn": [
                          0.1623493139
                        ],
                        "iteration": 105,
                        "passed_time": 101.3304879,
                        "remaining_time": 854.6175114,
                        "test": [
                          0.1680129821
                        ]
                      },
                      {
                        "learn": [
                          0.1619896688
                        ],
                        "iteration": 106,
                        "passed_time": 102.1164246,
                        "remaining_time": 852.2426839,
                        "test": [
                          0.1676274103
                        ]
                      },
                      {
                        "learn": [
                          0.1617063695
                        ],
                        "iteration": 107,
                        "passed_time": 102.9182951,
                        "remaining_time": 850.0288814,
                        "test": [
                          0.1673871556
                        ]
                      },
                      {
                        "learn": [
                          0.1613997285
                        ],
                        "iteration": 108,
                        "passed_time": 103.6908462,
                        "remaining_time": 847.601321,
                        "test": [
                          0.1670621607
                        ]
                      },
                      {
                        "learn": [
                          0.1611160542
                        ],
                        "iteration": 109,
                        "passed_time": 105.5177599,
                        "remaining_time": 853.734603,
                        "test": [
                          0.1668017284
                        ]
                      },
                      {
                        "learn": [
                          0.1607728149
                        ],
                        "iteration": 110,
                        "passed_time": 106.6420136,
                        "remaining_time": 854.0968478,
                        "test": [
                          0.1665214392
                        ]
                      },
                      {
                        "learn": [
                          0.1605013116
                        ],
                        "iteration": 111,
                        "passed_time": 107.4405756,
                        "remaining_time": 851.8502777,
                        "test": [
                          0.1662192611
                        ]
                      },
                      {
                        "learn": [
                          0.1602187193
                        ],
                        "iteration": 112,
                        "passed_time": 108.2133587,
                        "remaining_time": 849.4269841,
                        "test": [
                          0.1658645381
                        ]
                      },
                      {
                        "learn": [
                          0.1599252706
                        ],
                        "iteration": 113,
                        "passed_time": 109.0058018,
                        "remaining_time": 847.1854418,
                        "test": [
                          0.1656061539
                        ]
                      },
                      {
                        "learn": [
                          0.1596045448
                        ],
                        "iteration": 114,
                        "passed_time": 109.7929197,
                        "remaining_time": 844.9281215,
                        "test": [
                          0.1653181084
                        ]
                      },
                      {
                        "learn": [
                          0.1592609453
                        ],
                        "iteration": 115,
                        "passed_time": 110.6061859,
                        "remaining_time": 842.8954165,
                        "test": [
                          0.1649630492
                        ]
                      },
                      {
                        "learn": [
                          0.1589951134
                        ],
                        "iteration": 116,
                        "passed_time": 111.8931227,
                        "remaining_time": 844.4583537,
                        "test": [
                          0.1647529858
                        ]
                      },
                      {
                        "learn": [
                          0.1585925016
                        ],
                        "iteration": 117,
                        "passed_time": 113.2503263,
                        "remaining_time": 846.4982015,
                        "test": [
                          0.1644229693
                        ]
                      },
                      {
                        "learn": [
                          0.1582628324
                        ],
                        "iteration": 118,
                        "passed_time": 114.598342,
                        "remaining_time": 848.4129355,
                        "test": [
                          0.1640846548
                        ]
                      },
                      {
                        "learn": [
                          0.1579553119
                        ],
                        "iteration": 119,
                        "passed_time": 115.7468061,
                        "remaining_time": 848.8099116,
                        "test": [
                          0.1637332793
                        ]
                      },
                      {
                        "learn": [
                          0.1576238709
                        ],
                        "iteration": 120,
                        "passed_time": 116.5483641,
                        "remaining_time": 846.6612567,
                        "test": [
                          0.1634393189
                        ]
                      },
                      {
                        "learn": [
                          0.157330367
                        ],
                        "iteration": 121,
                        "passed_time": 117.3483779,
                        "remaining_time": 844.5235719,
                        "test": [
                          0.163156985
                        ]
                      },
                      {
                        "learn": [
                          0.1570962927
                        ],
                        "iteration": 122,
                        "passed_time": 118.1345178,
                        "remaining_time": 842.308716,
                        "test": [
                          0.1629527296
                        ]
                      },
                      {
                        "learn": [
                          0.1568460438
                        ],
                        "iteration": 123,
                        "passed_time": 118.9241639,
                        "remaining_time": 840.1416738,
                        "test": [
                          0.1627516469
                        ]
                      },
                      {
                        "learn": [
                          0.1565950915
                        ],
                        "iteration": 124,
                        "passed_time": 119.7095453,
                        "remaining_time": 837.966817,
                        "test": [
                          0.1625269985
                        ]
                      },
                      {
                        "learn": [
                          0.1563274753
                        ],
                        "iteration": 125,
                        "passed_time": 120.4939863,
                        "remaining_time": 835.807492,
                        "test": [
                          0.1622810761
                        ]
                      },
                      {
                        "learn": [
                          0.1559914783
                        ],
                        "iteration": 126,
                        "passed_time": 121.2944305,
                        "remaining_time": 833.7798255,
                        "test": [
                          0.161948586
                        ]
                      },
                      {
                        "learn": [
                          0.1557144833
                        ],
                        "iteration": 127,
                        "passed_time": 122.1055084,
                        "remaining_time": 831.843776,
                        "test": [
                          0.1617177565
                        ]
                      },
                      {
                        "learn": [
                          0.1553469188
                        ],
                        "iteration": 128,
                        "passed_time": 122.8771258,
                        "remaining_time": 829.6587333,
                        "test": [
                          0.1613598316
                        ]
                      },
                      {
                        "learn": [
                          0.1550917635
                        ],
                        "iteration": 129,
                        "passed_time": 123.6753254,
                        "remaining_time": 827.6733318,
                        "test": [
                          0.1611902229
                        ]
                      },
                      {
                        "learn": [
                          0.1548443607
                        ],
                        "iteration": 130,
                        "passed_time": 124.4709376,
                        "remaining_time": 825.6888916,
                        "test": [
                          0.1609502211
                        ]
                      },
                      {
                        "learn": [
                          0.1545606563
                        ],
                        "iteration": 131,
                        "passed_time": 125.2533814,
                        "remaining_time": 823.6358717,
                        "test": [
                          0.1607377347
                        ]
                      },
                      {
                        "learn": [
                          0.1542839214
                        ],
                        "iteration": 132,
                        "passed_time": 126.5131828,
                        "remaining_time": 824.7137555,
                        "test": [
                          0.160502569
                        ]
                      },
                      {
                        "learn": [
                          0.1540233779
                        ],
                        "iteration": 133,
                        "passed_time": 127.9486948,
                        "remaining_time": 826.8923111,
                        "test": [
                          0.1602852523
                        ]
                      },
                      {
                        "learn": [
                          0.1537606579
                        ],
                        "iteration": 134,
                        "passed_time": 129.2900212,
                        "remaining_time": 828.4138394,
                        "test": [
                          0.160058064
                        ]
                      },
                      {
                        "learn": [
                          0.1533865526
                        ],
                        "iteration": 135,
                        "passed_time": 130.4255399,
                        "remaining_time": 828.585783,
                        "test": [
                          0.1598024513
                        ]
                      },
                      {
                        "learn": [
                          0.1531252873
                        ],
                        "iteration": 136,
                        "passed_time": 131.2303717,
                        "remaining_time": 826.6555534,
                        "test": [
                          0.1595578375
                        ]
                      },
                      {
                        "learn": [
                          0.1529176335
                        ],
                        "iteration": 137,
                        "passed_time": 132.0068923,
                        "remaining_time": 824.5647912,
                        "test": [
                          0.1593758973
                        ]
                      },
                      {
                        "learn": [
                          0.152631427
                        ],
                        "iteration": 138,
                        "passed_time": 132.8204745,
                        "remaining_time": 822.7225073,
                        "test": [
                          0.1591526817
                        ]
                      },
                      {
                        "learn": [
                          0.1523809104
                        ],
                        "iteration": 139,
                        "passed_time": 133.6164031,
                        "remaining_time": 820.7864762,
                        "test": [
                          0.1589492257
                        ]
                      },
                      {
                        "learn": [
                          0.1521047553
                        ],
                        "iteration": 140,
                        "passed_time": 134.4051762,
                        "remaining_time": 818.8230236,
                        "test": [
                          0.1586219522
                        ]
                      },
                      {
                        "learn": [
                          0.1518521844
                        ],
                        "iteration": 141,
                        "passed_time": 135.1932019,
                        "remaining_time": 816.8716004,
                        "test": [
                          0.1583865834
                        ]
                      },
                      {
                        "learn": [
                          0.1516099697
                        ],
                        "iteration": 142,
                        "passed_time": 135.9807234,
                        "remaining_time": 814.9334263,
                        "test": [
                          0.1581969777
                        ]
                      },
                      {
                        "learn": [
                          0.1512857139
                        ],
                        "iteration": 143,
                        "passed_time": 136.7729782,
                        "remaining_time": 813.0393702,
                        "test": [
                          0.1579113728
                        ]
                      },
                      {
                        "learn": [
                          0.151064628
                        ],
                        "iteration": 144,
                        "passed_time": 137.5683836,
                        "remaining_time": 811.1790894,
                        "test": [
                          0.1576474187
                        ]
                      },
                      {
                        "learn": [
                          0.1508519388
                        ],
                        "iteration": 145,
                        "passed_time": 138.3561579,
                        "remaining_time": 809.2887593,
                        "test": [
                          0.157411434
                        ]
                      },
                      {
                        "learn": [
                          0.1505339966
                        ],
                        "iteration": 146,
                        "passed_time": 139.1383517,
                        "remaining_time": 807.3810474,
                        "test": [
                          0.1571407252
                        ]
                      },
                      {
                        "learn": [
                          0.1502611043
                        ],
                        "iteration": 147,
                        "passed_time": 139.9367241,
                        "remaining_time": 805.5816817,
                        "test": [
                          0.1569484882
                        ]
                      },
                      {
                        "learn": [
                          0.1498023287
                        ],
                        "iteration": 148,
                        "passed_time": 141.1324473,
                        "remaining_time": 806.0651854,
                        "test": [
                          0.1565462673
                        ]
                      },
                      {
                        "learn": [
                          0.1494967138
                        ],
                        "iteration": 149,
                        "passed_time": 142.558185,
                        "remaining_time": 807.8297149,
                        "test": [
                          0.1563245169
                        ]
                      },
                      {
                        "learn": [
                          0.1492410944
                        ],
                        "iteration": 150,
                        "passed_time": 143.8961602,
                        "remaining_time": 809.0585429,
                        "test": [
                          0.1561384468
                        ]
                      },
                      {
                        "learn": [
                          0.1489827376
                        ],
                        "iteration": 151,
                        "passed_time": 145.1383212,
                        "remaining_time": 809.7190549,
                        "test": [
                          0.1559614833
                        ]
                      },
                      {
                        "learn": [
                          0.1486694524
                        ],
                        "iteration": 152,
                        "passed_time": 145.9367508,
                        "remaining_time": 807.8982217,
                        "test": [
                          0.1557434593
                        ]
                      },
                      {
                        "learn": [
                          0.1483884461
                        ],
                        "iteration": 153,
                        "passed_time": 146.728762,
                        "remaining_time": 806.0554066,
                        "test": [
                          0.1554540077
                        ]
                      },
                      {
                        "learn": [
                          0.1481006308
                        ],
                        "iteration": 154,
                        "passed_time": 147.535995,
                        "remaining_time": 804.309134,
                        "test": [
                          0.1551568964
                        ]
                      },
                      {
                        "learn": [
                          0.1478193812
                        ],
                        "iteration": 155,
                        "passed_time": 148.3094274,
                        "remaining_time": 802.3920302,
                        "test": [
                          0.1548964995
                        ]
                      },
                      {
                        "learn": [
                          0.147511798
                        ],
                        "iteration": 156,
                        "passed_time": 149.1361999,
                        "remaining_time": 800.7759012,
                        "test": [
                          0.1546840296
                        ]
                      },
                      {
                        "learn": [
                          0.1472848378
                        ],
                        "iteration": 157,
                        "passed_time": 149.9198196,
                        "remaining_time": 798.9397982,
                        "test": [
                          0.1544357138
                        ]
                      },
                      {
                        "learn": [
                          0.1470602356
                        ],
                        "iteration": 158,
                        "passed_time": 150.7075296,
                        "remaining_time": 797.1385687,
                        "test": [
                          0.1542676544
                        ]
                      },
                      {
                        "learn": [
                          0.1468147446
                        ],
                        "iteration": 159,
                        "passed_time": 151.5181885,
                        "remaining_time": 795.4704898,
                        "test": [
                          0.1541077132
                        ]
                      },
                      {
                        "learn": [
                          0.1465521151
                        ],
                        "iteration": 160,
                        "passed_time": 152.2988698,
                        "remaining_time": 793.6568432,
                        "test": [
                          0.1539183271
                        ]
                      },
                      {
                        "learn": [
                          0.1463349495
                        ],
                        "iteration": 161,
                        "passed_time": 153.1020799,
                        "remaining_time": 791.9724873,
                        "test": [
                          0.153731045
                        ]
                      },
                      {
                        "learn": [
                          0.1460789758
                        ],
                        "iteration": 162,
                        "passed_time": 153.9014289,
                        "remaining_time": 790.2791164,
                        "test": [
                          0.1535429653
                        ]
                      },
                      {
                        "learn": [
                          0.145862891
                        ],
                        "iteration": 163,
                        "passed_time": 154.7135036,
                        "remaining_time": 788.6615181,
                        "test": [
                          0.1533113115
                        ]
                      },
                      {
                        "learn": [
                          0.1456655964
                        ],
                        "iteration": 164,
                        "passed_time": 155.8211874,
                        "remaining_time": 788.5496455,
                        "test": [
                          0.1531736021
                        ]
                      },
                      {
                        "learn": [
                          0.1454033749
                        ],
                        "iteration": 165,
                        "passed_time": 157.2191691,
                        "remaining_time": 789.884259,
                        "test": [
                          0.1528967865
                        ]
                      },
                      {
                        "learn": [
                          0.1451895798
                        ],
                        "iteration": 166,
                        "passed_time": 158.5542923,
                        "remaining_time": 790.8726076,
                        "test": [
                          0.1527139313
                        ]
                      },
                      {
                        "learn": [
                          0.1448468991
                        ],
                        "iteration": 167,
                        "passed_time": 159.8786663,
                        "remaining_time": 791.7800617,
                        "test": [
                          0.1524358212
                        ]
                      },
                      {
                        "learn": [
                          0.1446255052
                        ],
                        "iteration": 168,
                        "passed_time": 160.7012729,
                        "remaining_time": 790.1938328,
                        "test": [
                          0.1521934497
                        ]
                      },
                      {
                        "learn": [
                          0.1443915935
                        ],
                        "iteration": 169,
                        "passed_time": 161.4967324,
                        "remaining_time": 788.4840462,
                        "test": [
                          0.1520168202
                        ]
                      },
                      {
                        "learn": [
                          0.144189158
                        ],
                        "iteration": 170,
                        "passed_time": 162.2692177,
                        "remaining_time": 786.6735759,
                        "test": [
                          0.1518762159
                        ]
                      },
                      {
                        "learn": [
                          0.1439435471
                        ],
                        "iteration": 171,
                        "passed_time": 163.4481808,
                        "remaining_time": 786.8319402,
                        "test": [
                          0.1516612429
                        ]
                      },
                      {
                        "learn": [
                          0.1436161695
                        ],
                        "iteration": 172,
                        "passed_time": 165.2313799,
                        "remaining_time": 789.8633017,
                        "test": [
                          0.1513533455
                        ]
                      },
                      {
                        "learn": [
                          0.1434091009
                        ],
                        "iteration": 173,
                        "passed_time": 166.0380143,
                        "remaining_time": 788.2034471,
                        "test": [
                          0.1511618576
                        ]
                      },
                      {
                        "learn": [
                          0.1431526155
                        ],
                        "iteration": 174,
                        "passed_time": 166.8380268,
                        "remaining_time": 786.5221263,
                        "test": [
                          0.1509445657
                        ]
                      },
                      {
                        "learn": [
                          0.1429292121
                        ],
                        "iteration": 175,
                        "passed_time": 167.624228,
                        "remaining_time": 784.7861582,
                        "test": [
                          0.1507159618
                        ]
                      },
                      {
                        "learn": [
                          0.1427089858
                        ],
                        "iteration": 176,
                        "passed_time": 168.4321484,
                        "remaining_time": 783.1619103,
                        "test": [
                          0.1505609017
                        ]
                      },
                      {
                        "learn": [
                          0.1425147443
                        ],
                        "iteration": 177,
                        "passed_time": 169.2197842,
                        "remaining_time": 781.4531609,
                        "test": [
                          0.1504151008
                        ]
                      },
                      {
                        "learn": [
                          0.1422815818
                        ],
                        "iteration": 178,
                        "passed_time": 170.1151435,
                        "remaining_time": 780.2487866,
                        "test": [
                          0.1502061337
                        ]
                      },
                      {
                        "learn": [
                          0.1420322874
                        ],
                        "iteration": 179,
                        "passed_time": 171.5216005,
                        "remaining_time": 781.3761799,
                        "test": [
                          0.149953843
                        ]
                      },
                      {
                        "learn": [
                          0.1418217584
                        ],
                        "iteration": 180,
                        "passed_time": 172.9433232,
                        "remaining_time": 782.5446501,
                        "test": [
                          0.149836655
                        ]
                      },
                      {
                        "learn": [
                          0.1414953306
                        ],
                        "iteration": 181,
                        "passed_time": 174.3545727,
                        "remaining_time": 783.6375849,
                        "test": [
                          0.1495405429
                        ]
                      },
                      {
                        "learn": [
                          0.1413137835
                        ],
                        "iteration": 182,
                        "passed_time": 175.1914295,
                        "remaining_time": 782.1387863,
                        "test": [
                          0.1493567307
                        ]
                      },
                      {
                        "learn": [
                          0.1410775966
                        ],
                        "iteration": 183,
                        "passed_time": 175.9859495,
                        "remaining_time": 780.4594281,
                        "test": [
                          0.1491658259
                        ]
                      },
                      {
                        "learn": [
                          0.1408860155
                        ],
                        "iteration": 184,
                        "passed_time": 176.7435784,
                        "remaining_time": 778.6271156,
                        "test": [
                          0.1490993482
                        ]
                      },
                      {
                        "learn": [
                          0.1406327901
                        ],
                        "iteration": 185,
                        "passed_time": 177.6006272,
                        "remaining_time": 777.2414547,
                        "test": [
                          0.1488972338
                        ]
                      },
                      {
                        "learn": [
                          0.140292531
                        ],
                        "iteration": 186,
                        "passed_time": 178.3971551,
                        "remaining_time": 775.5983267,
                        "test": [
                          0.1485071039
                        ]
                      },
                      {
                        "learn": [
                          0.1400156367
                        ],
                        "iteration": 187,
                        "passed_time": 179.1826251,
                        "remaining_time": 773.9164445,
                        "test": [
                          0.1482930676
                        ]
                      },
                      {
                        "learn": [
                          0.1398380545
                        ],
                        "iteration": 188,
                        "passed_time": 179.9876416,
                        "remaining_time": 772.3279223,
                        "test": [
                          0.1481747628
                        ]
                      },
                      {
                        "learn": [
                          0.1395935584
                        ],
                        "iteration": 189,
                        "passed_time": 180.7778537,
                        "remaining_time": 770.6845344,
                        "test": [
                          0.1480075556
                        ]
                      },
                      {
                        "learn": [
                          0.1393412037
                        ],
                        "iteration": 190,
                        "passed_time": 181.5819736,
                        "remaining_time": 769.1089875,
                        "test": [
                          0.1478121306
                        ]
                      },
                      {
                        "learn": [
                          0.1390739378
                        ],
                        "iteration": 191,
                        "passed_time": 182.4068661,
                        "remaining_time": 767.6288947,
                        "test": [
                          0.1476021828
                        ]
                      },
                      {
                        "learn": [
                          0.1388109767
                        ],
                        "iteration": 192,
                        "passed_time": 183.2107377,
                        "remaining_time": 766.0676961,
                        "test": [
                          0.1473912202
                        ]
                      },
                      {
                        "learn": [
                          0.1386351788
                        ],
                        "iteration": 193,
                        "passed_time": 183.9781201,
                        "remaining_time": 764.3627052,
                        "test": [
                          0.1473137064
                        ]
                      },
                      {
                        "learn": [
                          0.138380455
                        ],
                        "iteration": 194,
                        "passed_time": 184.9638786,
                        "remaining_time": 763.5688321,
                        "test": [
                          0.1470912176
                        ]
                      },
                      {
                        "learn": [
                          0.1381330155
                        ],
                        "iteration": 195,
                        "passed_time": 186.4596308,
                        "remaining_time": 764.865016,
                        "test": [
                          0.1467897319
                        ]
                      },
                      {
                        "learn": [
                          0.1378890287
                        ],
                        "iteration": 196,
                        "passed_time": 187.7974612,
                        "remaining_time": 765.4891438,
                        "test": [
                          0.1466195266
                        ]
                      },
                      {
                        "learn": [
                          0.1376522385
                        ],
                        "iteration": 197,
                        "passed_time": 189.1278406,
                        "remaining_time": 766.0632734,
                        "test": [
                          0.1463876297
                        ]
                      },
                      {
                        "learn": [
                          0.1373916825
                        ],
                        "iteration": 198,
                        "passed_time": 189.9238961,
                        "remaining_time": 764.4675415,
                        "test": [
                          0.1461792908
                        ]
                      },
                      {
                        "learn": [
                          0.1372085406
                        ],
                        "iteration": 199,
                        "passed_time": 190.7271064,
                        "remaining_time": 762.9084258,
                        "test": [
                          0.1460259453
                        ]
                      },
                      {
                        "learn": [
                          0.1370087549
                        ],
                        "iteration": 200,
                        "passed_time": 191.5409512,
                        "remaining_time": 761.3991047,
                        "test": [
                          0.1458919818
                        ]
                      },
                      {
                        "learn": [
                          0.1367280424
                        ],
                        "iteration": 201,
                        "passed_time": 192.3271081,
                        "remaining_time": 759.7872886,
                        "test": [
                          0.1456570135
                        ]
                      },
                      {
                        "learn": [
                          0.1365674028
                        ],
                        "iteration": 202,
                        "passed_time": 193.1219609,
                        "remaining_time": 758.2177481,
                        "test": [
                          0.145599857
                        ]
                      },
                      {
                        "learn": [
                          0.1364072772
                        ],
                        "iteration": 203,
                        "passed_time": 193.9134386,
                        "remaining_time": 756.6426328,
                        "test": [
                          0.1454596736
                        ]
                      },
                      {
                        "learn": [
                          0.1361489765
                        ],
                        "iteration": 204,
                        "passed_time": 194.7132161,
                        "remaining_time": 755.1073504,
                        "test": [
                          0.1452459493
                        ]
                      },
                      {
                        "learn": [
                          0.1359790046
                        ],
                        "iteration": 205,
                        "passed_time": 195.4934597,
                        "remaining_time": 753.5039176,
                        "test": [
                          0.1451282561
                        ]
                      },
                      {
                        "learn": [
                          0.1357424058
                        ],
                        "iteration": 206,
                        "passed_time": 196.2858048,
                        "remaining_time": 751.954798,
                        "test": [
                          0.144941708
                        ]
                      },
                      {
                        "learn": [
                          0.1355466187
                        ],
                        "iteration": 207,
                        "passed_time": 197.0805528,
                        "remaining_time": 750.4221049,
                        "test": [
                          0.1447470917
                        ]
                      },
                      {
                        "learn": [
                          0.1352946387
                        ],
                        "iteration": 208,
                        "passed_time": 197.8821636,
                        "remaining_time": 748.922447,
                        "test": [
                          0.1445406229
                        ]
                      },
                      {
                        "learn": [
                          0.1351114902
                        ],
                        "iteration": 209,
                        "passed_time": 198.6913324,
                        "remaining_time": 747.4578695,
                        "test": [
                          0.1444428845
                        ]
                      },
                      {
                        "learn": [
                          0.1347988975
                        ],
                        "iteration": 210,
                        "passed_time": 199.7639205,
                        "remaining_time": 746.9845177,
                        "test": [
                          0.1442065397
                        ]
                      },
                      {
                        "learn": [
                          0.134646966
                        ],
                        "iteration": 211,
                        "passed_time": 201.1082596,
                        "remaining_time": 747.5156065,
                        "test": [
                          0.1441009594
                        ]
                      },
                      {
                        "learn": [
                          0.1343647469
                        ],
                        "iteration": 212,
                        "passed_time": 202.5309227,
                        "remaining_time": 748.3184796,
                        "test": [
                          0.1438800082
                        ]
                      },
                      {
                        "learn": [
                          0.1341462274
                        ],
                        "iteration": 213,
                        "passed_time": 203.8828595,
                        "remaining_time": 748.8407829,
                        "test": [
                          0.1437055736
                        ]
                      },
                      {
                        "learn": [
                          0.1340030427
                        ],
                        "iteration": 214,
                        "passed_time": 204.6800961,
                        "remaining_time": 747.3203509,
                        "test": [
                          0.1436236643
                        ]
                      },
                      {
                        "learn": [
                          0.1338299566
                        ],
                        "iteration": 215,
                        "passed_time": 205.4648637,
                        "remaining_time": 745.7613572,
                        "test": [
                          0.1434751337
                        ]
                      },
                      {
                        "learn": [
                          0.1335987418
                        ],
                        "iteration": 216,
                        "passed_time": 206.2672011,
                        "remaining_time": 744.2728961,
                        "test": [
                          0.1433274472
                        ]
                      },
                      {
                        "learn": [
                          0.1334064508
                        ],
                        "iteration": 217,
                        "passed_time": 207.0622872,
                        "remaining_time": 742.7647182,
                        "test": [
                          0.1431407416
                        ]
                      },
                      {
                        "learn": [
                          0.133185165
                        ],
                        "iteration": 218,
                        "passed_time": 207.8660067,
                        "remaining_time": 741.2938412,
                        "test": [
                          0.1429392304
                        ]
                      },
                      {
                        "learn": [
                          0.1329990192
                        ],
                        "iteration": 219,
                        "passed_time": 208.6758156,
                        "remaining_time": 739.8506189,
                        "test": [
                          0.1427868276
                        ]
                      },
                      {
                        "learn": [
                          0.1327734863
                        ],
                        "iteration": 220,
                        "passed_time": 209.4624569,
                        "remaining_time": 738.3314656,
                        "test": [
                          0.1426028436
                        ]
                      },
                      {
                        "learn": [
                          0.132571322
                        ],
                        "iteration": 221,
                        "passed_time": 210.2648962,
                        "remaining_time": 736.874276,
                        "test": [
                          0.1424476287
                        ]
                      },
                      {
                        "learn": [
                          0.1324153314
                        ],
                        "iteration": 222,
                        "passed_time": 211.0509469,
                        "remaining_time": 735.3658553,
                        "test": [
                          0.1423633196
                        ]
                      },
                      {
                        "learn": [
                          0.13225793
                        ],
                        "iteration": 223,
                        "passed_time": 211.8403542,
                        "remaining_time": 733.8755128,
                        "test": [
                          0.1422323633
                        ]
                      },
                      {
                        "learn": [
                          0.132009535
                        ],
                        "iteration": 224,
                        "passed_time": 212.6142285,
                        "remaining_time": 732.3378982,
                        "test": [
                          0.1420151021
                        ]
                      },
                      {
                        "learn": [
                          0.1318628743
                        ],
                        "iteration": 225,
                        "passed_time": 213.3977272,
                        "remaining_time": 730.8400037,
                        "test": [
                          0.1418709492
                        ]
                      },
                      {
                        "learn": [
                          0.1316840736
                        ],
                        "iteration": 226,
                        "passed_time": 214.4039838,
                        "remaining_time": 730.1069579,
                        "test": [
                          0.1416919093
                        ]
                      },
                      {
                        "learn": [
                          0.1315462596
                        ],
                        "iteration": 227,
                        "passed_time": 215.8029722,
                        "remaining_time": 730.7012919,
                        "test": [
                          0.14158665
                        ]
                      },
                      {
                        "learn": [
                          0.1313774857
                        ],
                        "iteration": 228,
                        "passed_time": 217.2382113,
                        "remaining_time": 731.400266,
                        "test": [
                          0.1414794444
                        ]
                      },
                      {
                        "learn": [
                          0.13122065
                        ],
                        "iteration": 229,
                        "passed_time": 218.5734483,
                        "remaining_time": 731.745892,
                        "test": [
                          0.1413152011
                        ]
                      },
                      {
                        "learn": [
                          0.1309507042
                        ],
                        "iteration": 230,
                        "passed_time": 219.3900882,
                        "remaining_time": 730.3505532,
                        "test": [
                          0.141103407
                        ]
                      },
                      {
                        "learn": [
                          0.1308307675
                        ],
                        "iteration": 231,
                        "passed_time": 220.1954612,
                        "remaining_time": 728.9229061,
                        "test": [
                          0.1410441373
                        ]
                      },
                      {
                        "learn": [
                          0.130639222
                        ],
                        "iteration": 232,
                        "passed_time": 220.9686734,
                        "remaining_time": 727.3947318,
                        "test": [
                          0.140879
                        ]
                      },
                      {
                        "learn": [
                          0.130426844
                        ],
                        "iteration": 233,
                        "passed_time": 221.7961787,
                        "remaining_time": 726.0507388,
                        "test": [
                          0.140667213
                        ]
                      },
                      {
                        "learn": [
                          0.1301943951
                        ],
                        "iteration": 234,
                        "passed_time": 222.6016295,
                        "remaining_time": 724.639347,
                        "test": [
                          0.1404975374
                        ]
                      },
                      {
                        "learn": [
                          0.129986955
                        ],
                        "iteration": 235,
                        "passed_time": 223.3861217,
                        "remaining_time": 723.1652415,
                        "test": [
                          0.1403271089
                        ]
                      },
                      {
                        "learn": [
                          0.1298652786
                        ],
                        "iteration": 236,
                        "passed_time": 224.1888494,
                        "remaining_time": 721.7556628,
                        "test": [
                          0.1402610839
                        ]
                      },
                      {
                        "learn": [
                          0.1297167799
                        ],
                        "iteration": 237,
                        "passed_time": 224.9977921,
                        "remaining_time": 720.3710823,
                        "test": [
                          0.1401519063
                        ]
                      },
                      {
                        "learn": [
                          0.129480526
                        ],
                        "iteration": 238,
                        "passed_time": 225.7841203,
                        "remaining_time": 718.919312,
                        "test": [
                          0.1399853204
                        ]
                      },
                      {
                        "learn": [
                          0.1291801599
                        ],
                        "iteration": 239,
                        "passed_time": 226.5715156,
                        "remaining_time": 717.4764661,
                        "test": [
                          0.1397422781
                        ]
                      },
                      {
                        "learn": [
                          0.1289612584
                        ],
                        "iteration": 240,
                        "passed_time": 227.3830138,
                        "remaining_time": 716.1149688,
                        "test": [
                          0.139521295
                        ]
                      },
                      {
                        "learn": [
                          0.1287701208
                        ],
                        "iteration": 241,
                        "passed_time": 228.1515637,
                        "remaining_time": 714.6234931,
                        "test": [
                          0.1393802625
                        ]
                      },
                      {
                        "learn": [
                          0.1286375241
                        ],
                        "iteration": 242,
                        "passed_time": 229.2926262,
                        "remaining_time": 714.2984283,
                        "test": [
                          0.1393052004
                        ]
                      },
                      {
                        "learn": [
                          0.1284594684
                        ],
                        "iteration": 243,
                        "passed_time": 230.7086487,
                        "remaining_time": 714.8186,
                        "test": [
                          0.1392178631
                        ]
                      },
                      {
                        "learn": [
                          0.1283022029
                        ],
                        "iteration": 244,
                        "passed_time": 232.1796585,
                        "remaining_time": 715.4924169,
                        "test": [
                          0.1390933899
                        ]
                      },
                      {
                        "learn": [
                          0.1280762537
                        ],
                        "iteration": 245,
                        "passed_time": 233.3541968,
                        "remaining_time": 715.2400992,
                        "test": [
                          0.1388969374
                        ]
                      },
                      {
                        "learn": [
                          0.1278690089
                        ],
                        "iteration": 246,
                        "passed_time": 234.1718253,
                        "remaining_time": 713.8922446,
                        "test": [
                          0.1387323874
                        ]
                      },
                      {
                        "learn": [
                          0.1277141521
                        ],
                        "iteration": 247,
                        "passed_time": 234.9845724,
                        "remaining_time": 712.5338647,
                        "test": [
                          0.1386272482
                        ]
                      },
                      {
                        "learn": [
                          0.1275647236
                        ],
                        "iteration": 248,
                        "passed_time": 235.762316,
                        "remaining_time": 711.0742945,
                        "test": [
                          0.1384967387
                        ]
                      },
                      {
                        "learn": [
                          0.127355748
                        ],
                        "iteration": 249,
                        "passed_time": 236.580927,
                        "remaining_time": 709.7427809,
                        "test": [
                          0.1382961268
                        ]
                      },
                      {
                        "learn": [
                          0.1271900216
                        ],
                        "iteration": 250,
                        "passed_time": 237.9630523,
                        "remaining_time": 710.096917,
                        "test": [
                          0.1381651191
                        ]
                      },
                      {
                        "learn": [
                          0.1270201438
                        ],
                        "iteration": 251,
                        "passed_time": 239.6330623,
                        "remaining_time": 711.2917882,
                        "test": [
                          0.1380408947
                        ]
                      },
                      {
                        "learn": [
                          0.1268173113
                        ],
                        "iteration": 252,
                        "passed_time": 241.1563544,
                        "remaining_time": 712.0308171,
                        "test": [
                          0.1378567174
                        ]
                      },
                      {
                        "learn": [
                          0.1265918072
                        ],
                        "iteration": 253,
                        "passed_time": 242.7378964,
                        "remaining_time": 712.923113,
                        "test": [
                          0.1376639141
                        ]
                      },
                      {
                        "learn": [
                          0.1264750313
                        ],
                        "iteration": 254,
                        "passed_time": 243.8472803,
                        "remaining_time": 712.4165641,
                        "test": [
                          0.1376173015
                        ]
                      },
                      {
                        "learn": [
                          0.126321176
                        ],
                        "iteration": 255,
                        "passed_time": 245.1768357,
                        "remaining_time": 712.5451787,
                        "test": [
                          0.1375285509
                        ]
                      },
                      {
                        "learn": [
                          0.1262049785
                        ],
                        "iteration": 256,
                        "passed_time": 246.5316285,
                        "remaining_time": 712.7354084,
                        "test": [
                          0.1373992986
                        ]
                      },
                      {
                        "learn": [
                          0.1260236233
                        ],
                        "iteration": 257,
                        "passed_time": 247.9417569,
                        "remaining_time": 713.0728047,
                        "test": [
                          0.13721545
                        ]
                      },
                      {
                        "learn": [
                          0.125911407
                        ],
                        "iteration": 258,
                        "passed_time": 248.8226828,
                        "remaining_time": 711.8826562,
                        "test": [
                          0.1371800442
                        ]
                      },
                      {
                        "learn": [
                          0.1258095864
                        ],
                        "iteration": 259,
                        "passed_time": 249.6070915,
                        "remaining_time": 710.4201834,
                        "test": [
                          0.1371192759
                        ]
                      },
                      {
                        "learn": [
                          0.1255891041
                        ],
                        "iteration": 260,
                        "passed_time": 250.4018211,
                        "remaining_time": 708.9921294,
                        "test": [
                          0.136939354
                        ]
                      },
                      {
                        "learn": [
                          0.1254194074
                        ],
                        "iteration": 261,
                        "passed_time": 251.2114233,
                        "remaining_time": 707.6108031,
                        "test": [
                          0.1367868218
                        ]
                      },
                      {
                        "learn": [
                          0.1252789681
                        ],
                        "iteration": 262,
                        "passed_time": 252.0119302,
                        "remaining_time": 706.2083367,
                        "test": [
                          0.1366585273
                        ]
                      },
                      {
                        "learn": [
                          0.1251184807
                        ],
                        "iteration": 263,
                        "passed_time": 252.8054993,
                        "remaining_time": 704.7910889,
                        "test": [
                          0.1365218141
                        ]
                      },
                      {
                        "learn": [
                          0.1249789344
                        ],
                        "iteration": 264,
                        "passed_time": 253.6319053,
                        "remaining_time": 703.4696242,
                        "test": [
                          0.1363577474
                        ]
                      },
                      {
                        "learn": [
                          0.1248306671
                        ],
                        "iteration": 265,
                        "passed_time": 254.4467596,
                        "remaining_time": 702.1200058,
                        "test": [
                          0.136238681
                        ]
                      },
                      {
                        "learn": [
                          0.1246508777
                        ],
                        "iteration": 266,
                        "passed_time": 255.2489831,
                        "remaining_time": 700.7397177,
                        "test": [
                          0.1361119612
                        ]
                      },
                      {
                        "learn": [
                          0.1245466148
                        ],
                        "iteration": 267,
                        "passed_time": 256.0731863,
                        "remaining_time": 699.4237775,
                        "test": [
                          0.1360674395
                        ]
                      },
                      {
                        "learn": [
                          0.1243119054
                        ],
                        "iteration": 268,
                        "passed_time": 256.8710124,
                        "remaining_time": 698.0398142,
                        "test": [
                          0.1358705154
                        ]
                      },
                      {
                        "learn": [
                          0.1240699971
                        ],
                        "iteration": 269,
                        "passed_time": 257.6736702,
                        "remaining_time": 696.6732563,
                        "test": [
                          0.1356597016
                        ]
                      },
                      {
                        "learn": [
                          0.123890933
                        ],
                        "iteration": 270,
                        "passed_time": 258.7852268,
                        "remaining_time": 696.1418094,
                        "test": [
                          0.1355169614
                        ]
                      },
                      {
                        "learn": [
                          0.1237461488
                        ],
                        "iteration": 271,
                        "passed_time": 260.2006277,
                        "remaining_time": 696.419327,
                        "test": [
                          0.1354186404
                        ]
                      },
                      {
                        "learn": [
                          0.1235812861
                        ],
                        "iteration": 272,
                        "passed_time": 261.6160547,
                        "remaining_time": 696.684512,
                        "test": [
                          0.1352656294
                        ]
                      },
                      {
                        "learn": [
                          0.1234058349
                        ],
                        "iteration": 273,
                        "passed_time": 262.8945644,
                        "remaining_time": 696.5746487,
                        "test": [
                          0.1351246722
                        ]
                      },
                      {
                        "learn": [
                          0.1232754077
                        ],
                        "iteration": 274,
                        "passed_time": 263.6992805,
                        "remaining_time": 695.2071942,
                        "test": [
                          0.1350112691
                        ]
                      },
                      {
                        "learn": [
                          0.1231738523
                        ],
                        "iteration": 275,
                        "passed_time": 264.5192608,
                        "remaining_time": 693.8838581,
                        "test": [
                          0.1349447101
                        ]
                      },
                      {
                        "learn": [
                          0.1230186734
                        ],
                        "iteration": 276,
                        "passed_time": 265.3219873,
                        "remaining_time": 692.5191222,
                        "test": [
                          0.1348089099
                        ]
                      },
                      {
                        "learn": [
                          0.1229000264
                        ],
                        "iteration": 277,
                        "passed_time": 266.1130357,
                        "remaining_time": 691.1280998,
                        "test": [
                          0.1347075885
                        ]
                      },
                      {
                        "learn": [
                          0.1228013084
                        ],
                        "iteration": 278,
                        "passed_time": 266.8898639,
                        "remaining_time": 689.7046304,
                        "test": [
                          0.1346470993
                        ]
                      },
                      {
                        "learn": [
                          0.1227073598
                        ],
                        "iteration": 279,
                        "passed_time": 267.682445,
                        "remaining_time": 688.3262872,
                        "test": [
                          0.1345504875
                        ]
                      },
                      {
                        "learn": [
                          0.122549516
                        ],
                        "iteration": 280,
                        "passed_time": 268.5082278,
                        "remaining_time": 687.0370669,
                        "test": [
                          0.1344567911
                        ]
                      },
                      {
                        "learn": [
                          0.1223899016
                        ],
                        "iteration": 281,
                        "passed_time": 269.291522,
                        "remaining_time": 685.6429531,
                        "test": [
                          0.1343532454
                        ]
                      },
                      {
                        "learn": [
                          0.1222294678
                        ],
                        "iteration": 282,
                        "passed_time": 270.0862572,
                        "remaining_time": 684.2821428,
                        "test": [
                          0.1342396571
                        ]
                      },
                      {
                        "learn": [
                          0.1220656213
                        ],
                        "iteration": 283,
                        "passed_time": 270.893924,
                        "remaining_time": 682.957921,
                        "test": [
                          0.1341271317
                        ]
                      },
                      {
                        "learn": [
                          0.1218674941
                        ],
                        "iteration": 284,
                        "passed_time": 271.7070563,
                        "remaining_time": 681.651036,
                        "test": [
                          0.1339913044
                        ]
                      },
                      {
                        "learn": [
                          0.1217613807
                        ],
                        "iteration": 285,
                        "passed_time": 272.5103493,
                        "remaining_time": 680.3230399,
                        "test": [
                          0.1339274787
                        ]
                      },
                      {
                        "learn": [
                          0.1216094016
                        ],
                        "iteration": 286,
                        "passed_time": 273.6496332,
                        "remaining_time": 679.8334092,
                        "test": [
                          0.1338061191
                        ]
                      },
                      {
                        "learn": [
                          0.1214880854
                        ],
                        "iteration": 287,
                        "passed_time": 275.1034954,
                        "remaining_time": 680.1169748,
                        "test": [
                          0.1336764729
                        ]
                      },
                      {
                        "learn": [
                          0.1213907193
                        ],
                        "iteration": 288,
                        "passed_time": 277.0225841,
                        "remaining_time": 681.5330701,
                        "test": [
                          0.1336445847
                        ]
                      },
                      {
                        "learn": [
                          0.121199184
                        ],
                        "iteration": 289,
                        "passed_time": 277.9138098,
                        "remaining_time": 680.4096722,
                        "test": [
                          0.133553944
                        ]
                      },
                      {
                        "learn": [
                          0.1210704485
                        ],
                        "iteration": 290,
                        "passed_time": 278.7121825,
                        "remaining_time": 679.0616404,
                        "test": [
                          0.1334504567
                        ]
                      },
                      {
                        "learn": [
                          0.1209275966
                        ],
                        "iteration": 291,
                        "passed_time": 279.516035,
                        "remaining_time": 677.7306603,
                        "test": [
                          0.1333316288
                        ]
                      },
                      {
                        "learn": [
                          0.1207725538
                        ],
                        "iteration": 292,
                        "passed_time": 280.3072746,
                        "remaining_time": 676.3728435,
                        "test": [
                          0.1332105882
                        ]
                      },
                      {
                        "learn": [
                          0.1206161245
                        ],
                        "iteration": 293,
                        "passed_time": 281.1069992,
                        "remaining_time": 675.0392566,
                        "test": [
                          0.1330696012
                        ]
                      },
                      {
                        "learn": [
                          0.1205301963
                        ],
                        "iteration": 294,
                        "passed_time": 281.8967367,
                        "remaining_time": 673.6854217,
                        "test": [
                          0.1330197532
                        ]
                      },
                      {
                        "learn": [
                          0.1204291909
                        ],
                        "iteration": 295,
                        "passed_time": 282.7114088,
                        "remaining_time": 672.394702,
                        "test": [
                          0.1329526687
                        ]
                      },
                      {
                        "learn": [
                          0.1203468222
                        ],
                        "iteration": 296,
                        "passed_time": 283.4763739,
                        "remaining_time": 670.9895314,
                        "test": [
                          0.132934147
                        ]
                      },
                      {
                        "learn": [
                          0.1201500047
                        ],
                        "iteration": 297,
                        "passed_time": 284.3019638,
                        "remaining_time": 669.7314717,
                        "test": [
                          0.1328094654
                        ]
                      },
                      {
                        "learn": [
                          0.1200069429
                        ],
                        "iteration": 298,
                        "passed_time": 285.1014831,
                        "remaining_time": 668.4151827,
                        "test": [
                          0.1326741321
                        ]
                      },
                      {
                        "learn": [
                          0.1198428576
                        ],
                        "iteration": 299,
                        "passed_time": 285.9049831,
                        "remaining_time": 667.1116272,
                        "test": [
                          0.1325441584
                        ]
                      },
                      {
                        "learn": [
                          0.1197080659
                        ],
                        "iteration": 300,
                        "passed_time": 286.6949107,
                        "remaining_time": 665.7798758,
                        "test": [
                          0.1324445329
                        ]
                      },
                      {
                        "learn": [
                          0.1195561967
                        ],
                        "iteration": 301,
                        "passed_time": 287.6638672,
                        "remaining_time": 664.8654944,
                        "test": [
                          0.1323519646
                        ]
                      },
                      {
                        "learn": [
                          0.1193894247
                        ],
                        "iteration": 302,
                        "passed_time": 289.0427269,
                        "remaining_time": 664.8936655,
                        "test": [
                          0.1321782881
                        ]
                      },
                      {
                        "learn": [
                          0.1192144168
                        ],
                        "iteration": 303,
                        "passed_time": 290.5164936,
                        "remaining_time": 665.129867,
                        "test": [
                          0.1320680967
                        ]
                      },
                      {
                        "learn": [
                          0.1190516853
                        ],
                        "iteration": 304,
                        "passed_time": 291.8764228,
                        "remaining_time": 665.0954552,
                        "test": [
                          0.1319197323
                        ]
                      },
                      {
                        "learn": [
                          0.1189657267
                        ],
                        "iteration": 305,
                        "passed_time": 292.6822741,
                        "remaining_time": 663.7957459,
                        "test": [
                          0.1318514672
                        ]
                      },
                      {
                        "learn": [
                          0.1188198843
                        ],
                        "iteration": 306,
                        "passed_time": 293.4837641,
                        "remaining_time": 662.4894088,
                        "test": [
                          0.1316751196
                        ]
                      },
                      {
                        "learn": [
                          0.118693915
                        ],
                        "iteration": 307,
                        "passed_time": 294.2970807,
                        "remaining_time": 661.2129216,
                        "test": [
                          0.1316227393
                        ]
                      },
                      {
                        "learn": [
                          0.1185805383
                        ],
                        "iteration": 308,
                        "passed_time": 295.1102365,
                        "remaining_time": 659.9390726,
                        "test": [
                          0.1315463265
                        ]
                      },
                      {
                        "learn": [
                          0.1184525626
                        ],
                        "iteration": 309,
                        "passed_time": 295.8692834,
                        "remaining_time": 658.5477598,
                        "test": [
                          0.1314398699
                        ]
                      },
                      {
                        "learn": [
                          0.1183679019
                        ],
                        "iteration": 310,
                        "passed_time": 296.6634916,
                        "remaining_time": 657.2384107,
                        "test": [
                          0.1313578803
                        ]
                      },
                      {
                        "learn": [
                          0.1182034391
                        ],
                        "iteration": 311,
                        "passed_time": 297.4833257,
                        "remaining_time": 655.988872,
                        "test": [
                          0.1311521754
                        ]
                      },
                      {
                        "learn": [
                          0.118031776
                        ],
                        "iteration": 312,
                        "passed_time": 298.2773162,
                        "remaining_time": 654.6853554,
                        "test": [
                          0.1310589817
                        ]
                      },
                      {
                        "learn": [
                          0.1179138483
                        ],
                        "iteration": 313,
                        "passed_time": 299.0790082,
                        "remaining_time": 653.4019095,
                        "test": [
                          0.1309677254
                        ]
                      },
                      {
                        "learn": [
                          0.1177628309
                        ],
                        "iteration": 314,
                        "passed_time": 299.877916,
                        "remaining_time": 652.1154682,
                        "test": [
                          0.1308751785
                        ]
                      },
                      {
                        "learn": [
                          0.1176295717
                        ],
                        "iteration": 315,
                        "passed_time": 300.6912019,
                        "remaining_time": 650.8632345,
                        "test": [
                          0.1307598616
                        ]
                      },
                      {
                        "learn": [
                          0.1174818667
                        ],
                        "iteration": 316,
                        "passed_time": 301.5054288,
                        "remaining_time": 649.6157978,
                        "test": [
                          0.1306580822
                        ]
                      },
                      {
                        "learn": [
                          0.1173657994
                        ],
                        "iteration": 317,
                        "passed_time": 302.5499716,
                        "remaining_time": 648.8650335,
                        "test": [
                          0.130569224
                        ]
                      },
                      {
                        "learn": [
                          0.1172343552
                        ],
                        "iteration": 318,
                        "passed_time": 303.8803369,
                        "remaining_time": 648.7226001,
                        "test": [
                          0.1304989507
                        ]
                      },
                      {
                        "learn": [
                          0.1170820423
                        ],
                        "iteration": 319,
                        "passed_time": 305.3254065,
                        "remaining_time": 648.8164887,
                        "test": [
                          0.1303840481
                        ]
                      },
                      {
                        "learn": [
                          0.1169245895
                        ],
                        "iteration": 320,
                        "passed_time": 306.6773466,
                        "remaining_time": 648.7037954,
                        "test": [
                          0.1302293803
                        ]
                      },
                      {
                        "learn": [
                          0.1168449618
                        ],
                        "iteration": 321,
                        "passed_time": 307.5165666,
                        "remaining_time": 647.5038267,
                        "test": [
                          0.1301730127
                        ]
                      },
                      {
                        "learn": [
                          0.1167263847
                        ],
                        "iteration": 322,
                        "passed_time": 308.2923077,
                        "remaining_time": 646.1730413,
                        "test": [
                          0.1301001667
                        ]
                      },
                      {
                        "learn": [
                          0.1166188175
                        ],
                        "iteration": 323,
                        "passed_time": 309.09225,
                        "remaining_time": 644.8961759,
                        "test": [
                          0.1300305409
                        ]
                      },
                      {
                        "learn": [
                          0.116539797
                        ],
                        "iteration": 324,
                        "passed_time": 309.8987218,
                        "remaining_time": 643.6358069,
                        "test": [
                          0.1299966411
                        ]
                      },
                      {
                        "learn": [
                          0.116436801
                        ],
                        "iteration": 325,
                        "passed_time": 310.7078078,
                        "remaining_time": 642.3836271,
                        "test": [
                          0.1299170042
                        ]
                      },
                      {
                        "learn": [
                          0.1163227986
                        ],
                        "iteration": 326,
                        "passed_time": 311.5130138,
                        "remaining_time": 641.126172,
                        "test": [
                          0.129822628
                        ]
                      },
                      {
                        "learn": [
                          0.1161712039
                        ],
                        "iteration": 327,
                        "passed_time": 312.3314755,
                        "remaining_time": 639.8986327,
                        "test": [
                          0.1297368389
                        ]
                      },
                      {
                        "learn": [
                          0.116070047
                        ],
                        "iteration": 328,
                        "passed_time": 313.1110081,
                        "remaining_time": 638.5941837,
                        "test": [
                          0.129670098
                        ]
                      },
                      {
                        "learn": [
                          0.1159122609
                        ],
                        "iteration": 329,
                        "passed_time": 313.9253692,
                        "remaining_time": 637.3636283,
                        "test": [
                          0.1295606855
                        ]
                      },
                      {
                        "learn": [
                          0.115833955
                        ],
                        "iteration": 330,
                        "passed_time": 314.7386665,
                        "remaining_time": 636.1334377,
                        "test": [
                          0.1294840279
                        ]
                      },
                      {
                        "learn": [
                          0.1157604762
                        ],
                        "iteration": 331,
                        "passed_time": 315.5109527,
                        "remaining_time": 634.8232421,
                        "test": [
                          0.1294422468
                        ]
                      },
                      {
                        "learn": [
                          0.1156231719
                        ],
                        "iteration": 332,
                        "passed_time": 316.3106125,
                        "remaining_time": 633.5711067,
                        "test": [
                          0.1293296248
                        ]
                      },
                      {
                        "learn": [
                          0.1154747121
                        ],
                        "iteration": 333,
                        "passed_time": 317.2652024,
                        "remaining_time": 632.6306132,
                        "test": [
                          0.1292226002
                        ]
                      },
                      {
                        "learn": [
                          0.1153497006
                        ],
                        "iteration": 334,
                        "passed_time": 318.6855811,
                        "remaining_time": 632.614661,
                        "test": [
                          0.1290981211
                        ]
                      },
                      {
                        "learn": [
                          0.1151778111
                        ],
                        "iteration": 335,
                        "passed_time": 320.2066406,
                        "remaining_time": 632.7893136,
                        "test": [
                          0.1289908158
                        ]
                      },
                      {
                        "learn": [
                          0.1150745139
                        ],
                        "iteration": 336,
                        "passed_time": 321.5181248,
                        "remaining_time": 632.5415926,
                        "test": [
                          0.1289353192
                        ]
                      },
                      {
                        "learn": [
                          0.1150007944
                        ],
                        "iteration": 337,
                        "passed_time": 322.3160341,
                        "remaining_time": 631.2816999,
                        "test": [
                          0.1289211025
                        ]
                      },
                      {
                        "learn": [
                          0.1148847202
                        ],
                        "iteration": 338,
                        "passed_time": 323.1316001,
                        "remaining_time": 630.0589606,
                        "test": [
                          0.1288048062
                        ]
                      },
                      {
                        "learn": [
                          0.1147023191
                        ],
                        "iteration": 339,
                        "passed_time": 323.9373354,
                        "remaining_time": 628.8195335,
                        "test": [
                          0.1286575957
                        ]
                      },
                      {
                        "learn": [
                          0.1146353918
                        ],
                        "iteration": 340,
                        "passed_time": 324.7279913,
                        "remaining_time": 627.5535081,
                        "test": [
                          0.1286065224
                        ]
                      },
                      {
                        "learn": [
                          0.1145645362
                        ],
                        "iteration": 341,
                        "passed_time": 325.5310999,
                        "remaining_time": 626.3142214,
                        "test": [
                          0.1285697206
                        ]
                      },
                      {
                        "learn": [
                          0.1144976241
                        ],
                        "iteration": 342,
                        "passed_time": 326.321306,
                        "remaining_time": 625.052764,
                        "test": [
                          0.1285007769
                        ]
                      },
                      {
                        "learn": [
                          0.1144104811
                        ],
                        "iteration": 343,
                        "passed_time": 327.1042885,
                        "remaining_time": 623.7802711,
                        "test": [
                          0.1284647435
                        ]
                      },
                      {
                        "learn": [
                          0.1142861094
                        ],
                        "iteration": 344,
                        "passed_time": 327.9073166,
                        "remaining_time": 622.5486735,
                        "test": [
                          0.1283659811
                        ]
                      },
                      {
                        "learn": [
                          0.114217524
                        ],
                        "iteration": 345,
                        "passed_time": 328.7182269,
                        "remaining_time": 621.334452,
                        "test": [
                          0.128333951
                        ]
                      },
                      {
                        "learn": [
                          0.1140986185
                        ],
                        "iteration": 346,
                        "passed_time": 329.5144017,
                        "remaining_time": 620.094825,
                        "test": [
                          0.1282543364
                        ]
                      },
                      {
                        "learn": [
                          0.1139600439
                        ],
                        "iteration": 347,
                        "passed_time": 330.4445454,
                        "remaining_time": 619.108746,
                        "test": [
                          0.1281125545
                        ]
                      },
                      {
                        "learn": [
                          0.1138945841
                        ],
                        "iteration": 348,
                        "passed_time": 331.3502172,
                        "remaining_time": 618.0773392,
                        "test": [
                          0.1280754151
                        ]
                      },
                      {
                        "learn": [
                          0.1138155584
                        ],
                        "iteration": 349,
                        "passed_time": 332.7980422,
                        "remaining_time": 618.053507,
                        "test": [
                          0.1280304916
                        ]
                      },
                      {
                        "learn": [
                          0.1136417204
                        ],
                        "iteration": 350,
                        "passed_time": 334.2533139,
                        "remaining_time": 618.0353297,
                        "test": [
                          0.1278901009
                        ]
                      },
                      {
                        "learn": [
                          0.1135492524
                        ],
                        "iteration": 351,
                        "passed_time": 335.5991696,
                        "remaining_time": 617.8075623,
                        "test": [
                          0.1278531284
                        ]
                      },
                      {
                        "learn": [
                          0.1134054671
                        ],
                        "iteration": 352,
                        "passed_time": 336.5476742,
                        "remaining_time": 616.8451706,
                        "test": [
                          0.1277727644
                        ]
                      },
                      {
                        "learn": [
                          0.1133432985
                        ],
                        "iteration": 353,
                        "passed_time": 337.3290229,
                        "remaining_time": 615.5778214,
                        "test": [
                          0.1277427031
                        ]
                      },
                      {
                        "learn": [
                          0.1132417579
                        ],
                        "iteration": 354,
                        "passed_time": 338.1415,
                        "remaining_time": 614.3697676,
                        "test": [
                          0.1276613263
                        ]
                      },
                      {
                        "learn": [
                          0.1131472148
                        ],
                        "iteration": 355,
                        "passed_time": 338.9449703,
                        "remaining_time": 613.1476429,
                        "test": [
                          0.1276007877
                        ]
                      },
                      {
                        "learn": [
                          0.1130835074
                        ],
                        "iteration": 356,
                        "passed_time": 339.7603778,
                        "remaining_time": 611.9493639,
                        "test": [
                          0.1275896814
                        ]
                      },
                      {
                        "learn": [
                          0.1130071714
                        ],
                        "iteration": 357,
                        "passed_time": 340.5576121,
                        "remaining_time": 610.720634,
                        "test": [
                          0.127522631
                        ]
                      },
                      {
                        "learn": [
                          0.1129501561
                        ],
                        "iteration": 358,
                        "passed_time": 341.3309281,
                        "remaining_time": 609.4516015,
                        "test": [
                          0.1275185848
                        ]
                      },
                      {
                        "learn": [
                          0.1128403521
                        ],
                        "iteration": 359,
                        "passed_time": 342.1492153,
                        "remaining_time": 608.2652717,
                        "test": [
                          0.1274494866
                        ]
                      },
                      {
                        "learn": [
                          0.1127629107
                        ],
                        "iteration": 360,
                        "passed_time": 342.9713036,
                        "remaining_time": 607.0877092,
                        "test": [
                          0.1274104781
                        ]
                      },
                      {
                        "learn": [
                          0.112658412
                        ],
                        "iteration": 361,
                        "passed_time": 343.7620469,
                        "remaining_time": 605.8568672,
                        "test": [
                          0.1273412131
                        ]
                      },
                      {
                        "learn": [
                          0.1126005419
                        ],
                        "iteration": 362,
                        "passed_time": 344.5929214,
                        "remaining_time": 604.6988731,
                        "test": [
                          0.1272765942
                        ]
                      },
                      {
                        "learn": [
                          0.1125430524
                        ],
                        "iteration": 363,
                        "passed_time": 345.3929974,
                        "remaining_time": 603.4888636,
                        "test": [
                          0.1272422771
                        ]
                      },
                      {
                        "learn": [
                          0.1124364617
                        ],
                        "iteration": 364,
                        "passed_time": 346.2980182,
                        "remaining_time": 602.4636755,
                        "test": [
                          0.1271272757
                        ]
                      },
                      {
                        "learn": [
                          0.1123055142
                        ],
                        "iteration": 365,
                        "passed_time": 347.7130713,
                        "remaining_time": 602.3226426,
                        "test": [
                          0.1270165212
                        ]
                      },
                      {
                        "learn": [
                          0.1121697464
                        ],
                        "iteration": 366,
                        "passed_time": 349.1776366,
                        "remaining_time": 602.2600653,
                        "test": [
                          0.1268919675
                        ]
                      },
                      {
                        "learn": [
                          0.1119564664
                        ],
                        "iteration": 367,
                        "passed_time": 350.6003992,
                        "remaining_time": 602.118077,
                        "test": [
                          0.1267715388
                        ]
                      },
                      {
                        "learn": [
                          0.1118469624
                        ],
                        "iteration": 368,
                        "passed_time": 351.4016671,
                        "remaining_time": 600.9063737,
                        "test": [
                          0.1266790289
                        ]
                      },
                      {
                        "learn": [
                          0.1117286313
                        ],
                        "iteration": 369,
                        "passed_time": 352.2288716,
                        "remaining_time": 599.7410517,
                        "test": [
                          0.1265733343
                        ]
                      },
                      {
                        "learn": [
                          0.1116174065
                        ],
                        "iteration": 370,
                        "passed_time": 353.0293677,
                        "remaining_time": 598.5322703,
                        "test": [
                          0.1264899225
                        ]
                      },
                      {
                        "learn": [
                          0.1114634084
                        ],
                        "iteration": 371,
                        "passed_time": 353.8383215,
                        "remaining_time": 597.3399621,
                        "test": [
                          0.1264006402
                        ]
                      },
                      {
                        "learn": [
                          0.1113961675
                        ],
                        "iteration": 372,
                        "passed_time": 354.6638691,
                        "remaining_time": 596.1776031,
                        "test": [
                          0.1263627168
                        ]
                      },
                      {
                        "learn": [
                          0.1112723916
                        ],
                        "iteration": 373,
                        "passed_time": 355.4741815,
                        "remaining_time": 594.9915444,
                        "test": [
                          0.1262886976
                        ]
                      },
                      {
                        "learn": [
                          0.1111744169
                        ],
                        "iteration": 374,
                        "passed_time": 356.2839927,
                        "remaining_time": 593.8066545,
                        "test": [
                          0.1261980639
                        ]
                      },
                      {
                        "learn": [
                          0.1111169722
                        ],
                        "iteration": 375,
                        "passed_time": 357.0767463,
                        "remaining_time": 592.5954513,
                        "test": [
                          0.126172674
                        ]
                      },
                      {
                        "learn": [
                          0.1109440069
                        ],
                        "iteration": 376,
                        "passed_time": 357.9121005,
                        "remaining_time": 591.4568663,
                        "test": [
                          0.1260709191
                        ]
                      },
                      {
                        "learn": [
                          0.1108662938
                        ],
                        "iteration": 377,
                        "passed_time": 358.7068863,
                        "remaining_time": 590.2531303,
                        "test": [
                          0.1260285293
                        ]
                      },
                      {
                        "learn": [
                          0.1108135249
                        ],
                        "iteration": 378,
                        "passed_time": 359.5059103,
                        "remaining_time": 589.0584968,
                        "test": [
                          0.1259896856
                        ]
                      },
                      {
                        "learn": [
                          0.1107059485
                        ],
                        "iteration": 379,
                        "passed_time": 360.2673108,
                        "remaining_time": 587.8045597,
                        "test": [
                          0.125916928
                        ]
                      },
                      {
                        "learn": [
                          0.1105583487
                        ],
                        "iteration": 380,
                        "passed_time": 361.418757,
                        "remaining_time": 587.1869044,
                        "test": [
                          0.1258086535
                        ]
                      },
                      {
                        "learn": [
                          0.1104684727
                        ],
                        "iteration": 381,
                        "passed_time": 362.822597,
                        "remaining_time": 586.9747774,
                        "test": [
                          0.1257603223
                        ]
                      },
                      {
                        "learn": [
                          0.1103579279
                        ],
                        "iteration": 382,
                        "passed_time": 364.2684678,
                        "remaining_time": 586.8241375,
                        "test": [
                          0.1256560837
                        ]
                      },
                      {
                        "learn": [
                          0.110228542
                        ],
                        "iteration": 383,
                        "passed_time": 365.504639,
                        "remaining_time": 586.3303584,
                        "test": [
                          0.1255012228
                        ]
                      },
                      {
                        "learn": [
                          0.1101685479
                        ],
                        "iteration": 384,
                        "passed_time": 366.3179912,
                        "remaining_time": 585.1573106,
                        "test": [
                          0.125466061
                        ]
                      },
                      {
                        "learn": [
                          0.1100376018
                        ],
                        "iteration": 385,
                        "passed_time": 367.1269688,
                        "remaining_time": 583.979168,
                        "test": [
                          0.1253559948
                        ]
                      },
                      {
                        "learn": [
                          0.1099606827
                        ],
                        "iteration": 386,
                        "passed_time": 367.9260531,
                        "remaining_time": 582.7872624,
                        "test": [
                          0.1252974192
                        ]
                      },
                      {
                        "learn": [
                          0.1098502873
                        ],
                        "iteration": 387,
                        "passed_time": 368.7415709,
                        "remaining_time": 581.6233026,
                        "test": [
                          0.1252571249
                        ]
                      },
                      {
                        "learn": [
                          0.1097973532
                        ],
                        "iteration": 388,
                        "passed_time": 369.509089,
                        "remaining_time": 580.3857414,
                        "test": [
                          0.1251906888
                        ]
                      },
                      {
                        "learn": [
                          0.1097457732
                        ],
                        "iteration": 389,
                        "passed_time": 370.3004237,
                        "remaining_time": 579.1878422,
                        "test": [
                          0.1251841358
                        ]
                      },
                      {
                        "learn": [
                          0.1095889444
                        ],
                        "iteration": 390,
                        "passed_time": 371.1200534,
                        "remaining_time": 578.0360934,
                        "test": [
                          0.1250906324
                        ]
                      },
                      {
                        "learn": [
                          0.1094465147
                        ],
                        "iteration": 391,
                        "passed_time": 371.93618,
                        "remaining_time": 576.8806057,
                        "test": [
                          0.1250467212
                        ]
                      },
                      {
                        "learn": [
                          0.1093483492
                        ],
                        "iteration": 392,
                        "passed_time": 372.7087898,
                        "remaining_time": 575.6596322,
                        "test": [
                          0.1249905651
                        ]
                      },
                      {
                        "learn": [
                          0.1092501932
                        ],
                        "iteration": 393,
                        "passed_time": 373.5322387,
                        "remaining_time": 574.5191285,
                        "test": [
                          0.1249594481
                        ]
                      },
                      {
                        "learn": [
                          0.1091317674
                        ],
                        "iteration": 394,
                        "passed_time": 374.3380527,
                        "remaining_time": 573.35322,
                        "test": [
                          0.1248644061
                        ]
                      },
                      {
                        "learn": [
                          0.108954845
                        ],
                        "iteration": 395,
                        "passed_time": 375.1602823,
                        "remaining_time": 572.2141679,
                        "test": [
                          0.1246948552
                        ]
                      },
                      {
                        "learn": [
                          0.1088422164
                        ],
                        "iteration": 396,
                        "passed_time": 376.4558407,
                        "remaining_time": 571.7956472,
                        "test": [
                          0.1246263458
                        ]
                      },
                      {
                        "learn": [
                          0.1087245177
                        ],
                        "iteration": 397,
                        "passed_time": 377.8698994,
                        "remaining_time": 571.5519584,
                        "test": [
                          0.1245160317
                        ]
                      },
                      {
                        "learn": [
                          0.1086534885
                        ],
                        "iteration": 398,
                        "passed_time": 379.1995999,
                        "remaining_time": 571.1753371,
                        "test": [
                          0.1244909959
                        ]
                      },
                      {
                        "learn": [
                          0.1086012102
                        ],
                        "iteration": 399,
                        "passed_time": 380.4308081,
                        "remaining_time": 570.6462122,
                        "test": [
                          0.124483559
                        ]
                      },
                      {
                        "learn": [
                          0.108549901
                        ],
                        "iteration": 400,
                        "passed_time": 381.2081562,
                        "remaining_time": 569.4356249,
                        "test": [
                          0.1244890864
                        ]
                      },
                      {
                        "learn": [
                          0.108483604
                        ],
                        "iteration": 401,
                        "passed_time": 382.0179701,
                        "remaining_time": 568.2754879,
                        "test": [
                          0.124438696
                        ]
                      },
                      {
                        "learn": [
                          0.1083800861
                        ],
                        "iteration": 402,
                        "passed_time": 382.8482459,
                        "remaining_time": 567.1474015,
                        "test": [
                          0.1243781735
                        ]
                      },
                      {
                        "learn": [
                          0.1083323672
                        ],
                        "iteration": 403,
                        "passed_time": 383.6691592,
                        "remaining_time": 566.0069775,
                        "test": [
                          0.1243418757
                        ]
                      },
                      {
                        "learn": [
                          0.1082298784
                        ],
                        "iteration": 404,
                        "passed_time": 384.4992585,
                        "remaining_time": 564.8816267,
                        "test": [
                          0.1242629126
                        ]
                      },
                      {
                        "learn": [
                          0.1081203693
                        ],
                        "iteration": 405,
                        "passed_time": 385.2745406,
                        "remaining_time": 563.6775298,
                        "test": [
                          0.1241946246
                        ]
                      },
                      {
                        "learn": [
                          0.108065618
                        ],
                        "iteration": 406,
                        "passed_time": 386.0986938,
                        "remaining_time": 562.5467455,
                        "test": [
                          0.1241406458
                        ]
                      },
                      {
                        "learn": [
                          0.1080010484
                        ],
                        "iteration": 407,
                        "passed_time": 386.9039851,
                        "remaining_time": 561.390096,
                        "test": [
                          0.1241280072
                        ]
                      },
                      {
                        "learn": [
                          0.1078743312
                        ],
                        "iteration": 408,
                        "passed_time": 387.7102321,
                        "remaining_time": 560.2365456,
                        "test": [
                          0.1240196365
                        ]
                      },
                      {
                        "learn": [
                          0.1077804772
                        ],
                        "iteration": 409,
                        "passed_time": 388.5052822,
                        "remaining_time": 559.0685768,
                        "test": [
                          0.1239593662
                        ]
                      },
                      {
                        "learn": [
                          0.1076771269
                        ],
                        "iteration": 410,
                        "passed_time": 389.3024556,
                        "remaining_time": 557.9054656,
                        "test": [
                          0.1238742049
                        ]
                      },
                      {
                        "learn": [
                          0.1076042339
                        ],
                        "iteration": 411,
                        "passed_time": 390.1207873,
                        "remaining_time": 556.7743275,
                        "test": [
                          0.1238374891
                        ]
                      },
                      {
                        "learn": [
                          0.1075097185
                        ],
                        "iteration": 412,
                        "passed_time": 391.4153837,
                        "remaining_time": 556.3216228,
                        "test": [
                          0.1237690406
                        ]
                      },
                      {
                        "learn": [
                          0.1074563528
                        ],
                        "iteration": 413,
                        "passed_time": 392.7380274,
                        "remaining_time": 555.9045509,
                        "test": [
                          0.1237661103
                        ]
                      },
                      {
                        "learn": [
                          0.1073580763
                        ],
                        "iteration": 414,
                        "passed_time": 394.1556373,
                        "remaining_time": 555.6169827,
                        "test": [
                          0.1236791403
                        ]
                      },
                      {
                        "learn": [
                          0.1072431292
                        ],
                        "iteration": 415,
                        "passed_time": 395.3709932,
                        "remaining_time": 555.0400482,
                        "test": [
                          0.1235570047
                        ]
                      },
                      {
                        "learn": [
                          0.1071505547
                        ],
                        "iteration": 416,
                        "passed_time": 396.1811643,
                        "remaining_time": 553.8935702,
                        "test": [
                          0.1235135643
                        ]
                      },
                      {
                        "learn": [
                          0.1069933851
                        ],
                        "iteration": 417,
                        "passed_time": 396.9535064,
                        "remaining_time": 552.6960304,
                        "test": [
                          0.1233879059
                        ]
                      },
                      {
                        "learn": [
                          0.1068751321
                        ],
                        "iteration": 418,
                        "passed_time": 397.7740655,
                        "remaining_time": 551.5673796,
                        "test": [
                          0.1233090744
                        ]
                      },
                      {
                        "learn": [
                          0.1068263851
                        ],
                        "iteration": 419,
                        "passed_time": 398.578392,
                        "remaining_time": 550.4177795,
                        "test": [
                          0.1232690545
                        ]
                      },
                      {
                        "learn": [
                          0.1067198399
                        ],
                        "iteration": 420,
                        "passed_time": 399.3795768,
                        "remaining_time": 549.2654987,
                        "test": [
                          0.1231883491
                        ]
                      },
                      {
                        "learn": [
                          0.1066340547
                        ],
                        "iteration": 421,
                        "passed_time": 400.2125039,
                        "remaining_time": 548.1583585,
                        "test": [
                          0.1231400893
                        ]
                      },
                      {
                        "learn": [
                          0.1065832249
                        ],
                        "iteration": 422,
                        "passed_time": 400.9798852,
                        "remaining_time": 546.9631058,
                        "test": [
                          0.1231084547
                        ]
                      },
                      {
                        "learn": [
                          0.1064916962
                        ],
                        "iteration": 423,
                        "passed_time": 401.774652,
                        "remaining_time": 545.8070745,
                        "test": [
                          0.1230369921
                        ]
                      },
                      {
                        "learn": [
                          0.1064431164
                        ],
                        "iteration": 424,
                        "passed_time": 402.581617,
                        "remaining_time": 544.6692465,
                        "test": [
                          0.1230206076
                        ]
                      },
                      {
                        "learn": [
                          0.1063941373
                        ],
                        "iteration": 425,
                        "passed_time": 403.4088983,
                        "remaining_time": 543.5603465,
                        "test": [
                          0.1229908885
                        ]
                      },
                      {
                        "learn": [
                          0.106327626
                        ],
                        "iteration": 426,
                        "passed_time": 404.1670538,
                        "remaining_time": 542.3600043,
                        "test": [
                          0.1229430503
                        ]
                      },
                      {
                        "learn": [
                          0.1062396331
                        ],
                        "iteration": 427,
                        "passed_time": 404.9932159,
                        "remaining_time": 541.2526157,
                        "test": [
                          0.1229052267
                        ]
                      },
                      {
                        "learn": [
                          0.1061685828
                        ],
                        "iteration": 428,
                        "passed_time": 406.2456971,
                        "remaining_time": 540.7139698,
                        "test": [
                          0.1228671969
                        ]
                      },
                      {
                        "learn": [
                          0.1060709239
                        ],
                        "iteration": 429,
                        "passed_time": 407.6341994,
                        "remaining_time": 540.3523108,
                        "test": [
                          0.1228155169
                        ]
                      },
                      {
                        "learn": [
                          0.1059889238
                        ],
                        "iteration": 430,
                        "passed_time": 409.0623596,
                        "remaining_time": 540.0382427,
                        "test": [
                          0.1227358181
                        ]
                      },
                      {
                        "learn": [
                          0.1059032504
                        ],
                        "iteration": 431,
                        "passed_time": 410.2487739,
                        "remaining_time": 539.4011656,
                        "test": [
                          0.1226747593
                        ]
                      },
                      {
                        "learn": [
                          0.1057980236
                        ],
                        "iteration": 432,
                        "passed_time": 411.056809,
                        "remaining_time": 538.2660756,
                        "test": [
                          0.1225823856
                        ]
                      },
                      {
                        "learn": [
                          0.1057069902
                        ],
                        "iteration": 433,
                        "passed_time": 411.8572105,
                        "remaining_time": 537.1225372,
                        "test": [
                          0.1225155427
                        ]
                      },
                      {
                        "learn": [
                          0.105660023
                        ],
                        "iteration": 434,
                        "passed_time": 412.655703,
                        "remaining_time": 535.978097,
                        "test": [
                          0.1224655553
                        ]
                      },
                      {
                        "learn": [
                          0.1056149816
                        ],
                        "iteration": 435,
                        "passed_time": 413.4441053,
                        "remaining_time": 534.8221912,
                        "test": [
                          0.1224457709
                        ]
                      },
                      {
                        "learn": [
                          0.1055363524
                        ],
                        "iteration": 436,
                        "passed_time": 414.2424265,
                        "remaining_time": 533.6807463,
                        "test": [
                          0.1223891111
                        ]
                      },
                      {
                        "learn": [
                          0.1054737084
                        ],
                        "iteration": 437,
                        "passed_time": 415.0696142,
                        "remaining_time": 532.5779068,
                        "test": [
                          0.122379593
                        ]
                      },
                      {
                        "learn": [
                          0.1053667722
                        ],
                        "iteration": 438,
                        "passed_time": 415.8680811,
                        "remaining_time": 531.4396207,
                        "test": [
                          0.1223215085
                        ]
                      },
                      {
                        "learn": [
                          0.1053189131
                        ],
                        "iteration": 439,
                        "passed_time": 416.6478684,
                        "remaining_time": 530.2791053,
                        "test": [
                          0.1222597701
                        ]
                      },
                      {
                        "learn": [
                          0.1051995261
                        ],
                        "iteration": 440,
                        "passed_time": 417.5039707,
                        "remaining_time": 529.2170513,
                        "test": [
                          0.1221490454
                        ]
                      },
                      {
                        "learn": [
                          0.105100826
                        ],
                        "iteration": 441,
                        "passed_time": 418.320284,
                        "remaining_time": 528.1056979,
                        "test": [
                          0.1220827324
                        ]
                      },
                      {
                        "learn": [
                          0.1049911826
                        ],
                        "iteration": 442,
                        "passed_time": 419.1025949,
                        "remaining_time": 526.9529241,
                        "test": [
                          0.1220147897
                        ]
                      },
                      {
                        "learn": [
                          0.1049048723
                        ],
                        "iteration": 443,
                        "passed_time": 419.9555199,
                        "remaining_time": 525.8902457,
                        "test": [
                          0.1219510105
                        ]
                      },
                      {
                        "learn": [
                          0.1047784838
                        ],
                        "iteration": 444,
                        "passed_time": 421.3802395,
                        "remaining_time": 525.541647,
                        "test": [
                          0.1218550166
                        ]
                      },
                      {
                        "learn": [
                          0.104689458
                        ],
                        "iteration": 445,
                        "passed_time": 422.7917204,
                        "remaining_time": 525.1717783,
                        "test": [
                          0.121771847
                        ]
                      },
                      {
                        "learn": [
                          0.1045793505
                        ],
                        "iteration": 446,
                        "passed_time": 424.0929355,
                        "remaining_time": 524.6608351,
                        "test": [
                          0.1216666109
                        ]
                      },
                      {
                        "learn": [
                          0.1045061046
                        ],
                        "iteration": 447,
                        "passed_time": 425.2036378,
                        "remaining_time": 523.9116251,
                        "test": [
                          0.1216317161
                        ]
                      },
                      {
                        "learn": [
                          0.104452744
                        ],
                        "iteration": 448,
                        "passed_time": 425.9884636,
                        "remaining_time": 522.7608985,
                        "test": [
                          0.1216076095
                        ]
                      },
                      {
                        "learn": [
                          0.1043953184
                        ],
                        "iteration": 449,
                        "passed_time": 426.807545,
                        "remaining_time": 521.6536661,
                        "test": [
                          0.1215601302
                        ]
                      },
                      {
                        "learn": [
                          0.1042479434
                        ],
                        "iteration": 450,
                        "passed_time": 427.6317055,
                        "remaining_time": 520.5538942,
                        "test": [
                          0.1214530187
                        ]
                      },
                      {
                        "learn": [
                          0.1042055401
                        ],
                        "iteration": 451,
                        "passed_time": 428.4105768,
                        "remaining_time": 519.4004339,
                        "test": [
                          0.1214582758
                        ]
                      },
                      {
                        "learn": [
                          0.1040556314
                        ],
                        "iteration": 452,
                        "passed_time": 429.2143405,
                        "remaining_time": 518.2786848,
                        "test": [
                          0.1213464841
                        ]
                      },
                      {
                        "learn": [
                          0.1039396866
                        ],
                        "iteration": 453,
                        "passed_time": 430.0417052,
                        "remaining_time": 517.1867204,
                        "test": [
                          0.1212553933
                        ]
                      },
                      {
                        "learn": [
                          0.1038924062
                        ],
                        "iteration": 454,
                        "passed_time": 430.866542,
                        "remaining_time": 516.092891,
                        "test": [
                          0.1212042817
                        ]
                      },
                      {
                        "learn": [
                          0.1038487632
                        ],
                        "iteration": 455,
                        "passed_time": 431.6466097,
                        "remaining_time": 514.9468327,
                        "test": [
                          0.1211700031
                        ]
                      },
                      {
                        "learn": [
                          0.1037242351
                        ],
                        "iteration": 456,
                        "passed_time": 432.4807717,
                        "remaining_time": 513.86665,
                        "test": [
                          0.121129661
                        ]
                      },
                      {
                        "learn": [
                          0.1036305411
                        ],
                        "iteration": 457,
                        "passed_time": 433.3003605,
                        "remaining_time": 512.7702956,
                        "test": [
                          0.121062934
                        ]
                      },
                      {
                        "learn": [
                          0.103584268
                        ],
                        "iteration": 458,
                        "passed_time": 434.0973776,
                        "remaining_time": 511.6485431,
                        "test": [
                          0.1210304306
                        ]
                      },
                      {
                        "learn": [
                          0.1035092507
                        ],
                        "iteration": 459,
                        "passed_time": 435.4231354,
                        "remaining_time": 511.148898,
                        "test": [
                          0.1209791835
                        ]
                      },
                      {
                        "learn": [
                          0.1034190435
                        ],
                        "iteration": 460,
                        "passed_time": 436.8689091,
                        "remaining_time": 510.7859914,
                        "test": [
                          0.1209190342
                        ]
                      },
                      {
                        "learn": [
                          0.103287944
                        ],
                        "iteration": 461,
                        "passed_time": 438.300582,
                        "remaining_time": 510.4019764,
                        "test": [
                          0.1208082346
                        ]
                      },
                      {
                        "learn": [
                          0.1031840099
                        ],
                        "iteration": 462,
                        "passed_time": 439.585348,
                        "remaining_time": 509.8430494,
                        "test": [
                          0.1207196388
                        ]
                      },
                      {
                        "learn": [
                          0.1031164363
                        ],
                        "iteration": 463,
                        "passed_time": 440.3986473,
                        "remaining_time": 508.7363684,
                        "test": [
                          0.1206617104
                        ]
                      },
                      {
                        "learn": [
                          0.1030388835
                        ],
                        "iteration": 464,
                        "passed_time": 441.2030409,
                        "remaining_time": 507.620703,
                        "test": [
                          0.1206374569
                        ]
                      },
                      {
                        "learn": [
                          0.102958585
                        ],
                        "iteration": 465,
                        "passed_time": 442.0335791,
                        "remaining_time": 506.5363331,
                        "test": [
                          0.120576206
                        ]
                      },
                      {
                        "learn": [
                          0.102908041
                        ],
                        "iteration": 466,
                        "passed_time": 442.8453496,
                        "remaining_time": 505.4316303,
                        "test": [
                          0.1205223264
                        ]
                      },
                      {
                        "learn": [
                          0.1028462684
                        ],
                        "iteration": 467,
                        "passed_time": 443.6170277,
                        "remaining_time": 504.2826041,
                        "test": [
                          0.1204740747
                        ]
                      },
                      {
                        "learn": [
                          0.1027403402
                        ],
                        "iteration": 468,
                        "passed_time": 444.4737765,
                        "remaining_time": 503.2315039,
                        "test": [
                          0.1204047908
                        ]
                      },
                      {
                        "learn": [
                          0.1026796584
                        ],
                        "iteration": 469,
                        "passed_time": 445.279664,
                        "remaining_time": 502.1238764,
                        "test": [
                          0.1203679469
                        ]
                      },
                      {
                        "learn": [
                          0.1026141218
                        ],
                        "iteration": 470,
                        "passed_time": 446.0820998,
                        "remaining_time": 501.0136535,
                        "test": [
                          0.1203222399
                        ]
                      },
                      {
                        "learn": [
                          0.102541809
                        ],
                        "iteration": 471,
                        "passed_time": 446.851925,
                        "remaining_time": 499.868255,
                        "test": [
                          0.120250332
                        ]
                      },
                      {
                        "learn": [
                          0.1024984462
                        ],
                        "iteration": 472,
                        "passed_time": 447.6533219,
                        "remaining_time": 498.7596209,
                        "test": [
                          0.1202043142
                        ]
                      },
                      {
                        "learn": [
                          0.1023946332
                        ],
                        "iteration": 473,
                        "passed_time": 448.4667704,
                        "remaining_time": 497.6656566,
                        "test": [
                          0.1201342727
                        ]
                      },
                      {
                        "learn": [
                          0.1023529125
                        ],
                        "iteration": 474,
                        "passed_time": 449.2868882,
                        "remaining_time": 496.5802449,
                        "test": [
                          0.1201077061
                        ]
                      },
                      {
                        "learn": [
                          0.1022697063
                        ],
                        "iteration": 475,
                        "passed_time": 450.5227481,
                        "remaining_time": 495.9536134,
                        "test": [
                          0.1200812675
                        ]
                      },
                      {
                        "learn": [
                          0.1021248568
                        ],
                        "iteration": 476,
                        "passed_time": 451.9035036,
                        "remaining_time": 495.4832964,
                        "test": [
                          0.1200016744
                        ]
                      },
                      {
                        "learn": [
                          0.102057954
                        ],
                        "iteration": 477,
                        "passed_time": 453.2501842,
                        "remaining_time": 494.9719585,
                        "test": [
                          0.1199480702
                        ]
                      },
                      {
                        "learn": [
                          0.1019444419
                        ],
                        "iteration": 478,
                        "passed_time": 454.5417766,
                        "remaining_time": 494.3972142,
                        "test": [
                          0.1198435395
                        ]
                      },
                      {
                        "learn": [
                          0.1018082408
                        ],
                        "iteration": 479,
                        "passed_time": 455.33978,
                        "remaining_time": 493.2847617,
                        "test": [
                          0.1197823911
                        ]
                      },
                      {
                        "learn": [
                          0.1017691682
                        ],
                        "iteration": 480,
                        "passed_time": 456.1492449,
                        "remaining_time": 492.1859835,
                        "test": [
                          0.1197549811
                        ]
                      },
                      {
                        "learn": [
                          0.1016919067
                        ],
                        "iteration": 481,
                        "passed_time": 456.9688495,
                        "remaining_time": 491.099303,
                        "test": [
                          0.119705405
                        ]
                      },
                      {
                        "learn": [
                          0.1015756133
                        ],
                        "iteration": 482,
                        "passed_time": 457.7750068,
                        "remaining_time": 489.9993344,
                        "test": [
                          0.1195828729
                        ]
                      },
                      {
                        "learn": [
                          0.101534959
                        ],
                        "iteration": 483,
                        "passed_time": 458.5790009,
                        "remaining_time": 488.8982737,
                        "test": [
                          0.1195218436
                        ]
                      },
                      {
                        "learn": [
                          0.1014036134
                        ],
                        "iteration": 484,
                        "passed_time": 459.3964696,
                        "remaining_time": 487.8127461,
                        "test": [
                          0.1194068267
                        ]
                      },
                      {
                        "learn": [
                          0.1013637904
                        ],
                        "iteration": 485,
                        "passed_time": 460.1877973,
                        "remaining_time": 486.7006745,
                        "test": [
                          0.1194009168
                        ]
                      },
                      {
                        "learn": [
                          0.1012652999
                        ],
                        "iteration": 486,
                        "passed_time": 461.008895,
                        "remaining_time": 485.6212795,
                        "test": [
                          0.1192853644
                        ]
                      },
                      {
                        "learn": [
                          0.1012085346
                        ],
                        "iteration": 487,
                        "passed_time": 461.7812796,
                        "remaining_time": 484.4918343,
                        "test": [
                          0.1192719084
                        ]
                      },
                      {
                        "learn": [
                          0.1011711584
                        ],
                        "iteration": 488,
                        "passed_time": 462.5789235,
                        "remaining_time": 483.3902452,
                        "test": [
                          0.1192546438
                        ]
                      },
                      {
                        "learn": [
                          0.1011239396
                        ],
                        "iteration": 489,
                        "passed_time": 463.3929004,
                        "remaining_time": 482.3068964,
                        "test": [
                          0.1192410397
                        ]
                      },
                      {
                        "learn": [
                          0.1010840721
                        ],
                        "iteration": 490,
                        "passed_time": 464.2045157,
                        "remaining_time": 481.2221966,
                        "test": [
                          0.1192380897
                        ]
                      },
                      {
                        "learn": [
                          0.1009879805
                        ],
                        "iteration": 491,
                        "passed_time": 465.3971767,
                        "remaining_time": 480.5320443,
                        "test": [
                          0.1191920242
                        ]
                      },
                      {
                        "learn": [
                          0.1009502095
                        ],
                        "iteration": 492,
                        "passed_time": 466.7072786,
                        "remaining_time": 479.9606293,
                        "test": [
                          0.119180859
                        ]
                      },
                      {
                        "learn": [
                          0.1008187918
                        ],
                        "iteration": 493,
                        "passed_time": 468.2144239,
                        "remaining_time": 479.5880536,
                        "test": [
                          0.1190933409
                        ]
                      },
                      {
                        "learn": [
                          0.1007105071
                        ],
                        "iteration": 494,
                        "passed_time": 469.4883093,
                        "remaining_time": 478.9729216,
                        "test": [
                          0.1190189626
                        ]
                      },
                      {
                        "learn": [
                          0.1006742565
                        ],
                        "iteration": 495,
                        "passed_time": 470.26811,
                        "remaining_time": 477.8530795,
                        "test": [
                          0.1190124816
                        ]
                      },
                      {
                        "learn": [
                          0.1006179388
                        ],
                        "iteration": 496,
                        "passed_time": 471.0866495,
                        "remaining_time": 476.7738123,
                        "test": [
                          0.1190108424
                        ]
                      },
                      {
                        "learn": [
                          0.1005040945
                        ],
                        "iteration": 497,
                        "passed_time": 471.8933443,
                        "remaining_time": 475.6836523,
                        "test": [
                          0.1189160206
                        ]
                      },
                      {
                        "learn": [
                          0.1004473965
                        ],
                        "iteration": 498,
                        "passed_time": 472.7111175,
                        "remaining_time": 474.6057512,
                        "test": [
                          0.1189009921
                        ]
                      },
                      {
                        "learn": [
                          0.1004021079
                        ],
                        "iteration": 499,
                        "passed_time": 473.5226936,
                        "remaining_time": 473.5226936,
                        "test": [
                          0.1188849615
                        ]
                      },
                      {
                        "learn": [
                          0.1003246056
                        ],
                        "iteration": 500,
                        "passed_time": 474.3067825,
                        "remaining_time": 472.4133423,
                        "test": [
                          0.1188238049
                        ]
                      },
                      {
                        "learn": [
                          0.1002794548
                        ],
                        "iteration": 501,
                        "passed_time": 475.1033489,
                        "remaining_time": 471.3176648,
                        "test": [
                          0.1187488323
                        ]
                      },
                      {
                        "learn": [
                          0.1002444768
                        ],
                        "iteration": 502,
                        "passed_time": 475.9162107,
                        "remaining_time": 470.2392778,
                        "test": [
                          0.1186967459
                        ]
                      },
                      {
                        "learn": [
                          0.1002100408
                        ],
                        "iteration": 503,
                        "passed_time": 476.7187237,
                        "remaining_time": 469.1517598,
                        "test": [
                          0.1186866372
                        ]
                      },
                      {
                        "learn": [
                          0.1001687081
                        ],
                        "iteration": 504,
                        "passed_time": 477.5000953,
                        "remaining_time": 468.0446479,
                        "test": [
                          0.1186675346
                        ]
                      },
                      {
                        "learn": [
                          0.1001289199
                        ],
                        "iteration": 505,
                        "passed_time": 478.3376966,
                        "remaining_time": 466.9937196,
                        "test": [
                          0.1186245472
                        ]
                      },
                      {
                        "learn": [
                          0.1001046959
                        ],
                        "iteration": 506,
                        "passed_time": 479.1418976,
                        "remaining_time": 465.9111549,
                        "test": [
                          0.1186194532
                        ]
                      },
                      {
                        "learn": [
                          0.1000506777
                        ],
                        "iteration": 507,
                        "passed_time": 480.3019137,
                        "remaining_time": 465.1742944,
                        "test": [
                          0.1186072956
                        ]
                      },
                      {
                        "learn": [
                          0.09994798024
                        ],
                        "iteration": 508,
                        "passed_time": 481.63823,
                        "remaining_time": 464.6058368,
                        "test": [
                          0.1185737167
                        ]
                      },
                      {
                        "learn": [
                          0.09980782099
                        ],
                        "iteration": 509,
                        "passed_time": 483.1370395,
                        "remaining_time": 464.190489,
                        "test": [
                          0.1184607943
                        ]
                      },
                      {
                        "learn": [
                          0.09971690638
                        ],
                        "iteration": 510,
                        "passed_time": 484.4196418,
                        "remaining_time": 463.5640016,
                        "test": [
                          0.1184116704
                        ]
                      },
                      {
                        "learn": [
                          0.09968363106
                        ],
                        "iteration": 511,
                        "passed_time": 485.2425204,
                        "remaining_time": 462.4967773,
                        "test": [
                          0.1183989965
                        ]
                      },
                      {
                        "learn": [
                          0.09953380645
                        ],
                        "iteration": 512,
                        "passed_time": 486.0320614,
                        "remaining_time": 461.3988575,
                        "test": [
                          0.1182585885
                        ]
                      },
                      {
                        "learn": [
                          0.09949451869
                        ],
                        "iteration": 513,
                        "passed_time": 486.836061,
                        "remaining_time": 460.3158087,
                        "test": [
                          0.1182449038
                        ]
                      },
                      {
                        "learn": [
                          0.09946190597
                        ],
                        "iteration": 514,
                        "passed_time": 487.6540294,
                        "remaining_time": 459.2469985,
                        "test": [
                          0.1182468527
                        ]
                      },
                      {
                        "learn": [
                          0.0993765336
                        ],
                        "iteration": 515,
                        "passed_time": 488.4919779,
                        "remaining_time": 458.1979017,
                        "test": [
                          0.1182106344
                        ]
                      },
                      {
                        "learn": [
                          0.09929716268
                        ],
                        "iteration": 516,
                        "passed_time": 489.2545172,
                        "remaining_time": 457.0791718,
                        "test": [
                          0.1181694634
                        ]
                      },
                      {
                        "learn": [
                          0.09925974174
                        ],
                        "iteration": 517,
                        "passed_time": 490.0503176,
                        "remaining_time": 455.9927666,
                        "test": [
                          0.1181553533
                        ]
                      },
                      {
                        "learn": [
                          0.09917666944
                        ],
                        "iteration": 518,
                        "passed_time": 490.8719203,
                        "remaining_time": 454.9313944,
                        "test": [
                          0.1180941391
                        ]
                      },
                      {
                        "learn": [
                          0.09915415007
                        ],
                        "iteration": 519,
                        "passed_time": 491.6732646,
                        "remaining_time": 453.8522442,
                        "test": [
                          0.1180901505
                        ]
                      },
                      {
                        "learn": [
                          0.0991101856
                        ],
                        "iteration": 520,
                        "passed_time": 492.4676549,
                        "remaining_time": 452.7677672,
                        "test": [
                          0.1180752004
                        ]
                      },
                      {
                        "learn": [
                          0.09901234065
                        ],
                        "iteration": 521,
                        "passed_time": 493.2737097,
                        "remaining_time": 451.6950829,
                        "test": [
                          0.1180007123
                        ]
                      },
                      {
                        "learn": [
                          0.09889521613
                        ],
                        "iteration": 522,
                        "passed_time": 494.0894653,
                        "remaining_time": 450.6322657,
                        "test": [
                          0.1179234655
                        ]
                      },
                      {
                        "learn": [
                          0.09885879405
                        ],
                        "iteration": 523,
                        "passed_time": 495.1489601,
                        "remaining_time": 449.7918034,
                        "test": [
                          0.1178811421
                        ]
                      },
                      {
                        "learn": [
                          0.09883719767
                        ],
                        "iteration": 524,
                        "passed_time": 496.6178241,
                        "remaining_time": 449.3208885,
                        "test": [
                          0.1178820998
                        ]
                      },
                      {
                        "learn": [
                          0.09880435309
                        ],
                        "iteration": 525,
                        "passed_time": 498.1315243,
                        "remaining_time": 448.8865827,
                        "test": [
                          0.1178626328
                        ]
                      },
                      {
                        "learn": [
                          0.09875407874
                        ],
                        "iteration": 526,
                        "passed_time": 499.3575577,
                        "remaining_time": 448.1899901,
                        "test": [
                          0.1178216193
                        ]
                      },
                      {
                        "learn": [
                          0.09862431626
                        ],
                        "iteration": 527,
                        "passed_time": 500.1886351,
                        "remaining_time": 447.1383254,
                        "test": [
                          0.1177266729
                        ]
                      },
                      {
                        "learn": [
                          0.09858896733
                        ],
                        "iteration": 528,
                        "passed_time": 501.0081952,
                        "remaining_time": 446.07724,
                        "test": [
                          0.1177203945
                        ]
                      },
                      {
                        "learn": [
                          0.09853605135
                        ],
                        "iteration": 529,
                        "passed_time": 501.7762449,
                        "remaining_time": 444.971387,
                        "test": [
                          0.1177002206
                        ]
                      },
                      {
                        "learn": [
                          0.09851570953
                        ],
                        "iteration": 530,
                        "passed_time": 502.6028042,
                        "remaining_time": 443.9184843,
                        "test": [
                          0.1176970952
                        ]
                      },
                      {
                        "learn": [
                          0.09842486403
                        ],
                        "iteration": 531,
                        "passed_time": 503.4110201,
                        "remaining_time": 442.8502959,
                        "test": [
                          0.1176499832
                        ]
                      },
                      {
                        "learn": [
                          0.09839032945
                        ],
                        "iteration": 532,
                        "passed_time": 504.226447,
                        "remaining_time": 441.789401,
                        "test": [
                          0.1176320557
                        ]
                      },
                      {
                        "learn": [
                          0.09835170058
                        ],
                        "iteration": 533,
                        "passed_time": 505.0176867,
                        "remaining_time": 440.7083184,
                        "test": [
                          0.1176243249
                        ]
                      },
                      {
                        "learn": [
                          0.09831311044
                        ],
                        "iteration": 534,
                        "passed_time": 505.8234155,
                        "remaining_time": 439.6409126,
                        "test": [
                          0.1176254982
                        ]
                      },
                      {
                        "learn": [
                          0.09821407504
                        ],
                        "iteration": 535,
                        "passed_time": 506.6348759,
                        "remaining_time": 438.5794448,
                        "test": [
                          0.1175296222
                        ]
                      },
                      {
                        "learn": [
                          0.09814742024
                        ],
                        "iteration": 536,
                        "passed_time": 507.4685326,
                        "remaining_time": 437.5380458,
                        "test": [
                          0.117483568
                        ]
                      },
                      {
                        "learn": [
                          0.09803000604
                        ],
                        "iteration": 537,
                        "passed_time": 508.2570049,
                        "remaining_time": 436.4586176,
                        "test": [
                          0.1174146449
                        ]
                      },
                      {
                        "learn": [
                          0.0979859003
                        ],
                        "iteration": 538,
                        "passed_time": 509.0766834,
                        "remaining_time": 435.4069593,
                        "test": [
                          0.1174134654
                        ]
                      },
                      {
                        "learn": [
                          0.09796034325
                        ],
                        "iteration": 539,
                        "passed_time": 510.4217746,
                        "remaining_time": 434.8037339,
                        "test": [
                          0.1174130341
                        ]
                      },
                      {
                        "learn": [
                          0.09784907458
                        ],
                        "iteration": 540,
                        "passed_time": 511.8697944,
                        "remaining_time": 434.2850936,
                        "test": [
                          0.1173652424
                        ]
                      },
                      {
                        "learn": [
                          0.0977957527
                        ],
                        "iteration": 541,
                        "passed_time": 513.3522276,
                        "remaining_time": 433.7921038,
                        "test": [
                          0.1173258576
                        ]
                      },
                      {
                        "learn": [
                          0.0977363139
                        ],
                        "iteration": 542,
                        "passed_time": 514.3130561,
                        "remaining_time": 432.8564763,
                        "test": [
                          0.1172975288
                        ]
                      },
                      {
                        "learn": [
                          0.09763761331
                        ],
                        "iteration": 543,
                        "passed_time": 515.1325214,
                        "remaining_time": 431.8022606,
                        "test": [
                          0.1172383867
                        ]
                      },
                      {
                        "learn": [
                          0.09760923449
                        ],
                        "iteration": 544,
                        "passed_time": 515.9476862,
                        "remaining_time": 430.745316,
                        "test": [
                          0.117212072
                        ]
                      },
                      {
                        "learn": [
                          0.09753374959
                        ],
                        "iteration": 545,
                        "passed_time": 516.73159,
                        "remaining_time": 429.6632635,
                        "test": [
                          0.117145311
                        ]
                      },
                      {
                        "learn": [
                          0.09745454908
                        ],
                        "iteration": 546,
                        "passed_time": 517.5581382,
                        "remaining_time": 428.6176172,
                        "test": [
                          0.1171077744
                        ]
                      },
                      {
                        "learn": [
                          0.09734857975
                        ],
                        "iteration": 547,
                        "passed_time": 518.3698195,
                        "remaining_time": 427.5605081,
                        "test": [
                          0.1170345429
                        ]
                      },
                      {
                        "learn": [
                          0.09732859883
                        ],
                        "iteration": 548,
                        "passed_time": 519.1846135,
                        "remaining_time": 426.5068501,
                        "test": [
                          0.1170312837
                        ]
                      },
                      {
                        "learn": [
                          0.09726708638
                        ],
                        "iteration": 549,
                        "passed_time": 520.010391,
                        "remaining_time": 425.4630472,
                        "test": [
                          0.1170062752
                        ]
                      },
                      {
                        "learn": [
                          0.09722135749
                        ],
                        "iteration": 550,
                        "passed_time": 521.1992719,
                        "remaining_time": 424.7159221,
                        "test": [
                          0.1169861829
                        ]
                      },
                      {
                        "learn": [
                          0.09715237001
                        ],
                        "iteration": 551,
                        "passed_time": 522.2767936,
                        "remaining_time": 423.876818,
                        "test": [
                          0.1169551008
                        ]
                      },
                      {
                        "learn": [
                          0.09707285536
                        ],
                        "iteration": 552,
                        "passed_time": 523.3133348,
                        "remaining_time": 423.0037263,
                        "test": [
                          0.1169093174
                        ]
                      },
                      {
                        "learn": [
                          0.09702872733
                        ],
                        "iteration": 553,
                        "passed_time": 525.2152422,
                        "remaining_time": 422.8267112,
                        "test": [
                          0.116899908
                        ]
                      },
                      {
                        "learn": [
                          0.0969590197
                        ],
                        "iteration": 554,
                        "passed_time": 526.6795631,
                        "remaining_time": 422.2926226,
                        "test": [
                          0.1168653827
                        ]
                      },
                      {
                        "learn": [
                          0.09687745161
                        ],
                        "iteration": 555,
                        "passed_time": 528.1920162,
                        "remaining_time": 421.7936245,
                        "test": [
                          0.1168322848
                        ]
                      },
                      {
                        "learn": [
                          0.09684802165
                        ],
                        "iteration": 556,
                        "passed_time": 529.3647051,
                        "remaining_time": 421.0207618,
                        "test": [
                          0.1168209177
                        ]
                      },
                      {
                        "learn": [
                          0.0967166124
                        ],
                        "iteration": 557,
                        "passed_time": 530.5300213,
                        "remaining_time": 420.2406262,
                        "test": [
                          0.1167638819
                        ]
                      },
                      {
                        "learn": [
                          0.09668563138
                        ],
                        "iteration": 558,
                        "passed_time": 531.3114526,
                        "remaining_time": 419.1562623,
                        "test": [
                          0.1167375759
                        ]
                      },
                      {
                        "learn": [
                          0.0966274751
                        ],
                        "iteration": 559,
                        "passed_time": 532.1135215,
                        "remaining_time": 418.0891955,
                        "test": [
                          0.1167238692
                        ]
                      },
                      {
                        "learn": [
                          0.09655167565
                        ],
                        "iteration": 560,
                        "passed_time": 532.9159077,
                        "remaining_time": 417.0233217,
                        "test": [
                          0.1166602745
                        ]
                      },
                      {
                        "learn": [
                          0.09643069257
                        ],
                        "iteration": 561,
                        "passed_time": 533.7485308,
                        "remaining_time": 415.981951,
                        "test": [
                          0.1165762965
                        ]
                      },
                      {
                        "learn": [
                          0.09634367083
                        ],
                        "iteration": 562,
                        "passed_time": 534.5555681,
                        "remaining_time": 414.9214622,
                        "test": [
                          0.1165296933
                        ]
                      },
                      {
                        "learn": [
                          0.09630477189
                        ],
                        "iteration": 563,
                        "passed_time": 535.364649,
                        "remaining_time": 413.8634521,
                        "test": [
                          0.1164975123
                        ]
                      },
                      {
                        "learn": [
                          0.09628522141
                        ],
                        "iteration": 564,
                        "passed_time": 536.1750087,
                        "remaining_time": 412.8073076,
                        "test": [
                          0.1164989742
                        ]
                      },
                      {
                        "learn": [
                          0.09620758229
                        ],
                        "iteration": 565,
                        "passed_time": 537.0178024,
                        "remaining_time": 411.7769015,
                        "test": [
                          0.116443238
                        ]
                      },
                      {
                        "learn": [
                          0.09611519621
                        ],
                        "iteration": 566,
                        "passed_time": 537.7945953,
                        "remaining_time": 410.6967544,
                        "test": [
                          0.1163583435
                        ]
                      },
                      {
                        "learn": [
                          0.09608486192
                        ],
                        "iteration": 567,
                        "passed_time": 538.6130169,
                        "remaining_time": 409.6493368,
                        "test": [
                          0.1163624166
                        ]
                      },
                      {
                        "learn": [
                          0.09598638082
                        ],
                        "iteration": 568,
                        "passed_time": 539.6525174,
                        "remaining_time": 408.7701846,
                        "test": [
                          0.1163094026
                        ]
                      },
                      {
                        "learn": [
                          0.09596790968
                        ],
                        "iteration": 569,
                        "passed_time": 541.0775348,
                        "remaining_time": 408.1812982,
                        "test": [
                          0.1163111656
                        ]
                      },
                      {
                        "learn": [
                          0.09591439521
                        ],
                        "iteration": 570,
                        "passed_time": 542.4893365,
                        "remaining_time": 407.579554,
                        "test": [
                          0.116282647
                        ]
                      },
                      {
                        "learn": [
                          0.09587965254
                        ],
                        "iteration": 571,
                        "passed_time": 543.9105613,
                        "remaining_time": 406.9820284,
                        "test": [
                          0.116251677
                        ]
                      },
                      {
                        "learn": [
                          0.0957913926
                        ],
                        "iteration": 572,
                        "passed_time": 544.7365498,
                        "remaining_time": 405.9380572,
                        "test": [
                          0.1162234089
                        ]
                      },
                      {
                        "learn": [
                          0.09576252194
                        ],
                        "iteration": 573,
                        "passed_time": 545.534915,
                        "remaining_time": 404.8743446,
                        "test": [
                          0.1162044056
                        ]
                      },
                      {
                        "learn": [
                          0.09570026587
                        ],
                        "iteration": 574,
                        "passed_time": 546.3245124,
                        "remaining_time": 403.8050744,
                        "test": [
                          0.1161305574
                        ]
                      },
                      {
                        "learn": [
                          0.09566390689
                        ],
                        "iteration": 575,
                        "passed_time": 547.1465658,
                        "remaining_time": 402.7606665,
                        "test": [
                          0.116119446
                        ]
                      },
                      {
                        "learn": [
                          0.09557331447
                        ],
                        "iteration": 576,
                        "passed_time": 547.9574444,
                        "remaining_time": 401.708837,
                        "test": [
                          0.116079452
                        ]
                      },
                      {
                        "learn": [
                          0.09553624637
                        ],
                        "iteration": 577,
                        "passed_time": 548.790961,
                        "remaining_time": 400.6743695,
                        "test": [
                          0.1160572519
                        ]
                      },
                      {
                        "learn": [
                          0.0954796245
                        ],
                        "iteration": 578,
                        "passed_time": 549.5553059,
                        "remaining_time": 399.5903001,
                        "test": [
                          0.1159918479
                        ]
                      },
                      {
                        "learn": [
                          0.09535831086
                        ],
                        "iteration": 579,
                        "passed_time": 550.3670359,
                        "remaining_time": 398.5416467,
                        "test": [
                          0.1158730395
                        ]
                      },
                      {
                        "learn": [
                          0.09530956337
                        ],
                        "iteration": 580,
                        "passed_time": 551.1949191,
                        "remaining_time": 397.505458,
                        "test": [
                          0.1158292265
                        ]
                      },
                      {
                        "learn": [
                          0.09524066811
                        ],
                        "iteration": 581,
                        "passed_time": 552.0182767,
                        "remaining_time": 396.4667348,
                        "test": [
                          0.115791392
                        ]
                      },
                      {
                        "learn": [
                          0.09515033252
                        ],
                        "iteration": 582,
                        "passed_time": 552.8412356,
                        "remaining_time": 395.4284653,
                        "test": [
                          0.1157054676
                        ]
                      },
                      {
                        "learn": [
                          0.09512118852
                        ],
                        "iteration": 583,
                        "passed_time": 553.6314475,
                        "remaining_time": 394.3676065,
                        "test": [
                          0.1156996013
                        ]
                      },
                      {
                        "learn": [
                          0.09507470609
                        ],
                        "iteration": 584,
                        "passed_time": 554.7276691,
                        "remaining_time": 393.5247567,
                        "test": [
                          0.1156711767
                        ]
                      },
                      {
                        "learn": [
                          0.0950394123
                        ],
                        "iteration": 585,
                        "passed_time": 556.1128568,
                        "remaining_time": 392.8851923,
                        "test": [
                          0.1156439286
                        ]
                      },
                      {
                        "learn": [
                          0.09496554299
                        ],
                        "iteration": 586,
                        "passed_time": 557.5177794,
                        "remaining_time": 392.2569725,
                        "test": [
                          0.1155877811
                        ]
                      },
                      {
                        "learn": [
                          0.09487382256
                        ],
                        "iteration": 587,
                        "passed_time": 558.899211,
                        "remaining_time": 391.6096512,
                        "test": [
                          0.1155488003
                        ]
                      },
                      {
                        "learn": [
                          0.09483687838
                        ],
                        "iteration": 588,
                        "passed_time": 559.7056219,
                        "remaining_time": 390.5585918,
                        "test": [
                          0.115546795
                        ]
                      },
                      {
                        "learn": [
                          0.09475525437
                        ],
                        "iteration": 589,
                        "passed_time": 560.5684595,
                        "remaining_time": 389.5475735,
                        "test": [
                          0.1155126704
                        ]
                      },
                      {
                        "learn": [
                          0.09467891286
                        ],
                        "iteration": 590,
                        "passed_time": 561.3973005,
                        "remaining_time": 388.5135295,
                        "test": [
                          0.1154700693
                        ]
                      },
                      {
                        "learn": [
                          0.09463012005
                        ],
                        "iteration": 591,
                        "passed_time": 562.160489,
                        "remaining_time": 387.4349316,
                        "test": [
                          0.1154579381
                        ]
                      },
                      {
                        "learn": [
                          0.09460661127
                        ],
                        "iteration": 592,
                        "passed_time": 562.9951714,
                        "remaining_time": 386.4064667,
                        "test": [
                          0.11545554
                        ]
                      },
                      {
                        "learn": [
                          0.09454463933
                        ],
                        "iteration": 593,
                        "passed_time": 563.8235154,
                        "remaining_time": 385.374322,
                        "test": [
                          0.1153947239
                        ]
                      },
                      {
                        "learn": [
                          0.09449014002
                        ],
                        "iteration": 594,
                        "passed_time": 564.6494899,
                        "remaining_time": 384.3412494,
                        "test": [
                          0.1153584021
                        ]
                      },
                      {
                        "learn": [
                          0.09446240536
                        ],
                        "iteration": 595,
                        "passed_time": 565.4339303,
                        "remaining_time": 383.2807178,
                        "test": [
                          0.1153317195
                        ]
                      },
                      {
                        "learn": [
                          0.09437665452
                        ],
                        "iteration": 596,
                        "passed_time": 566.2402474,
                        "remaining_time": 382.2358789,
                        "test": [
                          0.1152526702
                        ]
                      },
                      {
                        "learn": [
                          0.09433743198
                        ],
                        "iteration": 597,
                        "passed_time": 567.0467398,
                        "remaining_time": 381.1919555,
                        "test": [
                          0.1152435426
                        ]
                      },
                      {
                        "learn": [
                          0.09428903994
                        ],
                        "iteration": 598,
                        "passed_time": 567.8792153,
                        "remaining_time": 380.1662193,
                        "test": [
                          0.1152259842
                        ]
                      },
                      {
                        "learn": [
                          0.09422640374
                        ],
                        "iteration": 599,
                        "passed_time": 568.6638906,
                        "remaining_time": 379.1092604,
                        "test": [
                          0.1152019014
                        ]
                      },
                      {
                        "learn": [
                          0.09418179516
                        ],
                        "iteration": 600,
                        "passed_time": 569.9052493,
                        "remaining_time": 378.3563968,
                        "test": [
                          0.1151840725
                        ]
                      },
                      {
                        "learn": [
                          0.09413597376
                        ],
                        "iteration": 601,
                        "passed_time": 571.2613904,
                        "remaining_time": 377.6777963,
                        "test": [
                          0.115171434
                        ]
                      },
                      {
                        "learn": [
                          0.09410705531
                        ],
                        "iteration": 602,
                        "passed_time": 572.6813001,
                        "remaining_time": 377.0389322,
                        "test": [
                          0.1151584361
                        ]
                      },
                      {
                        "learn": [
                          0.09402507975
                        ],
                        "iteration": 603,
                        "passed_time": 573.9197564,
                        "remaining_time": 376.2785158,
                        "test": [
                          0.1151194616
                        ]
                      },
                      {
                        "learn": [
                          0.09395254147
                        ],
                        "iteration": 604,
                        "passed_time": 574.7224172,
                        "remaining_time": 375.2319914,
                        "test": [
                          0.115046195
                        ]
                      },
                      {
                        "learn": [
                          0.09388345243
                        ],
                        "iteration": 605,
                        "passed_time": 575.5420944,
                        "remaining_time": 374.1973353,
                        "test": [
                          0.1150194973
                        ]
                      },
                      {
                        "learn": [
                          0.0938662893
                        ],
                        "iteration": 606,
                        "passed_time": 576.3509789,
                        "remaining_time": 373.1563998,
                        "test": [
                          0.1150173729
                        ]
                      },
                      {
                        "learn": [
                          0.09377862592
                        ],
                        "iteration": 607,
                        "passed_time": 577.1371546,
                        "remaining_time": 372.1015865,
                        "test": [
                          0.1149171496
                        ]
                      },
                      {
                        "learn": [
                          0.09374976996
                        ],
                        "iteration": 608,
                        "passed_time": 577.9602945,
                        "remaining_time": 371.0713878,
                        "test": [
                          0.1149141712
                        ]
                      },
                      {
                        "learn": [
                          0.09368244789
                        ],
                        "iteration": 609,
                        "passed_time": 578.7610388,
                        "remaining_time": 370.0275494,
                        "test": [
                          0.1148596578
                        ]
                      },
                      {
                        "learn": [
                          0.09365137879
                        ],
                        "iteration": 610,
                        "passed_time": 579.5773912,
                        "remaining_time": 368.9944438,
                        "test": [
                          0.1148614927
                        ]
                      },
                      {
                        "learn": [
                          0.09355404753
                        ],
                        "iteration": 611,
                        "passed_time": 580.3707335,
                        "remaining_time": 367.9474585,
                        "test": [
                          0.1147819963
                        ]
                      },
                      {
                        "learn": [
                          0.0935265682
                        ],
                        "iteration": 612,
                        "passed_time": 581.1799111,
                        "remaining_time": 366.9112979,
                        "test": [
                          0.1147413882
                        ]
                      },
                      {
                        "learn": [
                          0.09350094168
                        ],
                        "iteration": 613,
                        "passed_time": 581.9803994,
                        "remaining_time": 365.8704139,
                        "test": [
                          0.1147320751
                        ]
                      },
                      {
                        "learn": [
                          0.09340515525
                        ],
                        "iteration": 614,
                        "passed_time": 582.8135559,
                        "remaining_time": 364.8507626,
                        "test": [
                          0.1146478021
                        ]
                      },
                      {
                        "learn": [
                          0.0933753635
                        ],
                        "iteration": 615,
                        "passed_time": 583.588025,
                        "remaining_time": 363.7951325,
                        "test": [
                          0.1146402441
                        ]
                      },
                      {
                        "learn": [
                          0.09325975725
                        ],
                        "iteration": 616,
                        "passed_time": 584.8747422,
                        "remaining_time": 363.0583894,
                        "test": [
                          0.1145231348
                        ]
                      },
                      {
                        "learn": [
                          0.09320519517
                        ],
                        "iteration": 617,
                        "passed_time": 586.2219784,
                        "remaining_time": 362.3572746,
                        "test": [
                          0.1144958507
                        ]
                      },
                      {
                        "learn": [
                          0.09312671666
                        ],
                        "iteration": 618,
                        "passed_time": 587.7656992,
                        "remaining_time": 361.7750104,
                        "test": [
                          0.1144328222
                        ]
                      },
                      {
                        "learn": [
                          0.09310033503
                        ],
                        "iteration": 619,
                        "passed_time": 588.9067167,
                        "remaining_time": 360.9428263,
                        "test": [
                          0.1144383075
                        ]
                      },
                      {
                        "learn": [
                          0.09302449683
                        ],
                        "iteration": 620,
                        "passed_time": 589.7445281,
                        "remaining_time": 359.9245993,
                        "test": [
                          0.114396211
                        ]
                      },
                      {
                        "learn": [
                          0.09295446092
                        ],
                        "iteration": 621,
                        "passed_time": 590.5604112,
                        "remaining_time": 358.8936261,
                        "test": [
                          0.1143386032
                        ]
                      },
                      {
                        "learn": [
                          0.09290180335
                        ],
                        "iteration": 622,
                        "passed_time": 591.4016539,
                        "remaining_time": 357.8786895,
                        "test": [
                          0.1142981825
                        ]
                      },
                      {
                        "learn": [
                          0.09287266932
                        ],
                        "iteration": 623,
                        "passed_time": 592.1823493,
                        "remaining_time": 356.8278259,
                        "test": [
                          0.114260961
                        ]
                      },
                      {
                        "learn": [
                          0.09277320841
                        ],
                        "iteration": 624,
                        "passed_time": 593.0163567,
                        "remaining_time": 355.809814,
                        "test": [
                          0.1141894996
                        ]
                      },
                      {
                        "learn": [
                          0.09270527247
                        ],
                        "iteration": 625,
                        "passed_time": 593.8413554,
                        "remaining_time": 354.7870079,
                        "test": [
                          0.1141265524
                        ]
                      },
                      {
                        "learn": [
                          0.09265801662
                        ],
                        "iteration": 626,
                        "passed_time": 594.6849356,
                        "remaining_time": 353.7758867,
                        "test": [
                          0.1140929404
                        ]
                      },
                      {
                        "learn": [
                          0.092586047
                        ],
                        "iteration": 627,
                        "passed_time": 595.4542073,
                        "remaining_time": 352.721282,
                        "test": [
                          0.1140554057
                        ]
                      },
                      {
                        "learn": [
                          0.09255910128
                        ],
                        "iteration": 628,
                        "passed_time": 596.2776279,
                        "remaining_time": 351.699523,
                        "test": [
                          0.1140273402
                        ]
                      },
                      {
                        "learn": [
                          0.09247800164
                        ],
                        "iteration": 629,
                        "passed_time": 597.1178659,
                        "remaining_time": 350.6882704,
                        "test": [
                          0.1139802825
                        ]
                      },
                      {
                        "learn": [
                          0.09245202345
                        ],
                        "iteration": 630,
                        "passed_time": 597.9317422,
                        "remaining_time": 349.662144,
                        "test": [
                          0.1139827976
                        ]
                      },
                      {
                        "learn": [
                          0.09242550454
                        ],
                        "iteration": 631,
                        "passed_time": 598.7888015,
                        "remaining_time": 348.6618338,
                        "test": [
                          0.1139724063
                        ]
                      },
                      {
                        "learn": [
                          0.0923516242
                        ],
                        "iteration": 632,
                        "passed_time": 600.6390714,
                        "remaining_time": 348.2378187,
                        "test": [
                          0.1139371811
                        ]
                      },
                      {
                        "learn": [
                          0.09231172079
                        ],
                        "iteration": 633,
                        "passed_time": 602.0461021,
                        "remaining_time": 347.553428,
                        "test": [
                          0.1139149592
                        ]
                      },
                      {
                        "learn": [
                          0.09227972572
                        ],
                        "iteration": 634,
                        "passed_time": 603.4068289,
                        "remaining_time": 346.8401457,
                        "test": [
                          0.1139004859
                        ]
                      },
                      {
                        "learn": [
                          0.09219306614
                        ],
                        "iteration": 635,
                        "passed_time": 604.2508404,
                        "remaining_time": 345.8290973,
                        "test": [
                          0.1138437423
                        ]
                      },
                      {
                        "learn": [
                          0.09208049589
                        ],
                        "iteration": 636,
                        "passed_time": 605.0663835,
                        "remaining_time": 344.8023504,
                        "test": [
                          0.1137479243
                        ]
                      },
                      {
                        "learn": [
                          0.0920140527
                        ],
                        "iteration": 637,
                        "passed_time": 605.8391864,
                        "remaining_time": 343.7520149,
                        "test": [
                          0.1137168662
                        ]
                      },
                      {
                        "learn": [
                          0.09198867415
                        ],
                        "iteration": 638,
                        "passed_time": 606.6687283,
                        "remaining_time": 342.7346024,
                        "test": [
                          0.113698964
                        ]
                      },
                      {
                        "learn": [
                          0.09185897422
                        ],
                        "iteration": 639,
                        "passed_time": 607.4919032,
                        "remaining_time": 341.7141955,
                        "test": [
                          0.1136084079
                        ]
                      },
                      {
                        "learn": [
                          0.09178228338
                        ],
                        "iteration": 640,
                        "passed_time": 608.305903,
                        "remaining_time": 340.6892655,
                        "test": [
                          0.1135530322
                        ]
                      },
                      {
                        "learn": [
                          0.09173923461
                        ],
                        "iteration": 641,
                        "passed_time": 609.0812877,
                        "remaining_time": 339.6434595,
                        "test": [
                          0.1135369487
                        ]
                      },
                      {
                        "learn": [
                          0.09171209384
                        ],
                        "iteration": 642,
                        "passed_time": 609.8946763,
                        "remaining_time": 338.6195948,
                        "test": [
                          0.1135189224
                        ]
                      },
                      {
                        "learn": [
                          0.0916949038
                        ],
                        "iteration": 643,
                        "passed_time": 610.6972839,
                        "remaining_time": 337.590424,
                        "test": [
                          0.1135173383
                        ]
                      },
                      {
                        "learn": [
                          0.09166603684
                        ],
                        "iteration": 644,
                        "passed_time": 611.5349081,
                        "remaining_time": 336.5812285,
                        "test": [
                          0.1135085078
                        ]
                      },
                      {
                        "learn": [
                          0.09158198489
                        ],
                        "iteration": 645,
                        "passed_time": 612.3835817,
                        "remaining_time": 335.5786191,
                        "test": [
                          0.1134846367
                        ]
                      },
                      {
                        "learn": [
                          0.09155719394
                        ],
                        "iteration": 646,
                        "passed_time": 613.1428055,
                        "remaining_time": 334.5276821,
                        "test": [
                          0.1134796245
                        ]
                      },
                      {
                        "learn": [
                          0.09148422819
                        ],
                        "iteration": 647,
                        "passed_time": 614.3247328,
                        "remaining_time": 333.7072623,
                        "test": [
                          0.1134356597
                        ]
                      },
                      {
                        "learn": [
                          0.09136959459
                        ],
                        "iteration": 648,
                        "passed_time": 615.7893757,
                        "remaining_time": 333.03863,
                        "test": [
                          0.1133788789
                        ]
                      },
                      {
                        "learn": [
                          0.09125146211
                        ],
                        "iteration": 649,
                        "passed_time": 617.2781771,
                        "remaining_time": 332.3805569,
                        "test": [
                          0.1132699371
                        ]
                      },
                      {
                        "learn": [
                          0.09116818714
                        ],
                        "iteration": 650,
                        "passed_time": 618.4271122,
                        "remaining_time": 331.5377299,
                        "test": [
                          0.1132263923
                        ]
                      },
                      {
                        "learn": [
                          0.09110957424
                        ],
                        "iteration": 651,
                        "passed_time": 619.245173,
                        "remaining_time": 330.5173623,
                        "test": [
                          0.11321049
                        ]
                      },
                      {
                        "learn": [
                          0.0910848492
                        ],
                        "iteration": 652,
                        "passed_time": 620.0736028,
                        "remaining_time": 329.5031243,
                        "test": [
                          0.1131913145
                        ]
                      },
                      {
                        "learn": [
                          0.091042232
                        ],
                        "iteration": 653,
                        "passed_time": 620.8569711,
                        "remaining_time": 328.4656147,
                        "test": [
                          0.113131377
                        ]
                      },
                      {
                        "learn": [
                          0.09101425867
                        ],
                        "iteration": 654,
                        "passed_time": 621.6657386,
                        "remaining_time": 327.4422592,
                        "test": [
                          0.1131257213
                        ]
                      },
                      {
                        "learn": [
                          0.09099072621
                        ],
                        "iteration": 655,
                        "passed_time": 622.4603219,
                        "remaining_time": 326.41212,
                        "test": [
                          0.1131241709
                        ]
                      },
                      {
                        "learn": [
                          0.09093949636
                        ],
                        "iteration": 656,
                        "passed_time": 623.3105304,
                        "remaining_time": 325.4117381,
                        "test": [
                          0.113093978
                        ]
                      },
                      {
                        "learn": [
                          0.09087869662
                        ],
                        "iteration": 657,
                        "passed_time": 624.1253927,
                        "remaining_time": 324.3934412,
                        "test": [
                          0.1130511686
                        ]
                      },
                      {
                        "learn": [
                          0.09085865541
                        ],
                        "iteration": 658,
                        "passed_time": 624.9272338,
                        "remaining_time": 323.3690239,
                        "test": [
                          0.1130564505
                        ]
                      },
                      {
                        "learn": [
                          0.09077134152
                        ],
                        "iteration": 659,
                        "passed_time": 625.7660357,
                        "remaining_time": 322.3643214,
                        "test": [
                          0.1129956823
                        ]
                      },
                      {
                        "learn": [
                          0.09071444384
                        ],
                        "iteration": 660,
                        "passed_time": 626.6012517,
                        "remaining_time": 321.3582819,
                        "test": [
                          0.112970551
                        ]
                      },
                      {
                        "learn": [
                          0.0906821316
                        ],
                        "iteration": 661,
                        "passed_time": 627.4065252,
                        "remaining_time": 320.3374706,
                        "test": [
                          0.1129626696
                        ]
                      },
                      {
                        "learn": [
                          0.09059750632
                        ],
                        "iteration": 662,
                        "passed_time": 628.2721008,
                        "remaining_time": 319.3479608,
                        "test": [
                          0.1129292108
                        ]
                      },
                      {
                        "learn": [
                          0.09054050114
                        ],
                        "iteration": 663,
                        "passed_time": 629.7430846,
                        "remaining_time": 318.6651753,
                        "test": [
                          0.1128856878
                        ]
                      },
                      {
                        "learn": [
                          0.09049966465
                        ],
                        "iteration": 664,
                        "passed_time": 631.1395042,
                        "remaining_time": 317.942457,
                        "test": [
                          0.1128873666
                        ]
                      },
                      {
                        "learn": [
                          0.09036201613
                        ],
                        "iteration": 665,
                        "passed_time": 632.5331427,
                        "remaining_time": 317.2163208,
                        "test": [
                          0.1127622501
                        ]
                      },
                      {
                        "learn": [
                          0.09032936215
                        ],
                        "iteration": 666,
                        "passed_time": 633.4425289,
                        "remaining_time": 316.24642,
                        "test": [
                          0.1127443008
                        ]
                      },
                      {
                        "learn": [
                          0.09030539798
                        ],
                        "iteration": 667,
                        "passed_time": 634.2612158,
                        "remaining_time": 315.2316222,
                        "test": [
                          0.1127406877
                        ]
                      },
                      {
                        "learn": [
                          0.09021866332
                        ],
                        "iteration": 668,
                        "passed_time": 635.0792938,
                        "remaining_time": 314.2171095,
                        "test": [
                          0.11269353
                        ]
                      },
                      {
                        "learn": [
                          0.09015093858
                        ],
                        "iteration": 669,
                        "passed_time": 635.8647556,
                        "remaining_time": 313.1871184,
                        "test": [
                          0.1126556882
                        ]
                      },
                      {
                        "learn": [
                          0.09010560479
                        ],
                        "iteration": 670,
                        "passed_time": 636.6868154,
                        "remaining_time": 312.1758007,
                        "test": [
                          0.1126327253
                        ]
                      },
                      {
                        "learn": [
                          0.09004356045
                        ],
                        "iteration": 671,
                        "passed_time": 637.5077338,
                        "remaining_time": 311.1644891,
                        "test": [
                          0.1126043674
                        ]
                      },
                      {
                        "learn": [
                          0.09001334038
                        ],
                        "iteration": 672,
                        "passed_time": 638.3769311,
                        "remaining_time": 310.1772013,
                        "test": [
                          0.1125762837
                        ]
                      },
                      {
                        "learn": [
                          0.08998528603
                        ],
                        "iteration": 673,
                        "passed_time": 639.2063441,
                        "remaining_time": 309.1710211,
                        "test": [
                          0.1125704342
                        ]
                      },
                      {
                        "learn": [
                          0.08991407627
                        ],
                        "iteration": 674,
                        "passed_time": 639.9824973,
                        "remaining_time": 308.1397209,
                        "test": [
                          0.1125356104
                        ]
                      },
                      {
                        "learn": [
                          0.0898968055
                        ],
                        "iteration": 675,
                        "passed_time": 640.8091475,
                        "remaining_time": 307.1333784,
                        "test": [
                          0.1125350672
                        ]
                      },
                      {
                        "learn": [
                          0.08985149782
                        ],
                        "iteration": 676,
                        "passed_time": 641.6355219,
                        "remaining_time": 306.1274351,
                        "test": [
                          0.1125127315
                        ]
                      },
                      {
                        "learn": [
                          0.08977682014
                        ],
                        "iteration": 677,
                        "passed_time": 642.4501405,
                        "remaining_time": 305.1164384,
                        "test": [
                          0.1124770582
                        ]
                      },
                      {
                        "learn": [
                          0.08975234596
                        ],
                        "iteration": 678,
                        "passed_time": 643.5290355,
                        "remaining_time": 304.2309579,
                        "test": [
                          0.1124726873
                        ]
                      },
                      {
                        "learn": [
                          0.08970901374
                        ],
                        "iteration": 679,
                        "passed_time": 644.8976389,
                        "remaining_time": 303.4812418,
                        "test": [
                          0.1124695522
                        ]
                      },
                      {
                        "learn": [
                          0.08966391921
                        ],
                        "iteration": 680,
                        "passed_time": 646.2927067,
                        "remaining_time": 302.7421049,
                        "test": [
                          0.1124542523
                        ]
                      },
                      {
                        "learn": [
                          0.08962936607
                        ],
                        "iteration": 681,
                        "passed_time": 647.720542,
                        "remaining_time": 302.0163231,
                        "test": [
                          0.1124534334
                        ]
                      },
                      {
                        "learn": [
                          0.08960598592
                        ],
                        "iteration": 682,
                        "passed_time": 648.5463174,
                        "remaining_time": 301.0090522,
                        "test": [
                          0.1124326204
                        ]
                      },
                      {
                        "learn": [
                          0.08954428745
                        ],
                        "iteration": 683,
                        "passed_time": 649.3457945,
                        "remaining_time": 299.9901624,
                        "test": [
                          0.1123928267
                        ]
                      },
                      {
                        "learn": [
                          0.08951282076
                        ],
                        "iteration": 684,
                        "passed_time": 650.1868251,
                        "remaining_time": 298.9910218,
                        "test": [
                          0.1123761286
                        ]
                      },
                      {
                        "learn": [
                          0.08942793801
                        ],
                        "iteration": 685,
                        "passed_time": 650.9733783,
                        "remaining_time": 297.9674064,
                        "test": [
                          0.1123444772
                        ]
                      },
                      {
                        "learn": [
                          0.0893582563
                        ],
                        "iteration": 686,
                        "passed_time": 651.8068128,
                        "remaining_time": 296.9658405,
                        "test": [
                          0.1122911548
                        ]
                      },
                      {
                        "learn": [
                          0.08927883418
                        ],
                        "iteration": 687,
                        "passed_time": 652.6494602,
                        "remaining_time": 295.9689413,
                        "test": [
                          0.1122631779
                        ]
                      },
                      {
                        "learn": [
                          0.08921823421
                        ],
                        "iteration": 688,
                        "passed_time": 653.472724,
                        "remaining_time": 294.9637404,
                        "test": [
                          0.1122204421
                        ]
                      },
                      {
                        "learn": [
                          0.08911618972
                        ],
                        "iteration": 689,
                        "passed_time": 654.2629694,
                        "remaining_time": 293.9442326,
                        "test": [
                          0.1121341103
                        ]
                      },
                      {
                        "learn": [
                          0.08909035973
                        ],
                        "iteration": 690,
                        "passed_time": 655.0968502,
                        "remaining_time": 292.9449012,
                        "test": [
                          0.1121093972
                        ]
                      },
                      {
                        "learn": [
                          0.08906413277
                        ],
                        "iteration": 691,
                        "passed_time": 655.9071225,
                        "remaining_time": 291.9355401,
                        "test": [
                          0.1120981322
                        ]
                      },
                      {
                        "learn": [
                          0.089048928
                        ],
                        "iteration": 692,
                        "passed_time": 656.7086437,
                        "remaining_time": 290.9228768,
                        "test": [
                          0.1120994947
                        ]
                      },
                      {
                        "learn": [
                          0.08901903967
                        ],
                        "iteration": 693,
                        "passed_time": 657.496543,
                        "remaining_time": 289.9048158,
                        "test": [
                          0.1120970373
                        ]
                      },
                      {
                        "learn": [
                          0.0889844505
                        ],
                        "iteration": 694,
                        "passed_time": 658.7808357,
                        "remaining_time": 289.1052588,
                        "test": [
                          0.1120622755
                        ]
                      },
                      {
                        "learn": [
                          0.08893935956
                        ],
                        "iteration": 695,
                        "passed_time": 660.1058674,
                        "remaining_time": 288.322103,
                        "test": [
                          0.1120514097
                        ]
                      },
                      {
                        "learn": [
                          0.08885950532
                        ],
                        "iteration": 696,
                        "passed_time": 661.5608084,
                        "remaining_time": 287.5938665,
                        "test": [
                          0.1120001783
                        ]
                      },
                      {
                        "learn": [
                          0.0888236942
                        ],
                        "iteration": 697,
                        "passed_time": 662.817658,
                        "remaining_time": 286.7778406,
                        "test": [
                          0.1119805769
                        ]
                      },
                      {
                        "learn": [
                          0.08877135996
                        ],
                        "iteration": 698,
                        "passed_time": 663.6467894,
                        "remaining_time": 285.7763714,
                        "test": [
                          0.1119553699
                        ]
                      },
                      {
                        "learn": [
                          0.0887123036
                        ],
                        "iteration": 699,
                        "passed_time": 664.4751491,
                        "remaining_time": 284.7750639,
                        "test": [
                          0.1119362126
                        ]
                      },
                      {
                        "learn": [
                          0.08868826871
                        ],
                        "iteration": 700,
                        "passed_time": 665.610603,
                        "remaining_time": 283.9052358,
                        "test": [
                          0.1119269815
                        ]
                      },
                      {
                        "learn": [
                          0.08866499456
                        ],
                        "iteration": 701,
                        "passed_time": 666.3813542,
                        "remaining_time": 282.8798341,
                        "test": [
                          0.1119099123
                        ]
                      },
                      {
                        "learn": [
                          0.08863071786
                        ],
                        "iteration": 702,
                        "passed_time": 667.2086835,
                        "remaining_time": 281.8790597,
                        "test": [
                          0.1118944925
                        ]
                      },
                      {
                        "learn": [
                          0.08856788487
                        ],
                        "iteration": 703,
                        "passed_time": 668.0227839,
                        "remaining_time": 280.8732159,
                        "test": [
                          0.1118832516
                        ]
                      },
                      {
                        "learn": [
                          0.08849524993
                        ],
                        "iteration": 704,
                        "passed_time": 668.8399737,
                        "remaining_time": 279.8692088,
                        "test": [
                          0.1118601543
                        ]
                      },
                      {
                        "learn": [
                          0.0884732278
                        ],
                        "iteration": 705,
                        "passed_time": 669.6382363,
                        "remaining_time": 278.8578491,
                        "test": [
                          0.1118608746
                        ]
                      },
                      {
                        "learn": [
                          0.08843037567
                        ],
                        "iteration": 706,
                        "passed_time": 670.4620566,
                        "remaining_time": 277.857684,
                        "test": [
                          0.1118306594
                        ]
                      },
                      {
                        "learn": [
                          0.08834057895
                        ],
                        "iteration": 707,
                        "passed_time": 671.2751945,
                        "remaining_time": 276.8536113,
                        "test": [
                          0.1117927198
                        ]
                      },
                      {
                        "learn": [
                          0.08831101208
                        ],
                        "iteration": 708,
                        "passed_time": 672.1095869,
                        "remaining_time": 275.8588008,
                        "test": [
                          0.1117798359
                        ]
                      },
                      {
                        "learn": [
                          0.0882217115
                        ],
                        "iteration": 709,
                        "passed_time": 673.0029256,
                        "remaining_time": 274.8885189,
                        "test": [
                          0.1117145079
                        ]
                      },
                      {
                        "learn": [
                          0.08816546517
                        ],
                        "iteration": 710,
                        "passed_time": 674.5373211,
                        "remaining_time": 274.1790236,
                        "test": [
                          0.1117137403
                        ]
                      },
                      {
                        "learn": [
                          0.08814890234
                        ],
                        "iteration": 711,
                        "passed_time": 675.9779287,
                        "remaining_time": 273.4292745,
                        "test": [
                          0.1117137526
                        ]
                      },
                      {
                        "learn": [
                          0.08812555601
                        ],
                        "iteration": 712,
                        "passed_time": 677.376709,
                        "remaining_time": 272.660751,
                        "test": [
                          0.1117094704
                        ]
                      },
                      {
                        "learn": [
                          0.08810238452
                        ],
                        "iteration": 713,
                        "passed_time": 678.1966605,
                        "remaining_time": 271.6586063,
                        "test": [
                          0.1117033088
                        ]
                      },
                      {
                        "learn": [
                          0.08800602732
                        ],
                        "iteration": 714,
                        "passed_time": 679.0329767,
                        "remaining_time": 270.6634942,
                        "test": [
                          0.1116619513
                        ]
                      },
                      {
                        "learn": [
                          0.08797345283
                        ],
                        "iteration": 715,
                        "passed_time": 679.8464982,
                        "remaining_time": 269.6597842,
                        "test": [
                          0.1116644982
                        ]
                      },
                      {
                        "learn": [
                          0.0878923609
                        ],
                        "iteration": 716,
                        "passed_time": 680.6138855,
                        "remaining_time": 268.6383955,
                        "test": [
                          0.1115931974
                        ]
                      },
                      {
                        "learn": [
                          0.08786801463
                        ],
                        "iteration": 717,
                        "passed_time": 681.4574936,
                        "remaining_time": 267.6476507,
                        "test": [
                          0.1115931128
                        ]
                      },
                      {
                        "learn": [
                          0.08782142515
                        ],
                        "iteration": 718,
                        "passed_time": 682.2716473,
                        "remaining_time": 266.6458037,
                        "test": [
                          0.1115895272
                        ]
                      },
                      {
                        "learn": [
                          0.08777733961
                        ],
                        "iteration": 719,
                        "passed_time": 683.0985202,
                        "remaining_time": 265.6494245,
                        "test": [
                          0.1115723431
                        ]
                      },
                      {
                        "learn": [
                          0.08771188652
                        ],
                        "iteration": 720,
                        "passed_time": 683.897799,
                        "remaining_time": 264.6428376,
                        "test": [
                          0.1115350693
                        ]
                      },
                      {
                        "learn": [
                          0.08768938219
                        ],
                        "iteration": 721,
                        "passed_time": 684.7323982,
                        "remaining_time": 263.6504248,
                        "test": [
                          0.111519399
                        ]
                      },
                      {
                        "learn": [
                          0.08764177333
                        ],
                        "iteration": 722,
                        "passed_time": 685.5499493,
                        "remaining_time": 262.651917,
                        "test": [
                          0.1114961749
                        ]
                      },
                      {
                        "learn": [
                          0.08756528278
                        ],
                        "iteration": 723,
                        "passed_time": 686.3739326,
                        "remaining_time": 261.6563611,
                        "test": [
                          0.1114568818
                        ]
                      },
                      {
                        "learn": [
                          0.08748469457
                        ],
                        "iteration": 724,
                        "passed_time": 687.1564078,
                        "remaining_time": 260.645534,
                        "test": [
                          0.1114137534
                        ]
                      },
                      {
                        "learn": [
                          0.0874462283
                        ],
                        "iteration": 725,
                        "passed_time": 688.5394642,
                        "remaining_time": 259.8620016,
                        "test": [
                          0.1113975149
                        ]
                      },
                      {
                        "learn": [
                          0.08738316408
                        ],
                        "iteration": 726,
                        "passed_time": 689.8966299,
                        "remaining_time": 259.0670976,
                        "test": [
                          0.1113513903
                        ]
                      },
                      {
                        "learn": [
                          0.08727815521
                        ],
                        "iteration": 727,
                        "passed_time": 691.340751,
                        "remaining_time": 258.3031377,
                        "test": [
                          0.1112821569
                        ]
                      },
                      {
                        "learn": [
                          0.08725717855
                        ],
                        "iteration": 728,
                        "passed_time": 692.4606845,
                        "remaining_time": 257.4167977,
                        "test": [
                          0.1112775141
                        ]
                      },
                      {
                        "learn": [
                          0.08722153144
                        ],
                        "iteration": 729,
                        "passed_time": 693.3105576,
                        "remaining_time": 256.4299323,
                        "test": [
                          0.1112458883
                        ]
                      },
                      {
                        "learn": [
                          0.08718852558
                        ],
                        "iteration": 730,
                        "passed_time": 694.1240204,
                        "remaining_time": 255.4300431,
                        "test": [
                          0.1112303347
                        ]
                      },
                      {
                        "learn": [
                          0.08717230188
                        ],
                        "iteration": 731,
                        "passed_time": 694.9336349,
                        "remaining_time": 254.4292543,
                        "test": [
                          0.1112314532
                        ]
                      },
                      {
                        "learn": [
                          0.08703760767
                        ],
                        "iteration": 732,
                        "passed_time": 695.7296182,
                        "remaining_time": 253.4240219,
                        "test": [
                          0.1111487946
                        ]
                      },
                      {
                        "learn": [
                          0.08700767686
                        ],
                        "iteration": 733,
                        "passed_time": 696.5397321,
                        "remaining_time": 252.4244806,
                        "test": [
                          0.1111459077
                        ]
                      },
                      {
                        "learn": [
                          0.08698023321
                        ],
                        "iteration": 734,
                        "passed_time": 697.3604802,
                        "remaining_time": 251.4292888,
                        "test": [
                          0.1111330516
                        ]
                      },
                      {
                        "learn": [
                          0.08692824186
                        ],
                        "iteration": 735,
                        "passed_time": 698.1847776,
                        "remaining_time": 250.4358441,
                        "test": [
                          0.1111102102
                        ]
                      },
                      {
                        "learn": [
                          0.0868583928
                        ],
                        "iteration": 736,
                        "passed_time": 698.9640306,
                        "remaining_time": 249.4267843,
                        "test": [
                          0.1110822329
                        ]
                      },
                      {
                        "learn": [
                          0.08683749623
                        ],
                        "iteration": 737,
                        "passed_time": 699.7746819,
                        "remaining_time": 248.4294941,
                        "test": [
                          0.1110848732
                        ]
                      },
                      {
                        "learn": [
                          0.08679666715
                        ],
                        "iteration": 738,
                        "passed_time": 700.60882,
                        "remaining_time": 247.4410041,
                        "test": [
                          0.1110787911
                        ]
                      },
                      {
                        "learn": [
                          0.08677002725
                        ],
                        "iteration": 739,
                        "passed_time": 701.4156227,
                        "remaining_time": 246.4433269,
                        "test": [
                          0.1110668994
                        ]
                      },
                      {
                        "learn": [
                          0.08674964874
                        ],
                        "iteration": 740,
                        "passed_time": 702.2299788,
                        "remaining_time": 245.448805,
                        "test": [
                          0.1110719727
                        ]
                      },
                      {
                        "learn": [
                          0.08667915763
                        ],
                        "iteration": 741,
                        "passed_time": 703.6416701,
                        "remaining_time": 244.6624675,
                        "test": [
                          0.1110438934
                        ]
                      },
                      {
                        "learn": [
                          0.0866385173
                        ],
                        "iteration": 742,
                        "passed_time": 705.1188046,
                        "remaining_time": 243.8970832,
                        "test": [
                          0.1110281642
                        ]
                      },
                      {
                        "learn": [
                          0.08660854547
                        ],
                        "iteration": 743,
                        "passed_time": 706.5377963,
                        "remaining_time": 243.1097794,
                        "test": [
                          0.1110141414
                        ]
                      },
                      {
                        "learn": [
                          0.0865800188
                        ],
                        "iteration": 744,
                        "passed_time": 707.5358553,
                        "remaining_time": 242.1767021,
                        "test": [
                          0.1109953167
                        ]
                      },
                      {
                        "learn": [
                          0.08653936846
                        ],
                        "iteration": 745,
                        "passed_time": 708.3613801,
                        "remaining_time": 241.1847058,
                        "test": [
                          0.1109773072
                        ]
                      },
                      {
                        "learn": [
                          0.08647453498
                        ],
                        "iteration": 746,
                        "passed_time": 709.1830762,
                        "remaining_time": 240.1918585,
                        "test": [
                          0.1109481592
                        ]
                      },
                      {
                        "learn": [
                          0.08645110099
                        ],
                        "iteration": 747,
                        "passed_time": 709.9987746,
                        "remaining_time": 239.1974481,
                        "test": [
                          0.1109524742
                        ]
                      },
                      {
                        "learn": [
                          0.08639487767
                        ],
                        "iteration": 748,
                        "passed_time": 710.7996727,
                        "remaining_time": 238.1985552,
                        "test": [
                          0.1109362447
                        ]
                      },
                      {
                        "learn": [
                          0.08630118682
                        ],
                        "iteration": 749,
                        "passed_time": 711.6170801,
                        "remaining_time": 237.2056934,
                        "test": [
                          0.1108753865
                        ]
                      },
                      {
                        "learn": [
                          0.086272749
                        ],
                        "iteration": 750,
                        "passed_time": 712.4391384,
                        "remaining_time": 236.2148408,
                        "test": [
                          0.1108585108
                        ]
                      },
                      {
                        "learn": [
                          0.08622483826
                        ],
                        "iteration": 751,
                        "passed_time": 713.2936814,
                        "remaining_time": 235.2351503,
                        "test": [
                          0.1108423374
                        ]
                      },
                      {
                        "learn": [
                          0.08613199613
                        ],
                        "iteration": 752,
                        "passed_time": 714.0818624,
                        "remaining_time": 234.2340239,
                        "test": [
                          0.1107564563
                        ]
                      },
                      {
                        "learn": [
                          0.08611112658
                        ],
                        "iteration": 753,
                        "passed_time": 714.9319959,
                        "remaining_time": 233.2536751,
                        "test": [
                          0.1107465615
                        ]
                      },
                      {
                        "learn": [
                          0.08606839701
                        ],
                        "iteration": 754,
                        "passed_time": 715.775894,
                        "remaining_time": 232.2716477,
                        "test": [
                          0.1107227832
                        ]
                      },
                      {
                        "learn": [
                          0.08598223458
                        ],
                        "iteration": 755,
                        "passed_time": 716.5997067,
                        "remaining_time": 231.2835032,
                        "test": [
                          0.1106835964
                        ]
                      },
                      {
                        "learn": [
                          0.08596054674
                        ],
                        "iteration": 756,
                        "passed_time": 717.7014836,
                        "remaining_time": 230.3850205,
                        "test": [
                          0.1106847631
                        ]
                      },
                      {
                        "learn": [
                          0.08588469326
                        ],
                        "iteration": 757,
                        "passed_time": 719.4695162,
                        "remaining_time": 229.698711,
                        "test": [
                          0.1106589223
                        ]
                      },
                      {
                        "learn": [
                          0.08582537792
                        ],
                        "iteration": 758,
                        "passed_time": 720.9652487,
                        "remaining_time": 228.9230895,
                        "test": [
                          0.1106010801
                        ]
                      },
                      {
                        "learn": [
                          0.08576724364
                        ],
                        "iteration": 759,
                        "passed_time": 722.1431188,
                        "remaining_time": 228.0451954,
                        "test": [
                          0.1105625481
                        ]
                      },
                      {
                        "learn": [
                          0.08575304411
                        ],
                        "iteration": 760,
                        "passed_time": 722.9580249,
                        "remaining_time": 227.0525203,
                        "test": [
                          0.1105627098
                        ]
                      },
                      {
                        "learn": [
                          0.08569254094
                        ],
                        "iteration": 761,
                        "passed_time": 723.7308318,
                        "remaining_time": 226.0471627,
                        "test": [
                          0.1105366302
                        ]
                      },
                      {
                        "learn": [
                          0.08566135047
                        ],
                        "iteration": 762,
                        "passed_time": 724.5657564,
                        "remaining_time": 225.0617094,
                        "test": [
                          0.1105052962
                        ]
                      },
                      {
                        "learn": [
                          0.08562331071
                        ],
                        "iteration": 763,
                        "passed_time": 725.417713,
                        "remaining_time": 224.0819113,
                        "test": [
                          0.1104915513
                        ]
                      },
                      {
                        "learn": [
                          0.08560743847
                        ],
                        "iteration": 764,
                        "passed_time": 726.21958,
                        "remaining_time": 223.0870605,
                        "test": [
                          0.1104926443
                        ]
                      },
                      {
                        "learn": [
                          0.08553777909
                        ],
                        "iteration": 765,
                        "passed_time": 727.0341915,
                        "remaining_time": 222.0966068,
                        "test": [
                          0.1104274183
                        ]
                      },
                      {
                        "learn": [
                          0.0855135595
                        ],
                        "iteration": 766,
                        "passed_time": 727.8528119,
                        "remaining_time": 221.1078294,
                        "test": [
                          0.1104327681
                        ]
                      },
                      {
                        "learn": [
                          0.08549218661
                        ],
                        "iteration": 767,
                        "passed_time": 728.6583449,
                        "remaining_time": 220.1155417,
                        "test": [
                          0.1104093198
                        ]
                      },
                      {
                        "learn": [
                          0.08541570887
                        ],
                        "iteration": 768,
                        "passed_time": 729.4805575,
                        "remaining_time": 219.12875,
                        "test": [
                          0.1103595631
                        ]
                      },
                      {
                        "learn": [
                          0.08539315803
                        ],
                        "iteration": 769,
                        "passed_time": 730.313015,
                        "remaining_time": 218.145446,
                        "test": [
                          0.1103366935
                        ]
                      },
                      {
                        "learn": [
                          0.08530918706
                        ],
                        "iteration": 770,
                        "passed_time": 731.1005885,
                        "remaining_time": 217.149202,
                        "test": [
                          0.1102607458
                        ]
                      },
                      {
                        "learn": [
                          0.0852815129
                        ],
                        "iteration": 771,
                        "passed_time": 732.0279383,
                        "remaining_time": 216.1947797,
                        "test": [
                          0.1102519797
                        ]
                      },
                      {
                        "learn": [
                          0.0852203005
                        ],
                        "iteration": 772,
                        "passed_time": 733.4450891,
                        "remaining_time": 215.3842629,
                        "test": [
                          0.1102307487
                        ]
                      },
                      {
                        "learn": [
                          0.0851859172
                        ],
                        "iteration": 773,
                        "passed_time": 734.8024366,
                        "remaining_time": 214.5547166,
                        "test": [
                          0.1101913686
                        ]
                      },
                      {
                        "learn": [
                          0.08515921949
                        ],
                        "iteration": 774,
                        "passed_time": 736.3482321,
                        "remaining_time": 213.778519,
                        "test": [
                          0.1101677448
                        ]
                      },
                      {
                        "learn": [
                          0.08510378701
                        ],
                        "iteration": 775,
                        "passed_time": 737.2399027,
                        "remaining_time": 212.8115183,
                        "test": [
                          0.1101427135
                        ]
                      },
                      {
                        "learn": [
                          0.08505588233
                        ],
                        "iteration": 776,
                        "passed_time": 738.0809116,
                        "remaining_time": 211.8301715,
                        "test": [
                          0.1101086776
                        ]
                      },
                      {
                        "learn": [
                          0.0850107826
                        ],
                        "iteration": 777,
                        "passed_time": 738.8709933,
                        "remaining_time": 210.8346536,
                        "test": [
                          0.1101039733
                        ]
                      },
                      {
                        "learn": [
                          0.08495794211
                        ],
                        "iteration": 778,
                        "passed_time": 739.7138438,
                        "remaining_time": 209.8546335,
                        "test": [
                          0.1100646506
                        ]
                      },
                      {
                        "learn": [
                          0.08489311448
                        ],
                        "iteration": 779,
                        "passed_time": 740.5416399,
                        "remaining_time": 208.8707189,
                        "test": [
                          0.1100325666
                        ]
                      },
                      {
                        "learn": [
                          0.08482227473
                        ],
                        "iteration": 780,
                        "passed_time": 741.3747541,
                        "remaining_time": 207.8886954,
                        "test": [
                          0.1100036532
                        ]
                      },
                      {
                        "learn": [
                          0.08476768132
                        ],
                        "iteration": 781,
                        "passed_time": 742.2260805,
                        "remaining_time": 206.9121299,
                        "test": [
                          0.1099849105
                        ]
                      },
                      {
                        "learn": [
                          0.08474791436
                        ],
                        "iteration": 782,
                        "passed_time": 743.0141311,
                        "remaining_time": 205.918348,
                        "test": [
                          0.1099626597
                        ]
                      },
                      {
                        "learn": [
                          0.0847208437
                        ],
                        "iteration": 783,
                        "passed_time": 743.8242476,
                        "remaining_time": 204.9311703,
                        "test": [
                          0.1099368796
                        ]
                      },
                      {
                        "learn": [
                          0.08467033923
                        ],
                        "iteration": 784,
                        "passed_time": 744.6960799,
                        "remaining_time": 203.9613467,
                        "test": [
                          0.1099445018
                        ]
                      },
                      {
                        "learn": [
                          0.08459698868
                        ],
                        "iteration": 785,
                        "passed_time": 745.5440317,
                        "remaining_time": 202.9852707,
                        "test": [
                          0.1098992112
                        ]
                      },
                      {
                        "learn": [
                          0.08455581874
                        ],
                        "iteration": 786,
                        "passed_time": 746.3457093,
                        "remaining_time": 201.9969963,
                        "test": [
                          0.1098712666
                        ]
                      },
                      {
                        "learn": [
                          0.08449846824
                        ],
                        "iteration": 787,
                        "passed_time": 747.571845,
                        "remaining_time": 201.1233898,
                        "test": [
                          0.1098045338
                        ]
                      },
                      {
                        "learn": [
                          0.08444223304
                        ],
                        "iteration": 788,
                        "passed_time": 748.9899845,
                        "remaining_time": 200.3002367,
                        "test": [
                          0.1097974915
                        ]
                      },
                      {
                        "learn": [
                          0.08442372985
                        ],
                        "iteration": 789,
                        "passed_time": 750.485882,
                        "remaining_time": 199.4962471,
                        "test": [
                          0.1098035232
                        ]
                      },
                      {
                        "learn": [
                          0.08435411246
                        ],
                        "iteration": 790,
                        "passed_time": 751.6385244,
                        "remaining_time": 198.5998124,
                        "test": [
                          0.109760093
                        ]
                      },
                      {
                        "learn": [
                          0.08429764379
                        ],
                        "iteration": 791,
                        "passed_time": 752.4827325,
                        "remaining_time": 197.6217277,
                        "test": [
                          0.109739376
                        ]
                      },
                      {
                        "learn": [
                          0.08426759077
                        ],
                        "iteration": 792,
                        "passed_time": 753.2992131,
                        "remaining_time": 196.6367429,
                        "test": [
                          0.1097301922
                        ]
                      },
                      {
                        "learn": [
                          0.08425180311
                        ],
                        "iteration": 793,
                        "passed_time": 754.080101,
                        "remaining_time": 195.6429481,
                        "test": [
                          0.1097308075
                        ]
                      },
                      {
                        "learn": [
                          0.08422404846
                        ],
                        "iteration": 794,
                        "passed_time": 754.972144,
                        "remaining_time": 194.6783516,
                        "test": [
                          0.1097293719
                        ]
                      },
                      {
                        "learn": [
                          0.0841742623
                        ],
                        "iteration": 795,
                        "passed_time": 755.7780973,
                        "remaining_time": 193.6918742,
                        "test": [
                          0.10969801
                        ]
                      },
                      {
                        "learn": [
                          0.08415962877
                        ],
                        "iteration": 796,
                        "passed_time": 756.6422786,
                        "remaining_time": 192.7206807,
                        "test": [
                          0.1096992199
                        ]
                      },
                      {
                        "learn": [
                          0.0841194964
                        ],
                        "iteration": 797,
                        "passed_time": 757.4633884,
                        "remaining_time": 191.7388527,
                        "test": [
                          0.1096649472
                        ]
                      },
                      {
                        "learn": [
                          0.08404816254
                        ],
                        "iteration": 798,
                        "passed_time": 758.2339439,
                        "remaining_time": 190.7447093,
                        "test": [
                          0.1096235162
                        ]
                      },
                      {
                        "learn": [
                          0.08396836063
                        ],
                        "iteration": 799,
                        "passed_time": 759.0769311,
                        "remaining_time": 189.7692328,
                        "test": [
                          0.1095926569
                        ]
                      },
                      {
                        "learn": [
                          0.08393315853
                        ],
                        "iteration": 800,
                        "passed_time": 759.8914399,
                        "remaining_time": 188.7870119,
                        "test": [
                          0.1095892538
                        ]
                      },
                      {
                        "learn": [
                          0.08389439746
                        ],
                        "iteration": 801,
                        "passed_time": 760.712356,
                        "remaining_time": 187.8067911,
                        "test": [
                          0.1095612785
                        ]
                      },
                      {
                        "learn": [
                          0.08385225601
                        ],
                        "iteration": 802,
                        "passed_time": 761.6502978,
                        "remaining_time": 186.8556771,
                        "test": [
                          0.1095341829
                        ]
                      },
                      {
                        "learn": [
                          0.08383213563
                        ],
                        "iteration": 803,
                        "passed_time": 763.1392605,
                        "remaining_time": 186.0389242,
                        "test": [
                          0.109537045
                        ]
                      },
                      {
                        "learn": [
                          0.08379268955
                        ],
                        "iteration": 804,
                        "passed_time": 764.607718,
                        "remaining_time": 185.2155342,
                        "test": [
                          0.109532498
                        ]
                      },
                      {
                        "learn": [
                          0.08377230502
                        ],
                        "iteration": 805,
                        "passed_time": 765.9966835,
                        "remaining_time": 184.3714102,
                        "test": [
                          0.1095309248
                        ]
                      },
                      {
                        "learn": [
                          0.08371142709
                        ],
                        "iteration": 806,
                        "passed_time": 766.8397872,
                        "remaining_time": 183.395389,
                        "test": [
                          0.1095132763
                        ]
                      },
                      {
                        "learn": [
                          0.08368299111
                        ],
                        "iteration": 807,
                        "passed_time": 767.6480253,
                        "remaining_time": 182.4114119,
                        "test": [
                          0.10949178
                        ]
                      },
                      {
                        "learn": [
                          0.08366379739
                        ],
                        "iteration": 808,
                        "passed_time": 768.4970605,
                        "remaining_time": 181.4375013,
                        "test": [
                          0.1094894773
                        ]
                      },
                      {
                        "learn": [
                          0.08362775496
                        ],
                        "iteration": 809,
                        "passed_time": 769.3035828,
                        "remaining_time": 180.4539268,
                        "test": [
                          0.1094759226
                        ]
                      },
                      {
                        "learn": [
                          0.08355829469
                        ],
                        "iteration": 810,
                        "passed_time": 770.1066918,
                        "remaining_time": 179.4699935,
                        "test": [
                          0.1094330312
                        ]
                      },
                      {
                        "learn": [
                          0.08354339939
                        ],
                        "iteration": 811,
                        "passed_time": 770.9431114,
                        "remaining_time": 178.4942179,
                        "test": [
                          0.1094115223
                        ]
                      },
                      {
                        "learn": [
                          0.0834523584
                        ],
                        "iteration": 812,
                        "passed_time": 772.02882,
                        "remaining_time": 177.5761246,
                        "test": [
                          0.1093625401
                        ]
                      },
                      {
                        "learn": [
                          0.08343284937
                        ],
                        "iteration": 813,
                        "passed_time": 772.8042732,
                        "remaining_time": 176.5867258,
                        "test": [
                          0.1093407893
                        ]
                      },
                      {
                        "learn": [
                          0.08340524338
                        ],
                        "iteration": 814,
                        "passed_time": 773.6456882,
                        "remaining_time": 175.6128249,
                        "test": [
                          0.109331359
                        ]
                      },
                      {
                        "learn": [
                          0.08328840697
                        ],
                        "iteration": 815,
                        "passed_time": 774.4808546,
                        "remaining_time": 174.6378398,
                        "test": [
                          0.1092197947
                        ]
                      },
                      {
                        "learn": [
                          0.08320466309
                        ],
                        "iteration": 816,
                        "passed_time": 775.3116291,
                        "remaining_time": 173.6622131,
                        "test": [
                          0.1091835758
                        ]
                      },
                      {
                        "learn": [
                          0.08311714953
                        ],
                        "iteration": 817,
                        "passed_time": 776.1848951,
                        "remaining_time": 172.6963948,
                        "test": [
                          0.1091173892
                        ]
                      },
                      {
                        "learn": [
                          0.08306334786
                        ],
                        "iteration": 818,
                        "passed_time": 777.6263862,
                        "remaining_time": 171.8563808,
                        "test": [
                          0.1090934277
                        ]
                      },
                      {
                        "learn": [
                          0.08304847382
                        ],
                        "iteration": 819,
                        "passed_time": 779.0750708,
                        "remaining_time": 171.0164789,
                        "test": [
                          0.1090750262
                        ]
                      },
                      {
                        "learn": [
                          0.08299974854
                        ],
                        "iteration": 820,
                        "passed_time": 780.50542,
                        "remaining_time": 170.1710964,
                        "test": [
                          0.1090516206
                        ]
                      },
                      {
                        "learn": [
                          0.08291023184
                        ],
                        "iteration": 821,
                        "passed_time": 781.4396084,
                        "remaining_time": 169.2168495,
                        "test": [
                          0.1089958095
                        ]
                      },
                      {
                        "learn": [
                          0.08288594564
                        ],
                        "iteration": 822,
                        "passed_time": 782.2499116,
                        "remaining_time": 168.2360077,
                        "test": [
                          0.1089904862
                        ]
                      },
                      {
                        "learn": [
                          0.08282412074
                        ],
                        "iteration": 823,
                        "passed_time": 783.0907734,
                        "remaining_time": 167.2621069,
                        "test": [
                          0.1089603241
                        ]
                      },
                      {
                        "learn": [
                          0.08277466835
                        ],
                        "iteration": 824,
                        "passed_time": 783.8819278,
                        "remaining_time": 166.2779847,
                        "test": [
                          0.1089339304
                        ]
                      },
                      {
                        "learn": [
                          0.08270394382
                        ],
                        "iteration": 825,
                        "passed_time": 784.7012193,
                        "remaining_time": 165.3002568,
                        "test": [
                          0.1088834793
                        ]
                      },
                      {
                        "learn": [
                          0.08268693962
                        ],
                        "iteration": 826,
                        "passed_time": 785.5366303,
                        "remaining_time": 164.3262842,
                        "test": [
                          0.1088882094
                        ]
                      },
                      {
                        "learn": [
                          0.08263631094
                        ],
                        "iteration": 827,
                        "passed_time": 786.3557466,
                        "remaining_time": 163.3492614,
                        "test": [
                          0.1088527652
                        ]
                      },
                      {
                        "learn": [
                          0.08259114696
                        ],
                        "iteration": 828,
                        "passed_time": 787.1370254,
                        "remaining_time": 162.3648146,
                        "test": [
                          0.108842919
                        ]
                      },
                      {
                        "learn": [
                          0.08257151122
                        ],
                        "iteration": 829,
                        "passed_time": 787.9761705,
                        "remaining_time": 161.3927096,
                        "test": [
                          0.1088473209
                        ]
                      },
                      {
                        "learn": [
                          0.08251773992
                        ],
                        "iteration": 830,
                        "passed_time": 788.8096591,
                        "remaining_time": 160.4197742,
                        "test": [
                          0.108839049
                        ]
                      },
                      {
                        "learn": [
                          0.08248812109
                        ],
                        "iteration": 831,
                        "passed_time": 789.6232577,
                        "remaining_time": 159.4431578,
                        "test": [
                          0.1088405925
                        ]
                      },
                      {
                        "learn": [
                          0.08245551726
                        ],
                        "iteration": 832,
                        "passed_time": 790.4584036,
                        "remaining_time": 158.4712526,
                        "test": [
                          0.1088224227
                        ]
                      },
                      {
                        "learn": [
                          0.08240139002
                        ],
                        "iteration": 833,
                        "passed_time": 791.6324944,
                        "remaining_time": 157.5671392,
                        "test": [
                          0.1087915729
                        ]
                      },
                      {
                        "learn": [
                          0.08238645297
                        ],
                        "iteration": 834,
                        "passed_time": 792.9986054,
                        "remaining_time": 156.7003232,
                        "test": [
                          0.1087735792
                        ]
                      },
                      {
                        "learn": [
                          0.08233593174
                        ],
                        "iteration": 835,
                        "passed_time": 794.4906655,
                        "remaining_time": 155.8570205,
                        "test": [
                          0.1087400844
                        ]
                      },
                      {
                        "learn": [
                          0.08227801839
                        ],
                        "iteration": 836,
                        "passed_time": 795.8064296,
                        "remaining_time": 154.9778351,
                        "test": [
                          0.1087422672
                        ]
                      },
                      {
                        "learn": [
                          0.08225800137
                        ],
                        "iteration": 837,
                        "passed_time": 796.6236506,
                        "remaining_time": 154.0012308,
                        "test": [
                          0.1087334769
                        ]
                      },
                      {
                        "learn": [
                          0.08220401267
                        ],
                        "iteration": 838,
                        "passed_time": 797.4658951,
                        "remaining_time": 153.0298082,
                        "test": [
                          0.1086937028
                        ]
                      },
                      {
                        "learn": [
                          0.08218928801
                        ],
                        "iteration": 839,
                        "passed_time": 798.2990374,
                        "remaining_time": 152.0569595,
                        "test": [
                          0.1086741461
                        ]
                      },
                      {
                        "learn": [
                          0.08211979902
                        ],
                        "iteration": 840,
                        "passed_time": 799.0872281,
                        "remaining_time": 151.0759444,
                        "test": [
                          0.1086423225
                        ]
                      },
                      {
                        "learn": [
                          0.0820976082
                        ],
                        "iteration": 841,
                        "passed_time": 799.9021065,
                        "remaining_time": 150.1003953,
                        "test": [
                          0.1086326203
                        ]
                      },
                      {
                        "learn": [
                          0.08202623347
                        ],
                        "iteration": 842,
                        "passed_time": 800.7410897,
                        "remaining_time": 149.1297166,
                        "test": [
                          0.1085705602
                        ]
                      },
                      {
                        "learn": [
                          0.08192072295
                        ],
                        "iteration": 843,
                        "passed_time": 801.5668631,
                        "remaining_time": 148.1569083,
                        "test": [
                          0.1084852065
                        ]
                      },
                      {
                        "learn": [
                          0.08186991425
                        ],
                        "iteration": 844,
                        "passed_time": 802.3545831,
                        "remaining_time": 147.1774679,
                        "test": [
                          0.1084505095
                        ]
                      },
                      {
                        "learn": [
                          0.08182313357
                        ],
                        "iteration": 845,
                        "passed_time": 803.1815228,
                        "remaining_time": 146.20562,
                        "test": [
                          0.1084408772
                        ]
                      },
                      {
                        "learn": [
                          0.08180438282
                        ],
                        "iteration": 846,
                        "passed_time": 803.9922759,
                        "remaining_time": 145.2311903,
                        "test": [
                          0.1084267479
                        ]
                      },
                      {
                        "learn": [
                          0.08177452424
                        ],
                        "iteration": 847,
                        "passed_time": 804.8705691,
                        "remaining_time": 144.2692529,
                        "test": [
                          0.1083955258
                        ]
                      },
                      {
                        "learn": [
                          0.08170064378
                        ],
                        "iteration": 848,
                        "passed_time": 805.7059797,
                        "remaining_time": 143.2998857,
                        "test": [
                          0.108344858
                        ]
                      },
                      {
                        "learn": [
                          0.08164324573
                        ],
                        "iteration": 849,
                        "passed_time": 807.1433093,
                        "remaining_time": 142.4370546,
                        "test": [
                          0.1082956676
                        ]
                      },
                      {
                        "learn": [
                          0.08159755584
                        ],
                        "iteration": 850,
                        "passed_time": 808.5769169,
                        "remaining_time": 141.5722216,
                        "test": [
                          0.1082829739
                        ]
                      },
                      {
                        "learn": [
                          0.08155142696
                        ],
                        "iteration": 851,
                        "passed_time": 810.0032625,
                        "remaining_time": 140.7047921,
                        "test": [
                          0.1082636323
                        ]
                      },
                      {
                        "learn": [
                          0.08150394723
                        ],
                        "iteration": 852,
                        "passed_time": 810.9895865,
                        "remaining_time": 139.7602218,
                        "test": [
                          0.1082453926
                        ]
                      },
                      {
                        "learn": [
                          0.08146909936
                        ],
                        "iteration": 853,
                        "passed_time": 811.8148391,
                        "remaining_time": 138.788017,
                        "test": [
                          0.1082394514
                        ]
                      },
                      {
                        "learn": [
                          0.08139730333
                        ],
                        "iteration": 854,
                        "passed_time": 812.6615138,
                        "remaining_time": 137.8197889,
                        "test": [
                          0.1081912453
                        ]
                      },
                      {
                        "learn": [
                          0.08136824153
                        ],
                        "iteration": 855,
                        "passed_time": 813.4417166,
                        "remaining_time": 136.8406626,
                        "test": [
                          0.1081960763
                        ]
                      },
                      {
                        "learn": [
                          0.08134520549
                        ],
                        "iteration": 856,
                        "passed_time": 814.2600018,
                        "remaining_time": 135.868355,
                        "test": [
                          0.1081905398
                        ]
                      },
                      {
                        "learn": [
                          0.08131961363
                        ],
                        "iteration": 857,
                        "passed_time": 815.1095194,
                        "remaining_time": 134.9015755,
                        "test": [
                          0.1081877486
                        ]
                      },
                      {
                        "learn": [
                          0.08129373576
                        ],
                        "iteration": 858,
                        "passed_time": 816.2328494,
                        "remaining_time": 133.9800137,
                        "test": [
                          0.1081829179
                        ]
                      },
                      {
                        "learn": [
                          0.08127543962
                        ],
                        "iteration": 859,
                        "passed_time": 817.0272209,
                        "remaining_time": 133.0044313,
                        "test": [
                          0.1081677035
                        ]
                      },
                      {
                        "learn": [
                          0.0812013585
                        ],
                        "iteration": 860,
                        "passed_time": 817.8807734,
                        "remaining_time": 132.038824,
                        "test": [
                          0.1081468654
                        ]
                      },
                      {
                        "learn": [
                          0.08113991981
                        ],
                        "iteration": 861,
                        "passed_time": 818.6990656,
                        "remaining_time": 131.0678319,
                        "test": [
                          0.1081007228
                        ]
                      },
                      {
                        "learn": [
                          0.08111229413
                        ],
                        "iteration": 862,
                        "passed_time": 819.5292782,
                        "remaining_time": 130.0990859,
                        "test": [
                          0.1080929846
                        ]
                      },
                      {
                        "learn": [
                          0.08106926516
                        ],
                        "iteration": 863,
                        "passed_time": 820.3137417,
                        "remaining_time": 129.1234593,
                        "test": [
                          0.1080527393
                        ]
                      },
                      {
                        "learn": [
                          0.08104089724
                        ],
                        "iteration": 864,
                        "passed_time": 821.5889056,
                        "remaining_time": 128.2248581,
                        "test": [
                          0.1080328584
                        ]
                      },
                      {
                        "learn": [
                          0.08098496711
                        ],
                        "iteration": 865,
                        "passed_time": 823.0494403,
                        "remaining_time": 127.3540704,
                        "test": [
                          0.1080025719
                        ]
                      },
                      {
                        "learn": [
                          0.08093784499
                        ],
                        "iteration": 866,
                        "passed_time": 824.4969218,
                        "remaining_time": 126.4799199,
                        "test": [
                          0.1079637841
                        ]
                      },
                      {
                        "learn": [
                          0.08087922895
                        ],
                        "iteration": 867,
                        "passed_time": 825.6412961,
                        "remaining_time": 125.5583538,
                        "test": [
                          0.1079131564
                        ]
                      },
                      {
                        "learn": [
                          0.08084406003
                        ],
                        "iteration": 868,
                        "passed_time": 826.4726917,
                        "remaining_time": 124.5890939,
                        "test": [
                          0.1078989054
                        ]
                      },
                      {
                        "learn": [
                          0.08082637258
                        ],
                        "iteration": 869,
                        "passed_time": 827.3031268,
                        "remaining_time": 123.6200075,
                        "test": [
                          0.1078975235
                        ]
                      },
                      {
                        "learn": [
                          0.08077365424
                        ],
                        "iteration": 870,
                        "passed_time": 828.07925,
                        "remaining_time": 122.6431955,
                        "test": [
                          0.1078687639
                        ]
                      },
                      {
                        "learn": [
                          0.08073530243
                        ],
                        "iteration": 871,
                        "passed_time": 828.9057565,
                        "remaining_time": 121.6742395,
                        "test": [
                          0.1078647545
                        ]
                      },
                      {
                        "learn": [
                          0.08072101017
                        ],
                        "iteration": 872,
                        "passed_time": 829.7325311,
                        "remaining_time": 120.7056489,
                        "test": [
                          0.1078660338
                        ]
                      },
                      {
                        "learn": [
                          0.08065269385
                        ],
                        "iteration": 873,
                        "passed_time": 830.5732625,
                        "remaining_time": 119.7393948,
                        "test": [
                          0.107856202
                        ]
                      },
                      {
                        "learn": [
                          0.08061155111
                        ],
                        "iteration": 874,
                        "passed_time": 831.3486823,
                        "remaining_time": 118.7640975,
                        "test": [
                          0.1078423269
                        ]
                      },
                      {
                        "learn": [
                          0.08053338952
                        ],
                        "iteration": 875,
                        "passed_time": 832.2207459,
                        "remaining_time": 117.8029366,
                        "test": [
                          0.1077846853
                        ]
                      },
                      {
                        "learn": [
                          0.08050652215
                        ],
                        "iteration": 876,
                        "passed_time": 833.0298636,
                        "remaining_time": 116.8331508,
                        "test": [
                          0.1077873093
                        ]
                      },
                      {
                        "learn": [
                          0.08047357833
                        ],
                        "iteration": 877,
                        "passed_time": 833.8654777,
                        "remaining_time": 115.8674126,
                        "test": [
                          0.1077640729
                        ]
                      },
                      {
                        "learn": [
                          0.08045431412
                        ],
                        "iteration": 878,
                        "passed_time": 834.6631561,
                        "remaining_time": 114.8967485,
                        "test": [
                          0.1077558754
                        ]
                      },
                      {
                        "learn": [
                          0.08038839827
                        ],
                        "iteration": 879,
                        "passed_time": 835.6305168,
                        "remaining_time": 113.9496159,
                        "test": [
                          0.1077358373
                        ]
                      },
                      {
                        "learn": [
                          0.08036384467
                        ],
                        "iteration": 880,
                        "passed_time": 837.0376781,
                        "remaining_time": 113.061843,
                        "test": [
                          0.1077293643
                        ]
                      },
                      {
                        "learn": [
                          0.08031005856
                        ],
                        "iteration": 881,
                        "passed_time": 838.6023657,
                        "remaining_time": 112.1939673,
                        "test": [
                          0.1076933287
                        ]
                      },
                      {
                        "learn": [
                          0.0802647185
                        ],
                        "iteration": 882,
                        "passed_time": 839.9784783,
                        "remaining_time": 111.2995266,
                        "test": [
                          0.1076606655
                        ]
                      },
                      {
                        "learn": [
                          0.08024964028
                        ],
                        "iteration": 883,
                        "passed_time": 840.8080985,
                        "remaining_time": 110.3322844,
                        "test": [
                          0.107641687
                        ]
                      },
                      {
                        "learn": [
                          0.08022923873
                        ],
                        "iteration": 884,
                        "passed_time": 841.6695516,
                        "remaining_time": 109.3694898,
                        "test": [
                          0.1076375845
                        ]
                      },
                      {
                        "learn": [
                          0.08020040803
                        ],
                        "iteration": 885,
                        "passed_time": 842.4581206,
                        "remaining_time": 108.397546,
                        "test": [
                          0.1076192092
                        ]
                      },
                      {
                        "learn": [
                          0.08018195806
                        ],
                        "iteration": 886,
                        "passed_time": 843.282296,
                        "remaining_time": 107.4305518,
                        "test": [
                          0.1076214118
                        ]
                      },
                      {
                        "learn": [
                          0.0801227987
                        ],
                        "iteration": 887,
                        "passed_time": 844.1175651,
                        "remaining_time": 106.4652785,
                        "test": [
                          0.1075726463
                        ]
                      },
                      {
                        "learn": [
                          0.08006325823
                        ],
                        "iteration": 888,
                        "passed_time": 844.9422479,
                        "remaining_time": 105.4989758,
                        "test": [
                          0.1075324821
                        ]
                      },
                      {
                        "learn": [
                          0.08001799822
                        ],
                        "iteration": 889,
                        "passed_time": 845.7751859,
                        "remaining_time": 104.5340117,
                        "test": [
                          0.1075117239
                        ]
                      },
                      {
                        "learn": [
                          0.07997097791
                        ],
                        "iteration": 890,
                        "passed_time": 846.5521706,
                        "remaining_time": 103.562499,
                        "test": [
                          0.1074831331
                        ]
                      },
                      {
                        "learn": [
                          0.07995262061
                        ],
                        "iteration": 891,
                        "passed_time": 847.3680881,
                        "remaining_time": 102.5961362,
                        "test": [
                          0.1074738737
                        ]
                      },
                      {
                        "learn": [
                          0.07993523535
                        ],
                        "iteration": 892,
                        "passed_time": 848.2032737,
                        "remaining_time": 101.6324191,
                        "test": [
                          0.1074768702
                        ]
                      },
                      {
                        "learn": [
                          0.07990943688
                        ],
                        "iteration": 893,
                        "passed_time": 849.0490582,
                        "remaining_time": 100.6702463,
                        "test": [
                          0.107480201
                        ]
                      },
                      {
                        "learn": [
                          0.07988684081
                        ],
                        "iteration": 894,
                        "passed_time": 849.8164453,
                        "remaining_time": 99.69913604,
                        "test": [
                          0.1074841932
                        ]
                      },
                      {
                        "learn": [
                          0.07985024765
                        ],
                        "iteration": 895,
                        "passed_time": 851.1620635,
                        "remaining_time": 98.79559666,
                        "test": [
                          0.1074631045
                        ]
                      },
                      {
                        "learn": [
                          0.07983194025
                        ],
                        "iteration": 896,
                        "passed_time": 852.5454759,
                        "remaining_time": 97.89541139,
                        "test": [
                          0.1074588927
                        ]
                      },
                      {
                        "learn": [
                          0.0798012622
                        ],
                        "iteration": 897,
                        "passed_time": 853.9752734,
                        "remaining_time": 96.99941859,
                        "test": [
                          0.1074634786
                        ]
                      },
                      {
                        "learn": [
                          0.07974786358
                        ],
                        "iteration": 898,
                        "passed_time": 855.1477713,
                        "remaining_time": 96.07333137,
                        "test": [
                          0.1074188663
                        ]
                      },
                      {
                        "learn": [
                          0.079723027
                        ],
                        "iteration": 899,
                        "passed_time": 855.9759462,
                        "remaining_time": 95.10843846,
                        "test": [
                          0.1074141864
                        ]
                      },
                      {
                        "learn": [
                          0.07969592404
                        ],
                        "iteration": 900,
                        "passed_time": 856.8079774,
                        "remaining_time": 94.14427277,
                        "test": [
                          0.1074133884
                        ]
                      },
                      {
                        "learn": [
                          0.07968112466
                        ],
                        "iteration": 901,
                        "passed_time": 857.571457,
                        "remaining_time": 93.17295209,
                        "test": [
                          0.1073953671
                        ]
                      },
                      {
                        "learn": [
                          0.07961120445
                        ],
                        "iteration": 902,
                        "passed_time": 858.4162289,
                        "remaining_time": 92.21082415,
                        "test": [
                          0.1073788715
                        ]
                      },
                      {
                        "learn": [
                          0.07958490094
                        ],
                        "iteration": 903,
                        "passed_time": 859.2531267,
                        "remaining_time": 91.24811965,
                        "test": [
                          0.1073497228
                        ]
                      },
                      {
                        "learn": [
                          0.07952810709
                        ],
                        "iteration": 904,
                        "passed_time": 860.0706753,
                        "remaining_time": 90.28366205,
                        "test": [
                          0.1072961875
                        ]
                      },
                      {
                        "learn": [
                          0.07951381155
                        ],
                        "iteration": 905,
                        "passed_time": 860.8686487,
                        "remaining_time": 89.31749777,
                        "test": [
                          0.1072799309
                        ]
                      },
                      {
                        "learn": [
                          0.07948307875
                        ],
                        "iteration": 906,
                        "passed_time": 861.9937305,
                        "remaining_time": 88.3852447,
                        "test": [
                          0.1072748125
                        ]
                      },
                      {
                        "learn": [
                          0.07946184386
                        ],
                        "iteration": 907,
                        "passed_time": 862.826209,
                        "remaining_time": 87.42291985,
                        "test": [
                          0.1072714381
                        ]
                      },
                      {
                        "learn": [
                          0.07944497017
                        ],
                        "iteration": 908,
                        "passed_time": 863.6592638,
                        "remaining_time": 86.4609384,
                        "test": [
                          0.1072647729
                        ]
                      },
                      {
                        "learn": [
                          0.0794215521
                        ],
                        "iteration": 909,
                        "passed_time": 864.4657964,
                        "remaining_time": 85.49661722,
                        "test": [
                          0.1072555088
                        ]
                      },
                      {
                        "learn": [
                          0.07937327255
                        ],
                        "iteration": 910,
                        "passed_time": 865.5839661,
                        "remaining_time": 84.5630878,
                        "test": [
                          0.1072094881
                        ]
                      },
                      {
                        "learn": [
                          0.07932006994
                        ],
                        "iteration": 911,
                        "passed_time": 867.0472578,
                        "remaining_time": 83.6624547,
                        "test": [
                          0.1071898975
                        ]
                      },
                      {
                        "learn": [
                          0.07925164466
                        ],
                        "iteration": 912,
                        "passed_time": 868.539202,
                        "remaining_time": 82.76331936,
                        "test": [
                          0.1071417942
                        ]
                      },
                      {
                        "learn": [
                          0.07920976316
                        ],
                        "iteration": 913,
                        "passed_time": 869.8272514,
                        "remaining_time": 81.84370199,
                        "test": [
                          0.1071201273
                        ]
                      },
                      {
                        "learn": [
                          0.07915688854
                        ],
                        "iteration": 914,
                        "passed_time": 870.6826127,
                        "remaining_time": 80.88308424,
                        "test": [
                          0.107118465
                        ]
                      },
                      {
                        "learn": [
                          0.07914036654
                        ],
                        "iteration": 915,
                        "passed_time": 871.4921387,
                        "remaining_time": 79.91849307,
                        "test": [
                          0.1071135513
                        ]
                      },
                      {
                        "learn": [
                          0.07912625622
                        ],
                        "iteration": 916,
                        "passed_time": 872.3262787,
                        "remaining_time": 78.95646797,
                        "test": [
                          0.1071153007
                        ]
                      },
                      {
                        "learn": [
                          0.07904762124
                        ],
                        "iteration": 917,
                        "passed_time": 873.1190427,
                        "remaining_time": 77.9910256,
                        "test": [
                          0.1070833173
                        ]
                      },
                      {
                        "learn": [
                          0.07899467494
                        ],
                        "iteration": 918,
                        "passed_time": 873.9639991,
                        "remaining_time": 77.03055923,
                        "test": [
                          0.107056123
                        ]
                      },
                      {
                        "learn": [
                          0.07897955802
                        ],
                        "iteration": 919,
                        "passed_time": 874.8019773,
                        "remaining_time": 76.06973716,
                        "test": [
                          0.1070570381
                        ]
                      },
                      {
                        "learn": [
                          0.07895871456
                        ],
                        "iteration": 920,
                        "passed_time": 875.6367157,
                        "remaining_time": 75.10890395,
                        "test": [
                          0.1070540571
                        ]
                      },
                      {
                        "learn": [
                          0.07893297968
                        ],
                        "iteration": 921,
                        "passed_time": 876.4341267,
                        "remaining_time": 74.14518643,
                        "test": [
                          0.1070247566
                        ]
                      },
                      {
                        "learn": [
                          0.0789048568
                        ],
                        "iteration": 922,
                        "passed_time": 877.2496213,
                        "remaining_time": 73.18333786,
                        "test": [
                          0.1070294789
                        ]
                      },
                      {
                        "learn": [
                          0.07888599057
                        ],
                        "iteration": 923,
                        "passed_time": 878.0735042,
                        "remaining_time": 72.22249602,
                        "test": [
                          0.1070095265
                        ]
                      },
                      {
                        "learn": [
                          0.07887047203
                        ],
                        "iteration": 924,
                        "passed_time": 878.9095884,
                        "remaining_time": 71.2629396,
                        "test": [
                          0.1070093484
                        ]
                      },
                      {
                        "learn": [
                          0.07882721425
                        ],
                        "iteration": 925,
                        "passed_time": 879.668072,
                        "remaining_time": 70.29744852,
                        "test": [
                          0.1070012671
                        ]
                      },
                      {
                        "learn": [
                          0.07876569326
                        ],
                        "iteration": 926,
                        "passed_time": 881.0558578,
                        "remaining_time": 69.38196075,
                        "test": [
                          0.106990676
                        ]
                      },
                      {
                        "learn": [
                          0.0787341769
                        ],
                        "iteration": 927,
                        "passed_time": 882.5223121,
                        "remaining_time": 68.4715587,
                        "test": [
                          0.106960179
                        ]
                      },
                      {
                        "learn": [
                          0.07872084416
                        ],
                        "iteration": 928,
                        "passed_time": 883.9444909,
                        "remaining_time": 67.55657573,
                        "test": [
                          0.1069627297
                        ]
                      },
                      {
                        "learn": [
                          0.07866675488
                        ],
                        "iteration": 929,
                        "passed_time": 885.0306454,
                        "remaining_time": 66.61520987,
                        "test": [
                          0.1069310789
                        ]
                      },
                      {
                        "learn": [
                          0.07857954681
                        ],
                        "iteration": 930,
                        "passed_time": 885.8986476,
                        "remaining_time": 65.65736486,
                        "test": [
                          0.1068808971
                        ]
                      },
                      {
                        "learn": [
                          0.07854668596
                        ],
                        "iteration": 931,
                        "passed_time": 886.7171493,
                        "remaining_time": 64.69610102,
                        "test": [
                          0.1068615453
                        ]
                      },
                      {
                        "learn": [
                          0.07852139139
                        ],
                        "iteration": 932,
                        "passed_time": 887.5066148,
                        "remaining_time": 63.73305808,
                        "test": [
                          0.1068554622
                        ]
                      },
                      {
                        "learn": [
                          0.07850169599
                        ],
                        "iteration": 933,
                        "passed_time": 888.3450845,
                        "remaining_time": 62.77384965,
                        "test": [
                          0.1068527863
                        ]
                      },
                      {
                        "learn": [
                          0.07846008285
                        ],
                        "iteration": 934,
                        "passed_time": 889.1716992,
                        "remaining_time": 61.81407535,
                        "test": [
                          0.1068452579
                        ]
                      },
                      {
                        "learn": [
                          0.07844432059
                        ],
                        "iteration": 935,
                        "passed_time": 890.0059622,
                        "remaining_time": 60.85510853,
                        "test": [
                          0.1068453643
                        ]
                      },
                      {
                        "learn": [
                          0.07842676276
                        ],
                        "iteration": 936,
                        "passed_time": 890.7770764,
                        "remaining_time": 59.89216202,
                        "test": [
                          0.1068463232
                        ]
                      },
                      {
                        "learn": [
                          0.07840919079
                        ],
                        "iteration": 937,
                        "passed_time": 891.6150836,
                        "remaining_time": 58.93404604,
                        "test": [
                          0.1068519564
                        ]
                      },
                      {
                        "learn": [
                          0.07838553827
                        ],
                        "iteration": 938,
                        "passed_time": 892.4591089,
                        "remaining_time": 57.97657683,
                        "test": [
                          0.1068387375
                        ]
                      },
                      {
                        "learn": [
                          0.07836088081
                        ],
                        "iteration": 939,
                        "passed_time": 893.3035967,
                        "remaining_time": 57.01937851,
                        "test": [
                          0.1068201805
                        ]
                      },
                      {
                        "learn": [
                          0.07831125848
                        ],
                        "iteration": 940,
                        "passed_time": 894.0864138,
                        "remaining_time": 56.05855304,
                        "test": [
                          0.1067866549
                        ]
                      },
                      {
                        "learn": [
                          0.0782673531
                        ],
                        "iteration": 941,
                        "passed_time": 895.084701,
                        "remaining_time": 55.11137225,
                        "test": [
                          0.1067735329
                        ]
                      },
                      {
                        "learn": [
                          0.07824333273
                        ],
                        "iteration": 942,
                        "passed_time": 896.5650352,
                        "remaining_time": 54.19322058,
                        "test": [
                          0.1067615881
                        ]
                      },
                      {
                        "learn": [
                          0.07820663355
                        ],
                        "iteration": 943,
                        "passed_time": 898.0287822,
                        "remaining_time": 53.27289386,
                        "test": [
                          0.1067626123
                        ]
                      },
                      {
                        "learn": [
                          0.07819120037
                        ],
                        "iteration": 944,
                        "passed_time": 899.6794324,
                        "remaining_time": 52.36229501,
                        "test": [
                          0.1067598126
                        ]
                      },
                      {
                        "learn": [
                          0.07816539576
                        ],
                        "iteration": 945,
                        "passed_time": 900.5085266,
                        "remaining_time": 51.40323514,
                        "test": [
                          0.106758786
                        ]
                      },
                      {
                        "learn": [
                          0.07814965875
                        ],
                        "iteration": 946,
                        "passed_time": 901.2892425,
                        "remaining_time": 50.44174219,
                        "test": [
                          0.1067624275
                        ]
                      },
                      {
                        "learn": [
                          0.07805803529
                        ],
                        "iteration": 947,
                        "passed_time": 902.1325637,
                        "remaining_time": 49.48406467,
                        "test": [
                          0.1066825358
                        ]
                      },
                      {
                        "learn": [
                          0.07804269793
                        ],
                        "iteration": 948,
                        "passed_time": 902.983544,
                        "remaining_time": 48.52703977,
                        "test": [
                          0.1066825919
                        ]
                      },
                      {
                        "learn": [
                          0.07802713834
                        ],
                        "iteration": 949,
                        "passed_time": 903.7947378,
                        "remaining_time": 47.56814409,
                        "test": [
                          0.1066826656
                        ]
                      },
                      {
                        "learn": [
                          0.07800373986
                        ],
                        "iteration": 950,
                        "passed_time": 904.5654039,
                        "remaining_time": 46.60747086,
                        "test": [
                          0.1066621915
                        ]
                      },
                      {
                        "learn": [
                          0.07794671418
                        ],
                        "iteration": 951,
                        "passed_time": 905.416897,
                        "remaining_time": 45.65127212,
                        "test": [
                          0.1066328444
                        ]
                      },
                      {
                        "learn": [
                          0.07787891829
                        ],
                        "iteration": 952,
                        "passed_time": 906.248332,
                        "remaining_time": 44.69430389,
                        "test": [
                          0.1065792189
                        ]
                      },
                      {
                        "learn": [
                          0.07786113391
                        ],
                        "iteration": 953,
                        "passed_time": 907.0775094,
                        "remaining_time": 43.73748997,
                        "test": [
                          0.1065814977
                        ]
                      },
                      {
                        "learn": [
                          0.07784566586
                        ],
                        "iteration": 954,
                        "passed_time": 907.8820841,
                        "remaining_time": 42.77978407,
                        "test": [
                          0.1065644815
                        ]
                      },
                      {
                        "learn": [
                          0.07783111583
                        ],
                        "iteration": 955,
                        "passed_time": 908.6933648,
                        "remaining_time": 41.82270717,
                        "test": [
                          0.1065650238
                        ]
                      },
                      {
                        "learn": [
                          0.07777990258
                        ],
                        "iteration": 956,
                        "passed_time": 909.6057831,
                        "remaining_time": 40.87047928,
                        "test": [
                          0.1065447766
                        ]
                      },
                      {
                        "learn": [
                          0.07774369252
                        ],
                        "iteration": 957,
                        "passed_time": 911.0689533,
                        "remaining_time": 39.94248021,
                        "test": [
                          0.1065134617
                        ]
                      },
                      {
                        "learn": [
                          0.07769625328
                        ],
                        "iteration": 958,
                        "passed_time": 912.4959577,
                        "remaining_time": 39.01181884,
                        "test": [
                          0.1064903482
                        ]
                      },
                      {
                        "learn": [
                          0.07767014025
                        ],
                        "iteration": 959,
                        "passed_time": 913.9045051,
                        "remaining_time": 38.07935438,
                        "test": [
                          0.1064744432
                        ]
                      },
                      {
                        "learn": [
                          0.0776319345
                        ],
                        "iteration": 960,
                        "passed_time": 914.8740236,
                        "remaining_time": 37.12808212,
                        "test": [
                          0.1064687319
                        ]
                      },
                      {
                        "learn": [
                          0.0775716891
                        ],
                        "iteration": 961,
                        "passed_time": 915.6521701,
                        "remaining_time": 36.16921254,
                        "test": [
                          0.106460094
                        ]
                      },
                      {
                        "learn": [
                          0.07754691578
                        ],
                        "iteration": 962,
                        "passed_time": 916.4782809,
                        "remaining_time": 35.21256116,
                        "test": [
                          0.1064418923
                        ]
                      },
                      {
                        "learn": [
                          0.07753103104
                        ],
                        "iteration": 963,
                        "passed_time": 917.3162392,
                        "remaining_time": 34.25662304,
                        "test": [
                          0.1064420801
                        ]
                      },
                      {
                        "learn": [
                          0.07751578764
                        ],
                        "iteration": 964,
                        "passed_time": 918.1420792,
                        "remaining_time": 33.30048992,
                        "test": [
                          0.1064402375
                        ]
                      },
                      {
                        "learn": [
                          0.07750123261
                        ],
                        "iteration": 965,
                        "passed_time": 918.9239897,
                        "remaining_time": 32.34308038,
                        "test": [
                          0.1064418042
                        ]
                      },
                      {
                        "learn": [
                          0.07744581262
                        ],
                        "iteration": 966,
                        "passed_time": 919.7756053,
                        "remaining_time": 31.38841259,
                        "test": [
                          0.1064204352
                        ]
                      },
                      {
                        "learn": [
                          0.07738076455
                        ],
                        "iteration": 967,
                        "passed_time": 920.6293266,
                        "remaining_time": 30.43402733,
                        "test": [
                          0.1063987087
                        ]
                      },
                      {
                        "learn": [
                          0.07736390996
                        ],
                        "iteration": 968,
                        "passed_time": 921.4602848,
                        "remaining_time": 29.4791216,
                        "test": [
                          0.1063895409
                        ]
                      },
                      {
                        "learn": [
                          0.0773172774
                        ],
                        "iteration": 969,
                        "passed_time": 922.2993388,
                        "remaining_time": 28.52472182,
                        "test": [
                          0.1063816841
                        ]
                      },
                      {
                        "learn": [
                          0.07730261425
                        ],
                        "iteration": 970,
                        "passed_time": 923.0798422,
                        "remaining_time": 27.56881094,
                        "test": [
                          0.1063843791
                        ]
                      },
                      {
                        "learn": [
                          0.07723249955
                        ],
                        "iteration": 971,
                        "passed_time": 923.9348882,
                        "remaining_time": 26.6154083,
                        "test": [
                          0.1063154934
                        ]
                      },
                      {
                        "learn": [
                          0.07721799633
                        ],
                        "iteration": 972,
                        "passed_time": 925.140266,
                        "remaining_time": 25.67192927,
                        "test": [
                          0.1063160333
                        ]
                      },
                      {
                        "learn": [
                          0.07720242345
                        ],
                        "iteration": 973,
                        "passed_time": 926.6397452,
                        "remaining_time": 24.73576322,
                        "test": [
                          0.1063182284
                        ]
                      },
                      {
                        "learn": [
                          0.07718430672
                        ],
                        "iteration": 974,
                        "passed_time": 928.0803013,
                        "remaining_time": 23.7969308,
                        "test": [
                          0.1062996798
                        ]
                      },
                      {
                        "learn": [
                          0.07716147463
                        ],
                        "iteration": 975,
                        "passed_time": 929.5160022,
                        "remaining_time": 22.85695087,
                        "test": [
                          0.1062972843
                        ]
                      },
                      {
                        "learn": [
                          0.07713577481
                        ],
                        "iteration": 976,
                        "passed_time": 930.3170553,
                        "remaining_time": 21.90101563,
                        "test": [
                          0.1062884791
                        ]
                      },
                      {
                        "learn": [
                          0.07709564278
                        ],
                        "iteration": 977,
                        "passed_time": 931.1439257,
                        "remaining_time": 20.94597788,
                        "test": [
                          0.1062798483
                        ]
                      },
                      {
                        "learn": [
                          0.07706065034
                        ],
                        "iteration": 978,
                        "passed_time": 931.9852166,
                        "remaining_time": 19.99151129,
                        "test": [
                          0.1062499385
                        ]
                      },
                      {
                        "learn": [
                          0.07700317772
                        ],
                        "iteration": 979,
                        "passed_time": 932.7924543,
                        "remaining_time": 19.0365807,
                        "test": [
                          0.1062351207
                        ]
                      },
                      {
                        "learn": [
                          0.07698809579
                        ],
                        "iteration": 980,
                        "passed_time": 933.5879046,
                        "remaining_time": 18.08172292,
                        "test": [
                          0.1062361761
                        ]
                      },
                      {
                        "learn": [
                          0.07693564445
                        ],
                        "iteration": 981,
                        "passed_time": 934.4361417,
                        "remaining_time": 17.12815738,
                        "test": [
                          0.1062337693
                        ]
                      },
                      {
                        "learn": [
                          0.07690281917
                        ],
                        "iteration": 982,
                        "passed_time": 935.2602453,
                        "remaining_time": 16.17438878,
                        "test": [
                          0.1062246627
                        ]
                      },
                      {
                        "learn": [
                          0.07685362796
                        ],
                        "iteration": 983,
                        "passed_time": 936.0924571,
                        "remaining_time": 15.22101556,
                        "test": [
                          0.1062040127
                        ]
                      },
                      {
                        "learn": [
                          0.07681035943
                        ],
                        "iteration": 984,
                        "passed_time": 936.8762125,
                        "remaining_time": 14.26715044,
                        "test": [
                          0.106181987
                        ]
                      },
                      {
                        "learn": [
                          0.0767953608
                        ],
                        "iteration": 985,
                        "passed_time": 937.7064219,
                        "remaining_time": 13.31428997,
                        "test": [
                          0.106182298
                        ]
                      },
                      {
                        "learn": [
                          0.07677264643
                        ],
                        "iteration": 986,
                        "passed_time": 938.5302142,
                        "remaining_time": 12.3615935,
                        "test": [
                          0.106181819
                        ]
                      },
                      {
                        "learn": [
                          0.07675839666
                        ],
                        "iteration": 987,
                        "passed_time": 939.5551186,
                        "remaining_time": 11.41160063,
                        "test": [
                          0.1061815056
                        ]
                      },
                      {
                        "learn": [
                          0.07673692239
                        ],
                        "iteration": 988,
                        "passed_time": 941.0772616,
                        "remaining_time": 10.46698673,
                        "test": [
                          0.106161598
                        ]
                      },
                      {
                        "learn": [
                          0.07671347118
                        ],
                        "iteration": 989,
                        "passed_time": 942.5035637,
                        "remaining_time": 9.520238017,
                        "test": [
                          0.1061575556
                        ]
                      },
                      {
                        "learn": [
                          0.07668910029
                        ],
                        "iteration": 990,
                        "passed_time": 943.900508,
                        "remaining_time": 8.572254866,
                        "test": [
                          0.1061460666
                        ]
                      },
                      {
                        "learn": [
                          0.07664186908
                        ],
                        "iteration": 991,
                        "passed_time": 944.7452722,
                        "remaining_time": 7.618913485,
                        "test": [
                          0.1061355846
                        ]
                      },
                      {
                        "learn": [
                          0.07658581911
                        ],
                        "iteration": 992,
                        "passed_time": 945.5793925,
                        "remaining_time": 6.665715758,
                        "test": [
                          0.1061227001
                        ]
                      },
                      {
                        "learn": [
                          0.07652662791
                        ],
                        "iteration": 993,
                        "passed_time": 946.4575052,
                        "remaining_time": 5.71302317,
                        "test": [
                          0.1060959351
                        ]
                      },
                      {
                        "learn": [
                          0.07650780533
                        ],
                        "iteration": 994,
                        "passed_time": 947.2316142,
                        "remaining_time": 4.75995786,
                        "test": [
                          0.1060785098
                        ]
                      },
                      {
                        "learn": [
                          0.07645403886
                        ],
                        "iteration": 995,
                        "passed_time": 948.0540939,
                        "remaining_time": 3.80744616,
                        "test": [
                          0.1060592823
                        ]
                      },
                      {
                        "learn": [
                          0.07642209239
                        ],
                        "iteration": 996,
                        "passed_time": 948.8945406,
                        "remaining_time": 2.85524937,
                        "test": [
                          0.106044424
                        ]
                      },
                      {
                        "learn": [
                          0.07640711397
                        ],
                        "iteration": 997,
                        "passed_time": 949.7302257,
                        "remaining_time": 1.903266985,
                        "test": [
                          0.1060448378
                        ]
                      },
                      {
                        "learn": [
                          0.07638597092
                        ],
                        "iteration": 998,
                        "passed_time": 950.5059225,
                        "remaining_time": 0.9514573798,
                        "test": [
                          0.1060473117
                        ]
                      },
                      {
                        "learn": [
                          0.07637005741
                        ],
                        "iteration": 999,
                        "passed_time": 951.353719,
                        "remaining_time": 0,
                        "test": [
                          0.1060399807
                        ]
                      }
                    ],
                    "meta": {
                      "test_sets": [
                        "test"
                      ],
                      "test_metrics": [
                        {
                          "best_value": "Min",
                          "name": "MultiLogloss"
                        }
                      ],
                      "learn_metrics": [
                        {
                          "best_value": "Min",
                          "name": "MultiLogloss"
                        }
                      ],
                      "launch_mode": "Train",
                      "parameters": "",
                      "iteration_count": 1000,
                      "learn_sets": [
                        "learn"
                      ],
                      "name": "experiment"
                    }
                  }
                }
              }
            },
            "layout": "IPY_MODEL_c41e271909ad4be4a0cca48ad029850c"
          }
        }
      }
    },
    "gpuClass": "standard",
    "accelerator": "GPU"
  },
  "cells": [
    {
      "cell_type": "markdown",
      "metadata": {
        "id": "view-in-github",
        "colab_type": "text"
      },
      "source": [
        "<a href=\"https://colab.research.google.com/github/nickolaychekotko/ML-DS/blob/main/PulseModeration.ipynb\" target=\"_parent\"><img src=\"https://colab.research.google.com/assets/colab-badge.svg\" alt=\"Open In Colab\"/></a>"
      ]
    },
    {
      "cell_type": "markdown",
      "source": [
        "# Imports"
      ],
      "metadata": {
        "id": "j_En8v2kze2l"
      }
    },
    {
      "cell_type": "code",
      "execution_count": null,
      "metadata": {
        "id": "ijZ3IqD2sSR0"
      },
      "outputs": [],
      "source": [
        "from google.colab import drive\n",
        "from pathlib import Path\n",
        "import numpy as np\n",
        "import pandas as pd"
      ]
    },
    {
      "cell_type": "code",
      "source": [
        "drive.mount(\"/content/drive\")"
      ],
      "metadata": {
        "colab": {
          "base_uri": "https://localhost:8080/"
        },
        "id": "f-tY5wI_sZmw",
        "outputId": "c39646d2-f2f5-4ba0-fea9-606c389fddd7"
      },
      "execution_count": null,
      "outputs": [
        {
          "output_type": "stream",
          "name": "stdout",
          "text": [
            "Mounted at /content/drive\n"
          ]
        }
      ]
    },
    {
      "cell_type": "code",
      "source": [
        "data_path = Path('/content/drive/MyDrive/pulse_moderation')"
      ],
      "metadata": {
        "id": "FR5ksOkpscVd"
      },
      "execution_count": null,
      "outputs": []
    },
    {
      "cell_type": "code",
      "source": [
        "df = pd.read_csv(data_path / \"data.csv\")"
      ],
      "metadata": {
        "id": "Ck4GXjtxstH8"
      },
      "execution_count": null,
      "outputs": []
    },
    {
      "cell_type": "code",
      "source": [
        "_df = pd.DataFrame()\n",
        "with open(data_path / \"begging_aug.txt\", \"r\") as f:\n",
        "    _df[\"post_txt\"] = list(filter(lambda s: len(s.strip()) > 0, f))\n",
        "    _df[\"is_manipulation\"] = np.zeros(len(_df[\"post_txt\"]))\n",
        "    _df[\"is_profanity\"] = np.zeros(len(_df[\"post_txt\"]))\n",
        "    _df[\"is_advertisement\"] = np.zeros(len(_df[\"post_txt\"]))\n",
        "    _df[\"is_begging\"] = np.ones(len(_df[\"post_txt\"]))\n",
        "df = pd.concat([df, _df])"
      ],
      "metadata": {
        "id": "DvLDQV3-PLIf"
      },
      "execution_count": null,
      "outputs": []
    },
    {
      "cell_type": "code",
      "source": [
        "_df = pd.DataFrame()\n",
        "with open(data_path / \"advertisiment_aug.txt\", \"r\") as f:\n",
        "    _df[\"post_txt\"] = list(f)\n",
        "    _df[\"is_manipulation\"] = np.zeros(len(_df[\"post_txt\"]))\n",
        "    _df[\"is_profanity\"] = np.zeros(len(_df[\"post_txt\"]))\n",
        "    _df[\"is_advertisement\"] = np.ones(len(_df[\"post_txt\"]))\n",
        "    _df[\"is_begging\"] = np.zeros(len(_df[\"post_txt\"]))\n",
        "df = pd.concat([df, _df])"
      ],
      "metadata": {
        "id": "YOZmHfwHQbDh"
      },
      "execution_count": null,
      "outputs": []
    },
    {
      "cell_type": "markdown",
      "source": [
        "# Features"
      ],
      "metadata": {
        "id": "lskDzu_01YHg"
      }
    },
    {
      "cell_type": "code",
      "source": [
        "def get_label(c1, c2, c3, c4, ret_index=False):\n",
        "    if c1:\n",
        "        return \"manipulation\" if not ret_index else 0\n",
        "    if c2:\n",
        "        return \"profanity\" if not ret_index else 1\n",
        "    if c3:\n",
        "        return \"advertisement\" if not ret_index else 2\n",
        "    if c4:\n",
        "        return \"begging\" if not ret_index else 3\n",
        "    return \"normal\" if not ret_index else 4"
      ],
      "metadata": {
        "id": "U_AWf7-5g1Bu"
      },
      "execution_count": null,
      "outputs": []
    },
    {
      "cell_type": "code",
      "source": [
        "from collections import Counter\n",
        "\n",
        "\n",
        "def create_counter(df):\n",
        "    tokenizer = RegexpTokenizer(r'\\w+')\n",
        "    texts = []\n",
        "    for line in df.post_txt:\n",
        "        texts += [w for w in tokenizer.tokenize(line.lower()) if w not in stop_words]\n",
        "    return Counter(texts)"
      ],
      "metadata": {
        "id": "7OZxW9F--ded"
      },
      "execution_count": null,
      "outputs": []
    },
    {
      "cell_type": "code",
      "source": [
        "from sklearn.metrics import f1_score\n",
        "\n",
        "\n",
        "def f1(y_true, y_pred):\n",
        "    assert False, f\"{y_true} {y_pred}\"\n",
        "    return np.mean([f1_score(y_train.numpy()[:, i], (y_pred.numpy() > .5)[:, i]) for i in range(5)])"
      ],
      "metadata": {
        "id": "VFLV1Mvfrxsu"
      },
      "execution_count": null,
      "outputs": []
    },
    {
      "cell_type": "markdown",
      "source": [
        "# Data analysis"
      ],
      "metadata": {
        "id": "T7gF6gpqzjP0"
      }
    },
    {
      "cell_type": "code",
      "source": [
        "df.head(10)"
      ],
      "metadata": {
        "colab": {
          "base_uri": "https://localhost:8080/",
          "height": 363
        },
        "id": "wjKBnFfdtAqe",
        "outputId": "11ac10de-f24f-4ff5-aca2-a2e81b31f0bf"
      },
      "execution_count": null,
      "outputs": [
        {
          "output_type": "execute_result",
          "data": {
            "text/plain": [
              "                                            post_txt  is_manipulation  \\\n",
              "0              {$NGG3} невдумацте покупать и шортить                1   \n",
              "1  {$NGF3} Вспомнил анекдот про лонги...\\nВесь пи...                0   \n",
              "2  {$POSI} #идея_на_миллион Покупаем , ждём рост ...                1   \n",
              "3  {$UWGN} биржа начинает подниматься ! Кто не ус...                1   \n",
              "4  ??ПОКА ВЫ ПАНИКУЕТЕ, МЫ ЗАРАБАТЫВАЕМ?????\\n\\n?...                0   \n",
              "5  {$FLOT}\\nЭкстренно \\nДивиденды могут отменить....                1   \n",
              "6  {$KZOS} может организуем какую - то сексту и в...                1   \n",
              "7                {$KZOSP} держимся до 40, не сливаем                1   \n",
              "8  {$TSLA} Аналитики прогнозируют 220-250$ к конц...                0   \n",
              "9                 {$UNKL}  не продаем! держим строй!                1   \n",
              "\n",
              "   is_profanity  is_advertisement  is_begging  \n",
              "0             0                 0           0  \n",
              "1             1                 0           0  \n",
              "2             0                 0           0  \n",
              "3             0                 0           0  \n",
              "4             0                 1           0  \n",
              "5             0                 0           0  \n",
              "6             0                 0           0  \n",
              "7             0                 0           0  \n",
              "8             1                 0           0  \n",
              "9             0                 0           0  "
            ],
            "text/html": [
              "\n",
              "  <div id=\"df-89b82789-c9f9-438d-a211-79579595a471\">\n",
              "    <div class=\"colab-df-container\">\n",
              "      <div>\n",
              "<style scoped>\n",
              "    .dataframe tbody tr th:only-of-type {\n",
              "        vertical-align: middle;\n",
              "    }\n",
              "\n",
              "    .dataframe tbody tr th {\n",
              "        vertical-align: top;\n",
              "    }\n",
              "\n",
              "    .dataframe thead th {\n",
              "        text-align: right;\n",
              "    }\n",
              "</style>\n",
              "<table border=\"1\" class=\"dataframe\">\n",
              "  <thead>\n",
              "    <tr style=\"text-align: right;\">\n",
              "      <th></th>\n",
              "      <th>post_txt</th>\n",
              "      <th>is_manipulation</th>\n",
              "      <th>is_profanity</th>\n",
              "      <th>is_advertisement</th>\n",
              "      <th>is_begging</th>\n",
              "    </tr>\n",
              "  </thead>\n",
              "  <tbody>\n",
              "    <tr>\n",
              "      <th>0</th>\n",
              "      <td>{$NGG3} невдумацте покупать и шортить</td>\n",
              "      <td>1</td>\n",
              "      <td>0</td>\n",
              "      <td>0</td>\n",
              "      <td>0</td>\n",
              "    </tr>\n",
              "    <tr>\n",
              "      <th>1</th>\n",
              "      <td>{$NGF3} Вспомнил анекдот про лонги...\\nВесь пи...</td>\n",
              "      <td>0</td>\n",
              "      <td>1</td>\n",
              "      <td>0</td>\n",
              "      <td>0</td>\n",
              "    </tr>\n",
              "    <tr>\n",
              "      <th>2</th>\n",
              "      <td>{$POSI} #идея_на_миллион Покупаем , ждём рост ...</td>\n",
              "      <td>1</td>\n",
              "      <td>0</td>\n",
              "      <td>0</td>\n",
              "      <td>0</td>\n",
              "    </tr>\n",
              "    <tr>\n",
              "      <th>3</th>\n",
              "      <td>{$UWGN} биржа начинает подниматься ! Кто не ус...</td>\n",
              "      <td>1</td>\n",
              "      <td>0</td>\n",
              "      <td>0</td>\n",
              "      <td>0</td>\n",
              "    </tr>\n",
              "    <tr>\n",
              "      <th>4</th>\n",
              "      <td>??ПОКА ВЫ ПАНИКУЕТЕ, МЫ ЗАРАБАТЫВАЕМ?????\\n\\n?...</td>\n",
              "      <td>0</td>\n",
              "      <td>0</td>\n",
              "      <td>1</td>\n",
              "      <td>0</td>\n",
              "    </tr>\n",
              "    <tr>\n",
              "      <th>5</th>\n",
              "      <td>{$FLOT}\\nЭкстренно \\nДивиденды могут отменить....</td>\n",
              "      <td>1</td>\n",
              "      <td>0</td>\n",
              "      <td>0</td>\n",
              "      <td>0</td>\n",
              "    </tr>\n",
              "    <tr>\n",
              "      <th>6</th>\n",
              "      <td>{$KZOS} может организуем какую - то сексту и в...</td>\n",
              "      <td>1</td>\n",
              "      <td>0</td>\n",
              "      <td>0</td>\n",
              "      <td>0</td>\n",
              "    </tr>\n",
              "    <tr>\n",
              "      <th>7</th>\n",
              "      <td>{$KZOSP} держимся до 40, не сливаем</td>\n",
              "      <td>1</td>\n",
              "      <td>0</td>\n",
              "      <td>0</td>\n",
              "      <td>0</td>\n",
              "    </tr>\n",
              "    <tr>\n",
              "      <th>8</th>\n",
              "      <td>{$TSLA} Аналитики прогнозируют 220-250$ к конц...</td>\n",
              "      <td>0</td>\n",
              "      <td>1</td>\n",
              "      <td>0</td>\n",
              "      <td>0</td>\n",
              "    </tr>\n",
              "    <tr>\n",
              "      <th>9</th>\n",
              "      <td>{$UNKL}  не продаем! держим строй!</td>\n",
              "      <td>1</td>\n",
              "      <td>0</td>\n",
              "      <td>0</td>\n",
              "      <td>0</td>\n",
              "    </tr>\n",
              "  </tbody>\n",
              "</table>\n",
              "</div>\n",
              "      <button class=\"colab-df-convert\" onclick=\"convertToInteractive('df-89b82789-c9f9-438d-a211-79579595a471')\"\n",
              "              title=\"Convert this dataframe to an interactive table.\"\n",
              "              style=\"display:none;\">\n",
              "        \n",
              "  <svg xmlns=\"http://www.w3.org/2000/svg\" height=\"24px\"viewBox=\"0 0 24 24\"\n",
              "       width=\"24px\">\n",
              "    <path d=\"M0 0h24v24H0V0z\" fill=\"none\"/>\n",
              "    <path d=\"M18.56 5.44l.94 2.06.94-2.06 2.06-.94-2.06-.94-.94-2.06-.94 2.06-2.06.94zm-11 1L8.5 8.5l.94-2.06 2.06-.94-2.06-.94L8.5 2.5l-.94 2.06-2.06.94zm10 10l.94 2.06.94-2.06 2.06-.94-2.06-.94-.94-2.06-.94 2.06-2.06.94z\"/><path d=\"M17.41 7.96l-1.37-1.37c-.4-.4-.92-.59-1.43-.59-.52 0-1.04.2-1.43.59L10.3 9.45l-7.72 7.72c-.78.78-.78 2.05 0 2.83L4 21.41c.39.39.9.59 1.41.59.51 0 1.02-.2 1.41-.59l7.78-7.78 2.81-2.81c.8-.78.8-2.07 0-2.86zM5.41 20L4 18.59l7.72-7.72 1.47 1.35L5.41 20z\"/>\n",
              "  </svg>\n",
              "      </button>\n",
              "      \n",
              "  <style>\n",
              "    .colab-df-container {\n",
              "      display:flex;\n",
              "      flex-wrap:wrap;\n",
              "      gap: 12px;\n",
              "    }\n",
              "\n",
              "    .colab-df-convert {\n",
              "      background-color: #E8F0FE;\n",
              "      border: none;\n",
              "      border-radius: 50%;\n",
              "      cursor: pointer;\n",
              "      display: none;\n",
              "      fill: #1967D2;\n",
              "      height: 32px;\n",
              "      padding: 0 0 0 0;\n",
              "      width: 32px;\n",
              "    }\n",
              "\n",
              "    .colab-df-convert:hover {\n",
              "      background-color: #E2EBFA;\n",
              "      box-shadow: 0px 1px 2px rgba(60, 64, 67, 0.3), 0px 1px 3px 1px rgba(60, 64, 67, 0.15);\n",
              "      fill: #174EA6;\n",
              "    }\n",
              "\n",
              "    [theme=dark] .colab-df-convert {\n",
              "      background-color: #3B4455;\n",
              "      fill: #D2E3FC;\n",
              "    }\n",
              "\n",
              "    [theme=dark] .colab-df-convert:hover {\n",
              "      background-color: #434B5C;\n",
              "      box-shadow: 0px 1px 3px 1px rgba(0, 0, 0, 0.15);\n",
              "      filter: drop-shadow(0px 1px 2px rgba(0, 0, 0, 0.3));\n",
              "      fill: #FFFFFF;\n",
              "    }\n",
              "  </style>\n",
              "\n",
              "      <script>\n",
              "        const buttonEl =\n",
              "          document.querySelector('#df-89b82789-c9f9-438d-a211-79579595a471 button.colab-df-convert');\n",
              "        buttonEl.style.display =\n",
              "          google.colab.kernel.accessAllowed ? 'block' : 'none';\n",
              "\n",
              "        async function convertToInteractive(key) {\n",
              "          const element = document.querySelector('#df-89b82789-c9f9-438d-a211-79579595a471');\n",
              "          const dataTable =\n",
              "            await google.colab.kernel.invokeFunction('convertToInteractive',\n",
              "                                                     [key], {});\n",
              "          if (!dataTable) return;\n",
              "\n",
              "          const docLinkHtml = 'Like what you see? Visit the ' +\n",
              "            '<a target=\"_blank\" href=https://colab.research.google.com/notebooks/data_table.ipynb>data table notebook</a>'\n",
              "            + ' to learn more about interactive tables.';\n",
              "          element.innerHTML = '';\n",
              "          dataTable['output_type'] = 'display_data';\n",
              "          await google.colab.output.renderOutput(dataTable, element);\n",
              "          const docLink = document.createElement('div');\n",
              "          docLink.innerHTML = docLinkHtml;\n",
              "          element.appendChild(docLink);\n",
              "        }\n",
              "      </script>\n",
              "    </div>\n",
              "  </div>\n",
              "  "
            ]
          },
          "metadata": {},
          "execution_count": 17
        }
      ]
    },
    {
      "cell_type": "code",
      "source": [
        "from collections import Counter\n",
        "\n",
        "counter = Counter()\n",
        "for line in df.post_txt:\n",
        "    counter.update(Counter(line))\n",
        "counter.most_common(10)"
      ],
      "metadata": {
        "id": "kEAOMzWtbP7T",
        "colab": {
          "base_uri": "https://localhost:8080/"
        },
        "outputId": "b0b8d9d2-38e4-46cd-d3fe-7cf3dd277bca"
      },
      "execution_count": null,
      "outputs": [
        {
          "output_type": "execute_result",
          "data": {
            "text/plain": [
              "[(' ', 523534),\n",
              " ('о', 276515),\n",
              " ('а', 218377),\n",
              " ('е', 217844),\n",
              " ('и', 209364),\n",
              " ('т', 182800),\n",
              " ('н', 169564),\n",
              " ('с', 135388),\n",
              " ('р', 133925),\n",
              " ('в', 110941)]"
            ]
          },
          "metadata": {},
          "execution_count": 19
        }
      ]
    },
    {
      "cell_type": "markdown",
      "source": [
        "# GPT Generation"
      ],
      "metadata": {
        "id": "7IbbyKW7Fs3G"
      }
    },
    {
      "cell_type": "code",
      "source": [
        "!pip install transformers"
      ],
      "metadata": {
        "id": "_C3D1B03Nv-K"
      },
      "execution_count": null,
      "outputs": []
    },
    {
      "cell_type": "code",
      "source": [
        "from transformers import GPT2LMHeadModel, GPT2Tokenizer, GPT2Config\n",
        "import torch\n",
        "DEVICE = torch.device('cuda' if torch.cuda.is_available() else 'cpu')"
      ],
      "metadata": {
        "id": "423SB2hQFwb8"
      },
      "execution_count": null,
      "outputs": []
    },
    {
      "cell_type": "code",
      "source": [
        "model_name_or_path = \"sberbank-ai/rugpt3large_based_on_gpt2\"\n",
        "tokenizer = GPT2Tokenizer.from_pretrained(model_name_or_path)\n",
        "model = GPT2LMHeadModel.from_pretrained(model_name_or_path).to(DEVICE)"
      ],
      "metadata": {
        "id": "RlgJls8MGAt-"
      },
      "execution_count": null,
      "outputs": []
    },
    {
      "cell_type": "code",
      "source": [],
      "metadata": {
        "id": "zAUEsv7PYmX4"
      },
      "execution_count": null,
      "outputs": []
    },
    {
      "cell_type": "markdown",
      "source": [
        "# Fasttext classification (very bad)"
      ],
      "metadata": {
        "id": "d1f5jztTzm39"
      }
    },
    {
      "cell_type": "code",
      "source": [
        "!git clone https://github.com/facebookresearch/fastText.git\n",
        "%cd fastText\n",
        "!sudo pip install .\n",
        "%cd .."
      ],
      "metadata": {
        "colab": {
          "base_uri": "https://localhost:8080/"
        },
        "id": "wLRyGWdvxiUY",
        "outputId": "f763917b-041b-44ff-ed2b-77eaddba1616"
      },
      "execution_count": null,
      "outputs": [
        {
          "output_type": "stream",
          "name": "stdout",
          "text": [
            "Cloning into 'fastText'...\n",
            "remote: Enumerating objects: 3938, done.\u001b[K\n",
            "remote: Counting objects: 100% (1011/1011), done.\u001b[K\n",
            "remote: Compressing objects: 100% (147/147), done.\u001b[K\n",
            "remote: Total 3938 (delta 915), reused 868 (delta 863), pack-reused 2927\u001b[K\n",
            "Receiving objects: 100% (3938/3938), 8.25 MiB | 14.84 MiB/s, done.\n",
            "Resolving deltas: 100% (2509/2509), done.\n",
            "/content/fastText\n",
            "Looking in indexes: https://pypi.org/simple, https://us-python.pkg.dev/colab-wheels/public/simple/\n",
            "Processing /content/fastText\n",
            "  Preparing metadata (setup.py) ... \u001b[?25l\u001b[?25hdone\n",
            "Collecting pybind11>=2.2\n",
            "  Using cached pybind11-2.10.4-py3-none-any.whl (222 kB)\n",
            "Requirement already satisfied: setuptools>=0.7.0 in /usr/local/lib/python3.10/dist-packages (from fasttext==0.9.2) (67.7.2)\n",
            "Requirement already satisfied: numpy in /usr/local/lib/python3.10/dist-packages (from fasttext==0.9.2) (1.22.4)\n",
            "Building wheels for collected packages: fasttext\n",
            "  Building wheel for fasttext (setup.py) ... \u001b[?25l\u001b[?25hdone\n",
            "  Created wheel for fasttext: filename=fasttext-0.9.2-cp310-cp310-linux_x86_64.whl size=4384288 sha256=414f245f7fd50cbe6ada811ba1d9e645c562f837aff72a61462c8208ad231283\n",
            "  Stored in directory: /tmp/pip-ephem-wheel-cache-kns9d5yk/wheels/8b/05/af/3cfae069d904597d44b309c956601b611bdf8967bcbe968903\n",
            "Successfully built fasttext\n",
            "Installing collected packages: pybind11, fasttext\n",
            "Successfully installed fasttext-0.9.2 pybind11-2.10.4\n",
            "/content\n"
          ]
        }
      ]
    },
    {
      "cell_type": "code",
      "source": [
        "import fasttext.util"
      ],
      "metadata": {
        "id": "ert_50oDtbKc"
      },
      "execution_count": null,
      "outputs": []
    },
    {
      "cell_type": "code",
      "source": [
        "fasttext.util.download_model('ru', if_exists='ignore')"
      ],
      "metadata": {
        "id": "8VUn1z0dxcHR"
      },
      "execution_count": null,
      "outputs": []
    },
    {
      "cell_type": "code",
      "source": [
        "ft = fasttext.load_model('cc.ru.300.bin')"
      ],
      "metadata": {
        "id": "pShwo564yJxE"
      },
      "execution_count": null,
      "outputs": []
    },
    {
      "cell_type": "code",
      "source": [
        "!cp /content/cc.ru.300.bin.gz {data_path}"
      ],
      "metadata": {
        "id": "D2hkbM0lOZcu"
      },
      "execution_count": null,
      "outputs": []
    },
    {
      "cell_type": "code",
      "source": [
        "ft.get_nearest_neighbors(\"ИТкомпании\")"
      ],
      "metadata": {
        "colab": {
          "base_uri": "https://localhost:8080/"
        },
        "id": "IrADnNmPVWIp",
        "outputId": "5d8bf006-354b-4289-abb3-a4692481fa70"
      },
      "execution_count": null,
      "outputs": [
        {
          "output_type": "execute_result",
          "data": {
            "text/plain": [
              "[(0.5832644701004028, 'компании9ffABTAC'),\n",
              " (0.5769837498664856, 'биржеКомпании'),\n",
              " (0.5520970225334167, 'продавцыКомпании'),\n",
              " (0.545464277267456, 'Техкомпании'),\n",
              " (0.5289483070373535, 'вкомпании'),\n",
              " (0.5282614827156067, 'Энергокомпании'),\n",
              " (0.5269455909729004, 'бизнес-компании'),\n",
              " (0.5099751949310303, 'компании.www.Avto-Olimp.ru'),\n",
              " (0.5071448087692261, 'компании808'),\n",
              " (0.5030081868171692, 'компании-интегратора')]"
            ]
          },
          "metadata": {},
          "execution_count": 44
        }
      ]
    },
    {
      "cell_type": "code",
      "source": [
        "lines = []\n",
        "for line, c1, c2, c3, c4 in df.itertuples(index=False, name=None):\n",
        "    _line = \"\"\n",
        "    for w in line.split():\n",
        "        if w.startswith(\"{$\") and w.endswith(\"}\"):\n",
        "            pass\n",
        "        else:\n",
        "            _line += \"\".join(filter(lambda x: x.isalpha(), w)) + ' '\n",
        "    lines.append((_line.strip(), get_label(c1, c2, c3, c4)))"
      ],
      "metadata": {
        "id": "giBRsqAub2Jh"
      },
      "execution_count": null,
      "outputs": []
    },
    {
      "cell_type": "code",
      "source": [
        "with open(\"lines.txt\", \"w\", encoding='utf-8') as f:\n",
        "    for line, label in lines:\n",
        "        f.write(\"__label__\" + label + \" \" + line +  \"\\n\")"
      ],
      "metadata": {
        "id": "tvIlIpLCe2NJ"
      },
      "execution_count": null,
      "outputs": []
    },
    {
      "cell_type": "code",
      "source": [
        "!head lines.txt"
      ],
      "metadata": {
        "colab": {
          "base_uri": "https://localhost:8080/"
        },
        "id": "J8LX4alehq1U",
        "outputId": "efdd34a0-1224-4443-da4a-4591c311721c"
      },
      "execution_count": null,
      "outputs": [
        {
          "output_type": "stream",
          "name": "stdout",
          "text": [
            "__label__manipulation невдумацте покупать и шортить\n",
            "__label__profanity Вспомнил анекдот про лонги Весь писать долго Заканчивается так Нихя дохя нахярили Расхяривай нахй\n",
            "__label__manipulation идеянамиллион Покупаем  ждём рост дивидендов\n",
            "__label__manipulation биржа начинает подниматься  Кто не успел закупить  больше шансов по этой цене не будет\n",
            "__label__advertisement ПОКА ВЫ ПАНИКУЕТЕ МЫ ЗАРАБАТЫВАЕМ КОГДА ЛИКВИДНЫЕ АКЦИИ ПАДАЮТ ТО ЛОГИЧНО ИХ ПРИОБРЕТАТЬ ЧТО МЫ И СДЕЛАЛИ КОГДА ИЗ КАЖДОГО УТЮГА КРИЧАЛИ БУДЕТ КРАХ ОБВАЛ БИРЖИ МЫ ПОЛЬЗОВАЛИСЬ ХОРОШИМИ ЦЕНАМИ НА АКЦИИСБЕР РОСНЕФТЬ И ТД НА ЧЕМ СЕЙЧАС ПРЕКРАСНО ЗАРАБАТЫВАЕМ КТО ДАВНО ПОДПИСАН НА МЕНЯ ТОТ ЗНАЕТ ЧТО СО МНОЙ ЗАРАБАТЫВАЮТ учувпульсе проявисебявпульсе новичкам психология пульс сбербанк акции инвестиции трейдинг добычаденег\n",
            "__label__manipulation Экстренно Дивиденды могут отменить Будьте аккуратней вышла новость её сразу же удалили Я если найду подтверждение то обязательно выложу Ситуация напряжённая 2021 повторяется\n",
            "__label__manipulation может организуем какую  то сексту и все дружно будет покупать и ходить по одним и тем же акциям  а кто не в секте будут видеть этот памп во взлетах дня и бежать скупать\n",
            "__label__manipulation держимся до  не сливаем\n",
            "__label__profanity Аналитики прогнозируют  к концу года Верите Я категорически нет  Тебе подарок httpswwwtinkoffruslXPQQrHpNr Два месяца Тинькофф premium совершенно бесплатно по ссылке Двух месяцев совершенно достаточно чтоб понять все прелести premium Сам рад таким плюшкам  ЛИЧНОГО менеджера по инвестициям  только ули толку от него сам вроде справляюсь  аналитика бумаг от Тинькофф   бесплатное обслуживание счетов   на остаток по карте  на накопительный счет и  на вклад  Очень крутой тариф в Мобайле а именно полный безлимит по минутам и гб инета за  до этого платил за связь чуть меньше к  Скидка  на ТЖ  Премиальная поддержка оператора реально отличается от обычного  Очень много других интересных сервисов в том числе проходы в бизнес залы в аэропортах  разамесяц  Ну и конечно металическая карта\n",
            "__label__manipulation не продаем держим строй\n"
          ]
        }
      ]
    },
    {
      "cell_type": "code",
      "source": [
        "model = fasttext.train_supervised(input=\"lines.txt\", wordNgrams=5, lr=1.0, epoch=25)"
      ],
      "metadata": {
        "id": "ldw0LdBDhxi_"
      },
      "execution_count": null,
      "outputs": []
    },
    {
      "cell_type": "code",
      "source": [
        "model.predict(\"блять\", k=4)"
      ],
      "metadata": {
        "colab": {
          "base_uri": "https://localhost:8080/"
        },
        "id": "gF1MEbeBjUEE",
        "outputId": "fb5bf050-4c4b-4095-b56d-121cf1eb0fe3"
      },
      "execution_count": null,
      "outputs": [
        {
          "output_type": "execute_result",
          "data": {
            "text/plain": [
              "(('__label__normal',\n",
              "  '__label__profanity',\n",
              "  '__label__begging',\n",
              "  '__label__advertisement'),\n",
              " array([1.00001001e+00, 1.00000034e-05, 1.00000034e-05, 1.00000034e-05]))"
            ]
          },
          "metadata": {},
          "execution_count": 71
        }
      ]
    },
    {
      "cell_type": "code",
      "source": [
        "model.test(\"lines.txt\")"
      ],
      "metadata": {
        "colab": {
          "base_uri": "https://localhost:8080/"
        },
        "id": "YjYVrqeBiTTW",
        "outputId": "9b6d0687-28ba-4b7b-a6ed-028c249bfa1e"
      },
      "execution_count": null,
      "outputs": [
        {
          "output_type": "execute_result",
          "data": {
            "text/plain": [
              "(24834, 0.824112104373037, 0.824112104373037)"
            ]
          },
          "metadata": {},
          "execution_count": 72
        }
      ]
    },
    {
      "cell_type": "code",
      "source": [
        "from nltk.tokenize.regexp import RegexpTokenizer"
      ],
      "metadata": {
        "id": "eGTpStCbC_F3"
      },
      "execution_count": null,
      "outputs": []
    },
    {
      "cell_type": "code",
      "source": [
        "lines = []\n",
        "tokenizer = RegexpTokenizer(r\"\\w+\")\n",
        "for line, *_ in df.itertuples(index=False, name=None):\n",
        "    lines.append(\" \".join(tokenizer.tokenize(line.lower())))\n",
        "lines[:5]"
      ],
      "metadata": {
        "id": "LJY4f7sxByKC"
      },
      "execution_count": null,
      "outputs": []
    },
    {
      "cell_type": "code",
      "source": [
        "with open(\"lines.txt\", \"w\") as f:\n",
        "    f.write(\"\\n\".join(lines))"
      ],
      "metadata": {
        "id": "3bvJgkqOEExQ"
      },
      "execution_count": null,
      "outputs": []
    },
    {
      "cell_type": "code",
      "source": [
        "!head lines.txt -n 5"
      ],
      "metadata": {
        "colab": {
          "base_uri": "https://localhost:8080/"
        },
        "id": "YCqh4GsvEe39",
        "outputId": "90513437-c2db-4a63-813c-9aff0ce259cf"
      },
      "execution_count": null,
      "outputs": [
        {
          "output_type": "stream",
          "name": "stdout",
          "text": [
            "ngg3 невдумацте покупать и шортить\n",
            "ngf3 вспомнил анекдот про лонги весь писать долго заканчивается так них я дох я нах ярили расх яривай нах й\n",
            "posi идея_на_миллион покупаем ждём рост дивидендов\n",
            "uwgn биржа начинает подниматься кто не успел закупить больше шансов по этой цене не будет\n",
            "пока вы паникуете мы зарабатываем когда ликвидные акции падают то логично их приобретать что мы и сделали когда из каждого утюга кричали будет крах обвал биржи мы пользовались хорошими ценами на акции сбер роснефть и т д на чем сейчас прекрасно зарабатываем кто давно подписан на меня тот знает что со мной зарабатывают учу_в_пульсе прояви_себя_в_пульсе новичкам психология пульс сбербанк акции инвестиции трейдинг добычаденег sber rosn\n"
          ]
        }
      ]
    },
    {
      "cell_type": "code",
      "source": [
        "import fasttext"
      ],
      "metadata": {
        "id": "7L2o_Ra3Em9s"
      },
      "execution_count": null,
      "outputs": []
    },
    {
      "cell_type": "code",
      "source": [
        "model = fasttext.train_unsupervised(\"lines.txt\", minn=2, maxn=5, dim=50, epoch=8, lr=.02)"
      ],
      "metadata": {
        "id": "Yvdaq-LgEvpo"
      },
      "execution_count": null,
      "outputs": []
    },
    {
      "cell_type": "code",
      "source": [
        "model.save_model(str(data_path / \"custom_embedding.model\"))"
      ],
      "metadata": {
        "id": "1-8QmIyoHQms"
      },
      "execution_count": null,
      "outputs": []
    },
    {
      "cell_type": "code",
      "source": [
        "import fasttext"
      ],
      "metadata": {
        "id": "lw02AV_Hq1ou"
      },
      "execution_count": null,
      "outputs": []
    },
    {
      "cell_type": "code",
      "source": [
        "model = fasttext.load_model(str(data_path / \"custom_embedding.model\"))"
      ],
      "metadata": {
        "id": "NDc2jTEqnkmh"
      },
      "execution_count": null,
      "outputs": []
    },
    {
      "cell_type": "code",
      "source": [
        "with open(data_path / \"custom_embedding.vec\", \"w\", encoding=\"utf-8\") as f:\n",
        "    f.write(f\"{len(model.get_words())} {model.get_dimension()}\\n\")\n",
        "    f.write(\"\\n\".join([w + \" \" + \" \".join(map(str, model.get_word_vector(w))) for w in model.get_words()]))"
      ],
      "metadata": {
        "id": "BRuqZGRUnTcZ"
      },
      "execution_count": null,
      "outputs": []
    },
    {
      "cell_type": "markdown",
      "source": [
        "# Custom Embedding RNN"
      ],
      "metadata": {
        "id": "h6WKpzmJIHSE"
      }
    },
    {
      "cell_type": "markdown",
      "source": [
        "## Imports"
      ],
      "metadata": {
        "id": "UiKN-Ug2IbN3"
      }
    },
    {
      "cell_type": "code",
      "source": [
        "import numpy as np\n",
        "import pandas as pd\n",
        "import seaborn as sns\n",
        "import matplotlib.pyplot as plt\n",
        "\n",
        "import keras\n",
        "from keras import optimizers\n",
        "from keras import backend as K\n",
        "from keras import regularizers\n",
        "from keras.models import Sequential\n",
        "from keras.layers import Dense, Activation, Dropout, Flatten\n",
        "from keras.layers import Embedding, Conv1D, MaxPooling1D, GlobalMaxPooling1D\n",
        "from keras.utils import plot_model\n",
        "from keras.preprocessing import sequence\n",
        "from keras.preprocessing.text import Tokenizer\n",
        "from keras.callbacks import EarlyStopping\n",
        "\n",
        "from tqdm import tqdm\n",
        "from nltk.corpus import stopwords\n",
        "from nltk.tokenize import RegexpTokenizer\n",
        "import os, re, csv, math, codecs\n",
        "\n",
        "from sklearn.model_selection import train_test_split\n",
        "from keras.utils import pad_sequences\n",
        "from keras.layers import Bidirectional, LSTM, Embedding\n",
        "import pickle"
      ],
      "metadata": {
        "id": "nr8ilQSAIckU"
      },
      "execution_count": null,
      "outputs": []
    },
    {
      "cell_type": "code",
      "source": [
        "#training params\n",
        "batch_size = 256\n",
        "num_epochs = 8\n",
        "\n",
        "#model parameters\n",
        "num_filters = 64\n",
        "embed_dim = 300\n",
        "weight_decay = 1e-4"
      ],
      "metadata": {
        "id": "XJXz_UKxIVk6"
      },
      "execution_count": null,
      "outputs": []
    },
    {
      "cell_type": "code",
      "source": [
        "import nltk\n",
        "nltk.download(\"stopwords\")"
      ],
      "metadata": {
        "colab": {
          "base_uri": "https://localhost:8080/"
        },
        "outputId": "673c22a7-54fc-48e0-feeb-ff6e753e4552",
        "id": "jR16NMuqIVk8"
      },
      "execution_count": null,
      "outputs": [
        {
          "output_type": "stream",
          "name": "stderr",
          "text": [
            "[nltk_data] Downloading package stopwords to /root/nltk_data...\n",
            "[nltk_data]   Package stopwords is already up-to-date!\n"
          ]
        },
        {
          "output_type": "execute_result",
          "data": {
            "text/plain": [
              "True"
            ]
          },
          "metadata": {},
          "execution_count": 50
        }
      ]
    },
    {
      "cell_type": "code",
      "source": [
        "sns.set_style(\"whitegrid\")\n",
        "np.random.seed(0)"
      ],
      "metadata": {
        "id": "dajktLKhIVk9"
      },
      "execution_count": null,
      "outputs": []
    },
    {
      "cell_type": "code",
      "source": [
        "MAX_NB_WORDS = 100000\n",
        "tokenizer = RegexpTokenizer(r'\\w+')\n",
        "stop_words = set(stopwords.words('russian'))\n",
        "stop_words.update(['.', ',', '\"', \"'\", ':', ';', '(', ')', '[', ']', '{', '}'])"
      ],
      "metadata": {
        "id": "d4rkz9VpIVk-"
      },
      "execution_count": null,
      "outputs": []
    },
    {
      "cell_type": "code",
      "source": [
        "USE_TRAIN_TEST_SPLIT = False"
      ],
      "metadata": {
        "id": "p5_2rY5lImmU"
      },
      "execution_count": null,
      "outputs": []
    },
    {
      "cell_type": "code",
      "source": [
        "if USE_TRAIN_TEST_SPLIT:\n",
        "    train_df, test_df = train_test_split(df, train_size=.8)\n",
        "    print(\"num train: \", train_df.shape[0])\n",
        "    print(\"num test: \", test_df.shape[0])\n",
        "else:\n",
        "    train_df = df"
      ],
      "metadata": {
        "id": "vAHvzGMYImmW"
      },
      "execution_count": null,
      "outputs": []
    },
    {
      "cell_type": "code",
      "source": [
        "label_names = ('normal', 'profanity', 'begging', 'advertisement', 'manipulation')"
      ],
      "metadata": {
        "id": "VDwXKvwQImmX"
      },
      "execution_count": null,
      "outputs": []
    },
    {
      "cell_type": "code",
      "source": [
        "y_train = []\n",
        "for _, c1, c2, c3, c4, *_ in train_df.itertuples(index=False, name=None):\n",
        "    y_train.append([c1, c2, c3, c4, int(not (c1 or c2 or c3 or c4))])"
      ],
      "metadata": {
        "id": "4CtSak_6ImmY"
      },
      "execution_count": null,
      "outputs": []
    },
    {
      "cell_type": "code",
      "source": [
        "train_df['doc_len'] = train_df['post_txt'].apply(lambda words: len(words.split(\" \")))\n",
        "max_seq_len = np.max(train_df['doc_len']).astype(int)"
      ],
      "metadata": {
        "id": "Y208c4YbImmZ"
      },
      "execution_count": null,
      "outputs": []
    },
    {
      "cell_type": "code",
      "source": [
        "raw_docs_train = train_df['post_txt'].tolist()\n",
        "if USE_TRAIN_TEST_SPLIT:\n",
        "    raw_docs_test = test_df['post_txt'].tolist()\n",
        "num_classes = len(label_names)"
      ],
      "metadata": {
        "id": "xms-5WOMI2vo"
      },
      "execution_count": null,
      "outputs": []
    },
    {
      "cell_type": "code",
      "source": [
        "processed_docs_train = []\n",
        "for doc in tqdm(raw_docs_train):\n",
        "    tokens = tokenizer.tokenize(doc.lower())\n",
        "    filtered = [word for word in tokens if word not in stop_words]\n",
        "    processed_docs_train.append(\" \".join(filtered))\n",
        "\n",
        "if USE_TRAIN_TEST_SPLIT:\n",
        "    processed_docs_test = []\n",
        "    for doc in tqdm(raw_docs_test):\n",
        "        tokens = tokenizer.tokenize(doc.lower())\n",
        "        filtered = [word for word in tokens if word not in stop_words]\n",
        "        processed_docs_test.append(\" \".join(filtered))"
      ],
      "metadata": {
        "colab": {
          "base_uri": "https://localhost:8080/"
        },
        "outputId": "89370f13-5014-4b42-dc44-816fec246417",
        "id": "4WI7RKYRI2vq"
      },
      "execution_count": null,
      "outputs": [
        {
          "output_type": "stream",
          "name": "stderr",
          "text": [
            "100%|██████████| 19867/19867 [00:00<00:00, 61628.98it/s]\n",
            "100%|██████████| 4967/4967 [00:00<00:00, 57934.60it/s]\n"
          ]
        }
      ]
    },
    {
      "cell_type": "code",
      "source": [
        "def parse_line(line):\n",
        "    res = []\n",
        "    for w in line.split():\n",
        "        res.append(emb_model.get_word_id(w))\n",
        "        if res[-1] == -1:\n",
        "            res.pop()\n",
        "    return res"
      ],
      "metadata": {
        "id": "HpU6L4zxfZTg"
      },
      "execution_count": null,
      "outputs": []
    },
    {
      "cell_type": "code",
      "source": [
        "print(*[parse_line(line) for line in processed_docs_train][:10], sep=\"\\n\")"
      ],
      "metadata": {
        "colab": {
          "base_uri": "https://localhost:8080/"
        },
        "id": "4QrdDbBSgns8",
        "outputId": "2e0a0597-203c-4b2d-8f3d-b7435aeae2e7"
      },
      "execution_count": null,
      "outputs": [
        {
          "output_type": "stream",
          "name": "stdout",
          "text": [
            "[1052, 502, 904, 12845, 1387, 59]\n",
            "[394, 4072, 2150, 7370, 6544, 344]\n",
            "[537, 1960, 1875, 426, 3613, 4648, 208, 669, 583]\n",
            "[5107, 10369, 819, 774, 209, 6351, 7386, 1682, 879, 283]\n",
            "[1149, 5778, 2136, 987, 3790, 283, 661]\n",
            "[469, 1620, 445, 1562, 34, 4287]\n",
            "[1753, 2805, 3126, 133, 197, 197]\n",
            "[2717, 5410, 10521, 1191, 4151, 1782]\n",
            "[8691, 956, 420, 2171]\n",
            "[1149, 6037, 358, 228, 590, 12972, 536, 3956, 478, 4478, 274, 3551, 1505, 1792]\n"
          ]
        }
      ]
    },
    {
      "cell_type": "code",
      "source": [
        "word_tokens_train = pad_sequences([parse_line(line) for line in processed_docs_train], maxlen=max_seq_len)\n",
        "if USE_TRAIN_TEST_SPLIT:\n",
        "    word_tokens_test = pad_sequences([parse_line(line) for line in processed_docs_test], maxlen=max_seq_len)"
      ],
      "metadata": {
        "id": "O5j4MzkWI2vs"
      },
      "execution_count": null,
      "outputs": []
    },
    {
      "cell_type": "code",
      "source": [
        "np.array(word_tokens_train).shape"
      ],
      "metadata": {
        "colab": {
          "base_uri": "https://localhost:8080/"
        },
        "id": "JvoKgS_Vh4Q8",
        "outputId": "97935223-9b2c-4583-b334-e0b8bfbf0750"
      },
      "execution_count": null,
      "outputs": [
        {
          "output_type": "execute_result",
          "data": {
            "text/plain": [
              "(19867, 1383)"
            ]
          },
          "metadata": {},
          "execution_count": 160
        }
      ]
    },
    {
      "cell_type": "code",
      "source": [
        "model = Sequential()\n",
        "model.add(Embedding(len(emb_model.get_words()), emb_model.get_dimension(),\n",
        "          weights=[emb_model.get_output_matrix()], input_length=max_seq_len, trainable=False))\n",
        "model.add(Bidirectional(LSTM(50)))\n",
        "model.add(Dense(num_classes, activation='sigmoid'))\n",
        "\n",
        "adam = optimizers.Adam(lr=0.001, beta_1=0.9, beta_2=0.999, epsilon=1e-08, decay=0.0)\n",
        "model.compile(loss='binary_crossentropy', optimizer=adam, metrics=['accuracy'])\n",
        "model.summary()"
      ],
      "metadata": {
        "colab": {
          "base_uri": "https://localhost:8080/"
        },
        "id": "5kOm9azTWlR7",
        "outputId": "929c93d4-683c-460e-e64c-357047803996"
      },
      "execution_count": null,
      "outputs": [
        {
          "output_type": "stream",
          "name": "stdout",
          "text": [
            "Model: \"sequential_8\"\n",
            "_________________________________________________________________\n",
            " Layer (type)                Output Shape              Param #   \n",
            "=================================================================\n",
            " embedding_6 (Embedding)     (None, 1383, 50)          656400    \n",
            "                                                                 \n",
            " bidirectional_6 (Bidirectio  (None, 100)              40400     \n",
            " nal)                                                            \n",
            "                                                                 \n",
            " dense_8 (Dense)             (None, 5)                 505       \n",
            "                                                                 \n",
            "=================================================================\n",
            "Total params: 697,305\n",
            "Trainable params: 40,905\n",
            "Non-trainable params: 656,400\n",
            "_________________________________________________________________\n"
          ]
        }
      ]
    },
    {
      "cell_type": "code",
      "source": [
        "hist = model.fit(\n",
        "    word_tokens_train,\n",
        "    np.array(y_train),\n",
        "    batch_size=batch_size,\n",
        "    epochs=num_epochs,\n",
        "    shuffle=True,\n",
        "    validation_split=.25,\n",
        "    verbose=2\n",
        ")"
      ],
      "metadata": {
        "colab": {
          "base_uri": "https://localhost:8080/",
          "height": 467
        },
        "id": "5h_r2jG5WHgW",
        "outputId": "5af59e38-cb6a-45d1-e72f-d33cf041a614"
      },
      "execution_count": null,
      "outputs": [
        {
          "output_type": "stream",
          "name": "stdout",
          "text": [
            "Epoch 1/8\n",
            "59/59 - 356s - loss: 0.3654 - accuracy: 0.6515 - val_loss: 0.2656 - val_accuracy: 0.6797 - 356s/epoch - 6s/step\n",
            "Epoch 2/8\n",
            "59/59 - 342s - loss: 0.2407 - accuracy: 0.7346 - val_loss: 0.2296 - val_accuracy: 0.7582 - 342s/epoch - 6s/step\n",
            "Epoch 3/8\n"
          ]
        },
        {
          "output_type": "error",
          "ename": "KeyboardInterrupt",
          "evalue": "ignored",
          "traceback": [
            "\u001b[0;31m---------------------------------------------------------------------------\u001b[0m",
            "\u001b[0;31mKeyboardInterrupt\u001b[0m                         Traceback (most recent call last)",
            "\u001b[0;32m<ipython-input-162-9ab4986ab384>\u001b[0m in \u001b[0;36m<cell line: 1>\u001b[0;34m()\u001b[0m\n\u001b[0;32m----> 1\u001b[0;31m hist = model.fit(\n\u001b[0m\u001b[1;32m      2\u001b[0m     \u001b[0mword_tokens_train\u001b[0m\u001b[0;34m,\u001b[0m\u001b[0;34m\u001b[0m\u001b[0;34m\u001b[0m\u001b[0m\n\u001b[1;32m      3\u001b[0m     \u001b[0mnp\u001b[0m\u001b[0;34m.\u001b[0m\u001b[0marray\u001b[0m\u001b[0;34m(\u001b[0m\u001b[0my_train\u001b[0m\u001b[0;34m)\u001b[0m\u001b[0;34m,\u001b[0m\u001b[0;34m\u001b[0m\u001b[0;34m\u001b[0m\u001b[0m\n\u001b[1;32m      4\u001b[0m     \u001b[0mbatch_size\u001b[0m\u001b[0;34m=\u001b[0m\u001b[0mbatch_size\u001b[0m\u001b[0;34m,\u001b[0m\u001b[0;34m\u001b[0m\u001b[0;34m\u001b[0m\u001b[0m\n\u001b[1;32m      5\u001b[0m     \u001b[0mepochs\u001b[0m\u001b[0;34m=\u001b[0m\u001b[0mnum_epochs\u001b[0m\u001b[0;34m,\u001b[0m\u001b[0;34m\u001b[0m\u001b[0;34m\u001b[0m\u001b[0m\n",
            "\u001b[0;32m/usr/local/lib/python3.10/dist-packages/keras/utils/traceback_utils.py\u001b[0m in \u001b[0;36merror_handler\u001b[0;34m(*args, **kwargs)\u001b[0m\n\u001b[1;32m     63\u001b[0m         \u001b[0mfiltered_tb\u001b[0m \u001b[0;34m=\u001b[0m \u001b[0;32mNone\u001b[0m\u001b[0;34m\u001b[0m\u001b[0;34m\u001b[0m\u001b[0m\n\u001b[1;32m     64\u001b[0m         \u001b[0;32mtry\u001b[0m\u001b[0;34m:\u001b[0m\u001b[0;34m\u001b[0m\u001b[0;34m\u001b[0m\u001b[0m\n\u001b[0;32m---> 65\u001b[0;31m             \u001b[0;32mreturn\u001b[0m \u001b[0mfn\u001b[0m\u001b[0;34m(\u001b[0m\u001b[0;34m*\u001b[0m\u001b[0margs\u001b[0m\u001b[0;34m,\u001b[0m \u001b[0;34m**\u001b[0m\u001b[0mkwargs\u001b[0m\u001b[0;34m)\u001b[0m\u001b[0;34m\u001b[0m\u001b[0;34m\u001b[0m\u001b[0m\n\u001b[0m\u001b[1;32m     66\u001b[0m         \u001b[0;32mexcept\u001b[0m \u001b[0mException\u001b[0m \u001b[0;32mas\u001b[0m \u001b[0me\u001b[0m\u001b[0;34m:\u001b[0m\u001b[0;34m\u001b[0m\u001b[0;34m\u001b[0m\u001b[0m\n\u001b[1;32m     67\u001b[0m             \u001b[0mfiltered_tb\u001b[0m \u001b[0;34m=\u001b[0m \u001b[0m_process_traceback_frames\u001b[0m\u001b[0;34m(\u001b[0m\u001b[0me\u001b[0m\u001b[0;34m.\u001b[0m\u001b[0m__traceback__\u001b[0m\u001b[0;34m)\u001b[0m\u001b[0;34m\u001b[0m\u001b[0;34m\u001b[0m\u001b[0m\n",
            "\u001b[0;32m/usr/local/lib/python3.10/dist-packages/keras/engine/training.py\u001b[0m in \u001b[0;36mfit\u001b[0;34m(self, x, y, batch_size, epochs, verbose, callbacks, validation_split, validation_data, shuffle, class_weight, sample_weight, initial_epoch, steps_per_epoch, validation_steps, validation_batch_size, validation_freq, max_queue_size, workers, use_multiprocessing)\u001b[0m\n\u001b[1;32m   1727\u001b[0m                             \u001b[0msteps_per_execution\u001b[0m\u001b[0;34m=\u001b[0m\u001b[0mself\u001b[0m\u001b[0;34m.\u001b[0m\u001b[0m_steps_per_execution\u001b[0m\u001b[0;34m,\u001b[0m\u001b[0;34m\u001b[0m\u001b[0;34m\u001b[0m\u001b[0m\n\u001b[1;32m   1728\u001b[0m                         )\n\u001b[0;32m-> 1729\u001b[0;31m                     val_logs = self.evaluate(\n\u001b[0m\u001b[1;32m   1730\u001b[0m                         \u001b[0mx\u001b[0m\u001b[0;34m=\u001b[0m\u001b[0mval_x\u001b[0m\u001b[0;34m,\u001b[0m\u001b[0;34m\u001b[0m\u001b[0;34m\u001b[0m\u001b[0m\n\u001b[1;32m   1731\u001b[0m                         \u001b[0my\u001b[0m\u001b[0;34m=\u001b[0m\u001b[0mval_y\u001b[0m\u001b[0;34m,\u001b[0m\u001b[0;34m\u001b[0m\u001b[0;34m\u001b[0m\u001b[0m\n",
            "\u001b[0;32m/usr/local/lib/python3.10/dist-packages/keras/utils/traceback_utils.py\u001b[0m in \u001b[0;36merror_handler\u001b[0;34m(*args, **kwargs)\u001b[0m\n\u001b[1;32m     63\u001b[0m         \u001b[0mfiltered_tb\u001b[0m \u001b[0;34m=\u001b[0m \u001b[0;32mNone\u001b[0m\u001b[0;34m\u001b[0m\u001b[0;34m\u001b[0m\u001b[0m\n\u001b[1;32m     64\u001b[0m         \u001b[0;32mtry\u001b[0m\u001b[0;34m:\u001b[0m\u001b[0;34m\u001b[0m\u001b[0;34m\u001b[0m\u001b[0m\n\u001b[0;32m---> 65\u001b[0;31m             \u001b[0;32mreturn\u001b[0m \u001b[0mfn\u001b[0m\u001b[0;34m(\u001b[0m\u001b[0;34m*\u001b[0m\u001b[0margs\u001b[0m\u001b[0;34m,\u001b[0m \u001b[0;34m**\u001b[0m\u001b[0mkwargs\u001b[0m\u001b[0;34m)\u001b[0m\u001b[0;34m\u001b[0m\u001b[0;34m\u001b[0m\u001b[0m\n\u001b[0m\u001b[1;32m     66\u001b[0m         \u001b[0;32mexcept\u001b[0m \u001b[0mException\u001b[0m \u001b[0;32mas\u001b[0m \u001b[0me\u001b[0m\u001b[0;34m:\u001b[0m\u001b[0;34m\u001b[0m\u001b[0;34m\u001b[0m\u001b[0m\n\u001b[1;32m     67\u001b[0m             \u001b[0mfiltered_tb\u001b[0m \u001b[0;34m=\u001b[0m \u001b[0m_process_traceback_frames\u001b[0m\u001b[0;34m(\u001b[0m\u001b[0me\u001b[0m\u001b[0;34m.\u001b[0m\u001b[0m__traceback__\u001b[0m\u001b[0;34m)\u001b[0m\u001b[0;34m\u001b[0m\u001b[0;34m\u001b[0m\u001b[0m\n",
            "\u001b[0;32m/usr/local/lib/python3.10/dist-packages/keras/engine/training.py\u001b[0m in \u001b[0;36mevaluate\u001b[0;34m(self, x, y, batch_size, verbose, sample_weight, steps, callbacks, max_queue_size, workers, use_multiprocessing, return_dict, **kwargs)\u001b[0m\n\u001b[1;32m   2070\u001b[0m                         ):\n\u001b[1;32m   2071\u001b[0m                             \u001b[0mcallbacks\u001b[0m\u001b[0;34m.\u001b[0m\u001b[0mon_test_batch_begin\u001b[0m\u001b[0;34m(\u001b[0m\u001b[0mstep\u001b[0m\u001b[0;34m)\u001b[0m\u001b[0;34m\u001b[0m\u001b[0;34m\u001b[0m\u001b[0m\n\u001b[0;32m-> 2072\u001b[0;31m                             \u001b[0mtmp_logs\u001b[0m \u001b[0;34m=\u001b[0m \u001b[0mself\u001b[0m\u001b[0;34m.\u001b[0m\u001b[0mtest_function\u001b[0m\u001b[0;34m(\u001b[0m\u001b[0miterator\u001b[0m\u001b[0;34m)\u001b[0m\u001b[0;34m\u001b[0m\u001b[0;34m\u001b[0m\u001b[0m\n\u001b[0m\u001b[1;32m   2073\u001b[0m                             \u001b[0;32mif\u001b[0m \u001b[0mdata_handler\u001b[0m\u001b[0;34m.\u001b[0m\u001b[0mshould_sync\u001b[0m\u001b[0;34m:\u001b[0m\u001b[0;34m\u001b[0m\u001b[0;34m\u001b[0m\u001b[0m\n\u001b[1;32m   2074\u001b[0m                                 \u001b[0mcontext\u001b[0m\u001b[0;34m.\u001b[0m\u001b[0masync_wait\u001b[0m\u001b[0;34m(\u001b[0m\u001b[0;34m)\u001b[0m\u001b[0;34m\u001b[0m\u001b[0;34m\u001b[0m\u001b[0m\n",
            "\u001b[0;32m/usr/local/lib/python3.10/dist-packages/tensorflow/python/util/traceback_utils.py\u001b[0m in \u001b[0;36merror_handler\u001b[0;34m(*args, **kwargs)\u001b[0m\n\u001b[1;32m    148\u001b[0m     \u001b[0mfiltered_tb\u001b[0m \u001b[0;34m=\u001b[0m \u001b[0;32mNone\u001b[0m\u001b[0;34m\u001b[0m\u001b[0;34m\u001b[0m\u001b[0m\n\u001b[1;32m    149\u001b[0m     \u001b[0;32mtry\u001b[0m\u001b[0;34m:\u001b[0m\u001b[0;34m\u001b[0m\u001b[0;34m\u001b[0m\u001b[0m\n\u001b[0;32m--> 150\u001b[0;31m       \u001b[0;32mreturn\u001b[0m \u001b[0mfn\u001b[0m\u001b[0;34m(\u001b[0m\u001b[0;34m*\u001b[0m\u001b[0margs\u001b[0m\u001b[0;34m,\u001b[0m \u001b[0;34m**\u001b[0m\u001b[0mkwargs\u001b[0m\u001b[0;34m)\u001b[0m\u001b[0;34m\u001b[0m\u001b[0;34m\u001b[0m\u001b[0m\n\u001b[0m\u001b[1;32m    151\u001b[0m     \u001b[0;32mexcept\u001b[0m \u001b[0mException\u001b[0m \u001b[0;32mas\u001b[0m \u001b[0me\u001b[0m\u001b[0;34m:\u001b[0m\u001b[0;34m\u001b[0m\u001b[0;34m\u001b[0m\u001b[0m\n\u001b[1;32m    152\u001b[0m       \u001b[0mfiltered_tb\u001b[0m \u001b[0;34m=\u001b[0m \u001b[0m_process_traceback_frames\u001b[0m\u001b[0;34m(\u001b[0m\u001b[0me\u001b[0m\u001b[0;34m.\u001b[0m\u001b[0m__traceback__\u001b[0m\u001b[0;34m)\u001b[0m\u001b[0;34m\u001b[0m\u001b[0;34m\u001b[0m\u001b[0m\n",
            "\u001b[0;32m/usr/local/lib/python3.10/dist-packages/tensorflow/python/eager/polymorphic_function/polymorphic_function.py\u001b[0m in \u001b[0;36m__call__\u001b[0;34m(self, *args, **kwds)\u001b[0m\n\u001b[1;32m    892\u001b[0m \u001b[0;34m\u001b[0m\u001b[0m\n\u001b[1;32m    893\u001b[0m       \u001b[0;32mwith\u001b[0m \u001b[0mOptionalXlaContext\u001b[0m\u001b[0;34m(\u001b[0m\u001b[0mself\u001b[0m\u001b[0;34m.\u001b[0m\u001b[0m_jit_compile\u001b[0m\u001b[0;34m)\u001b[0m\u001b[0;34m:\u001b[0m\u001b[0;34m\u001b[0m\u001b[0;34m\u001b[0m\u001b[0m\n\u001b[0;32m--> 894\u001b[0;31m         \u001b[0mresult\u001b[0m \u001b[0;34m=\u001b[0m \u001b[0mself\u001b[0m\u001b[0;34m.\u001b[0m\u001b[0m_call\u001b[0m\u001b[0;34m(\u001b[0m\u001b[0;34m*\u001b[0m\u001b[0margs\u001b[0m\u001b[0;34m,\u001b[0m \u001b[0;34m**\u001b[0m\u001b[0mkwds\u001b[0m\u001b[0;34m)\u001b[0m\u001b[0;34m\u001b[0m\u001b[0;34m\u001b[0m\u001b[0m\n\u001b[0m\u001b[1;32m    895\u001b[0m \u001b[0;34m\u001b[0m\u001b[0m\n\u001b[1;32m    896\u001b[0m       \u001b[0mnew_tracing_count\u001b[0m \u001b[0;34m=\u001b[0m \u001b[0mself\u001b[0m\u001b[0;34m.\u001b[0m\u001b[0mexperimental_get_tracing_count\u001b[0m\u001b[0;34m(\u001b[0m\u001b[0;34m)\u001b[0m\u001b[0;34m\u001b[0m\u001b[0;34m\u001b[0m\u001b[0m\n",
            "\u001b[0;32m/usr/local/lib/python3.10/dist-packages/tensorflow/python/eager/polymorphic_function/polymorphic_function.py\u001b[0m in \u001b[0;36m_call\u001b[0;34m(self, *args, **kwds)\u001b[0m\n\u001b[1;32m    931\u001b[0m       \u001b[0;31m# In this case we have not created variables on the first call. So we can\u001b[0m\u001b[0;34m\u001b[0m\u001b[0;34m\u001b[0m\u001b[0m\n\u001b[1;32m    932\u001b[0m       \u001b[0;31m# run the first trace but we should fail if variables are created.\u001b[0m\u001b[0;34m\u001b[0m\u001b[0;34m\u001b[0m\u001b[0m\n\u001b[0;32m--> 933\u001b[0;31m       \u001b[0mresults\u001b[0m \u001b[0;34m=\u001b[0m \u001b[0mself\u001b[0m\u001b[0;34m.\u001b[0m\u001b[0m_variable_creation_fn\u001b[0m\u001b[0;34m(\u001b[0m\u001b[0;34m*\u001b[0m\u001b[0margs\u001b[0m\u001b[0;34m,\u001b[0m \u001b[0;34m**\u001b[0m\u001b[0mkwds\u001b[0m\u001b[0;34m)\u001b[0m\u001b[0;34m\u001b[0m\u001b[0;34m\u001b[0m\u001b[0m\n\u001b[0m\u001b[1;32m    934\u001b[0m       \u001b[0;32mif\u001b[0m \u001b[0mself\u001b[0m\u001b[0;34m.\u001b[0m\u001b[0m_created_variables\u001b[0m \u001b[0;32mand\u001b[0m \u001b[0;32mnot\u001b[0m \u001b[0mALLOW_DYNAMIC_VARIABLE_CREATION\u001b[0m\u001b[0;34m:\u001b[0m\u001b[0;34m\u001b[0m\u001b[0;34m\u001b[0m\u001b[0m\n\u001b[1;32m    935\u001b[0m         raise ValueError(\"Creating variables on a non-first call to a function\"\n",
            "\u001b[0;32m/usr/local/lib/python3.10/dist-packages/tensorflow/python/eager/polymorphic_function/tracing_compiler.py\u001b[0m in \u001b[0;36m__call__\u001b[0;34m(self, *args, **kwargs)\u001b[0m\n\u001b[1;32m    141\u001b[0m       (concrete_function,\n\u001b[1;32m    142\u001b[0m        filtered_flat_args) = self._maybe_define_function(args, kwargs)\n\u001b[0;32m--> 143\u001b[0;31m     return concrete_function._call_flat(\n\u001b[0m\u001b[1;32m    144\u001b[0m         filtered_flat_args, captured_inputs=concrete_function.captured_inputs)  # pylint: disable=protected-access\n\u001b[1;32m    145\u001b[0m \u001b[0;34m\u001b[0m\u001b[0m\n",
            "\u001b[0;32m/usr/local/lib/python3.10/dist-packages/tensorflow/python/eager/polymorphic_function/monomorphic_function.py\u001b[0m in \u001b[0;36m_call_flat\u001b[0;34m(self, args, captured_inputs, cancellation_manager)\u001b[0m\n\u001b[1;32m   1755\u001b[0m         and executing_eagerly):\n\u001b[1;32m   1756\u001b[0m       \u001b[0;31m# No tape is watching; skip to running the function.\u001b[0m\u001b[0;34m\u001b[0m\u001b[0;34m\u001b[0m\u001b[0m\n\u001b[0;32m-> 1757\u001b[0;31m       return self._build_call_outputs(self._inference_function.call(\n\u001b[0m\u001b[1;32m   1758\u001b[0m           ctx, args, cancellation_manager=cancellation_manager))\n\u001b[1;32m   1759\u001b[0m     forward_backward = self._select_forward_and_backward_functions(\n",
            "\u001b[0;32m/usr/local/lib/python3.10/dist-packages/tensorflow/python/eager/polymorphic_function/monomorphic_function.py\u001b[0m in \u001b[0;36mcall\u001b[0;34m(self, ctx, args, cancellation_manager)\u001b[0m\n\u001b[1;32m    379\u001b[0m       \u001b[0;32mwith\u001b[0m \u001b[0m_InterpolateFunctionError\u001b[0m\u001b[0;34m(\u001b[0m\u001b[0mself\u001b[0m\u001b[0;34m)\u001b[0m\u001b[0;34m:\u001b[0m\u001b[0;34m\u001b[0m\u001b[0;34m\u001b[0m\u001b[0m\n\u001b[1;32m    380\u001b[0m         \u001b[0;32mif\u001b[0m \u001b[0mcancellation_manager\u001b[0m \u001b[0;32mis\u001b[0m \u001b[0;32mNone\u001b[0m\u001b[0;34m:\u001b[0m\u001b[0;34m\u001b[0m\u001b[0;34m\u001b[0m\u001b[0m\n\u001b[0;32m--> 381\u001b[0;31m           outputs = execute.execute(\n\u001b[0m\u001b[1;32m    382\u001b[0m               \u001b[0mstr\u001b[0m\u001b[0;34m(\u001b[0m\u001b[0mself\u001b[0m\u001b[0;34m.\u001b[0m\u001b[0msignature\u001b[0m\u001b[0;34m.\u001b[0m\u001b[0mname\u001b[0m\u001b[0;34m)\u001b[0m\u001b[0;34m,\u001b[0m\u001b[0;34m\u001b[0m\u001b[0;34m\u001b[0m\u001b[0m\n\u001b[1;32m    383\u001b[0m               \u001b[0mnum_outputs\u001b[0m\u001b[0;34m=\u001b[0m\u001b[0mself\u001b[0m\u001b[0;34m.\u001b[0m\u001b[0m_num_outputs\u001b[0m\u001b[0;34m,\u001b[0m\u001b[0;34m\u001b[0m\u001b[0;34m\u001b[0m\u001b[0m\n",
            "\u001b[0;32m/usr/local/lib/python3.10/dist-packages/tensorflow/python/eager/execute.py\u001b[0m in \u001b[0;36mquick_execute\u001b[0;34m(op_name, num_outputs, inputs, attrs, ctx, name)\u001b[0m\n\u001b[1;32m     50\u001b[0m   \u001b[0;32mtry\u001b[0m\u001b[0;34m:\u001b[0m\u001b[0;34m\u001b[0m\u001b[0;34m\u001b[0m\u001b[0m\n\u001b[1;32m     51\u001b[0m     \u001b[0mctx\u001b[0m\u001b[0;34m.\u001b[0m\u001b[0mensure_initialized\u001b[0m\u001b[0;34m(\u001b[0m\u001b[0;34m)\u001b[0m\u001b[0;34m\u001b[0m\u001b[0;34m\u001b[0m\u001b[0m\n\u001b[0;32m---> 52\u001b[0;31m     tensors = pywrap_tfe.TFE_Py_Execute(ctx._handle, device_name, op_name,\n\u001b[0m\u001b[1;32m     53\u001b[0m                                         inputs, attrs, num_outputs)\n\u001b[1;32m     54\u001b[0m   \u001b[0;32mexcept\u001b[0m \u001b[0mcore\u001b[0m\u001b[0;34m.\u001b[0m\u001b[0m_NotOkStatusException\u001b[0m \u001b[0;32mas\u001b[0m \u001b[0me\u001b[0m\u001b[0;34m:\u001b[0m\u001b[0;34m\u001b[0m\u001b[0;34m\u001b[0m\u001b[0m\n",
            "\u001b[0;31mKeyboardInterrupt\u001b[0m: "
          ]
        }
      ]
    },
    {
      "cell_type": "markdown",
      "source": [
        "# CNN and RNN"
      ],
      "metadata": {
        "id": "hnERfWaM1nkC"
      }
    },
    {
      "cell_type": "markdown",
      "source": [
        "## Imports"
      ],
      "metadata": {
        "id": "v3gvtDxS1tAy"
      }
    },
    {
      "cell_type": "code",
      "source": [
        "import numpy as np\n",
        "import pandas as pd\n",
        "import seaborn as sns\n",
        "import matplotlib.pyplot as plt\n",
        "\n",
        "import keras\n",
        "from keras import optimizers\n",
        "from keras import backend as K\n",
        "from keras import regularizers\n",
        "from keras.models import Sequential\n",
        "from keras.layers import Dense, Activation, Dropout, Flatten\n",
        "from keras.layers import Embedding, Conv1D, MaxPooling1D, GlobalMaxPooling1D\n",
        "from keras.utils import plot_model\n",
        "from keras.preprocessing import sequence\n",
        "from keras.preprocessing.text import Tokenizer\n",
        "from keras.callbacks import EarlyStopping\n",
        "\n",
        "from tqdm import tqdm\n",
        "from nltk.corpus import stopwords\n",
        "from nltk.tokenize import RegexpTokenizer\n",
        "import os, re, csv, math, codecs\n",
        "\n",
        "from sklearn.model_selection import train_test_split\n",
        "from keras.utils import pad_sequences\n",
        "from keras.layers import Bidirectional, LSTM, Embedding\n",
        "import pickle"
      ],
      "metadata": {
        "id": "1Vz3TaF2oxAs"
      },
      "execution_count": null,
      "outputs": []
    },
    {
      "cell_type": "code",
      "source": [
        "#training params\n",
        "batch_size = 256\n",
        "num_epochs = 8\n",
        "\n",
        "#model parameters\n",
        "num_filters = 64\n",
        "embed_dim = 300\n",
        "weight_decay = 1e-4"
      ],
      "metadata": {
        "id": "ef-JoeOH6WP8"
      },
      "execution_count": null,
      "outputs": []
    },
    {
      "cell_type": "code",
      "source": [
        "import nltk\n",
        "nltk.download(\"stopwords\")"
      ],
      "metadata": {
        "colab": {
          "base_uri": "https://localhost:8080/"
        },
        "id": "LDeiTmx2yliS",
        "outputId": "860bc28d-7790-4957-edaa-3d1df149aa11"
      },
      "execution_count": null,
      "outputs": [
        {
          "output_type": "stream",
          "name": "stderr",
          "text": [
            "[nltk_data] Downloading package stopwords to /root/nltk_data...\n",
            "[nltk_data]   Package stopwords is already up-to-date!\n"
          ]
        },
        {
          "output_type": "execute_result",
          "data": {
            "text/plain": [
              "True"
            ]
          },
          "metadata": {},
          "execution_count": 47
        }
      ]
    },
    {
      "cell_type": "code",
      "source": [
        "sns.set_style(\"whitegrid\")\n",
        "np.random.seed(0)"
      ],
      "metadata": {
        "id": "I278XYxSyqp4"
      },
      "execution_count": null,
      "outputs": []
    },
    {
      "cell_type": "code",
      "source": [
        "MAX_NB_WORDS = 100000\n",
        "tokenizer = RegexpTokenizer(r'\\w+')\n",
        "stop_words = set(stopwords.words('russian'))\n",
        "stop_words.update(['.', ',', '\"', \"'\", ':', ';', '(', ')', '[', ']', '{', '}'])\n",
        "# EMBEDDING_PATH = data_path / \"custom_embedding.vec\"\n",
        "EMBEDDING_PATH = data_path / \"cc.ru.300.vec\"\n",
        "FREQ_FILTER = -1"
      ],
      "metadata": {
        "id": "7-TP3nHNyT06"
      },
      "execution_count": null,
      "outputs": []
    },
    {
      "cell_type": "code",
      "source": [
        "label_names = ('manipulation', 'profanity', 'advertisement', 'begging', 'normal')"
      ],
      "metadata": {
        "id": "jhZKqoLV2Nj3"
      },
      "execution_count": null,
      "outputs": []
    },
    {
      "cell_type": "markdown",
      "source": [
        "## Freq Analyze"
      ],
      "metadata": {
        "id": "zadib84I_52K"
      }
    },
    {
      "cell_type": "code",
      "source": [
        "from collections import Counter"
      ],
      "metadata": {
        "id": "xSGdoxnQ5IZP"
      },
      "execution_count": null,
      "outputs": []
    },
    {
      "cell_type": "code",
      "source": [
        "tokenizer = RegexpTokenizer(r'\\w+')\n",
        "texts = []\n",
        "for line in df.post_txt:\n",
        "    texts += [w for w in tokenizer.tokenize(line.lower()) if w not in stop_words]\n",
        "arr = np.fromiter(map(lambda x: x[1], Counter(texts).most_common()), dtype=int)\n",
        "counter = Counter(texts)"
      ],
      "metadata": {
        "id": "Nhqypg8d4vDL"
      },
      "execution_count": null,
      "outputs": []
    },
    {
      "cell_type": "code",
      "source": [
        "arr.shape[0] * .2"
      ],
      "metadata": {
        "colab": {
          "base_uri": "https://localhost:8080/"
        },
        "id": "50g3j6iF99X4",
        "outputId": "ccd32cf8-f6e2-4c7c-e4f0-5b83250f0cbb"
      },
      "execution_count": null,
      "outputs": [
        {
          "output_type": "execute_result",
          "data": {
            "text/plain": [
              "11242.2"
            ]
          },
          "metadata": {},
          "execution_count": 189
        }
      ]
    },
    {
      "cell_type": "code",
      "source": [
        "np.quantile(arr, .8)"
      ],
      "metadata": {
        "colab": {
          "base_uri": "https://localhost:8080/"
        },
        "id": "97Ebum6W66ku",
        "outputId": "99a6c26a-cdde-428a-a8e0-4ba3a1a233c4"
      },
      "execution_count": null,
      "outputs": [
        {
          "output_type": "execute_result",
          "data": {
            "text/plain": [
              "5.0"
            ]
          },
          "metadata": {},
          "execution_count": 190
        }
      ]
    },
    {
      "cell_type": "markdown",
      "source": [
        "## Download fasttext vectors"
      ],
      "metadata": {
        "id": "reD1qFpK1yWn"
      }
    },
    {
      "cell_type": "code",
      "source": [
        "!wget https://dl.fbaipublicfiles.com/fasttext/vectors-crawl/cc.ru.300.vec.gz"
      ],
      "metadata": {
        "colab": {
          "base_uri": "https://localhost:8080/"
        },
        "id": "XsfsiX5CyuI2",
        "outputId": "d65dfc90-8237-4fd9-d2a1-22234fda2d77"
      },
      "execution_count": null,
      "outputs": [
        {
          "output_type": "stream",
          "name": "stdout",
          "text": [
            "--2023-05-02 07:17:17--  https://dl.fbaipublicfiles.com/fasttext/vectors-crawl/cc.ru.300.vec.gz\n",
            "Resolving dl.fbaipublicfiles.com (dl.fbaipublicfiles.com)... 65.8.248.107, 65.8.248.127, 65.8.248.124, ...\n",
            "Connecting to dl.fbaipublicfiles.com (dl.fbaipublicfiles.com)|65.8.248.107|:443... connected.\n",
            "HTTP request sent, awaiting response... 200 OK\n",
            "Length: 1306357571 (1.2G) [binary/octet-stream]\n",
            "Saving to: ‘cc.ru.300.vec.gz’\n",
            "\n",
            "cc.ru.300.vec.gz     18%[==>                 ] 224.48M  65.6MB/s    eta 16s    ^C\n"
          ]
        }
      ]
    },
    {
      "cell_type": "code",
      "source": [
        "!gunzip cc.ru.300.vec.gz"
      ],
      "metadata": {
        "id": "F-w47QcqzeA6"
      },
      "execution_count": null,
      "outputs": []
    },
    {
      "cell_type": "code",
      "source": [
        "!cp /content/cc.ru.300.vec {data_path}"
      ],
      "metadata": {
        "id": "9u0rIZky1FBs",
        "colab": {
          "base_uri": "https://localhost:8080/"
        },
        "outputId": "1cce743c-5303-4ddf-cce3-21cdea6e24d2"
      },
      "execution_count": null,
      "outputs": [
        {
          "output_type": "stream",
          "name": "stdout",
          "text": [
            "cp: cannot stat '/content/cc.ru.300.vec': No such file or directory\n"
          ]
        }
      ]
    },
    {
      "cell_type": "markdown",
      "source": [
        "## Load embeddings"
      ],
      "metadata": {
        "id": "g26LlmeS17D9"
      }
    },
    {
      "cell_type": "code",
      "source": [
        "embeddings_index = {}\n",
        "f = codecs.open(EMBEDDING_PATH, encoding='utf-8')\n",
        "for line in tqdm(f):\n",
        "    values = line.rstrip().rsplit(' ')\n",
        "    word = values[0]\n",
        "    coefs = np.asarray(values[1:], dtype='float32')\n",
        "    embeddings_index[word] = coefs\n",
        "f.close()\n",
        "print('\\nfound %s word vectors' % len(embeddings_index))"
      ],
      "metadata": {
        "colab": {
          "base_uri": "https://localhost:8080/"
        },
        "id": "F0hEyBJX2B6F",
        "outputId": "b44da033-32b1-422a-d534-8e6485b05a23"
      },
      "execution_count": null,
      "outputs": [
        {
          "output_type": "stream",
          "name": "stderr",
          "text": [
            "2000001it [03:48, 8734.20it/s] "
          ]
        },
        {
          "output_type": "stream",
          "name": "stdout",
          "text": [
            "\n",
            "found 2000000 word vectors\n"
          ]
        },
        {
          "output_type": "stream",
          "name": "stderr",
          "text": [
            "\n"
          ]
        }
      ]
    },
    {
      "cell_type": "markdown",
      "source": [
        "## Get Class Weights"
      ],
      "metadata": {
        "id": "3gnoVDArS2lC"
      }
    },
    {
      "cell_type": "code",
      "source": [
        "_df = df.copy()\n",
        "_df[\"label\"] = list(map(lambda x: get_label(x[1], x[2], x[3], x[4]), _df.itertuples(index=False, name=None)))\n",
        "_weights = 1 - (_df.label.value_counts() / len(_df.label))\n",
        "class_weights = {\n",
        "    i: _weights[label_names[i]]\n",
        "    for i in range(5)\n",
        "}"
      ],
      "metadata": {
        "id": "rcqYD9BWS5Hd"
      },
      "execution_count": null,
      "outputs": []
    },
    {
      "cell_type": "markdown",
      "source": [
        "## Prepare train/test data"
      ],
      "metadata": {
        "id": "9p6wkWk12Txi"
      }
    },
    {
      "cell_type": "code",
      "source": [
        "USE_TRAIN_TEST_SPLIT = False"
      ],
      "metadata": {
        "id": "qoOjVLTS2hAt"
      },
      "execution_count": null,
      "outputs": []
    },
    {
      "cell_type": "code",
      "source": [
        "if USE_TRAIN_TEST_SPLIT:\n",
        "    train_df, test_df = train_test_split(df, train_size=.8)\n",
        "    print(\"num train: \", train_df.shape[0])\n",
        "    print(\"num test: \", test_df.shape[0])\n",
        "else:\n",
        "    train_df = df"
      ],
      "metadata": {
        "id": "soZMoQ_F4Vpp"
      },
      "execution_count": null,
      "outputs": []
    },
    {
      "cell_type": "code",
      "source": [
        "y_train = []\n",
        "for _, c1, c2, c3, c4, *_ in train_df.itertuples(index=False, name=None):\n",
        "    y_train.append([c1, c2, c3, c4, int(not (c1 or c2 or c3 or c4))])"
      ],
      "metadata": {
        "id": "pAO2C6st5OBV"
      },
      "execution_count": null,
      "outputs": []
    },
    {
      "cell_type": "code",
      "source": [
        "train_df['doc_len'] = train_df['post_txt'].apply(lambda words: len(words.split(\" \")))\n",
        "max_seq_len = np.round(train_df['doc_len'].mean() + train_df['doc_len'].std()).astype(int)"
      ],
      "metadata": {
        "id": "C8UQy3ya6eB9"
      },
      "execution_count": null,
      "outputs": []
    },
    {
      "cell_type": "code",
      "source": [
        "max_seq_len = 64"
      ],
      "metadata": {
        "id": "BgdvoWceBxql"
      },
      "execution_count": null,
      "outputs": []
    },
    {
      "cell_type": "markdown",
      "source": [
        "## Визуализация данных"
      ],
      "metadata": {
        "id": "8mJJ-5x62_nQ"
      }
    },
    {
      "cell_type": "code",
      "source": [
        "sns.distplot(train_df['doc_len'], hist=True, kde=True, color='b', label='doc len')\n",
        "plt.axvline(x=max_seq_len, color='k', linestyle='--', label='max len')\n",
        "plt.title('comment length'); plt.legend()\n",
        "plt.show()"
      ],
      "metadata": {
        "colab": {
          "base_uri": "https://localhost:8080/",
          "height": 663
        },
        "id": "_IlpveIg4-1P",
        "outputId": "babbdf81-953d-4544-c1c8-1eae81d14861"
      },
      "execution_count": null,
      "outputs": [
        {
          "output_type": "stream",
          "name": "stderr",
          "text": [
            "<ipython-input-183-d2dab33378f9>:4: UserWarning: \n",
            "\n",
            "`distplot` is a deprecated function and will be removed in seaborn v0.14.0.\n",
            "\n",
            "Please adapt your code to use either `displot` (a figure-level function with\n",
            "similar flexibility) or `histplot` (an axes-level function for histograms).\n",
            "\n",
            "For a guide to updating your code to use the new functions, please see\n",
            "https://gist.github.com/mwaskom/de44147ed2974457ad6372750bbe5751\n",
            "\n",
            "  sns.distplot(train_df['doc_len'], hist=True, kde=True, color='b', label='doc len')\n"
          ]
        },
        {
          "output_type": "display_data",
          "data": {
            "text/plain": [
              "<Figure size 640x480 with 1 Axes>"
            ],
            "image/png": "[encoded data removed]"
          },
          "metadata": {}
        }
      ]
    },
    {
      "cell_type": "markdown",
      "source": [
        "## Векторизация"
      ],
      "metadata": {
        "id": "zTx-Hhwh3LPL"
      }
    },
    {
      "cell_type": "code",
      "source": [
        "raw_docs_train = train_df['post_txt'].tolist()\n",
        "if USE_TRAIN_TEST_SPLIT:\n",
        "    raw_docs_test = test_df['post_txt'].tolist()\n",
        "num_classes = len(label_names)"
      ],
      "metadata": {
        "id": "c3gC72t15rI4"
      },
      "execution_count": null,
      "outputs": []
    },
    {
      "cell_type": "code",
      "source": [
        "counter = create_counter(df)\n",
        "\n",
        "processed_docs_train = []\n",
        "for doc in tqdm(raw_docs_train):\n",
        "    tokens = tokenizer.tokenize(doc.lower())\n",
        "    filtered = [word for word in tokens if (word not in stop_words) and (counter[word] >= FREQ_FILTER)]\n",
        "    processed_docs_train.append(\" \".join(filtered))\n",
        "\n",
        "if USE_TRAIN_TEST_SPLIT:\n",
        "    processed_docs_test = []\n",
        "    for doc in tqdm(raw_docs_test):\n",
        "        tokens = tokenizer.tokenize(doc.lower())\n",
        "        filtered = [word for word in tokens if (word not in stop_words) and (counter[word] >= FREQ_FILTER)]\n",
        "        processed_docs_test.append(\" \".join(filtered))"
      ],
      "metadata": {
        "colab": {
          "base_uri": "https://localhost:8080/"
        },
        "id": "sWHkFsLk6E2h",
        "outputId": "519964d1-1bac-4981-d1d3-60b7d2ca58ee"
      },
      "execution_count": null,
      "outputs": [
        {
          "output_type": "stream",
          "name": "stderr",
          "text": [
            "100%|██████████| 27170/27170 [00:00<00:00, 55111.75it/s]\n"
          ]
        }
      ]
    },
    {
      "cell_type": "code",
      "source": [
        "with open(data_path / \"0505_keras_tokenizer.pickle\", \"rb\") as f:\n",
        "    tokenizer = pickle.load(f)\n",
        "# tokenizer = Tokenizer(num_words=MAX_NB_WORDS, lower=True, char_level=False)\n",
        "if USE_TRAIN_TEST_SPLIT:\n",
        "    tokenizer.fit_on_texts(processed_docs_train + processed_docs_test)\n",
        "    word_seq_test = tokenizer.texts_to_sequences(processed_docs_test)\n",
        "else:\n",
        "    tokenizer.fit_on_texts(processed_docs_train)\n",
        "\n",
        "word_seq_train = tokenizer.texts_to_sequences(processed_docs_train)\n",
        "\n",
        "word_index = tokenizer.word_index\n",
        "print(\"dictionary size: \", len(word_index))"
      ],
      "metadata": {
        "colab": {
          "base_uri": "https://localhost:8080/"
        },
        "id": "BCgTO_hJ6X96",
        "outputId": "73afabbf-c91e-44df-d3d0-0e5448cda068"
      },
      "execution_count": null,
      "outputs": [
        {
          "output_type": "stream",
          "name": "stdout",
          "text": [
            "dictionary size:  56398\n"
          ]
        }
      ]
    },
    {
      "cell_type": "code",
      "source": [
        "tokenizer.word_index[\"привет\"]"
      ],
      "metadata": {
        "colab": {
          "base_uri": "https://localhost:8080/"
        },
        "id": "83HiLA84xafv",
        "outputId": "dad89b95-5bba-465b-9fa2-c8a96d4ebc45"
      },
      "execution_count": null,
      "outputs": [
        {
          "output_type": "execute_result",
          "data": {
            "text/plain": [
              "192"
            ]
          },
          "metadata": {},
          "execution_count": 60
        }
      ]
    },
    {
      "cell_type": "code",
      "source": [
        "word_seq_train = pad_sequences(word_seq_train, maxlen=max_seq_len)\n",
        "if USE_TRAIN_TEST_SPLIT:\n",
        "    word_seq_test = pad_sequences(word_seq_test, maxlen=max_seq_len)"
      ],
      "metadata": {
        "id": "pbn3b2by6xjr"
      },
      "execution_count": null,
      "outputs": []
    },
    {
      "cell_type": "code",
      "source": [
        "print('preparing embedding matrix...')\n",
        "words_not_found = []\n",
        "nb_words = min(MAX_NB_WORDS, len(word_index) + 1)\n",
        "embedding_matrix = np.zeros((nb_words, embed_dim))\n",
        "for word, i in word_index.items():\n",
        "    if i >= nb_words:\n",
        "        continue\n",
        "    embedding_vector = embeddings_index.get(word)\n",
        "    if (embedding_vector is not None) and len(embedding_vector) > 0:\n",
        "        embedding_matrix[i] = embedding_vector\n",
        "    else:\n",
        "        words_not_found.append(word)\n",
        "print('number of null word embeddings: %d' % np.sum(np.sum(embedding_matrix, axis=1) == 0))"
      ],
      "metadata": {
        "colab": {
          "base_uri": "https://localhost:8080/"
        },
        "id": "fPepmXnQ7XXn",
        "outputId": "84fa751a-3d52-449a-9e6e-297589329ee8"
      },
      "execution_count": null,
      "outputs": [
        {
          "output_type": "stream",
          "name": "stdout",
          "text": [
            "preparing embedding matrix...\n",
            "number of null word embeddings: 10246\n"
          ]
        }
      ]
    },
    {
      "cell_type": "code",
      "source": [
        "print(\"sample words not found: \", np.random.choice(words_not_found, 10))"
      ],
      "metadata": {
        "colab": {
          "base_uri": "https://localhost:8080/"
        },
        "id": "W4ZUCM4Z7emw",
        "outputId": "98fb95e2-9a67-44bb-bbaf-0b5041bc1222"
      },
      "execution_count": null,
      "outputs": [
        {
          "output_type": "stream",
          "name": "stdout",
          "text": [
            "sample words not found:  ['pompeufabra' 'wolf6wolf9' 'гуцериева' 'совбезом' 'докупайтесь' '40ee'\n",
            " '812248709621' 'лудоманом' 'закусайтесь' 'хакамада']\n"
          ]
        }
      ]
    },
    {
      "cell_type": "markdown",
      "source": [
        "## VGG16 Learning"
      ],
      "metadata": {
        "id": "47CaZI494bfI"
      }
    },
    {
      "cell_type": "code",
      "source": [
        "model = Sequential()\n",
        "\n",
        "model.add(Embedding(nb_words, embed_dim,\n",
        "          weights=[embedding_matrix], input_length=max_seq_len, trainable=False))\n",
        "\n",
        "model.add(Conv1D(filters=64, kernel_size=3, padding=\"same\", activation=\"relu\"))\n",
        "model.add(Conv1D(filters=64, kernel_size=3, padding=\"same\", activation=\"relu\"))\n",
        "model.add(MaxPooling1D(2))\n",
        "\n",
        "model.add(Conv1D(filters=128, kernel_size=3, padding=\"same\", activation=\"relu\"))\n",
        "model.add(Conv1D(filters=128, kernel_size=3, padding=\"same\", activation=\"relu\"))\n",
        "model.add(MaxPooling1D(2))\n",
        "\n",
        "model.add(Conv1D(filters=256, kernel_size=3, padding=\"same\", activation=\"relu\"))\n",
        "model.add(Conv1D(filters=256, kernel_size=3, padding=\"same\", activation=\"relu\"))\n",
        "model.add(Conv1D(filters=256, kernel_size=3, padding=\"same\", activation=\"relu\"))\n",
        "model.add(MaxPooling1D(2))\n",
        "\n",
        "model.add(Conv1D(filters=512, kernel_size=3, padding=\"same\", activation=\"relu\"))\n",
        "model.add(Conv1D(filters=512, kernel_size=3, padding=\"same\", activation=\"relu\"))\n",
        "model.add(Conv1D(filters=512, kernel_size=3, padding=\"same\", activation=\"relu\"))\n",
        "model.add(MaxPooling1D(2))\n",
        "\n",
        "model.add(Conv1D(filters=512, kernel_size=3, padding=\"same\", activation=\"relu\"))\n",
        "model.add(Conv1D(filters=512, kernel_size=3, padding=\"same\", activation=\"relu\"))\n",
        "model.add(Conv1D(filters=512, kernel_size=3, padding=\"same\", activation=\"relu\"))\n",
        "model.add(MaxPooling1D(2))\n",
        "\n",
        "model.add(GlobalMaxPooling1D())\n",
        "model.add(Dropout(0.5))\n",
        "\n",
        "model.add(Dense(4096, activation='relu', kernel_regularizer=regularizers.l2(weight_decay)))\n",
        "model.add(Dense(4096, activation='relu', kernel_regularizer=regularizers.l2(weight_decay)))\n",
        "model.add(Dense(num_classes, activation='sigmoid'))  # multi-label (k-hot encoding)\n",
        "\n",
        "adam = optimizers.Adam(lr=0.001, beta_1=0.9, beta_2=0.999, epsilon=1e-08, decay=0.0)\n",
        "# model.compile(loss='binary_crossentropy', optimizer=adam, metrics=[f1])\n",
        "model.compile(loss='binary_crossentropy', optimizer=adam, metrics=[keras.metrics.CategoricalAccuracy()])\n",
        "model.summary()"
      ],
      "metadata": {
        "colab": {
          "base_uri": "https://localhost:8080/"
        },
        "id": "9C6BWErvlKD4",
        "outputId": "86ae74ee-616f-4146-e3ab-34d0ffa93b29"
      },
      "execution_count": null,
      "outputs": [
        {
          "output_type": "stream",
          "name": "stdout",
          "text": [
            "Model: \"sequential_5\"\n",
            "_________________________________________________________________\n",
            " Layer (type)                Output Shape              Param #   \n",
            "=================================================================\n",
            " embedding_5 (Embedding)     (None, 64, 50)            648600    \n",
            "                                                                 \n",
            " conv1d_52 (Conv1D)          (None, 64, 64)            9664      \n",
            "                                                                 \n",
            " conv1d_53 (Conv1D)          (None, 64, 64)            12352     \n",
            "                                                                 \n",
            " max_pooling1d_20 (MaxPoolin  (None, 32, 64)           0         \n",
            " g1D)                                                            \n",
            "                                                                 \n",
            " conv1d_54 (Conv1D)          (None, 32, 128)           24704     \n",
            "                                                                 \n",
            " conv1d_55 (Conv1D)          (None, 32, 128)           49280     \n",
            "                                                                 \n",
            " max_pooling1d_21 (MaxPoolin  (None, 16, 128)          0         \n",
            " g1D)                                                            \n",
            "                                                                 \n",
            " conv1d_56 (Conv1D)          (None, 16, 256)           98560     \n",
            "                                                                 \n",
            " conv1d_57 (Conv1D)          (None, 16, 256)           196864    \n",
            "                                                                 \n",
            " conv1d_58 (Conv1D)          (None, 16, 256)           196864    \n",
            "                                                                 \n",
            " max_pooling1d_22 (MaxPoolin  (None, 8, 256)           0         \n",
            " g1D)                                                            \n",
            "                                                                 \n",
            " conv1d_59 (Conv1D)          (None, 8, 512)            393728    \n",
            "                                                                 \n",
            " conv1d_60 (Conv1D)          (None, 8, 512)            786944    \n",
            "                                                                 \n",
            " conv1d_61 (Conv1D)          (None, 8, 512)            786944    \n",
            "                                                                 \n",
            " max_pooling1d_23 (MaxPoolin  (None, 4, 512)           0         \n",
            " g1D)                                                            \n",
            "                                                                 \n",
            " conv1d_62 (Conv1D)          (None, 4, 512)            786944    \n",
            "                                                                 \n",
            " conv1d_63 (Conv1D)          (None, 4, 512)            786944    \n",
            "                                                                 \n",
            " conv1d_64 (Conv1D)          (None, 4, 512)            786944    \n",
            "                                                                 \n",
            " max_pooling1d_24 (MaxPoolin  (None, 2, 512)           0         \n",
            " g1D)                                                            \n",
            "                                                                 \n",
            " global_max_pooling1d_4 (Glo  (None, 512)              0         \n",
            " balMaxPooling1D)                                                \n",
            "                                                                 \n",
            " dropout_4 (Dropout)         (None, 512)               0         \n",
            "                                                                 \n",
            " dense_13 (Dense)            (None, 4096)              2101248   \n",
            "                                                                 \n",
            " dense_14 (Dense)            (None, 4096)              16781312  \n",
            "                                                                 \n",
            " dense_15 (Dense)            (None, 5)                 20485     \n",
            "                                                                 \n",
            "=================================================================\n",
            "Total params: 24,468,381\n",
            "Trainable params: 23,819,781\n",
            "Non-trainable params: 648,600\n",
            "_________________________________________________________________\n"
          ]
        },
        {
          "output_type": "stream",
          "name": "stderr",
          "text": [
            "/usr/local/lib/python3.10/dist-packages/keras/optimizers/legacy/adam.py:117: UserWarning: The `lr` argument is deprecated, use `learning_rate` instead.\n",
            "  super().__init__(name, **kwargs)\n"
          ]
        }
      ]
    },
    {
      "cell_type": "markdown",
      "source": [
        "## F1-score define"
      ],
      "metadata": {
        "id": "MfzaPg63WfeA"
      }
    },
    {
      "cell_type": "code",
      "source": [
        "from sklearn.metrics import f1_score\n",
        "import keras.backend as K\n",
        "from keras.metrics import Mean\n",
        "\n",
        "m = Mean()\n",
        "\n",
        "def _f1(y_true, y_pred):\n",
        "    def recall(y_true, y_pred):\n",
        "        true_positives = K.sum(K.round(K.clip(y_true * y_pred, 0, 1)))\n",
        "        possible_positives = K.sum(K.round(K.clip(y_true, 0, 1)))\n",
        "        recall = true_positives / (possible_positives + K.epsilon())\n",
        "        return recall\n",
        "\n",
        "    def precision(y_true, y_pred):\n",
        "        true_positives = K.sum(K.round(K.clip(y_true * y_pred, 0, 1)))\n",
        "        predicted_positives = K.sum(K.round(K.clip(y_pred, 0, 1)))\n",
        "        precision = true_positives / (predicted_positives + K.epsilon())\n",
        "        return precision\n",
        "\n",
        "    precision = precision(y_true, y_pred)\n",
        "    recall = recall(y_true, y_pred)\n",
        "    return 2*((precision*recall)/(precision+recall+K.epsilon()))\n",
        "\n",
        "\n",
        "def f1(y_true, y_pred):\n",
        "    m.update_state([_f1(y_true[:, i], y_pred[:, i]) for i in range(5)])\n",
        "    res = m.result()\n",
        "    m.reset_state()\n",
        "    return res"
      ],
      "metadata": {
        "id": "6bz07ma1wM4b"
      },
      "execution_count": null,
      "outputs": []
    },
    {
      "cell_type": "markdown",
      "source": [
        "## Focal loss define"
      ],
      "metadata": {
        "id": "GFGKuQQqcc_b"
      }
    },
    {
      "cell_type": "code",
      "source": [
        "import tensorflow as tf\n",
        "\n",
        "\n",
        "def focal_loss(gamma=2., alpha=4.):\n",
        "\n",
        "    gamma = float(gamma)\n",
        "    alpha = float(alpha)\n",
        "\n",
        "    def focal_loss_fixed(y_true, y_pred):\n",
        "        \"\"\"Focal loss for multi-classification\n",
        "        FL(p_t)=-alpha(1-p_t)^{gamma}ln(p_t)\n",
        "        Notice: y_pred is probability after softmax\n",
        "        gradient is d(Fl)/d(p_t) not d(Fl)/d(x) as described in paper\n",
        "        d(Fl)/d(p_t) * [p_t(1-p_t)] = d(Fl)/d(x)\n",
        "        Focal Loss for Dense Object Detection\n",
        "        https://arxiv.org/abs/1708.02002\n",
        "        Arguments:\n",
        "            y_true {tensor} -- ground truth labels, shape of [batch_size, num_cls]\n",
        "            y_pred {tensor} -- model's output, shape of [batch_size, num_cls]\n",
        "        Keyword Arguments:\n",
        "            gamma {float} -- (default: {2.0})\n",
        "            alpha {float} -- (default: {4.0})\n",
        "        Returns:\n",
        "            [tensor] -- loss.\n",
        "        \"\"\"\n",
        "        epsilon = 1.e-9\n",
        "        y_true = tf.convert_to_tensor(y_true, tf.float32)\n",
        "        y_pred = tf.convert_to_tensor(y_pred, tf.float32)\n",
        "\n",
        "        model_out = tf.add(y_pred, epsilon)\n",
        "        ce = tf.multiply(y_true, -tf.math.log(model_out))\n",
        "        weight = tf.multiply(y_true, tf.pow(tf.subtract(1., model_out), gamma))\n",
        "        fl = tf.multiply(alpha, tf.multiply(weight, ce))\n",
        "        reduced_fl = tf.reduce_max(fl, axis=1)\n",
        "        return tf.reduce_mean(reduced_fl)\n",
        "    return focal_loss_fixed"
      ],
      "metadata": {
        "id": "UL0zg0kOcgJz"
      },
      "execution_count": null,
      "outputs": []
    },
    {
      "cell_type": "markdown",
      "source": [
        "## CNN Learning"
      ],
      "metadata": {
        "id": "C0AGDBiuWiH_"
      }
    },
    {
      "cell_type": "code",
      "source": [
        "model = Sequential()\n",
        "model.add(Embedding(nb_words, embed_dim,\n",
        "          weights=[embedding_matrix], input_length=max_seq_len, trainable=False))\n",
        "model.add(Conv1D(num_filters, 7, activation='relu', padding='same'))\n",
        "model.add(MaxPooling1D(2))\n",
        "model.add(Conv1D(num_filters, 7, activation='relu', padding='same'))\n",
        "model.add(GlobalMaxPooling1D())\n",
        "model.add(Dropout(0.5))\n",
        "model.add(Dense(32, activation='relu', kernel_regularizer=regularizers.l2(weight_decay)))\n",
        "model.add(Dense(num_classes, activation='softmax'))  # multi-label (k-hot encoding)\n",
        "\n",
        "adam = optimizers.Adam(lr=0.001, beta_1=0.9, beta_2=0.999, epsilon=1e-08, decay=0.0)\n",
        "# model.compile(loss='binary_crossentropy', optimizer=adam, metrics=[f1])\n",
        "model.compile(optimizer=adam, loss=focal_loss(alpha=1), metrics=\"accuracy\")\n",
        "model.summary()"
      ],
      "metadata": {
        "colab": {
          "base_uri": "https://localhost:8080/"
        },
        "id": "4WTbHChk7k7e",
        "outputId": "6f1262a9-33a8-4c48-f95d-2baa0d79a005"
      },
      "execution_count": null,
      "outputs": [
        {
          "output_type": "stream",
          "name": "stdout",
          "text": [
            "Model: \"sequential_1\"\n",
            "_________________________________________________________________\n",
            " Layer (type)                Output Shape              Param #   \n",
            "=================================================================\n",
            " embedding_1 (Embedding)     (None, 64, 300)           16919700  \n",
            "                                                                 \n",
            " conv1d_2 (Conv1D)           (None, 64, 64)            134464    \n",
            "                                                                 \n",
            " max_pooling1d_1 (MaxPooling  (None, 32, 64)           0         \n",
            " 1D)                                                             \n",
            "                                                                 \n",
            " conv1d_3 (Conv1D)           (None, 32, 64)            28736     \n",
            "                                                                 \n",
            " global_max_pooling1d_1 (Glo  (None, 64)               0         \n",
            " balMaxPooling1D)                                                \n",
            "                                                                 \n",
            " dropout_1 (Dropout)         (None, 64)                0         \n",
            "                                                                 \n",
            " dense_2 (Dense)             (None, 32)                2080      \n",
            "                                                                 \n",
            " dense_3 (Dense)             (None, 5)                 165       \n",
            "                                                                 \n",
            "=================================================================\n",
            "Total params: 17,085,145\n",
            "Trainable params: 165,445\n",
            "Non-trainable params: 16,919,700\n",
            "_________________________________________________________________\n"
          ]
        },
        {
          "output_type": "stream",
          "name": "stderr",
          "text": [
            "/usr/local/lib/python3.10/dist-packages/keras/optimizers/legacy/adam.py:117: UserWarning: The `lr` argument is deprecated, use `learning_rate` instead.\n",
            "  super().__init__(name, **kwargs)\n"
          ]
        }
      ]
    },
    {
      "cell_type": "code",
      "source": [
        "hist = model.fit(\n",
        "    word_seq_train,\n",
        "    np.array(y_train),\n",
        "    batch_size=batch_size,\n",
        "    epochs=10,\n",
        "    shuffle=True,\n",
        "    # validation_split=0.2,\n",
        "    verbose=2,\n",
        "    # class_weight=class_weights\n",
        ")"
      ],
      "metadata": {
        "colab": {
          "base_uri": "https://localhost:8080/"
        },
        "id": "-0YpabQ18xrf",
        "outputId": "c684ef38-5d31-49d3-dbb5-1cad90cc2240"
      },
      "execution_count": null,
      "outputs": [
        {
          "output_type": "stream",
          "name": "stdout",
          "text": [
            "Epoch 1/10\n",
            "107/107 - 2s - loss: 0.5160 - accuracy: 0.6551 - 2s/epoch - 22ms/step\n",
            "Epoch 2/10\n",
            "107/107 - 1s - loss: 0.2611 - accuracy: 0.8126 - 774ms/epoch - 7ms/step\n",
            "Epoch 3/10\n",
            "107/107 - 1s - loss: 0.2025 - accuracy: 0.8523 - 681ms/epoch - 6ms/step\n",
            "Epoch 4/10\n",
            "107/107 - 1s - loss: 0.1701 - accuracy: 0.8736 - 673ms/epoch - 6ms/step\n",
            "Epoch 5/10\n",
            "107/107 - 1s - loss: 0.1482 - accuracy: 0.8874 - 674ms/epoch - 6ms/step\n",
            "Epoch 6/10\n",
            "107/107 - 1s - loss: 0.1289 - accuracy: 0.9025 - 689ms/epoch - 6ms/step\n",
            "Epoch 7/10\n",
            "107/107 - 1s - loss: 0.1140 - accuracy: 0.9121 - 670ms/epoch - 6ms/step\n",
            "Epoch 8/10\n",
            "107/107 - 1s - loss: 0.0985 - accuracy: 0.9256 - 689ms/epoch - 6ms/step\n",
            "Epoch 9/10\n",
            "107/107 - 1s - loss: 0.0849 - accuracy: 0.9363 - 661ms/epoch - 6ms/step\n",
            "Epoch 10/10\n",
            "107/107 - 1s - loss: 0.0732 - accuracy: 0.9454 - 674ms/epoch - 6ms/step\n"
          ]
        }
      ]
    },
    {
      "cell_type": "markdown",
      "source": [
        "## RNN Learning"
      ],
      "metadata": {
        "id": "t30haVh24q__"
      }
    },
    {
      "cell_type": "code",
      "source": [
        "def f1(y_true, y_pred):\n",
        "    def recall(y_true, y_pred):\n",
        "        \"\"\"Recall metric.\n",
        "        Only computes a batch-wise average of recall.\n",
        "        Computes the recall, a metric for multi-label classification of\n",
        "        how many relevant items are selected.\n",
        "        \"\"\"\n",
        "        true_positives = K.sum(K.round(K.clip(y_true * y_pred, 0, 1)))\n",
        "        possible_positives = K.sum(K.round(K.clip(y_true, 0, 1)))\n",
        "        recall = true_positives / (possible_positives + K.epsilon())\n",
        "        return recall\n",
        "    def precision(y_true, y_pred):\n",
        "        \"\"\"Precision metric.\n",
        "        Only computes a batch-wise average of precision.\n",
        "        Computes the precision, a metric for multi-label classification of\n",
        "        how many selected items are relevant.\n",
        "        \"\"\"\n",
        "        true_positives = K.sum(K.round(K.clip(y_true * y_pred, 0, 1)))\n",
        "        predicted_positives = K.sum(K.round(K.clip(y_pred, 0, 1)))\n",
        "        precision = true_positives / (predicted_positives + K.epsilon())\n",
        "        return precision\n",
        "    precision = precision(y_true, y_pred)\n",
        "    recall = recall(y_true, y_pred)\n",
        "    return 2*((precision*recall)/(precision+recall+K.epsilon()))"
      ],
      "metadata": {
        "id": "QwbBGhDTwZZR"
      },
      "execution_count": null,
      "outputs": []
    },
    {
      "cell_type": "code",
      "source": [
        "model = Sequential()\n",
        "model.add(Embedding(nb_words, embed_dim,\n",
        "          weights=[embedding_matrix], input_length=max_seq_len, trainable=False))\n",
        "model.add(Bidirectional(LSTM(100)))\n",
        "model.add(Dense(num_classes, activation='sigmoid'))\n",
        "\n",
        "adam = optimizers.Adam(lr=0.001, beta_1=0.9, beta_2=0.999, epsilon=1e-08, decay=0.0)\n",
        "# model.compile(loss='binary_crossentropy', optimizer=adam, metrics=[f1])\n",
        "model.compile(loss=\"categorical_crossentropy\", optimizer=adam, metrics=[f1])\n",
        "model.summary()"
      ],
      "metadata": {
        "colab": {
          "base_uri": "https://localhost:8080/"
        },
        "outputId": "117dbc5b-ec7d-44bd-d0f3-720790a5b60b",
        "id": "22W0Pxly5Eo5"
      },
      "execution_count": null,
      "outputs": [
        {
          "output_type": "stream",
          "name": "stdout",
          "text": [
            "Model: \"sequential_9\"\n",
            "_________________________________________________________________\n",
            " Layer (type)                Output Shape              Param #   \n",
            "=================================================================\n",
            " embedding_9 (Embedding)     (None, 61, 300)           16919700  \n",
            "                                                                 \n",
            " bidirectional_3 (Bidirectio  (None, 200)              320800    \n",
            " nal)                                                            \n",
            "                                                                 \n",
            " dense_15 (Dense)            (None, 5)                 1005      \n",
            "                                                                 \n",
            "=================================================================\n",
            "Total params: 17,241,505\n",
            "Trainable params: 321,805\n",
            "Non-trainable params: 16,919,700\n",
            "_________________________________________________________________\n"
          ]
        }
      ]
    },
    {
      "cell_type": "code",
      "source": [
        "hist = model.fit(\n",
        "    word_seq_train,\n",
        "    np.array(y_train),\n",
        "    batch_size=batch_size,\n",
        "    epochs=15,\n",
        "    shuffle=True,\n",
        "    validation_split=0.2,\n",
        "    verbose=2,\n",
        "    class_weight=class_weights\n",
        ")"
      ],
      "metadata": {
        "colab": {
          "base_uri": "https://localhost:8080/"
        },
        "outputId": "df601363-0dfe-44ef-e1d2-46aaf7be194f",
        "id": "Q-B7XOBm5Eo6"
      },
      "execution_count": null,
      "outputs": [
        {
          "output_type": "stream",
          "name": "stdout",
          "text": [
            "Epoch 1/15\n",
            "68/68 - 6s - loss: 0.6495 - f1: 0.3706 - val_loss: 0.7056 - val_f1: 0.4560 - 6s/epoch - 82ms/step\n",
            "Epoch 2/15\n",
            "68/68 - 1s - loss: 0.3998 - f1: 0.4873 - val_loss: 0.5908 - val_f1: 0.5021 - 1s/epoch - 17ms/step\n",
            "Epoch 3/15\n",
            "68/68 - 1s - loss: 0.3473 - f1: 0.5011 - val_loss: 0.5546 - val_f1: 0.4988 - 1s/epoch - 17ms/step\n",
            "Epoch 4/15\n",
            "68/68 - 1s - loss: 0.3172 - f1: 0.5041 - val_loss: 0.5317 - val_f1: 0.4931 - 1s/epoch - 16ms/step\n",
            "Epoch 5/15\n",
            "68/68 - 1s - loss: 0.3016 - f1: 0.5041 - val_loss: 0.5114 - val_f1: 0.5491 - 1s/epoch - 16ms/step\n",
            "Epoch 6/15\n",
            "68/68 - 1s - loss: 0.2837 - f1: 0.5082 - val_loss: 0.4878 - val_f1: 0.4878 - 1s/epoch - 16ms/step\n",
            "Epoch 7/15\n",
            "68/68 - 1s - loss: 0.2692 - f1: 0.5063 - val_loss: 0.4752 - val_f1: 0.4887 - 1s/epoch - 16ms/step\n",
            "Epoch 8/15\n",
            "68/68 - 1s - loss: 0.2568 - f1: 0.5097 - val_loss: 0.4479 - val_f1: 0.4896 - 1s/epoch - 16ms/step\n",
            "Epoch 9/15\n",
            "68/68 - 1s - loss: 0.2532 - f1: 0.5175 - val_loss: 0.4670 - val_f1: 0.5452 - 1s/epoch - 16ms/step\n",
            "Epoch 10/15\n",
            "68/68 - 1s - loss: 0.2451 - f1: 0.5225 - val_loss: 0.4724 - val_f1: 0.5165 - 1s/epoch - 16ms/step\n",
            "Epoch 11/15\n",
            "68/68 - 1s - loss: 0.2315 - f1: 0.5253 - val_loss: 0.4434 - val_f1: 0.4898 - 1s/epoch - 16ms/step\n",
            "Epoch 12/15\n",
            "68/68 - 1s - loss: 0.2255 - f1: 0.5134 - val_loss: 0.4138 - val_f1: 0.5487 - 1s/epoch - 17ms/step\n",
            "Epoch 13/15\n",
            "68/68 - 1s - loss: 0.2173 - f1: 0.5191 - val_loss: 0.4453 - val_f1: 0.5386 - 1s/epoch - 18ms/step\n",
            "Epoch 14/15\n",
            "68/68 - 1s - loss: 0.2112 - f1: 0.5164 - val_loss: 0.4291 - val_f1: 0.5172 - 1s/epoch - 18ms/step\n",
            "Epoch 15/15\n",
            "68/68 - 1s - loss: 0.2069 - f1: 0.5291 - val_loss: 0.4357 - val_f1: 0.5308 - 1s/epoch - 17ms/step\n"
          ]
        }
      ]
    },
    {
      "cell_type": "markdown",
      "source": [
        "## Test"
      ],
      "metadata": {
        "id": "8m4uBexM42md"
      }
    },
    {
      "cell_type": "code",
      "source": [
        "y_test = []\n",
        "for _, c1, c2, c3, c4, *_ in test_df.itertuples(index=False, name=None):\n",
        "    y_test.append([c1, c2, c3, c4, int(not (c1 or c2 or c3 or c4))])"
      ],
      "metadata": {
        "id": "wreHFesBe2ru"
      },
      "execution_count": null,
      "outputs": []
    },
    {
      "cell_type": "code",
      "source": [
        "y_pred = model.predict(word_seq_test) > .5"
      ],
      "metadata": {
        "id": "rRwe7tbDZV0D",
        "colab": {
          "base_uri": "https://localhost:8080/"
        },
        "outputId": "31a91fd6-874a-4d76-c0f5-d4b3fb69a1b0"
      },
      "execution_count": null,
      "outputs": [
        {
          "output_type": "stream",
          "name": "stdout",
          "text": [
            "170/170 [==============================] - 1s 4ms/step\n"
          ]
        }
      ]
    },
    {
      "cell_type": "code",
      "source": [
        "model.evaluate(word_seq_test, np.array(y_test))"
      ],
      "metadata": {
        "colab": {
          "base_uri": "https://localhost:8080/"
        },
        "id": "tgMez2_jfKhU",
        "outputId": "d5b2ff9b-b0cd-45f4-9f35-d6b8b8862e83"
      },
      "execution_count": null,
      "outputs": [
        {
          "output_type": "stream",
          "name": "stdout",
          "text": [
            "170/170 [==============================] - 1s 5ms/step - loss: 0.4331 - f1: 0.4955\n"
          ]
        },
        {
          "output_type": "execute_result",
          "data": {
            "text/plain": [
              "[0.43313443660736084, 0.49547079205513]"
            ]
          },
          "metadata": {},
          "execution_count": 109
        }
      ]
    },
    {
      "cell_type": "code",
      "source": [
        "y_test = np.array(y_test)"
      ],
      "metadata": {
        "id": "D_wL0o15f6eC"
      },
      "execution_count": null,
      "outputs": []
    },
    {
      "cell_type": "code",
      "source": [
        "from sklearn.metrics import f1_score"
      ],
      "metadata": {
        "id": "XSMAd3rHfbMD"
      },
      "execution_count": null,
      "outputs": []
    },
    {
      "cell_type": "code",
      "source": [
        "{\n",
        "    label_names[i]: f1_score(y_test[:, i], y_pred[:, i])\n",
        "    for i in range(5)\n",
        "}"
      ],
      "metadata": {
        "colab": {
          "base_uri": "https://localhost:8080/"
        },
        "id": "W58M-zFofrf4",
        "outputId": "5e5b291a-14cd-4e8d-d5df-71c9603501b4"
      },
      "execution_count": null,
      "outputs": [
        {
          "output_type": "execute_result",
          "data": {
            "text/plain": [
              "{'manipulation': 0.4514681892332789,\n",
              " 'profanity': 0.2039877300613497,\n",
              " 'advertisement': 0.4379297864639885,\n",
              " 'begging': 0.7547169811320755,\n",
              " 'normal': 0.8056310200049395}"
            ]
          },
          "metadata": {},
          "execution_count": 112
        }
      ]
    },
    {
      "cell_type": "code",
      "source": [
        "matr = np.array([[0] * 5 for _ in range(5)])\n",
        "for yt, yp in zip(y_test, y_pred):\n",
        "    yt = get_label(*yt[:-1], ret_index=True)\n",
        "    matr[yt] += yp\n",
        "matr"
      ],
      "metadata": {
        "colab": {
          "base_uri": "https://localhost:8080/"
        },
        "id": "11hQvDYbYb7J",
        "outputId": "4bdff038-df88-434b-9bf9-ca43db91c435"
      },
      "execution_count": null,
      "outputs": [
        {
          "output_type": "execute_result",
          "data": {
            "text/plain": [
              "array([[ 866,    4,    9,    3,  166],\n",
              "       [  12,   69,    1,    0,   35],\n",
              "       [   8,    1,  474,    1,   81],\n",
              "       [   4,    1,    5,  228,    5],\n",
              "       [ 168,    2,   31,    1, 2895]])"
            ]
          },
          "metadata": {},
          "execution_count": 86
        }
      ]
    },
    {
      "cell_type": "code",
      "source": [
        "# CNN\n",
        "model.evaluate(word_seq_test, np.array(y_test))"
      ],
      "metadata": {
        "id": "OJ72cludefZu"
      },
      "execution_count": null,
      "outputs": []
    },
    {
      "cell_type": "code",
      "source": [
        "# CNN CE FREQ >= 5\n",
        "model.evaluate(word_seq_test, np.array(y_test))"
      ],
      "metadata": {
        "colab": {
          "base_uri": "https://localhost:8080/"
        },
        "id": "Kfs8sPkWAzA1",
        "outputId": "b813d926-520c-41ec-9572-516aa2fdcfdf"
      },
      "execution_count": null,
      "outputs": [
        {
          "output_type": "stream",
          "name": "stdout",
          "text": [
            "156/156 [==============================] - 1s 6ms/step - loss: 0.1571 - f1: 0.8454\n"
          ]
        },
        {
          "output_type": "execute_result",
          "data": {
            "text/plain": [
              "[0.15708670020103455, 0.8454002737998962]"
            ]
          },
          "metadata": {},
          "execution_count": 219
        }
      ]
    },
    {
      "cell_type": "code",
      "source": [
        "# RNN\n",
        "model.evaluate(word_seq_test, np.array(y_test))"
      ],
      "metadata": {
        "id": "z_lwML598ua6"
      },
      "execution_count": null,
      "outputs": []
    },
    {
      "cell_type": "code",
      "source": [
        "# RNN CE\n",
        "model.evaluate(word_seq_test, np.array(y_test))"
      ],
      "metadata": {
        "colab": {
          "base_uri": "https://localhost:8080/"
        },
        "id": "Ud6K0wz_s0Tx",
        "outputId": "b53f8146-e4e7-45c9-f155-766656764c67"
      },
      "execution_count": null,
      "outputs": [
        {
          "output_type": "stream",
          "name": "stdout",
          "text": [
            "156/156 [==============================] - 2s 15ms/step - loss: 0.1618 - f1: 0.8395\n"
          ]
        },
        {
          "output_type": "execute_result",
          "data": {
            "text/plain": [
              "[0.16181430220603943, 0.8394867181777954]"
            ]
          },
          "metadata": {},
          "execution_count": 79
        }
      ]
    },
    {
      "cell_type": "markdown",
      "source": [
        "## Result Visualization"
      ],
      "metadata": {
        "id": "hWZIxEL45GU8"
      }
    },
    {
      "cell_type": "code",
      "source": [
        "# CNN\n",
        "ax = plt.subplot()\n",
        "plt.plot(hist.history['accuracy'], lw=2.0, color='r', label='accuracy')\n",
        "plt.title('CNN sentiment')\n",
        "plt.xlabel('Epochs')\n",
        "plt.ylabel('Cross-Entropy Loss')\n",
        "plt.legend(loc='upper right')\n",
        "\n",
        "ax.set_ylim(bottom=0)\n",
        "\n",
        "plt.show()"
      ],
      "metadata": {
        "colab": {
          "base_uri": "https://localhost:8080/",
          "height": 472
        },
        "id": "2FtKT_W9Z099",
        "outputId": "f7e31e12-1321-4932-a3ab-1036c1d944ef"
      },
      "execution_count": null,
      "outputs": [
        {
          "output_type": "display_data",
          "data": {
            "text/plain": [
              "<Figure size 640x480 with 1 Axes>"
            ],
            "image/png": "[encoded data removed]"
          },
          "metadata": {}
        }
      ]
    },
    {
      "cell_type": "code",
      "source": [
        "# RNN\n",
        "ax = plt.subplot()\n",
        "plt.plot(hist.history['accuracy'], lw=2.0, color='r', label='accuracy')\n",
        "plt.title('RNN sentiment')\n",
        "plt.xlabel('Epochs')\n",
        "plt.ylabel('Cross-Entropy Loss')\n",
        "plt.legend(loc='upper right')\n",
        "\n",
        "ax.set_ylim(bottom=0)\n",
        "\n",
        "plt.show()"
      ],
      "metadata": {
        "colab": {
          "base_uri": "https://localhost:8080/",
          "height": 472
        },
        "id": "VS_5XUMs87eY",
        "outputId": "9db7e338-fda2-499e-ba24-080ffeda1b41"
      },
      "execution_count": null,
      "outputs": [
        {
          "output_type": "display_data",
          "data": {
            "text/plain": [
              "<Figure size 640x480 with 1 Axes>"
            ],
            "image/png": "[encoded data removed]"
          },
          "metadata": {}
        }
      ]
    },
    {
      "cell_type": "markdown",
      "source": [
        "## Model Save"
      ],
      "metadata": {
        "id": "G8dL26Lm5J1z"
      }
    },
    {
      "cell_type": "code",
      "source": [
        "model.save(data_path / \"focloss_pulse_model\")"
      ],
      "metadata": {
        "colab": {
          "base_uri": "https://localhost:8080/"
        },
        "id": "TQ3UN-mnk1rL",
        "outputId": "b55ec9cc-5017-4a08-955a-05ec870e0652"
      },
      "execution_count": null,
      "outputs": [
        {
          "output_type": "stream",
          "name": "stderr",
          "text": [
            "WARNING:absl:Found untraced functions such as _jit_compiled_convolution_op, _jit_compiled_convolution_op while saving (showing 2 of 2). These functions will not be directly callable after loading.\n"
          ]
        }
      ]
    },
    {
      "cell_type": "code",
      "source": [
        "model.save(data_path / \"vgg16_pulse_model\")"
      ],
      "metadata": {
        "colab": {
          "base_uri": "https://localhost:8080/"
        },
        "id": "AxPIMGJWqOAu",
        "outputId": "b5a3d9a1-15da-4911-e2f7-0ce3beb53d2a"
      },
      "execution_count": null,
      "outputs": [
        {
          "output_type": "stream",
          "name": "stderr",
          "text": [
            "WARNING:absl:Found untraced functions such as _jit_compiled_convolution_op, _jit_compiled_convolution_op, _jit_compiled_convolution_op, _jit_compiled_convolution_op, _jit_compiled_convolution_op while saving (showing 5 of 13). These functions will not be directly callable after loading.\n"
          ]
        }
      ]
    },
    {
      "cell_type": "code",
      "source": [
        "model.save(data_path / \"vgg16_ce_freq5_pulse_model\")"
      ],
      "metadata": {
        "colab": {
          "base_uri": "https://localhost:8080/"
        },
        "id": "mmtDtHiawqJV",
        "outputId": "582bd52d-fc24-4f84-aa26-40b963b46d4f"
      },
      "execution_count": null,
      "outputs": [
        {
          "output_type": "stream",
          "name": "stderr",
          "text": [
            "WARNING:absl:Found untraced functions such as _jit_compiled_convolution_op, _jit_compiled_convolution_op, _jit_compiled_convolution_op, _jit_compiled_convolution_op, _jit_compiled_convolution_op while saving (showing 5 of 13). These functions will not be directly callable after loading.\n"
          ]
        }
      ]
    },
    {
      "cell_type": "code",
      "source": [
        "model.save(data_path / \"rec_ce_freq5_pulse_model\")"
      ],
      "metadata": {
        "colab": {
          "base_uri": "https://localhost:8080/"
        },
        "id": "2j05HnqmBYi1",
        "outputId": "c92a70f5-3976-47e1-ccad-df6d79d22b42"
      },
      "execution_count": null,
      "outputs": [
        {
          "output_type": "stream",
          "name": "stderr",
          "text": [
            "WARNING:absl:Found untraced functions such as lstm_cell_4_layer_call_fn, lstm_cell_4_layer_call_and_return_conditional_losses, lstm_cell_5_layer_call_fn, lstm_cell_5_layer_call_and_return_conditional_losses while saving (showing 4 of 4). These functions will not be directly callable after loading.\n"
          ]
        }
      ]
    },
    {
      "cell_type": "code",
      "source": [
        "model.save(data_path / \"rec_pulse_model\")"
      ],
      "metadata": {
        "colab": {
          "base_uri": "https://localhost:8080/"
        },
        "id": "66GKQ-Uo9ByA",
        "outputId": "32e53652-0fe0-4af7-b9fa-938da1a33af4"
      },
      "execution_count": null,
      "outputs": [
        {
          "output_type": "stream",
          "name": "stderr",
          "text": [
            "WARNING:absl:Found untraced functions such as lstm_cell_1_layer_call_fn, lstm_cell_1_layer_call_and_return_conditional_losses, lstm_cell_2_layer_call_fn, lstm_cell_2_layer_call_and_return_conditional_losses while saving (showing 4 of 4). These functions will not be directly callable after loading.\n"
          ]
        }
      ]
    },
    {
      "cell_type": "code",
      "source": [
        "with open(data_path / \"0505_keras_tokenizer.pickle\", \"wb\") as f:\n",
        "    pickle.dump(tokenizer, f)"
      ],
      "metadata": {
        "id": "u_Z-rYUhyVs2"
      },
      "execution_count": null,
      "outputs": []
    },
    {
      "cell_type": "markdown",
      "source": [
        "# Catboost + TF-idf"
      ],
      "metadata": {
        "id": "AL92ESRCC1Hz"
      }
    },
    {
      "cell_type": "code",
      "source": [
        "from sklearn.feature_extraction.text import TfidfVectorizer\n",
        "from sklearn.linear_model import LogisticRegression\n",
        "from sklearn.multioutput import MultiOutputClassifier\n",
        "from sklearn.model_selection import train_test_split\n",
        "from sklearn.metrics import f1_score, roc_auc_score"
      ],
      "metadata": {
        "id": "54VAsaC_C3ns"
      },
      "execution_count": null,
      "outputs": []
    },
    {
      "cell_type": "code",
      "source": [
        "vectorizer = TfidfVectorizer(lowercase=True, tokenizer=None, preprocessor=None, min_df=5)\n",
        "x = vectorizer.fit_transform(df.post_txt)\n",
        "\n",
        "y_cols = ['is_manipulation', 'is_profanity', 'is_advertisement', 'is_begging']\n",
        "y = df[y_cols]"
      ],
      "metadata": {
        "id": "5h1PSzP3C7LS"
      },
      "execution_count": null,
      "outputs": []
    },
    {
      "cell_type": "code",
      "source": [
        "train_x, test_x, train_y, test_y = train_test_split(x, y, test_size=0.3, random_state=42)"
      ],
      "metadata": {
        "id": "MtEdzLteC9wp"
      },
      "execution_count": null,
      "outputs": []
    },
    {
      "cell_type": "code",
      "source": [
        "!pip install catboost"
      ],
      "metadata": {
        "id": "ioct7LkXDANq"
      },
      "execution_count": null,
      "outputs": []
    },
    {
      "cell_type": "code",
      "source": [
        "from catboost import CatBoostClassifier"
      ],
      "metadata": {
        "id": "p5MnQsQsDJ-6"
      },
      "execution_count": null,
      "outputs": []
    },
    {
      "cell_type": "code",
      "source": [
        "classifier = CatBoostClassifier(loss_function='MultiLogloss')"
      ],
      "metadata": {
        "id": "6rlwvR1ED1hg"
      },
      "execution_count": null,
      "outputs": []
    },
    {
      "cell_type": "code",
      "source": [
        "classifier.fit(\n",
        "    train_x,\n",
        "    train_y,\n",
        "    eval_set=(test_x, test_y),\n",
        "    plot=True,\n",
        ")"
      ],
      "metadata": {
        "colab": {
          "base_uri": "https://localhost:8080/",
          "height": 1000,
          "referenced_widgets": [
            "381f431bf2aa4ea1b6369857a8a54df4"
          ]
        },
        "id": "__znxodyEKHJ",
        "outputId": "54d3e9de-c447-4874-bafc-a54ea2e137d0"
      },
      "execution_count": null,
      "outputs": [
        {
          "output_type": "display_data",
          "data": {
            "text/plain": [
              "MetricVisualizer(layout=Layout(align_self='stretch', height='500px'))"
            ],
            "application/vnd.jupyter.widget-view+json": {
              "version_major": 2,
              "version_minor": 0,
              "model_id": "381f431bf2aa4ea1b6369857a8a54df4"
            }
          },
          "metadata": {}
        },
        {
          "output_type": "stream",
          "name": "stdout",
          "text": [
            "Learning rate set to 0.064153\n",
            "0:\tlearn: 0.6124014\ttest: 0.6125757\tbest: 0.6125757 (0)\ttotal: 2.29s\tremaining: 38m 5s\n",
            "1:\tlearn: 0.5455731\ttest: 0.5459253\tbest: 0.5459253 (1)\ttotal: 3.41s\tremaining: 28m 20s\n",
            "2:\tlearn: 0.4899752\ttest: 0.4905884\tbest: 0.4905884 (2)\ttotal: 4.27s\tremaining: 23m 39s\n",
            "3:\tlearn: 0.4465958\ttest: 0.4473963\tbest: 0.4473963 (3)\ttotal: 5.08s\tremaining: 21m 5s\n",
            "4:\tlearn: 0.4113878\ttest: 0.4123277\tbest: 0.4123277 (4)\ttotal: 5.86s\tremaining: 19m 26s\n",
            "5:\tlearn: 0.3818050\ttest: 0.3828927\tbest: 0.3828927 (5)\ttotal: 6.66s\tremaining: 18m 24s\n",
            "6:\tlearn: 0.3569655\ttest: 0.3582438\tbest: 0.3582438 (6)\ttotal: 7.46s\tremaining: 17m 38s\n",
            "7:\tlearn: 0.3351988\ttest: 0.3365881\tbest: 0.3365881 (7)\ttotal: 8.48s\tremaining: 17m 31s\n",
            "8:\tlearn: 0.3169519\ttest: 0.3185112\tbest: 0.3185112 (8)\ttotal: 9.93s\tremaining: 18m 12s\n",
            "9:\tlearn: 0.3017419\ttest: 0.3034485\tbest: 0.3034485 (9)\ttotal: 11.4s\tremaining: 18m 44s\n",
            "10:\tlearn: 0.2898260\ttest: 0.2918089\tbest: 0.2918089 (10)\ttotal: 12.7s\tremaining: 18m 57s\n",
            "11:\tlearn: 0.2790104\ttest: 0.2811286\tbest: 0.2811286 (11)\ttotal: 13.4s\tremaining: 18m 26s\n",
            "12:\tlearn: 0.2691283\ttest: 0.2712975\tbest: 0.2712975 (12)\ttotal: 14.2s\tremaining: 18m 1s\n",
            "13:\tlearn: 0.2613383\ttest: 0.2634333\tbest: 0.2634333 (13)\ttotal: 15s\tremaining: 17m 38s\n",
            "14:\tlearn: 0.2546039\ttest: 0.2568171\tbest: 0.2568171 (14)\ttotal: 15.8s\tremaining: 17m 19s\n",
            "15:\tlearn: 0.2485895\ttest: 0.2508055\tbest: 0.2508055 (15)\ttotal: 16.6s\tremaining: 17m 2s\n",
            "16:\tlearn: 0.2434562\ttest: 0.2457824\tbest: 0.2457824 (16)\ttotal: 17.5s\tremaining: 16m 49s\n",
            "17:\tlearn: 0.2388183\ttest: 0.2412335\tbest: 0.2412335 (17)\ttotal: 18.2s\tremaining: 16m 34s\n",
            "18:\tlearn: 0.2346736\ttest: 0.2371964\tbest: 0.2371964 (18)\ttotal: 19.1s\tremaining: 16m 24s\n",
            "19:\tlearn: 0.2311238\ttest: 0.2337241\tbest: 0.2337241 (19)\ttotal: 19.9s\tremaining: 16m 13s\n",
            "20:\tlearn: 0.2278124\ttest: 0.2305724\tbest: 0.2305724 (20)\ttotal: 20.7s\tremaining: 16m 4s\n",
            "21:\tlearn: 0.2248717\ttest: 0.2277878\tbest: 0.2277878 (21)\ttotal: 21.5s\tremaining: 15m 55s\n",
            "22:\tlearn: 0.2223328\ttest: 0.2252072\tbest: 0.2252072 (22)\ttotal: 22.3s\tremaining: 15m 46s\n",
            "23:\tlearn: 0.2195761\ttest: 0.2224866\tbest: 0.2224866 (23)\ttotal: 23.4s\tremaining: 15m 52s\n",
            "24:\tlearn: 0.2174156\ttest: 0.2204216\tbest: 0.2204216 (24)\ttotal: 24.8s\tremaining: 16m 8s\n",
            "25:\tlearn: 0.2151218\ttest: 0.2182017\tbest: 0.2182017 (25)\ttotal: 26.2s\tremaining: 16m 22s\n",
            "26:\tlearn: 0.2131600\ttest: 0.2163806\tbest: 0.2163806 (26)\ttotal: 27.5s\tremaining: 16m 31s\n",
            "27:\tlearn: 0.2115445\ttest: 0.2147869\tbest: 0.2147869 (27)\ttotal: 28.3s\tremaining: 16m 22s\n",
            "28:\tlearn: 0.2100934\ttest: 0.2133993\tbest: 0.2133993 (28)\ttotal: 29.1s\tremaining: 16m 14s\n",
            "29:\tlearn: 0.2083362\ttest: 0.2117189\tbest: 0.2117189 (29)\ttotal: 29.9s\tremaining: 16m 6s\n",
            "30:\tlearn: 0.2071136\ttest: 0.2106078\tbest: 0.2106078 (30)\ttotal: 30.7s\tremaining: 15m 59s\n",
            "31:\tlearn: 0.2059487\ttest: 0.2093597\tbest: 0.2093597 (31)\ttotal: 31.5s\tremaining: 15m 52s\n",
            "32:\tlearn: 0.2047439\ttest: 0.2081715\tbest: 0.2081715 (32)\ttotal: 32.3s\tremaining: 15m 45s\n",
            "33:\tlearn: 0.2034923\ttest: 0.2068689\tbest: 0.2068689 (33)\ttotal: 33.1s\tremaining: 15m 39s\n",
            "34:\tlearn: 0.2023335\ttest: 0.2057136\tbest: 0.2057136 (34)\ttotal: 33.9s\tremaining: 15m 34s\n",
            "35:\tlearn: 0.2011181\ttest: 0.2045590\tbest: 0.2045590 (35)\ttotal: 34.7s\tremaining: 15m 28s\n",
            "36:\tlearn: 0.2000632\ttest: 0.2035804\tbest: 0.2035804 (36)\ttotal: 35.5s\tremaining: 15m 23s\n",
            "37:\tlearn: 0.1990813\ttest: 0.2024991\tbest: 0.2024991 (37)\ttotal: 36.2s\tremaining: 15m 17s\n",
            "38:\tlearn: 0.1983280\ttest: 0.2018616\tbest: 0.2018616 (38)\ttotal: 37s\tremaining: 15m 12s\n",
            "39:\tlearn: 0.1973307\ttest: 0.2009245\tbest: 0.2009245 (39)\ttotal: 38.1s\tremaining: 15m 13s\n",
            "40:\tlearn: 0.1963646\ttest: 0.1999751\tbest: 0.1999751 (40)\ttotal: 39.6s\tremaining: 15m 25s\n",
            "41:\tlearn: 0.1954633\ttest: 0.1991854\tbest: 0.1991854 (41)\ttotal: 41s\tremaining: 15m 35s\n",
            "42:\tlearn: 0.1946157\ttest: 0.1983139\tbest: 0.1983139 (42)\ttotal: 42.2s\tremaining: 15m 39s\n",
            "43:\tlearn: 0.1938503\ttest: 0.1975276\tbest: 0.1975276 (43)\ttotal: 43s\tremaining: 15m 34s\n",
            "44:\tlearn: 0.1928974\ttest: 0.1967224\tbest: 0.1967224 (44)\ttotal: 43.8s\tremaining: 15m 30s\n",
            "45:\tlearn: 0.1921680\ttest: 0.1960584\tbest: 0.1960584 (45)\ttotal: 44.7s\tremaining: 15m 26s\n",
            "46:\tlearn: 0.1915767\ttest: 0.1955487\tbest: 0.1955487 (46)\ttotal: 45.5s\tremaining: 15m 21s\n",
            "47:\tlearn: 0.1909535\ttest: 0.1949288\tbest: 0.1949288 (47)\ttotal: 46.3s\tremaining: 15m 17s\n",
            "48:\tlearn: 0.1902261\ttest: 0.1943267\tbest: 0.1943267 (48)\ttotal: 47.1s\tremaining: 15m 13s\n",
            "49:\tlearn: 0.1896691\ttest: 0.1938393\tbest: 0.1938393 (49)\ttotal: 47.9s\tremaining: 15m 9s\n",
            "50:\tlearn: 0.1888162\ttest: 0.1929856\tbest: 0.1929856 (50)\ttotal: 48.7s\tremaining: 15m 5s\n",
            "51:\tlearn: 0.1882423\ttest: 0.1924060\tbest: 0.1924060 (51)\ttotal: 49.5s\tremaining: 15m 2s\n",
            "52:\tlearn: 0.1875750\ttest: 0.1916200\tbest: 0.1916200 (52)\ttotal: 50.2s\tremaining: 14m 57s\n",
            "53:\tlearn: 0.1869864\ttest: 0.1909687\tbest: 0.1909687 (53)\ttotal: 51.1s\tremaining: 14m 54s\n",
            "54:\tlearn: 0.1864015\ttest: 0.1903475\tbest: 0.1903475 (54)\ttotal: 51.9s\tremaining: 14m 51s\n",
            "55:\tlearn: 0.1856334\ttest: 0.1896543\tbest: 0.1896543 (55)\ttotal: 53.3s\tremaining: 14m 58s\n",
            "56:\tlearn: 0.1850064\ttest: 0.1891118\tbest: 0.1891118 (56)\ttotal: 54.8s\tremaining: 15m 5s\n",
            "57:\tlearn: 0.1843695\ttest: 0.1885807\tbest: 0.1885807 (57)\ttotal: 56.2s\tremaining: 15m 12s\n",
            "58:\tlearn: 0.1837594\ttest: 0.1881310\tbest: 0.1881310 (58)\ttotal: 57s\tremaining: 15m 9s\n",
            "59:\tlearn: 0.1831201\ttest: 0.1875560\tbest: 0.1875560 (59)\ttotal: 57.8s\tremaining: 15m 5s\n",
            "60:\tlearn: 0.1822713\ttest: 0.1867463\tbest: 0.1867463 (60)\ttotal: 58.6s\tremaining: 15m 2s\n",
            "61:\tlearn: 0.1816798\ttest: 0.1861837\tbest: 0.1861837 (61)\ttotal: 59.4s\tremaining: 14m 59s\n",
            "62:\tlearn: 0.1811448\ttest: 0.1857668\tbest: 0.1857668 (62)\ttotal: 1m\tremaining: 14m 55s\n",
            "63:\tlearn: 0.1806239\ttest: 0.1853418\tbest: 0.1853418 (63)\ttotal: 1m 1s\tremaining: 14m 52s\n",
            "64:\tlearn: 0.1800003\ttest: 0.1846661\tbest: 0.1846661 (64)\ttotal: 1m 1s\tremaining: 14m 49s\n",
            "65:\tlearn: 0.1795088\ttest: 0.1842346\tbest: 0.1842346 (65)\ttotal: 1m 2s\tremaining: 14m 46s\n",
            "66:\tlearn: 0.1789262\ttest: 0.1837361\tbest: 0.1837361 (66)\ttotal: 1m 3s\tremaining: 14m 43s\n",
            "67:\tlearn: 0.1785273\ttest: 0.1832347\tbest: 0.1832347 (67)\ttotal: 1m 4s\tremaining: 14m 39s\n",
            "68:\tlearn: 0.1779837\ttest: 0.1826863\tbest: 0.1826863 (68)\ttotal: 1m 4s\tremaining: 14m 37s\n",
            "69:\tlearn: 0.1774230\ttest: 0.1822712\tbest: 0.1822712 (69)\ttotal: 1m 5s\tremaining: 14m 33s\n",
            "70:\tlearn: 0.1768607\ttest: 0.1816140\tbest: 0.1816140 (70)\ttotal: 1m 6s\tremaining: 14m 32s\n",
            "71:\tlearn: 0.1763952\ttest: 0.1812005\tbest: 0.1812005 (71)\ttotal: 1m 8s\tremaining: 14m 38s\n",
            "72:\tlearn: 0.1759867\ttest: 0.1808518\tbest: 0.1808518 (72)\ttotal: 1m 11s\tremaining: 15m 3s\n",
            "73:\tlearn: 0.1754722\ttest: 0.1804505\tbest: 0.1804505 (73)\ttotal: 1m 11s\tremaining: 15m\n",
            "74:\tlearn: 0.1750127\ttest: 0.1800635\tbest: 0.1800635 (74)\ttotal: 1m 12s\tremaining: 14m 57s\n",
            "75:\tlearn: 0.1744964\ttest: 0.1795619\tbest: 0.1795619 (75)\ttotal: 1m 13s\tremaining: 14m 54s\n",
            "76:\tlearn: 0.1740285\ttest: 0.1790410\tbest: 0.1790410 (76)\ttotal: 1m 14s\tremaining: 14m 50s\n",
            "77:\tlearn: 0.1735856\ttest: 0.1786596\tbest: 0.1786596 (77)\ttotal: 1m 15s\tremaining: 14m 47s\n",
            "78:\tlearn: 0.1731504\ttest: 0.1781883\tbest: 0.1781883 (78)\ttotal: 1m 15s\tremaining: 14m 44s\n",
            "79:\tlearn: 0.1727727\ttest: 0.1777792\tbest: 0.1777792 (79)\ttotal: 1m 16s\tremaining: 14m 42s\n",
            "80:\tlearn: 0.1724103\ttest: 0.1773633\tbest: 0.1773633 (80)\ttotal: 1m 17s\tremaining: 14m 39s\n",
            "81:\tlearn: 0.1718921\ttest: 0.1768960\tbest: 0.1768960 (81)\ttotal: 1m 18s\tremaining: 14m 36s\n",
            "82:\tlearn: 0.1714075\ttest: 0.1763884\tbest: 0.1763884 (82)\ttotal: 1m 19s\tremaining: 14m 33s\n",
            "83:\tlearn: 0.1708917\ttest: 0.1758123\tbest: 0.1758123 (83)\ttotal: 1m 19s\tremaining: 14m 31s\n",
            "84:\tlearn: 0.1704707\ttest: 0.1754177\tbest: 0.1754177 (84)\ttotal: 1m 20s\tremaining: 14m 28s\n",
            "85:\tlearn: 0.1700510\ttest: 0.1749726\tbest: 0.1749726 (85)\ttotal: 1m 21s\tremaining: 14m 27s\n",
            "86:\tlearn: 0.1695877\ttest: 0.1744584\tbest: 0.1744584 (86)\ttotal: 1m 23s\tremaining: 14m 31s\n",
            "87:\tlearn: 0.1692301\ttest: 0.1741436\tbest: 0.1741436 (87)\ttotal: 1m 24s\tremaining: 14m 35s\n",
            "88:\tlearn: 0.1687964\ttest: 0.1737538\tbest: 0.1737538 (88)\ttotal: 1m 25s\tremaining: 14m 38s\n",
            "89:\tlearn: 0.1683393\ttest: 0.1733714\tbest: 0.1733714 (89)\ttotal: 1m 26s\tremaining: 14m 36s\n",
            "90:\tlearn: 0.1677859\ttest: 0.1728990\tbest: 0.1728990 (90)\ttotal: 1m 27s\tremaining: 14m 33s\n",
            "91:\tlearn: 0.1673481\ttest: 0.1724985\tbest: 0.1724985 (91)\ttotal: 1m 28s\tremaining: 14m 31s\n",
            "92:\tlearn: 0.1669482\ttest: 0.1720507\tbest: 0.1720507 (92)\ttotal: 1m 29s\tremaining: 14m 28s\n",
            "93:\tlearn: 0.1666055\ttest: 0.1716711\tbest: 0.1716711 (93)\ttotal: 1m 29s\tremaining: 14m 25s\n",
            "94:\tlearn: 0.1662382\ttest: 0.1713700\tbest: 0.1713700 (94)\ttotal: 1m 30s\tremaining: 14m 23s\n",
            "95:\tlearn: 0.1658300\ttest: 0.1710088\tbest: 0.1710088 (95)\ttotal: 1m 31s\tremaining: 14m 20s\n",
            "96:\tlearn: 0.1654394\ttest: 0.1706470\tbest: 0.1706470 (96)\ttotal: 1m 32s\tremaining: 14m 18s\n",
            "97:\tlearn: 0.1650290\ttest: 0.1701914\tbest: 0.1701914 (97)\ttotal: 1m 32s\tremaining: 14m 15s\n",
            "98:\tlearn: 0.1647500\ttest: 0.1700245\tbest: 0.1700245 (98)\ttotal: 1m 33s\tremaining: 14m 13s\n",
            "99:\tlearn: 0.1643822\ttest: 0.1697782\tbest: 0.1697782 (99)\ttotal: 1m 34s\tremaining: 14m 11s\n",
            "100:\tlearn: 0.1640082\ttest: 0.1694521\tbest: 0.1694521 (100)\ttotal: 1m 35s\tremaining: 14m 8s\n",
            "101:\tlearn: 0.1636676\ttest: 0.1691776\tbest: 0.1691776 (101)\ttotal: 1m 36s\tremaining: 14m 7s\n",
            "102:\tlearn: 0.1633452\ttest: 0.1688756\tbest: 0.1688756 (102)\ttotal: 1m 37s\tremaining: 14m 10s\n",
            "103:\tlearn: 0.1630269\ttest: 0.1686528\tbest: 0.1686528 (103)\ttotal: 1m 39s\tremaining: 14m 13s\n",
            "104:\tlearn: 0.1627043\ttest: 0.1683257\tbest: 0.1683257 (104)\ttotal: 1m 40s\tremaining: 14m 16s\n",
            "105:\tlearn: 0.1623493\ttest: 0.1680130\tbest: 0.1680130 (105)\ttotal: 1m 41s\tremaining: 14m 14s\n",
            "106:\tlearn: 0.1619897\ttest: 0.1676274\tbest: 0.1676274 (106)\ttotal: 1m 42s\tremaining: 14m 12s\n",
            "107:\tlearn: 0.1617064\ttest: 0.1673872\tbest: 0.1673872 (107)\ttotal: 1m 42s\tremaining: 14m 10s\n",
            "108:\tlearn: 0.1613997\ttest: 0.1670622\tbest: 0.1670622 (108)\ttotal: 1m 43s\tremaining: 14m 7s\n",
            "109:\tlearn: 0.1611161\ttest: 0.1668017\tbest: 0.1668017 (109)\ttotal: 1m 45s\tremaining: 14m 13s\n",
            "110:\tlearn: 0.1607728\ttest: 0.1665214\tbest: 0.1665214 (110)\ttotal: 1m 46s\tremaining: 14m 14s\n",
            "111:\tlearn: 0.1605013\ttest: 0.1662193\tbest: 0.1662193 (111)\ttotal: 1m 47s\tremaining: 14m 11s\n",
            "112:\tlearn: 0.1602187\ttest: 0.1658645\tbest: 0.1658645 (112)\ttotal: 1m 48s\tremaining: 14m 9s\n",
            "113:\tlearn: 0.1599253\ttest: 0.1656062\tbest: 0.1656062 (113)\ttotal: 1m 49s\tremaining: 14m 7s\n",
            "114:\tlearn: 0.1596045\ttest: 0.1653181\tbest: 0.1653181 (114)\ttotal: 1m 49s\tremaining: 14m 4s\n",
            "115:\tlearn: 0.1592609\ttest: 0.1649630\tbest: 0.1649630 (115)\ttotal: 1m 50s\tremaining: 14m 2s\n",
            "116:\tlearn: 0.1589951\ttest: 0.1647530\tbest: 0.1647530 (116)\ttotal: 1m 51s\tremaining: 14m 4s\n",
            "117:\tlearn: 0.1585925\ttest: 0.1644230\tbest: 0.1644230 (117)\ttotal: 1m 53s\tremaining: 14m 6s\n",
            "118:\tlearn: 0.1582628\ttest: 0.1640847\tbest: 0.1640847 (118)\ttotal: 1m 54s\tremaining: 14m 8s\n",
            "119:\tlearn: 0.1579553\ttest: 0.1637333\tbest: 0.1637333 (119)\ttotal: 1m 55s\tremaining: 14m 8s\n",
            "120:\tlearn: 0.1576239\ttest: 0.1634393\tbest: 0.1634393 (120)\ttotal: 1m 56s\tremaining: 14m 6s\n",
            "121:\tlearn: 0.1573304\ttest: 0.1631570\tbest: 0.1631570 (121)\ttotal: 1m 57s\tremaining: 14m 4s\n",
            "122:\tlearn: 0.1570963\ttest: 0.1629527\tbest: 0.1629527 (122)\ttotal: 1m 58s\tremaining: 14m 2s\n",
            "123:\tlearn: 0.1568460\ttest: 0.1627516\tbest: 0.1627516 (123)\ttotal: 1m 58s\tremaining: 14m\n",
            "124:\tlearn: 0.1565951\ttest: 0.1625270\tbest: 0.1625270 (124)\ttotal: 1m 59s\tremaining: 13m 57s\n",
            "125:\tlearn: 0.1563275\ttest: 0.1622811\tbest: 0.1622811 (125)\ttotal: 2m\tremaining: 13m 55s\n",
            "126:\tlearn: 0.1559915\ttest: 0.1619486\tbest: 0.1619486 (126)\ttotal: 2m 1s\tremaining: 13m 53s\n",
            "127:\tlearn: 0.1557145\ttest: 0.1617178\tbest: 0.1617178 (127)\ttotal: 2m 2s\tremaining: 13m 51s\n",
            "128:\tlearn: 0.1553469\ttest: 0.1613598\tbest: 0.1613598 (128)\ttotal: 2m 2s\tremaining: 13m 49s\n",
            "129:\tlearn: 0.1550918\ttest: 0.1611902\tbest: 0.1611902 (129)\ttotal: 2m 3s\tremaining: 13m 47s\n",
            "130:\tlearn: 0.1548444\ttest: 0.1609502\tbest: 0.1609502 (130)\ttotal: 2m 4s\tremaining: 13m 45s\n",
            "131:\tlearn: 0.1545607\ttest: 0.1607377\tbest: 0.1607377 (131)\ttotal: 2m 5s\tremaining: 13m 43s\n",
            "132:\tlearn: 0.1542839\ttest: 0.1605026\tbest: 0.1605026 (132)\ttotal: 2m 6s\tremaining: 13m 44s\n",
            "133:\tlearn: 0.1540234\ttest: 0.1602853\tbest: 0.1602853 (133)\ttotal: 2m 7s\tremaining: 13m 46s\n",
            "134:\tlearn: 0.1537607\ttest: 0.1600581\tbest: 0.1600581 (134)\ttotal: 2m 9s\tremaining: 13m 48s\n",
            "135:\tlearn: 0.1533866\ttest: 0.1598025\tbest: 0.1598025 (135)\ttotal: 2m 10s\tremaining: 13m 48s\n",
            "136:\tlearn: 0.1531253\ttest: 0.1595578\tbest: 0.1595578 (136)\ttotal: 2m 11s\tremaining: 13m 46s\n",
            "137:\tlearn: 0.1529176\ttest: 0.1593759\tbest: 0.1593759 (137)\ttotal: 2m 12s\tremaining: 13m 44s\n",
            "138:\tlearn: 0.1526314\ttest: 0.1591527\tbest: 0.1591527 (138)\ttotal: 2m 12s\tremaining: 13m 42s\n",
            "139:\tlearn: 0.1523809\ttest: 0.1589492\tbest: 0.1589492 (139)\ttotal: 2m 13s\tremaining: 13m 40s\n",
            "140:\tlearn: 0.1521048\ttest: 0.1586220\tbest: 0.1586220 (140)\ttotal: 2m 14s\tremaining: 13m 38s\n",
            "141:\tlearn: 0.1518522\ttest: 0.1583866\tbest: 0.1583866 (141)\ttotal: 2m 15s\tremaining: 13m 36s\n",
            "142:\tlearn: 0.1516100\ttest: 0.1581970\tbest: 0.1581970 (142)\ttotal: 2m 15s\tremaining: 13m 34s\n",
            "143:\tlearn: 0.1512857\ttest: 0.1579114\tbest: 0.1579114 (143)\ttotal: 2m 16s\tremaining: 13m 33s\n",
            "144:\tlearn: 0.1510646\ttest: 0.1576474\tbest: 0.1576474 (144)\ttotal: 2m 17s\tremaining: 13m 31s\n",
            "145:\tlearn: 0.1508519\ttest: 0.1574114\tbest: 0.1574114 (145)\ttotal: 2m 18s\tremaining: 13m 29s\n",
            "146:\tlearn: 0.1505340\ttest: 0.1571407\tbest: 0.1571407 (146)\ttotal: 2m 19s\tremaining: 13m 27s\n",
            "147:\tlearn: 0.1502611\ttest: 0.1569485\tbest: 0.1569485 (147)\ttotal: 2m 19s\tremaining: 13m 25s\n",
            "148:\tlearn: 0.1498023\ttest: 0.1565463\tbest: 0.1565463 (148)\ttotal: 2m 21s\tremaining: 13m 26s\n",
            "149:\tlearn: 0.1494967\ttest: 0.1563245\tbest: 0.1563245 (149)\ttotal: 2m 22s\tremaining: 13m 27s\n",
            "150:\tlearn: 0.1492411\ttest: 0.1561384\tbest: 0.1561384 (150)\ttotal: 2m 23s\tremaining: 13m 29s\n",
            "151:\tlearn: 0.1489827\ttest: 0.1559615\tbest: 0.1559615 (151)\ttotal: 2m 25s\tremaining: 13m 29s\n",
            "152:\tlearn: 0.1486695\ttest: 0.1557435\tbest: 0.1557435 (152)\ttotal: 2m 25s\tremaining: 13m 27s\n",
            "153:\tlearn: 0.1483884\ttest: 0.1554540\tbest: 0.1554540 (153)\ttotal: 2m 26s\tremaining: 13m 26s\n",
            "154:\tlearn: 0.1481006\ttest: 0.1551569\tbest: 0.1551569 (154)\ttotal: 2m 27s\tremaining: 13m 24s\n",
            "155:\tlearn: 0.1478194\ttest: 0.1548965\tbest: 0.1548965 (155)\ttotal: 2m 28s\tremaining: 13m 22s\n",
            "156:\tlearn: 0.1475118\ttest: 0.1546840\tbest: 0.1546840 (156)\ttotal: 2m 29s\tremaining: 13m 20s\n",
            "157:\tlearn: 0.1472848\ttest: 0.1544357\tbest: 0.1544357 (157)\ttotal: 2m 29s\tremaining: 13m 18s\n",
            "158:\tlearn: 0.1470602\ttest: 0.1542677\tbest: 0.1542677 (158)\ttotal: 2m 30s\tremaining: 13m 17s\n",
            "159:\tlearn: 0.1468147\ttest: 0.1541077\tbest: 0.1541077 (159)\ttotal: 2m 31s\tremaining: 13m 15s\n",
            "160:\tlearn: 0.1465521\ttest: 0.1539183\tbest: 0.1539183 (160)\ttotal: 2m 32s\tremaining: 13m 13s\n",
            "161:\tlearn: 0.1463349\ttest: 0.1537310\tbest: 0.1537310 (161)\ttotal: 2m 33s\tremaining: 13m 11s\n",
            "162:\tlearn: 0.1460790\ttest: 0.1535430\tbest: 0.1535430 (162)\ttotal: 2m 33s\tremaining: 13m 10s\n",
            "163:\tlearn: 0.1458629\ttest: 0.1533113\tbest: 0.1533113 (163)\ttotal: 2m 34s\tremaining: 13m 8s\n",
            "164:\tlearn: 0.1456656\ttest: 0.1531736\tbest: 0.1531736 (164)\ttotal: 2m 35s\tremaining: 13m 8s\n",
            "165:\tlearn: 0.1454034\ttest: 0.1528968\tbest: 0.1528968 (165)\ttotal: 2m 37s\tremaining: 13m 9s\n",
            "166:\tlearn: 0.1451896\ttest: 0.1527139\tbest: 0.1527139 (166)\ttotal: 2m 38s\tremaining: 13m 10s\n",
            "167:\tlearn: 0.1448469\ttest: 0.1524358\tbest: 0.1524358 (167)\ttotal: 2m 39s\tremaining: 13m 11s\n",
            "168:\tlearn: 0.1446255\ttest: 0.1521934\tbest: 0.1521934 (168)\ttotal: 2m 40s\tremaining: 13m 10s\n",
            "169:\tlearn: 0.1443916\ttest: 0.1520168\tbest: 0.1520168 (169)\ttotal: 2m 41s\tremaining: 13m 8s\n",
            "170:\tlearn: 0.1441892\ttest: 0.1518762\tbest: 0.1518762 (170)\ttotal: 2m 42s\tremaining: 13m 6s\n",
            "171:\tlearn: 0.1439435\ttest: 0.1516612\tbest: 0.1516612 (171)\ttotal: 2m 43s\tremaining: 13m 6s\n",
            "172:\tlearn: 0.1436162\ttest: 0.1513533\tbest: 0.1513533 (172)\ttotal: 2m 45s\tremaining: 13m 9s\n",
            "173:\tlearn: 0.1434091\ttest: 0.1511619\tbest: 0.1511619 (173)\ttotal: 2m 46s\tremaining: 13m 8s\n",
            "174:\tlearn: 0.1431526\ttest: 0.1509446\tbest: 0.1509446 (174)\ttotal: 2m 46s\tremaining: 13m 6s\n",
            "175:\tlearn: 0.1429292\ttest: 0.1507160\tbest: 0.1507160 (175)\ttotal: 2m 47s\tremaining: 13m 4s\n",
            "176:\tlearn: 0.1427090\ttest: 0.1505609\tbest: 0.1505609 (176)\ttotal: 2m 48s\tremaining: 13m 3s\n",
            "177:\tlearn: 0.1425147\ttest: 0.1504151\tbest: 0.1504151 (177)\ttotal: 2m 49s\tremaining: 13m 1s\n",
            "178:\tlearn: 0.1422816\ttest: 0.1502061\tbest: 0.1502061 (178)\ttotal: 2m 50s\tremaining: 13m\n",
            "179:\tlearn: 0.1420323\ttest: 0.1499538\tbest: 0.1499538 (179)\ttotal: 2m 51s\tremaining: 13m 1s\n",
            "180:\tlearn: 0.1418218\ttest: 0.1498367\tbest: 0.1498367 (180)\ttotal: 2m 52s\tremaining: 13m 2s\n",
            "181:\tlearn: 0.1414953\ttest: 0.1495405\tbest: 0.1495405 (181)\ttotal: 2m 54s\tremaining: 13m 3s\n",
            "182:\tlearn: 0.1413138\ttest: 0.1493567\tbest: 0.1493567 (182)\ttotal: 2m 55s\tremaining: 13m 2s\n",
            "183:\tlearn: 0.1410776\ttest: 0.1491658\tbest: 0.1491658 (183)\ttotal: 2m 55s\tremaining: 13m\n",
            "184:\tlearn: 0.1408860\ttest: 0.1490993\tbest: 0.1490993 (184)\ttotal: 2m 56s\tremaining: 12m 58s\n",
            "185:\tlearn: 0.1406328\ttest: 0.1488972\tbest: 0.1488972 (185)\ttotal: 2m 57s\tremaining: 12m 57s\n",
            "186:\tlearn: 0.1402925\ttest: 0.1485071\tbest: 0.1485071 (186)\ttotal: 2m 58s\tremaining: 12m 55s\n",
            "187:\tlearn: 0.1400156\ttest: 0.1482931\tbest: 0.1482931 (187)\ttotal: 2m 59s\tremaining: 12m 53s\n",
            "188:\tlearn: 0.1398381\ttest: 0.1481748\tbest: 0.1481748 (188)\ttotal: 2m 59s\tremaining: 12m 52s\n",
            "189:\tlearn: 0.1395936\ttest: 0.1480076\tbest: 0.1480076 (189)\ttotal: 3m\tremaining: 12m 50s\n",
            "190:\tlearn: 0.1393412\ttest: 0.1478121\tbest: 0.1478121 (190)\ttotal: 3m 1s\tremaining: 12m 49s\n",
            "191:\tlearn: 0.1390739\ttest: 0.1476022\tbest: 0.1476022 (191)\ttotal: 3m 2s\tremaining: 12m 47s\n",
            "192:\tlearn: 0.1388110\ttest: 0.1473912\tbest: 0.1473912 (192)\ttotal: 3m 3s\tremaining: 12m 46s\n",
            "193:\tlearn: 0.1386352\ttest: 0.1473137\tbest: 0.1473137 (193)\ttotal: 3m 3s\tremaining: 12m 44s\n",
            "194:\tlearn: 0.1383805\ttest: 0.1470912\tbest: 0.1470912 (194)\ttotal: 3m 4s\tremaining: 12m 43s\n",
            "195:\tlearn: 0.1381330\ttest: 0.1467897\tbest: 0.1467897 (195)\ttotal: 3m 6s\tremaining: 12m 44s\n",
            "196:\tlearn: 0.1378890\ttest: 0.1466195\tbest: 0.1466195 (196)\ttotal: 3m 7s\tremaining: 12m 45s\n",
            "197:\tlearn: 0.1376522\ttest: 0.1463876\tbest: 0.1463876 (197)\ttotal: 3m 9s\tremaining: 12m 46s\n",
            "198:\tlearn: 0.1373917\ttest: 0.1461793\tbest: 0.1461793 (198)\ttotal: 3m 9s\tremaining: 12m 44s\n",
            "199:\tlearn: 0.1372085\ttest: 0.1460259\tbest: 0.1460259 (199)\ttotal: 3m 10s\tremaining: 12m 42s\n",
            "200:\tlearn: 0.1370088\ttest: 0.1458920\tbest: 0.1458920 (200)\ttotal: 3m 11s\tremaining: 12m 41s\n",
            "201:\tlearn: 0.1367280\ttest: 0.1456570\tbest: 0.1456570 (201)\ttotal: 3m 12s\tremaining: 12m 39s\n",
            "202:\tlearn: 0.1365674\ttest: 0.1455999\tbest: 0.1455999 (202)\ttotal: 3m 13s\tremaining: 12m 38s\n",
            "203:\tlearn: 0.1364073\ttest: 0.1454597\tbest: 0.1454597 (203)\ttotal: 3m 13s\tremaining: 12m 36s\n",
            "204:\tlearn: 0.1361490\ttest: 0.1452459\tbest: 0.1452459 (204)\ttotal: 3m 14s\tremaining: 12m 35s\n",
            "205:\tlearn: 0.1359790\ttest: 0.1451283\tbest: 0.1451283 (205)\ttotal: 3m 15s\tremaining: 12m 33s\n",
            "206:\tlearn: 0.1357424\ttest: 0.1449417\tbest: 0.1449417 (206)\ttotal: 3m 16s\tremaining: 12m 31s\n",
            "207:\tlearn: 0.1355466\ttest: 0.1447471\tbest: 0.1447471 (207)\ttotal: 3m 17s\tremaining: 12m 30s\n",
            "208:\tlearn: 0.1352946\ttest: 0.1445406\tbest: 0.1445406 (208)\ttotal: 3m 17s\tremaining: 12m 28s\n",
            "209:\tlearn: 0.1351115\ttest: 0.1444429\tbest: 0.1444429 (209)\ttotal: 3m 18s\tremaining: 12m 27s\n",
            "210:\tlearn: 0.1347989\ttest: 0.1442065\tbest: 0.1442065 (210)\ttotal: 3m 19s\tremaining: 12m 26s\n",
            "211:\tlearn: 0.1346470\ttest: 0.1441010\tbest: 0.1441010 (211)\ttotal: 3m 21s\tremaining: 12m 27s\n",
            "212:\tlearn: 0.1343647\ttest: 0.1438800\tbest: 0.1438800 (212)\ttotal: 3m 22s\tremaining: 12m 28s\n",
            "213:\tlearn: 0.1341462\ttest: 0.1437056\tbest: 0.1437056 (213)\ttotal: 3m 23s\tremaining: 12m 28s\n",
            "214:\tlearn: 0.1340030\ttest: 0.1436237\tbest: 0.1436237 (214)\ttotal: 3m 24s\tremaining: 12m 27s\n",
            "215:\tlearn: 0.1338300\ttest: 0.1434751\tbest: 0.1434751 (215)\ttotal: 3m 25s\tremaining: 12m 25s\n",
            "216:\tlearn: 0.1335987\ttest: 0.1433274\tbest: 0.1433274 (216)\ttotal: 3m 26s\tremaining: 12m 24s\n",
            "217:\tlearn: 0.1334065\ttest: 0.1431407\tbest: 0.1431407 (217)\ttotal: 3m 27s\tremaining: 12m 22s\n",
            "218:\tlearn: 0.1331852\ttest: 0.1429392\tbest: 0.1429392 (218)\ttotal: 3m 27s\tremaining: 12m 21s\n",
            "219:\tlearn: 0.1329990\ttest: 0.1427868\tbest: 0.1427868 (219)\ttotal: 3m 28s\tremaining: 12m 19s\n",
            "220:\tlearn: 0.1327735\ttest: 0.1426028\tbest: 0.1426028 (220)\ttotal: 3m 29s\tremaining: 12m 18s\n",
            "221:\tlearn: 0.1325713\ttest: 0.1424476\tbest: 0.1424476 (221)\ttotal: 3m 30s\tremaining: 12m 16s\n",
            "222:\tlearn: 0.1324153\ttest: 0.1423633\tbest: 0.1423633 (222)\ttotal: 3m 31s\tremaining: 12m 15s\n",
            "223:\tlearn: 0.1322579\ttest: 0.1422324\tbest: 0.1422324 (223)\ttotal: 3m 31s\tremaining: 12m 13s\n",
            "224:\tlearn: 0.1320095\ttest: 0.1420151\tbest: 0.1420151 (224)\ttotal: 3m 32s\tremaining: 12m 12s\n",
            "225:\tlearn: 0.1318629\ttest: 0.1418709\tbest: 0.1418709 (225)\ttotal: 3m 33s\tremaining: 12m 10s\n",
            "226:\tlearn: 0.1316841\ttest: 0.1416919\tbest: 0.1416919 (226)\ttotal: 3m 34s\tremaining: 12m 10s\n",
            "227:\tlearn: 0.1315463\ttest: 0.1415867\tbest: 0.1415867 (227)\ttotal: 3m 35s\tremaining: 12m 10s\n",
            "228:\tlearn: 0.1313775\ttest: 0.1414794\tbest: 0.1414794 (228)\ttotal: 3m 37s\tremaining: 12m 11s\n",
            "229:\tlearn: 0.1312206\ttest: 0.1413152\tbest: 0.1413152 (229)\ttotal: 3m 38s\tremaining: 12m 11s\n",
            "230:\tlearn: 0.1309507\ttest: 0.1411034\tbest: 0.1411034 (230)\ttotal: 3m 39s\tremaining: 12m 10s\n",
            "231:\tlearn: 0.1308308\ttest: 0.1410441\tbest: 0.1410441 (231)\ttotal: 3m 40s\tremaining: 12m 8s\n",
            "232:\tlearn: 0.1306392\ttest: 0.1408790\tbest: 0.1408790 (232)\ttotal: 3m 40s\tremaining: 12m 7s\n",
            "233:\tlearn: 0.1304268\ttest: 0.1406672\tbest: 0.1406672 (233)\ttotal: 3m 41s\tremaining: 12m 6s\n",
            "234:\tlearn: 0.1301944\ttest: 0.1404975\tbest: 0.1404975 (234)\ttotal: 3m 42s\tremaining: 12m 4s\n",
            "235:\tlearn: 0.1299870\ttest: 0.1403271\tbest: 0.1403271 (235)\ttotal: 3m 43s\tremaining: 12m 3s\n",
            "236:\tlearn: 0.1298653\ttest: 0.1402611\tbest: 0.1402611 (236)\ttotal: 3m 44s\tremaining: 12m 1s\n",
            "237:\tlearn: 0.1297168\ttest: 0.1401519\tbest: 0.1401519 (237)\ttotal: 3m 44s\tremaining: 12m\n",
            "238:\tlearn: 0.1294805\ttest: 0.1399853\tbest: 0.1399853 (238)\ttotal: 3m 45s\tremaining: 11m 58s\n",
            "239:\tlearn: 0.1291802\ttest: 0.1397423\tbest: 0.1397423 (239)\ttotal: 3m 46s\tremaining: 11m 57s\n",
            "240:\tlearn: 0.1289613\ttest: 0.1395213\tbest: 0.1395213 (240)\ttotal: 3m 47s\tremaining: 11m 56s\n",
            "241:\tlearn: 0.1287701\ttest: 0.1393803\tbest: 0.1393803 (241)\ttotal: 3m 48s\tremaining: 11m 54s\n",
            "242:\tlearn: 0.1286375\ttest: 0.1393052\tbest: 0.1393052 (242)\ttotal: 3m 49s\tremaining: 11m 54s\n",
            "243:\tlearn: 0.1284595\ttest: 0.1392179\tbest: 0.1392179 (243)\ttotal: 3m 50s\tremaining: 11m 54s\n",
            "244:\tlearn: 0.1283022\ttest: 0.1390934\tbest: 0.1390934 (244)\ttotal: 3m 52s\tremaining: 11m 55s\n",
            "245:\tlearn: 0.1280763\ttest: 0.1388969\tbest: 0.1388969 (245)\ttotal: 3m 53s\tremaining: 11m 55s\n",
            "246:\tlearn: 0.1278690\ttest: 0.1387324\tbest: 0.1387324 (246)\ttotal: 3m 54s\tremaining: 11m 53s\n",
            "247:\tlearn: 0.1277142\ttest: 0.1386272\tbest: 0.1386272 (247)\ttotal: 3m 54s\tremaining: 11m 52s\n",
            "248:\tlearn: 0.1275647\ttest: 0.1384967\tbest: 0.1384967 (248)\ttotal: 3m 55s\tremaining: 11m 51s\n",
            "249:\tlearn: 0.1273557\ttest: 0.1382961\tbest: 0.1382961 (249)\ttotal: 3m 56s\tremaining: 11m 49s\n",
            "250:\tlearn: 0.1271900\ttest: 0.1381651\tbest: 0.1381651 (250)\ttotal: 3m 57s\tremaining: 11m 50s\n",
            "251:\tlearn: 0.1270201\ttest: 0.1380409\tbest: 0.1380409 (251)\ttotal: 3m 59s\tremaining: 11m 51s\n",
            "252:\tlearn: 0.1268173\ttest: 0.1378567\tbest: 0.1378567 (252)\ttotal: 4m 1s\tremaining: 11m 52s\n",
            "253:\tlearn: 0.1265918\ttest: 0.1376639\tbest: 0.1376639 (253)\ttotal: 4m 2s\tremaining: 11m 52s\n",
            "254:\tlearn: 0.1264750\ttest: 0.1376173\tbest: 0.1376173 (254)\ttotal: 4m 3s\tremaining: 11m 52s\n",
            "255:\tlearn: 0.1263212\ttest: 0.1375286\tbest: 0.1375286 (255)\ttotal: 4m 5s\tremaining: 11m 52s\n",
            "256:\tlearn: 0.1262050\ttest: 0.1373993\tbest: 0.1373993 (256)\ttotal: 4m 6s\tremaining: 11m 52s\n",
            "257:\tlearn: 0.1260236\ttest: 0.1372154\tbest: 0.1372154 (257)\ttotal: 4m 7s\tremaining: 11m 53s\n",
            "258:\tlearn: 0.1259114\ttest: 0.1371800\tbest: 0.1371800 (258)\ttotal: 4m 8s\tremaining: 11m 51s\n",
            "259:\tlearn: 0.1258096\ttest: 0.1371193\tbest: 0.1371193 (259)\ttotal: 4m 9s\tremaining: 11m 50s\n",
            "260:\tlearn: 0.1255891\ttest: 0.1369394\tbest: 0.1369394 (260)\ttotal: 4m 10s\tremaining: 11m 48s\n",
            "261:\tlearn: 0.1254194\ttest: 0.1367868\tbest: 0.1367868 (261)\ttotal: 4m 11s\tremaining: 11m 47s\n",
            "262:\tlearn: 0.1252790\ttest: 0.1366585\tbest: 0.1366585 (262)\ttotal: 4m 12s\tremaining: 11m 46s\n",
            "263:\tlearn: 0.1251185\ttest: 0.1365218\tbest: 0.1365218 (263)\ttotal: 4m 12s\tremaining: 11m 44s\n",
            "264:\tlearn: 0.1249789\ttest: 0.1363577\tbest: 0.1363577 (264)\ttotal: 4m 13s\tremaining: 11m 43s\n",
            "265:\tlearn: 0.1248307\ttest: 0.1362387\tbest: 0.1362387 (265)\ttotal: 4m 14s\tremaining: 11m 42s\n",
            "266:\tlearn: 0.1246509\ttest: 0.1361120\tbest: 0.1361120 (266)\ttotal: 4m 15s\tremaining: 11m 40s\n",
            "267:\tlearn: 0.1245466\ttest: 0.1360674\tbest: 0.1360674 (267)\ttotal: 4m 16s\tremaining: 11m 39s\n",
            "268:\tlearn: 0.1243119\ttest: 0.1358705\tbest: 0.1358705 (268)\ttotal: 4m 16s\tremaining: 11m 38s\n",
            "269:\tlearn: 0.1240700\ttest: 0.1356597\tbest: 0.1356597 (269)\ttotal: 4m 17s\tremaining: 11m 36s\n",
            "270:\tlearn: 0.1238909\ttest: 0.1355170\tbest: 0.1355170 (270)\ttotal: 4m 18s\tremaining: 11m 36s\n",
            "271:\tlearn: 0.1237461\ttest: 0.1354186\tbest: 0.1354186 (271)\ttotal: 4m 20s\tremaining: 11m 36s\n",
            "272:\tlearn: 0.1235813\ttest: 0.1352656\tbest: 0.1352656 (272)\ttotal: 4m 21s\tremaining: 11m 36s\n",
            "273:\tlearn: 0.1234058\ttest: 0.1351247\tbest: 0.1351247 (273)\ttotal: 4m 22s\tremaining: 11m 36s\n",
            "274:\tlearn: 0.1232754\ttest: 0.1350113\tbest: 0.1350113 (274)\ttotal: 4m 23s\tremaining: 11m 35s\n",
            "275:\tlearn: 0.1231739\ttest: 0.1349447\tbest: 0.1349447 (275)\ttotal: 4m 24s\tremaining: 11m 33s\n",
            "276:\tlearn: 0.1230187\ttest: 0.1348089\tbest: 0.1348089 (276)\ttotal: 4m 25s\tremaining: 11m 32s\n",
            "277:\tlearn: 0.1229000\ttest: 0.1347076\tbest: 0.1347076 (277)\ttotal: 4m 26s\tremaining: 11m 31s\n",
            "278:\tlearn: 0.1228013\ttest: 0.1346471\tbest: 0.1346471 (278)\ttotal: 4m 26s\tremaining: 11m 29s\n",
            "279:\tlearn: 0.1227074\ttest: 0.1345505\tbest: 0.1345505 (279)\ttotal: 4m 27s\tremaining: 11m 28s\n",
            "280:\tlearn: 0.1225495\ttest: 0.1344568\tbest: 0.1344568 (280)\ttotal: 4m 28s\tremaining: 11m 27s\n",
            "281:\tlearn: 0.1223899\ttest: 0.1343532\tbest: 0.1343532 (281)\ttotal: 4m 29s\tremaining: 11m 25s\n",
            "282:\tlearn: 0.1222295\ttest: 0.1342397\tbest: 0.1342397 (282)\ttotal: 4m 30s\tremaining: 11m 24s\n",
            "283:\tlearn: 0.1220656\ttest: 0.1341271\tbest: 0.1341271 (283)\ttotal: 4m 30s\tremaining: 11m 22s\n",
            "284:\tlearn: 0.1218675\ttest: 0.1339913\tbest: 0.1339913 (284)\ttotal: 4m 31s\tremaining: 11m 21s\n",
            "285:\tlearn: 0.1217614\ttest: 0.1339275\tbest: 0.1339275 (285)\ttotal: 4m 32s\tremaining: 11m 20s\n",
            "286:\tlearn: 0.1216094\ttest: 0.1338061\tbest: 0.1338061 (286)\ttotal: 4m 33s\tremaining: 11m 19s\n",
            "287:\tlearn: 0.1214881\ttest: 0.1336765\tbest: 0.1336765 (287)\ttotal: 4m 35s\tremaining: 11m 20s\n",
            "288:\tlearn: 0.1213907\ttest: 0.1336446\tbest: 0.1336446 (288)\ttotal: 4m 37s\tremaining: 11m 21s\n",
            "289:\tlearn: 0.1211992\ttest: 0.1335539\tbest: 0.1335539 (289)\ttotal: 4m 37s\tremaining: 11m 20s\n",
            "290:\tlearn: 0.1210704\ttest: 0.1334505\tbest: 0.1334505 (290)\ttotal: 4m 38s\tremaining: 11m 19s\n",
            "291:\tlearn: 0.1209276\ttest: 0.1333316\tbest: 0.1333316 (291)\ttotal: 4m 39s\tremaining: 11m 17s\n",
            "292:\tlearn: 0.1207726\ttest: 0.1332106\tbest: 0.1332106 (292)\ttotal: 4m 40s\tremaining: 11m 16s\n",
            "293:\tlearn: 0.1206161\ttest: 0.1330696\tbest: 0.1330696 (293)\ttotal: 4m 41s\tremaining: 11m 15s\n",
            "294:\tlearn: 0.1205302\ttest: 0.1330198\tbest: 0.1330198 (294)\ttotal: 4m 41s\tremaining: 11m 13s\n",
            "295:\tlearn: 0.1204292\ttest: 0.1329527\tbest: 0.1329527 (295)\ttotal: 4m 42s\tremaining: 11m 12s\n",
            "296:\tlearn: 0.1203468\ttest: 0.1329341\tbest: 0.1329341 (296)\ttotal: 4m 43s\tremaining: 11m 10s\n",
            "297:\tlearn: 0.1201500\ttest: 0.1328095\tbest: 0.1328095 (297)\ttotal: 4m 44s\tremaining: 11m 9s\n",
            "298:\tlearn: 0.1200069\ttest: 0.1326741\tbest: 0.1326741 (298)\ttotal: 4m 45s\tremaining: 11m 8s\n",
            "299:\tlearn: 0.1198429\ttest: 0.1325442\tbest: 0.1325442 (299)\ttotal: 4m 45s\tremaining: 11m 7s\n",
            "300:\tlearn: 0.1197081\ttest: 0.1324445\tbest: 0.1324445 (300)\ttotal: 4m 46s\tremaining: 11m 5s\n",
            "301:\tlearn: 0.1195562\ttest: 0.1323520\tbest: 0.1323520 (301)\ttotal: 4m 47s\tremaining: 11m 4s\n",
            "302:\tlearn: 0.1193894\ttest: 0.1321783\tbest: 0.1321783 (302)\ttotal: 4m 49s\tremaining: 11m 4s\n",
            "303:\tlearn: 0.1192144\ttest: 0.1320681\tbest: 0.1320681 (303)\ttotal: 4m 50s\tremaining: 11m 5s\n",
            "304:\tlearn: 0.1190517\ttest: 0.1319197\tbest: 0.1319197 (304)\ttotal: 4m 51s\tremaining: 11m 5s\n",
            "305:\tlearn: 0.1189657\ttest: 0.1318515\tbest: 0.1318515 (305)\ttotal: 4m 52s\tremaining: 11m 3s\n",
            "306:\tlearn: 0.1188199\ttest: 0.1316751\tbest: 0.1316751 (306)\ttotal: 4m 53s\tremaining: 11m 2s\n",
            "307:\tlearn: 0.1186939\ttest: 0.1316227\tbest: 0.1316227 (307)\ttotal: 4m 54s\tremaining: 11m 1s\n",
            "308:\tlearn: 0.1185805\ttest: 0.1315463\tbest: 0.1315463 (308)\ttotal: 4m 55s\tremaining: 10m 59s\n",
            "309:\tlearn: 0.1184526\ttest: 0.1314399\tbest: 0.1314399 (309)\ttotal: 4m 55s\tremaining: 10m 58s\n",
            "310:\tlearn: 0.1183679\ttest: 0.1313579\tbest: 0.1313579 (310)\ttotal: 4m 56s\tremaining: 10m 57s\n",
            "311:\tlearn: 0.1182034\ttest: 0.1311522\tbest: 0.1311522 (311)\ttotal: 4m 57s\tremaining: 10m 55s\n",
            "312:\tlearn: 0.1180318\ttest: 0.1310590\tbest: 0.1310590 (312)\ttotal: 4m 58s\tremaining: 10m 54s\n",
            "313:\tlearn: 0.1179138\ttest: 0.1309677\tbest: 0.1309677 (313)\ttotal: 4m 59s\tremaining: 10m 53s\n",
            "314:\tlearn: 0.1177628\ttest: 0.1308752\tbest: 0.1308752 (314)\ttotal: 4m 59s\tremaining: 10m 52s\n",
            "315:\tlearn: 0.1176296\ttest: 0.1307599\tbest: 0.1307599 (315)\ttotal: 5m\tremaining: 10m 50s\n",
            "316:\tlearn: 0.1174819\ttest: 0.1306581\tbest: 0.1306581 (316)\ttotal: 5m 1s\tremaining: 10m 49s\n",
            "317:\tlearn: 0.1173658\ttest: 0.1305692\tbest: 0.1305692 (317)\ttotal: 5m 2s\tremaining: 10m 48s\n",
            "318:\tlearn: 0.1172344\ttest: 0.1304990\tbest: 0.1304990 (318)\ttotal: 5m 3s\tremaining: 10m 48s\n",
            "319:\tlearn: 0.1170820\ttest: 0.1303840\tbest: 0.1303840 (319)\ttotal: 5m 5s\tremaining: 10m 48s\n",
            "320:\tlearn: 0.1169246\ttest: 0.1302294\tbest: 0.1302294 (320)\ttotal: 5m 6s\tremaining: 10m 48s\n",
            "321:\tlearn: 0.1168450\ttest: 0.1301730\tbest: 0.1301730 (321)\ttotal: 5m 7s\tremaining: 10m 47s\n",
            "322:\tlearn: 0.1167264\ttest: 0.1301002\tbest: 0.1301002 (322)\ttotal: 5m 8s\tremaining: 10m 46s\n",
            "323:\tlearn: 0.1166188\ttest: 0.1300305\tbest: 0.1300305 (323)\ttotal: 5m 9s\tremaining: 10m 44s\n",
            "324:\tlearn: 0.1165398\ttest: 0.1299966\tbest: 0.1299966 (324)\ttotal: 5m 9s\tremaining: 10m 43s\n",
            "325:\tlearn: 0.1164368\ttest: 0.1299170\tbest: 0.1299170 (325)\ttotal: 5m 10s\tremaining: 10m 42s\n",
            "326:\tlearn: 0.1163228\ttest: 0.1298226\tbest: 0.1298226 (326)\ttotal: 5m 11s\tremaining: 10m 41s\n",
            "327:\tlearn: 0.1161712\ttest: 0.1297368\tbest: 0.1297368 (327)\ttotal: 5m 12s\tremaining: 10m 39s\n",
            "328:\tlearn: 0.1160700\ttest: 0.1296701\tbest: 0.1296701 (328)\ttotal: 5m 13s\tremaining: 10m 38s\n",
            "329:\tlearn: 0.1159123\ttest: 0.1295607\tbest: 0.1295607 (329)\ttotal: 5m 13s\tremaining: 10m 37s\n",
            "330:\tlearn: 0.1158340\ttest: 0.1294840\tbest: 0.1294840 (330)\ttotal: 5m 14s\tremaining: 10m 36s\n",
            "331:\tlearn: 0.1157605\ttest: 0.1294422\tbest: 0.1294422 (331)\ttotal: 5m 15s\tremaining: 10m 34s\n",
            "332:\tlearn: 0.1156232\ttest: 0.1293296\tbest: 0.1293296 (332)\ttotal: 5m 16s\tremaining: 10m 33s\n",
            "333:\tlearn: 0.1154747\ttest: 0.1292226\tbest: 0.1292226 (333)\ttotal: 5m 17s\tremaining: 10m 32s\n",
            "334:\tlearn: 0.1153497\ttest: 0.1290981\tbest: 0.1290981 (334)\ttotal: 5m 18s\tremaining: 10m 32s\n",
            "335:\tlearn: 0.1151778\ttest: 0.1289908\tbest: 0.1289908 (335)\ttotal: 5m 20s\tremaining: 10m 32s\n",
            "336:\tlearn: 0.1150745\ttest: 0.1289353\tbest: 0.1289353 (336)\ttotal: 5m 21s\tremaining: 10m 32s\n",
            "337:\tlearn: 0.1150008\ttest: 0.1289211\tbest: 0.1289211 (337)\ttotal: 5m 22s\tremaining: 10m 31s\n",
            "338:\tlearn: 0.1148847\ttest: 0.1288048\tbest: 0.1288048 (338)\ttotal: 5m 23s\tremaining: 10m 30s\n",
            "339:\tlearn: 0.1147023\ttest: 0.1286576\tbest: 0.1286576 (339)\ttotal: 5m 23s\tremaining: 10m 28s\n",
            "340:\tlearn: 0.1146354\ttest: 0.1286065\tbest: 0.1286065 (340)\ttotal: 5m 24s\tremaining: 10m 27s\n",
            "341:\tlearn: 0.1145645\ttest: 0.1285697\tbest: 0.1285697 (341)\ttotal: 5m 25s\tremaining: 10m 26s\n",
            "342:\tlearn: 0.1144976\ttest: 0.1285008\tbest: 0.1285008 (342)\ttotal: 5m 26s\tremaining: 10m 25s\n",
            "343:\tlearn: 0.1144105\ttest: 0.1284647\tbest: 0.1284647 (343)\ttotal: 5m 27s\tremaining: 10m 23s\n",
            "344:\tlearn: 0.1142861\ttest: 0.1283660\tbest: 0.1283660 (344)\ttotal: 5m 27s\tremaining: 10m 22s\n",
            "345:\tlearn: 0.1142175\ttest: 0.1283340\tbest: 0.1283340 (345)\ttotal: 5m 28s\tremaining: 10m 21s\n",
            "346:\tlearn: 0.1140986\ttest: 0.1282543\tbest: 0.1282543 (346)\ttotal: 5m 29s\tremaining: 10m 20s\n",
            "347:\tlearn: 0.1139600\ttest: 0.1281126\tbest: 0.1281126 (347)\ttotal: 5m 30s\tremaining: 10m 19s\n",
            "348:\tlearn: 0.1138946\ttest: 0.1280754\tbest: 0.1280754 (348)\ttotal: 5m 31s\tremaining: 10m 18s\n",
            "349:\tlearn: 0.1138156\ttest: 0.1280305\tbest: 0.1280305 (349)\ttotal: 5m 32s\tremaining: 10m 18s\n",
            "350:\tlearn: 0.1136417\ttest: 0.1278901\tbest: 0.1278901 (350)\ttotal: 5m 34s\tremaining: 10m 18s\n",
            "351:\tlearn: 0.1135493\ttest: 0.1278531\tbest: 0.1278531 (351)\ttotal: 5m 35s\tremaining: 10m 17s\n",
            "352:\tlearn: 0.1134055\ttest: 0.1277728\tbest: 0.1277728 (352)\ttotal: 5m 36s\tremaining: 10m 16s\n",
            "353:\tlearn: 0.1133433\ttest: 0.1277427\tbest: 0.1277427 (353)\ttotal: 5m 37s\tremaining: 10m 15s\n",
            "354:\tlearn: 0.1132418\ttest: 0.1276613\tbest: 0.1276613 (354)\ttotal: 5m 38s\tremaining: 10m 14s\n",
            "355:\tlearn: 0.1131472\ttest: 0.1276008\tbest: 0.1276008 (355)\ttotal: 5m 38s\tremaining: 10m 13s\n",
            "356:\tlearn: 0.1130835\ttest: 0.1275897\tbest: 0.1275897 (356)\ttotal: 5m 39s\tremaining: 10m 11s\n",
            "357:\tlearn: 0.1130072\ttest: 0.1275226\tbest: 0.1275226 (357)\ttotal: 5m 40s\tremaining: 10m 10s\n",
            "358:\tlearn: 0.1129502\ttest: 0.1275186\tbest: 0.1275186 (358)\ttotal: 5m 41s\tremaining: 10m 9s\n",
            "359:\tlearn: 0.1128404\ttest: 0.1274495\tbest: 0.1274495 (359)\ttotal: 5m 42s\tremaining: 10m 8s\n",
            "360:\tlearn: 0.1127629\ttest: 0.1274105\tbest: 0.1274105 (360)\ttotal: 5m 42s\tremaining: 10m 7s\n",
            "361:\tlearn: 0.1126584\ttest: 0.1273412\tbest: 0.1273412 (361)\ttotal: 5m 43s\tremaining: 10m 5s\n",
            "362:\tlearn: 0.1126005\ttest: 0.1272766\tbest: 0.1272766 (362)\ttotal: 5m 44s\tremaining: 10m 4s\n",
            "363:\tlearn: 0.1125431\ttest: 0.1272423\tbest: 0.1272423 (363)\ttotal: 5m 45s\tremaining: 10m 3s\n",
            "364:\tlearn: 0.1124365\ttest: 0.1271273\tbest: 0.1271273 (364)\ttotal: 5m 46s\tremaining: 10m 2s\n",
            "365:\tlearn: 0.1123055\ttest: 0.1270165\tbest: 0.1270165 (365)\ttotal: 5m 47s\tremaining: 10m 2s\n",
            "366:\tlearn: 0.1121697\ttest: 0.1268920\tbest: 0.1268920 (366)\ttotal: 5m 49s\tremaining: 10m 2s\n",
            "367:\tlearn: 0.1119565\ttest: 0.1267715\tbest: 0.1267715 (367)\ttotal: 5m 50s\tremaining: 10m 2s\n",
            "368:\tlearn: 0.1118470\ttest: 0.1266790\tbest: 0.1266790 (368)\ttotal: 5m 51s\tremaining: 10m\n",
            "369:\tlearn: 0.1117286\ttest: 0.1265733\tbest: 0.1265733 (369)\ttotal: 5m 52s\tremaining: 9m 59s\n",
            "370:\tlearn: 0.1116174\ttest: 0.1264899\tbest: 0.1264899 (370)\ttotal: 5m 53s\tremaining: 9m 58s\n",
            "371:\tlearn: 0.1114634\ttest: 0.1264006\tbest: 0.1264006 (371)\ttotal: 5m 53s\tremaining: 9m 57s\n",
            "372:\tlearn: 0.1113962\ttest: 0.1263627\tbest: 0.1263627 (372)\ttotal: 5m 54s\tremaining: 9m 56s\n",
            "373:\tlearn: 0.1112724\ttest: 0.1262887\tbest: 0.1262887 (373)\ttotal: 5m 55s\tremaining: 9m 54s\n",
            "374:\tlearn: 0.1111744\ttest: 0.1261981\tbest: 0.1261981 (374)\ttotal: 5m 56s\tremaining: 9m 53s\n",
            "375:\tlearn: 0.1111170\ttest: 0.1261727\tbest: 0.1261727 (375)\ttotal: 5m 57s\tremaining: 9m 52s\n",
            "376:\tlearn: 0.1109440\ttest: 0.1260709\tbest: 0.1260709 (376)\ttotal: 5m 57s\tremaining: 9m 51s\n",
            "377:\tlearn: 0.1108663\ttest: 0.1260285\tbest: 0.1260285 (377)\ttotal: 5m 58s\tremaining: 9m 50s\n",
            "378:\tlearn: 0.1108135\ttest: 0.1259897\tbest: 0.1259897 (378)\ttotal: 5m 59s\tremaining: 9m 49s\n",
            "379:\tlearn: 0.1107059\ttest: 0.1259169\tbest: 0.1259169 (379)\ttotal: 6m\tremaining: 9m 47s\n",
            "380:\tlearn: 0.1105583\ttest: 0.1258087\tbest: 0.1258087 (380)\ttotal: 6m 1s\tremaining: 9m 47s\n",
            "381:\tlearn: 0.1104685\ttest: 0.1257603\tbest: 0.1257603 (381)\ttotal: 6m 2s\tremaining: 9m 46s\n",
            "382:\tlearn: 0.1103579\ttest: 0.1256561\tbest: 0.1256561 (382)\ttotal: 6m 4s\tremaining: 9m 46s\n",
            "383:\tlearn: 0.1102285\ttest: 0.1255012\tbest: 0.1255012 (383)\ttotal: 6m 5s\tremaining: 9m 46s\n",
            "384:\tlearn: 0.1101685\ttest: 0.1254661\tbest: 0.1254661 (384)\ttotal: 6m 6s\tremaining: 9m 45s\n",
            "385:\tlearn: 0.1100376\ttest: 0.1253560\tbest: 0.1253560 (385)\ttotal: 6m 7s\tremaining: 9m 43s\n",
            "386:\tlearn: 0.1099607\ttest: 0.1252974\tbest: 0.1252974 (386)\ttotal: 6m 7s\tremaining: 9m 42s\n",
            "387:\tlearn: 0.1098503\ttest: 0.1252571\tbest: 0.1252571 (387)\ttotal: 6m 8s\tremaining: 9m 41s\n",
            "388:\tlearn: 0.1097974\ttest: 0.1251907\tbest: 0.1251907 (388)\ttotal: 6m 9s\tremaining: 9m 40s\n",
            "389:\tlearn: 0.1097458\ttest: 0.1251841\tbest: 0.1251841 (389)\ttotal: 6m 10s\tremaining: 9m 39s\n",
            "390:\tlearn: 0.1095889\ttest: 0.1250906\tbest: 0.1250906 (390)\ttotal: 6m 11s\tremaining: 9m 38s\n",
            "391:\tlearn: 0.1094465\ttest: 0.1250467\tbest: 0.1250467 (391)\ttotal: 6m 11s\tremaining: 9m 36s\n",
            "392:\tlearn: 0.1093483\ttest: 0.1249906\tbest: 0.1249906 (392)\ttotal: 6m 12s\tremaining: 9m 35s\n",
            "393:\tlearn: 0.1092502\ttest: 0.1249594\tbest: 0.1249594 (393)\ttotal: 6m 13s\tremaining: 9m 34s\n",
            "394:\tlearn: 0.1091318\ttest: 0.1248644\tbest: 0.1248644 (394)\ttotal: 6m 14s\tremaining: 9m 33s\n",
            "395:\tlearn: 0.1089548\ttest: 0.1246949\tbest: 0.1246949 (395)\ttotal: 6m 15s\tremaining: 9m 32s\n",
            "396:\tlearn: 0.1088422\ttest: 0.1246263\tbest: 0.1246263 (396)\ttotal: 6m 16s\tremaining: 9m 31s\n",
            "397:\tlearn: 0.1087245\ttest: 0.1245160\tbest: 0.1245160 (397)\ttotal: 6m 17s\tremaining: 9m 31s\n",
            "398:\tlearn: 0.1086535\ttest: 0.1244910\tbest: 0.1244910 (398)\ttotal: 6m 19s\tremaining: 9m 31s\n",
            "399:\tlearn: 0.1086012\ttest: 0.1244836\tbest: 0.1244836 (399)\ttotal: 6m 20s\tremaining: 9m 30s\n",
            "400:\tlearn: 0.1085499\ttest: 0.1244891\tbest: 0.1244836 (399)\ttotal: 6m 21s\tremaining: 9m 29s\n",
            "401:\tlearn: 0.1084836\ttest: 0.1244387\tbest: 0.1244387 (401)\ttotal: 6m 22s\tremaining: 9m 28s\n",
            "402:\tlearn: 0.1083801\ttest: 0.1243782\tbest: 0.1243782 (402)\ttotal: 6m 22s\tremaining: 9m 27s\n",
            "403:\tlearn: 0.1083324\ttest: 0.1243419\tbest: 0.1243419 (403)\ttotal: 6m 23s\tremaining: 9m 26s\n",
            "404:\tlearn: 0.1082299\ttest: 0.1242629\tbest: 0.1242629 (404)\ttotal: 6m 24s\tremaining: 9m 24s\n",
            "405:\tlearn: 0.1081204\ttest: 0.1241946\tbest: 0.1241946 (405)\ttotal: 6m 25s\tremaining: 9m 23s\n",
            "406:\tlearn: 0.1080656\ttest: 0.1241406\tbest: 0.1241406 (406)\ttotal: 6m 26s\tremaining: 9m 22s\n",
            "407:\tlearn: 0.1080010\ttest: 0.1241280\tbest: 0.1241280 (407)\ttotal: 6m 26s\tremaining: 9m 21s\n",
            "408:\tlearn: 0.1078743\ttest: 0.1240196\tbest: 0.1240196 (408)\ttotal: 6m 27s\tremaining: 9m 20s\n",
            "409:\tlearn: 0.1077805\ttest: 0.1239594\tbest: 0.1239594 (409)\ttotal: 6m 28s\tremaining: 9m 19s\n",
            "410:\tlearn: 0.1076771\ttest: 0.1238742\tbest: 0.1238742 (410)\ttotal: 6m 29s\tremaining: 9m 17s\n",
            "411:\tlearn: 0.1076042\ttest: 0.1238375\tbest: 0.1238375 (411)\ttotal: 6m 30s\tremaining: 9m 16s\n",
            "412:\tlearn: 0.1075097\ttest: 0.1237690\tbest: 0.1237690 (412)\ttotal: 6m 31s\tremaining: 9m 16s\n",
            "413:\tlearn: 0.1074564\ttest: 0.1237661\tbest: 0.1237661 (413)\ttotal: 6m 32s\tremaining: 9m 15s\n",
            "414:\tlearn: 0.1073581\ttest: 0.1236791\tbest: 0.1236791 (414)\ttotal: 6m 34s\tremaining: 9m 15s\n",
            "415:\tlearn: 0.1072431\ttest: 0.1235570\tbest: 0.1235570 (415)\ttotal: 6m 35s\tremaining: 9m 15s\n",
            "416:\tlearn: 0.1071506\ttest: 0.1235136\tbest: 0.1235136 (416)\ttotal: 6m 36s\tremaining: 9m 13s\n",
            "417:\tlearn: 0.1069934\ttest: 0.1233879\tbest: 0.1233879 (417)\ttotal: 6m 36s\tremaining: 9m 12s\n",
            "418:\tlearn: 0.1068751\ttest: 0.1233091\tbest: 0.1233091 (418)\ttotal: 6m 37s\tremaining: 9m 11s\n",
            "419:\tlearn: 0.1068264\ttest: 0.1232691\tbest: 0.1232691 (419)\ttotal: 6m 38s\tremaining: 9m 10s\n",
            "420:\tlearn: 0.1067198\ttest: 0.1231883\tbest: 0.1231883 (420)\ttotal: 6m 39s\tremaining: 9m 9s\n",
            "421:\tlearn: 0.1066341\ttest: 0.1231401\tbest: 0.1231401 (421)\ttotal: 6m 40s\tremaining: 9m 8s\n",
            "422:\tlearn: 0.1065832\ttest: 0.1231085\tbest: 0.1231085 (422)\ttotal: 6m 40s\tremaining: 9m 6s\n",
            "423:\tlearn: 0.1064917\ttest: 0.1230370\tbest: 0.1230370 (423)\ttotal: 6m 41s\tremaining: 9m 5s\n",
            "424:\tlearn: 0.1064431\ttest: 0.1230206\tbest: 0.1230206 (424)\ttotal: 6m 42s\tremaining: 9m 4s\n",
            "425:\tlearn: 0.1063941\ttest: 0.1229909\tbest: 0.1229909 (425)\ttotal: 6m 43s\tremaining: 9m 3s\n",
            "426:\tlearn: 0.1063276\ttest: 0.1229431\tbest: 0.1229431 (426)\ttotal: 6m 44s\tremaining: 9m 2s\n",
            "427:\tlearn: 0.1062396\ttest: 0.1229052\tbest: 0.1229052 (427)\ttotal: 6m 44s\tremaining: 9m 1s\n",
            "428:\tlearn: 0.1061686\ttest: 0.1228672\tbest: 0.1228672 (428)\ttotal: 6m 46s\tremaining: 9m\n",
            "429:\tlearn: 0.1060709\ttest: 0.1228155\tbest: 0.1228155 (429)\ttotal: 6m 47s\tremaining: 9m\n",
            "430:\tlearn: 0.1059889\ttest: 0.1227358\tbest: 0.1227358 (430)\ttotal: 6m 49s\tremaining: 9m\n",
            "431:\tlearn: 0.1059033\ttest: 0.1226748\tbest: 0.1226748 (431)\ttotal: 6m 50s\tremaining: 8m 59s\n",
            "432:\tlearn: 0.1057980\ttest: 0.1225824\tbest: 0.1225824 (432)\ttotal: 6m 51s\tremaining: 8m 58s\n",
            "433:\tlearn: 0.1057070\ttest: 0.1225155\tbest: 0.1225155 (433)\ttotal: 6m 51s\tremaining: 8m 57s\n",
            "434:\tlearn: 0.1056600\ttest: 0.1224656\tbest: 0.1224656 (434)\ttotal: 6m 52s\tremaining: 8m 55s\n",
            "435:\tlearn: 0.1056150\ttest: 0.1224458\tbest: 0.1224458 (435)\ttotal: 6m 53s\tremaining: 8m 54s\n",
            "436:\tlearn: 0.1055364\ttest: 0.1223891\tbest: 0.1223891 (436)\ttotal: 6m 54s\tremaining: 8m 53s\n",
            "437:\tlearn: 0.1054737\ttest: 0.1223796\tbest: 0.1223796 (437)\ttotal: 6m 55s\tremaining: 8m 52s\n",
            "438:\tlearn: 0.1053668\ttest: 0.1223215\tbest: 0.1223215 (438)\ttotal: 6m 55s\tremaining: 8m 51s\n",
            "439:\tlearn: 0.1053189\ttest: 0.1222598\tbest: 0.1222598 (439)\ttotal: 6m 56s\tremaining: 8m 50s\n",
            "440:\tlearn: 0.1051995\ttest: 0.1221490\tbest: 0.1221490 (440)\ttotal: 6m 57s\tremaining: 8m 49s\n",
            "441:\tlearn: 0.1051008\ttest: 0.1220827\tbest: 0.1220827 (441)\ttotal: 6m 58s\tremaining: 8m 48s\n",
            "442:\tlearn: 0.1049912\ttest: 0.1220148\tbest: 0.1220148 (442)\ttotal: 6m 59s\tremaining: 8m 46s\n",
            "443:\tlearn: 0.1049049\ttest: 0.1219510\tbest: 0.1219510 (443)\ttotal: 6m 59s\tremaining: 8m 45s\n",
            "444:\tlearn: 0.1047785\ttest: 0.1218550\tbest: 0.1218550 (444)\ttotal: 7m 1s\tremaining: 8m 45s\n",
            "445:\tlearn: 0.1046895\ttest: 0.1217718\tbest: 0.1217718 (445)\ttotal: 7m 2s\tremaining: 8m 45s\n",
            "446:\tlearn: 0.1045794\ttest: 0.1216666\tbest: 0.1216666 (446)\ttotal: 7m 4s\tremaining: 8m 44s\n",
            "447:\tlearn: 0.1045061\ttest: 0.1216317\tbest: 0.1216317 (447)\ttotal: 7m 5s\tremaining: 8m 43s\n",
            "448:\tlearn: 0.1044527\ttest: 0.1216076\tbest: 0.1216076 (448)\ttotal: 7m 5s\tremaining: 8m 42s\n",
            "449:\tlearn: 0.1043953\ttest: 0.1215601\tbest: 0.1215601 (449)\ttotal: 7m 6s\tremaining: 8m 41s\n",
            "450:\tlearn: 0.1042479\ttest: 0.1214530\tbest: 0.1214530 (450)\ttotal: 7m 7s\tremaining: 8m 40s\n",
            "451:\tlearn: 0.1042055\ttest: 0.1214583\tbest: 0.1214530 (450)\ttotal: 7m 8s\tremaining: 8m 39s\n",
            "452:\tlearn: 0.1040556\ttest: 0.1213465\tbest: 0.1213465 (452)\ttotal: 7m 9s\tremaining: 8m 38s\n",
            "453:\tlearn: 0.1039397\ttest: 0.1212554\tbest: 0.1212554 (453)\ttotal: 7m 10s\tremaining: 8m 37s\n",
            "454:\tlearn: 0.1038924\ttest: 0.1212043\tbest: 0.1212043 (454)\ttotal: 7m 10s\tremaining: 8m 36s\n",
            "455:\tlearn: 0.1038488\ttest: 0.1211700\tbest: 0.1211700 (455)\ttotal: 7m 11s\tremaining: 8m 34s\n",
            "456:\tlearn: 0.1037242\ttest: 0.1211297\tbest: 0.1211297 (456)\ttotal: 7m 12s\tremaining: 8m 33s\n",
            "457:\tlearn: 0.1036305\ttest: 0.1210629\tbest: 0.1210629 (457)\ttotal: 7m 13s\tremaining: 8m 32s\n",
            "458:\tlearn: 0.1035843\ttest: 0.1210304\tbest: 0.1210304 (458)\ttotal: 7m 14s\tremaining: 8m 31s\n",
            "459:\tlearn: 0.1035093\ttest: 0.1209792\tbest: 0.1209792 (459)\ttotal: 7m 15s\tremaining: 8m 31s\n",
            "460:\tlearn: 0.1034190\ttest: 0.1209190\tbest: 0.1209190 (460)\ttotal: 7m 16s\tremaining: 8m 30s\n",
            "461:\tlearn: 0.1032879\ttest: 0.1208082\tbest: 0.1208082 (461)\ttotal: 7m 18s\tremaining: 8m 30s\n",
            "462:\tlearn: 0.1031840\ttest: 0.1207196\tbest: 0.1207196 (462)\ttotal: 7m 19s\tremaining: 8m 29s\n",
            "463:\tlearn: 0.1031164\ttest: 0.1206617\tbest: 0.1206617 (463)\ttotal: 7m 20s\tremaining: 8m 28s\n",
            "464:\tlearn: 0.1030389\ttest: 0.1206375\tbest: 0.1206375 (464)\ttotal: 7m 21s\tremaining: 8m 27s\n",
            "465:\tlearn: 0.1029586\ttest: 0.1205762\tbest: 0.1205762 (465)\ttotal: 7m 22s\tremaining: 8m 26s\n",
            "466:\tlearn: 0.1029080\ttest: 0.1205223\tbest: 0.1205223 (466)\ttotal: 7m 22s\tremaining: 8m 25s\n",
            "467:\tlearn: 0.1028463\ttest: 0.1204741\tbest: 0.1204741 (467)\ttotal: 7m 23s\tremaining: 8m 24s\n",
            "468:\tlearn: 0.1027403\ttest: 0.1204048\tbest: 0.1204048 (468)\ttotal: 7m 24s\tremaining: 8m 23s\n",
            "469:\tlearn: 0.1026797\ttest: 0.1203679\tbest: 0.1203679 (469)\ttotal: 7m 25s\tremaining: 8m 22s\n",
            "470:\tlearn: 0.1026141\ttest: 0.1203222\tbest: 0.1203222 (470)\ttotal: 7m 26s\tremaining: 8m 21s\n",
            "471:\tlearn: 0.1025418\ttest: 0.1202503\tbest: 0.1202503 (471)\ttotal: 7m 26s\tremaining: 8m 19s\n",
            "472:\tlearn: 0.1024984\ttest: 0.1202043\tbest: 0.1202043 (472)\ttotal: 7m 27s\tremaining: 8m 18s\n",
            "473:\tlearn: 0.1023946\ttest: 0.1201343\tbest: 0.1201343 (473)\ttotal: 7m 28s\tremaining: 8m 17s\n",
            "474:\tlearn: 0.1023529\ttest: 0.1201077\tbest: 0.1201077 (474)\ttotal: 7m 29s\tremaining: 8m 16s\n",
            "475:\tlearn: 0.1022697\ttest: 0.1200813\tbest: 0.1200813 (475)\ttotal: 7m 30s\tremaining: 8m 15s\n",
            "476:\tlearn: 0.1021249\ttest: 0.1200017\tbest: 0.1200017 (476)\ttotal: 7m 31s\tremaining: 8m 15s\n",
            "477:\tlearn: 0.1020580\ttest: 0.1199481\tbest: 0.1199481 (477)\ttotal: 7m 33s\tremaining: 8m 14s\n",
            "478:\tlearn: 0.1019444\ttest: 0.1198435\tbest: 0.1198435 (478)\ttotal: 7m 34s\tremaining: 8m 14s\n",
            "479:\tlearn: 0.1018082\ttest: 0.1197824\tbest: 0.1197824 (479)\ttotal: 7m 35s\tremaining: 8m 13s\n",
            "480:\tlearn: 0.1017692\ttest: 0.1197550\tbest: 0.1197550 (480)\ttotal: 7m 36s\tremaining: 8m 12s\n",
            "481:\tlearn: 0.1016919\ttest: 0.1197054\tbest: 0.1197054 (481)\ttotal: 7m 36s\tremaining: 8m 11s\n",
            "482:\tlearn: 0.1015756\ttest: 0.1195829\tbest: 0.1195829 (482)\ttotal: 7m 37s\tremaining: 8m 10s\n",
            "483:\tlearn: 0.1015350\ttest: 0.1195218\tbest: 0.1195218 (483)\ttotal: 7m 38s\tremaining: 8m 8s\n",
            "484:\tlearn: 0.1014036\ttest: 0.1194068\tbest: 0.1194068 (484)\ttotal: 7m 39s\tremaining: 8m 7s\n",
            "485:\tlearn: 0.1013638\ttest: 0.1194009\tbest: 0.1194009 (485)\ttotal: 7m 40s\tremaining: 8m 6s\n",
            "486:\tlearn: 0.1012653\ttest: 0.1192854\tbest: 0.1192854 (486)\ttotal: 7m 41s\tremaining: 8m 5s\n",
            "487:\tlearn: 0.1012085\ttest: 0.1192719\tbest: 0.1192719 (487)\ttotal: 7m 41s\tremaining: 8m 4s\n",
            "488:\tlearn: 0.1011712\ttest: 0.1192546\tbest: 0.1192546 (488)\ttotal: 7m 42s\tremaining: 8m 3s\n",
            "489:\tlearn: 0.1011239\ttest: 0.1192410\tbest: 0.1192410 (489)\ttotal: 7m 43s\tremaining: 8m 2s\n",
            "490:\tlearn: 0.1010841\ttest: 0.1192381\tbest: 0.1192381 (490)\ttotal: 7m 44s\tremaining: 8m 1s\n",
            "491:\tlearn: 0.1009880\ttest: 0.1191920\tbest: 0.1191920 (491)\ttotal: 7m 45s\tremaining: 8m\n",
            "492:\tlearn: 0.1009502\ttest: 0.1191809\tbest: 0.1191809 (492)\ttotal: 7m 46s\tremaining: 7m 59s\n",
            "493:\tlearn: 0.1008188\ttest: 0.1190933\tbest: 0.1190933 (493)\ttotal: 7m 48s\tremaining: 7m 59s\n",
            "494:\tlearn: 0.1007105\ttest: 0.1190190\tbest: 0.1190190 (494)\ttotal: 7m 49s\tremaining: 7m 58s\n",
            "495:\tlearn: 0.1006743\ttest: 0.1190125\tbest: 0.1190125 (495)\ttotal: 7m 50s\tremaining: 7m 57s\n",
            "496:\tlearn: 0.1006179\ttest: 0.1190108\tbest: 0.1190108 (496)\ttotal: 7m 51s\tremaining: 7m 56s\n",
            "497:\tlearn: 0.1005041\ttest: 0.1189160\tbest: 0.1189160 (497)\ttotal: 7m 51s\tremaining: 7m 55s\n",
            "498:\tlearn: 0.1004474\ttest: 0.1189010\tbest: 0.1189010 (498)\ttotal: 7m 52s\tremaining: 7m 54s\n",
            "499:\tlearn: 0.1004021\ttest: 0.1188850\tbest: 0.1188850 (499)\ttotal: 7m 53s\tremaining: 7m 53s\n",
            "500:\tlearn: 0.1003246\ttest: 0.1188238\tbest: 0.1188238 (500)\ttotal: 7m 54s\tremaining: 7m 52s\n",
            "501:\tlearn: 0.1002795\ttest: 0.1187488\tbest: 0.1187488 (501)\ttotal: 7m 55s\tremaining: 7m 51s\n",
            "502:\tlearn: 0.1002445\ttest: 0.1186967\tbest: 0.1186967 (502)\ttotal: 7m 55s\tremaining: 7m 50s\n",
            "503:\tlearn: 0.1002100\ttest: 0.1186866\tbest: 0.1186866 (503)\ttotal: 7m 56s\tremaining: 7m 49s\n",
            "504:\tlearn: 0.1001687\ttest: 0.1186675\tbest: 0.1186675 (504)\ttotal: 7m 57s\tremaining: 7m 48s\n",
            "505:\tlearn: 0.1001289\ttest: 0.1186245\tbest: 0.1186245 (505)\ttotal: 7m 58s\tremaining: 7m 46s\n",
            "506:\tlearn: 0.1001047\ttest: 0.1186195\tbest: 0.1186195 (506)\ttotal: 7m 59s\tremaining: 7m 45s\n",
            "507:\tlearn: 0.1000507\ttest: 0.1186073\tbest: 0.1186073 (507)\ttotal: 8m\tremaining: 7m 45s\n",
            "508:\tlearn: 0.0999480\ttest: 0.1185737\tbest: 0.1185737 (508)\ttotal: 8m 1s\tremaining: 7m 44s\n",
            "509:\tlearn: 0.0998078\ttest: 0.1184608\tbest: 0.1184608 (509)\ttotal: 8m 3s\tremaining: 7m 44s\n",
            "510:\tlearn: 0.0997169\ttest: 0.1184117\tbest: 0.1184117 (510)\ttotal: 8m 4s\tremaining: 7m 43s\n",
            "511:\tlearn: 0.0996836\ttest: 0.1183990\tbest: 0.1183990 (511)\ttotal: 8m 5s\tremaining: 7m 42s\n",
            "512:\tlearn: 0.0995338\ttest: 0.1182586\tbest: 0.1182586 (512)\ttotal: 8m 6s\tremaining: 7m 41s\n",
            "513:\tlearn: 0.0994945\ttest: 0.1182449\tbest: 0.1182449 (513)\ttotal: 8m 6s\tremaining: 7m 40s\n",
            "514:\tlearn: 0.0994619\ttest: 0.1182469\tbest: 0.1182449 (513)\ttotal: 8m 7s\tremaining: 7m 39s\n",
            "515:\tlearn: 0.0993765\ttest: 0.1182106\tbest: 0.1182106 (515)\ttotal: 8m 8s\tremaining: 7m 38s\n",
            "516:\tlearn: 0.0992972\ttest: 0.1181695\tbest: 0.1181695 (516)\ttotal: 8m 9s\tremaining: 7m 37s\n",
            "517:\tlearn: 0.0992597\ttest: 0.1181554\tbest: 0.1181554 (517)\ttotal: 8m 10s\tremaining: 7m 35s\n",
            "518:\tlearn: 0.0991767\ttest: 0.1180941\tbest: 0.1180941 (518)\ttotal: 8m 10s\tremaining: 7m 34s\n",
            "519:\tlearn: 0.0991542\ttest: 0.1180902\tbest: 0.1180902 (519)\ttotal: 8m 11s\tremaining: 7m 33s\n",
            "520:\tlearn: 0.0991102\ttest: 0.1180752\tbest: 0.1180752 (520)\ttotal: 8m 12s\tremaining: 7m 32s\n",
            "521:\tlearn: 0.0990123\ttest: 0.1180007\tbest: 0.1180007 (521)\ttotal: 8m 13s\tremaining: 7m 31s\n",
            "522:\tlearn: 0.0988952\ttest: 0.1179235\tbest: 0.1179235 (522)\ttotal: 8m 14s\tremaining: 7m 30s\n",
            "523:\tlearn: 0.0988588\ttest: 0.1178811\tbest: 0.1178811 (523)\ttotal: 8m 15s\tremaining: 7m 29s\n",
            "524:\tlearn: 0.0988372\ttest: 0.1178821\tbest: 0.1178811 (523)\ttotal: 8m 16s\tremaining: 7m 29s\n",
            "525:\tlearn: 0.0988044\ttest: 0.1178626\tbest: 0.1178626 (525)\ttotal: 8m 18s\tremaining: 7m 28s\n",
            "526:\tlearn: 0.0987541\ttest: 0.1178216\tbest: 0.1178216 (526)\ttotal: 8m 19s\tremaining: 7m 28s\n",
            "527:\tlearn: 0.0986243\ttest: 0.1177267\tbest: 0.1177267 (527)\ttotal: 8m 20s\tremaining: 7m 27s\n",
            "528:\tlearn: 0.0985890\ttest: 0.1177204\tbest: 0.1177204 (528)\ttotal: 8m 21s\tremaining: 7m 26s\n",
            "529:\tlearn: 0.0985361\ttest: 0.1177002\tbest: 0.1177002 (529)\ttotal: 8m 21s\tremaining: 7m 24s\n",
            "530:\tlearn: 0.0985157\ttest: 0.1176971\tbest: 0.1176971 (530)\ttotal: 8m 22s\tremaining: 7m 23s\n",
            "531:\tlearn: 0.0984249\ttest: 0.1176500\tbest: 0.1176500 (531)\ttotal: 8m 23s\tremaining: 7m 22s\n",
            "532:\tlearn: 0.0983903\ttest: 0.1176321\tbest: 0.1176321 (532)\ttotal: 8m 24s\tremaining: 7m 21s\n",
            "533:\tlearn: 0.0983517\ttest: 0.1176243\tbest: 0.1176243 (533)\ttotal: 8m 25s\tremaining: 7m 20s\n",
            "534:\tlearn: 0.0983131\ttest: 0.1176255\tbest: 0.1176243 (533)\ttotal: 8m 25s\tremaining: 7m 19s\n",
            "535:\tlearn: 0.0982141\ttest: 0.1175296\tbest: 0.1175296 (535)\ttotal: 8m 26s\tremaining: 7m 18s\n",
            "536:\tlearn: 0.0981474\ttest: 0.1174836\tbest: 0.1174836 (536)\ttotal: 8m 27s\tremaining: 7m 17s\n",
            "537:\tlearn: 0.0980300\ttest: 0.1174146\tbest: 0.1174146 (537)\ttotal: 8m 28s\tremaining: 7m 16s\n",
            "538:\tlearn: 0.0979859\ttest: 0.1174135\tbest: 0.1174135 (538)\ttotal: 8m 29s\tremaining: 7m 15s\n",
            "539:\tlearn: 0.0979603\ttest: 0.1174130\tbest: 0.1174130 (539)\ttotal: 8m 30s\tremaining: 7m 14s\n",
            "540:\tlearn: 0.0978491\ttest: 0.1173652\tbest: 0.1173652 (540)\ttotal: 8m 31s\tremaining: 7m 14s\n",
            "541:\tlearn: 0.0977958\ttest: 0.1173259\tbest: 0.1173259 (541)\ttotal: 8m 33s\tremaining: 7m 13s\n",
            "542:\tlearn: 0.0977363\ttest: 0.1172975\tbest: 0.1172975 (542)\ttotal: 8m 34s\tremaining: 7m 12s\n",
            "543:\tlearn: 0.0976376\ttest: 0.1172384\tbest: 0.1172384 (543)\ttotal: 8m 35s\tremaining: 7m 11s\n",
            "544:\tlearn: 0.0976092\ttest: 0.1172121\tbest: 0.1172121 (544)\ttotal: 8m 35s\tremaining: 7m 10s\n",
            "545:\tlearn: 0.0975337\ttest: 0.1171453\tbest: 0.1171453 (545)\ttotal: 8m 36s\tremaining: 7m 9s\n",
            "546:\tlearn: 0.0974545\ttest: 0.1171078\tbest: 0.1171078 (546)\ttotal: 8m 37s\tremaining: 7m 8s\n",
            "547:\tlearn: 0.0973486\ttest: 0.1170345\tbest: 0.1170345 (547)\ttotal: 8m 38s\tremaining: 7m 7s\n",
            "548:\tlearn: 0.0973286\ttest: 0.1170313\tbest: 0.1170313 (548)\ttotal: 8m 39s\tremaining: 7m 6s\n",
            "549:\tlearn: 0.0972671\ttest: 0.1170063\tbest: 0.1170063 (549)\ttotal: 8m 40s\tremaining: 7m 5s\n",
            "550:\tlearn: 0.0972214\ttest: 0.1169862\tbest: 0.1169862 (550)\ttotal: 8m 41s\tremaining: 7m 4s\n",
            "551:\tlearn: 0.0971524\ttest: 0.1169551\tbest: 0.1169551 (551)\ttotal: 8m 42s\tremaining: 7m 3s\n",
            "552:\tlearn: 0.0970729\ttest: 0.1169093\tbest: 0.1169093 (552)\ttotal: 8m 43s\tremaining: 7m 3s\n",
            "553:\tlearn: 0.0970287\ttest: 0.1168999\tbest: 0.1168999 (553)\ttotal: 8m 45s\tremaining: 7m 2s\n",
            "554:\tlearn: 0.0969590\ttest: 0.1168654\tbest: 0.1168654 (554)\ttotal: 8m 46s\tremaining: 7m 2s\n",
            "555:\tlearn: 0.0968775\ttest: 0.1168323\tbest: 0.1168323 (555)\ttotal: 8m 48s\tremaining: 7m 1s\n",
            "556:\tlearn: 0.0968480\ttest: 0.1168209\tbest: 0.1168209 (556)\ttotal: 8m 49s\tremaining: 7m 1s\n",
            "557:\tlearn: 0.0967166\ttest: 0.1167639\tbest: 0.1167639 (557)\ttotal: 8m 50s\tremaining: 7m\n",
            "558:\tlearn: 0.0966856\ttest: 0.1167376\tbest: 0.1167376 (558)\ttotal: 8m 51s\tremaining: 6m 59s\n",
            "559:\tlearn: 0.0966275\ttest: 0.1167239\tbest: 0.1167239 (559)\ttotal: 8m 52s\tremaining: 6m 58s\n",
            "560:\tlearn: 0.0965517\ttest: 0.1166603\tbest: 0.1166603 (560)\ttotal: 8m 52s\tremaining: 6m 57s\n",
            "561:\tlearn: 0.0964307\ttest: 0.1165763\tbest: 0.1165763 (561)\ttotal: 8m 53s\tremaining: 6m 55s\n",
            "562:\tlearn: 0.0963437\ttest: 0.1165297\tbest: 0.1165297 (562)\ttotal: 8m 54s\tremaining: 6m 54s\n",
            "563:\tlearn: 0.0963048\ttest: 0.1164975\tbest: 0.1164975 (563)\ttotal: 8m 55s\tremaining: 6m 53s\n",
            "564:\tlearn: 0.0962852\ttest: 0.1164990\tbest: 0.1164975 (563)\ttotal: 8m 56s\tremaining: 6m 52s\n",
            "565:\tlearn: 0.0962076\ttest: 0.1164432\tbest: 0.1164432 (565)\ttotal: 8m 57s\tremaining: 6m 51s\n",
            "566:\tlearn: 0.0961152\ttest: 0.1163583\tbest: 0.1163583 (566)\ttotal: 8m 57s\tremaining: 6m 50s\n",
            "567:\tlearn: 0.0960849\ttest: 0.1163624\tbest: 0.1163583 (566)\ttotal: 8m 58s\tremaining: 6m 49s\n",
            "568:\tlearn: 0.0959864\ttest: 0.1163094\tbest: 0.1163094 (568)\ttotal: 8m 59s\tremaining: 6m 48s\n",
            "569:\tlearn: 0.0959679\ttest: 0.1163112\tbest: 0.1163094 (568)\ttotal: 9m 1s\tremaining: 6m 48s\n",
            "570:\tlearn: 0.0959144\ttest: 0.1162826\tbest: 0.1162826 (570)\ttotal: 9m 2s\tremaining: 6m 47s\n",
            "571:\tlearn: 0.0958797\ttest: 0.1162517\tbest: 0.1162517 (571)\ttotal: 9m 3s\tremaining: 6m 46s\n",
            "572:\tlearn: 0.0957914\ttest: 0.1162234\tbest: 0.1162234 (572)\ttotal: 9m 4s\tremaining: 6m 45s\n",
            "573:\tlearn: 0.0957625\ttest: 0.1162044\tbest: 0.1162044 (573)\ttotal: 9m 5s\tremaining: 6m 44s\n",
            "574:\tlearn: 0.0957003\ttest: 0.1161306\tbest: 0.1161306 (574)\ttotal: 9m 6s\tremaining: 6m 43s\n",
            "575:\tlearn: 0.0956639\ttest: 0.1161194\tbest: 0.1161194 (575)\ttotal: 9m 7s\tremaining: 6m 42s\n",
            "576:\tlearn: 0.0955733\ttest: 0.1160795\tbest: 0.1160795 (576)\ttotal: 9m 7s\tremaining: 6m 41s\n",
            "577:\tlearn: 0.0955362\ttest: 0.1160573\tbest: 0.1160573 (577)\ttotal: 9m 8s\tremaining: 6m 40s\n",
            "578:\tlearn: 0.0954796\ttest: 0.1159918\tbest: 0.1159918 (578)\ttotal: 9m 9s\tremaining: 6m 39s\n",
            "579:\tlearn: 0.0953583\ttest: 0.1158730\tbest: 0.1158730 (579)\ttotal: 9m 10s\tremaining: 6m 38s\n",
            "580:\tlearn: 0.0953096\ttest: 0.1158292\tbest: 0.1158292 (580)\ttotal: 9m 11s\tremaining: 6m 37s\n",
            "581:\tlearn: 0.0952407\ttest: 0.1157914\tbest: 0.1157914 (581)\ttotal: 9m 12s\tremaining: 6m 36s\n",
            "582:\tlearn: 0.0951503\ttest: 0.1157055\tbest: 0.1157055 (582)\ttotal: 9m 12s\tremaining: 6m 35s\n",
            "583:\tlearn: 0.0951212\ttest: 0.1156996\tbest: 0.1156996 (583)\ttotal: 9m 13s\tremaining: 6m 34s\n",
            "584:\tlearn: 0.0950747\ttest: 0.1156712\tbest: 0.1156712 (584)\ttotal: 9m 14s\tremaining: 6m 33s\n",
            "585:\tlearn: 0.0950394\ttest: 0.1156439\tbest: 0.1156439 (585)\ttotal: 9m 16s\tremaining: 6m 32s\n",
            "586:\tlearn: 0.0949655\ttest: 0.1155878\tbest: 0.1155878 (586)\ttotal: 9m 17s\tremaining: 6m 32s\n",
            "587:\tlearn: 0.0948738\ttest: 0.1155488\tbest: 0.1155488 (587)\ttotal: 9m 18s\tremaining: 6m 31s\n",
            "588:\tlearn: 0.0948369\ttest: 0.1155468\tbest: 0.1155468 (588)\ttotal: 9m 19s\tremaining: 6m 30s\n",
            "589:\tlearn: 0.0947553\ttest: 0.1155127\tbest: 0.1155127 (589)\ttotal: 9m 20s\tremaining: 6m 29s\n",
            "590:\tlearn: 0.0946789\ttest: 0.1154701\tbest: 0.1154701 (590)\ttotal: 9m 21s\tremaining: 6m 28s\n",
            "591:\tlearn: 0.0946301\ttest: 0.1154579\tbest: 0.1154579 (591)\ttotal: 9m 22s\tremaining: 6m 27s\n",
            "592:\tlearn: 0.0946066\ttest: 0.1154555\tbest: 0.1154555 (592)\ttotal: 9m 22s\tremaining: 6m 26s\n",
            "593:\tlearn: 0.0945446\ttest: 0.1153947\tbest: 0.1153947 (593)\ttotal: 9m 23s\tremaining: 6m 25s\n",
            "594:\tlearn: 0.0944901\ttest: 0.1153584\tbest: 0.1153584 (594)\ttotal: 9m 24s\tremaining: 6m 24s\n",
            "595:\tlearn: 0.0944624\ttest: 0.1153317\tbest: 0.1153317 (595)\ttotal: 9m 25s\tremaining: 6m 23s\n",
            "596:\tlearn: 0.0943767\ttest: 0.1152527\tbest: 0.1152527 (596)\ttotal: 9m 26s\tremaining: 6m 22s\n",
            "597:\tlearn: 0.0943374\ttest: 0.1152435\tbest: 0.1152435 (597)\ttotal: 9m 27s\tremaining: 6m 21s\n",
            "598:\tlearn: 0.0942890\ttest: 0.1152260\tbest: 0.1152260 (598)\ttotal: 9m 27s\tremaining: 6m 20s\n",
            "599:\tlearn: 0.0942264\ttest: 0.1152019\tbest: 0.1152019 (599)\ttotal: 9m 28s\tremaining: 6m 19s\n",
            "600:\tlearn: 0.0941818\ttest: 0.1151841\tbest: 0.1151841 (600)\ttotal: 9m 29s\tremaining: 6m 18s\n",
            "601:\tlearn: 0.0941360\ttest: 0.1151714\tbest: 0.1151714 (601)\ttotal: 9m 31s\tremaining: 6m 17s\n",
            "602:\tlearn: 0.0941071\ttest: 0.1151584\tbest: 0.1151584 (602)\ttotal: 9m 32s\tremaining: 6m 17s\n",
            "603:\tlearn: 0.0940251\ttest: 0.1151195\tbest: 0.1151195 (603)\ttotal: 9m 33s\tremaining: 6m 16s\n",
            "604:\tlearn: 0.0939525\ttest: 0.1150462\tbest: 0.1150462 (604)\ttotal: 9m 34s\tremaining: 6m 15s\n",
            "605:\tlearn: 0.0938835\ttest: 0.1150195\tbest: 0.1150195 (605)\ttotal: 9m 35s\tremaining: 6m 14s\n",
            "606:\tlearn: 0.0938663\ttest: 0.1150174\tbest: 0.1150174 (606)\ttotal: 9m 36s\tremaining: 6m 13s\n",
            "607:\tlearn: 0.0937786\ttest: 0.1149171\tbest: 0.1149171 (607)\ttotal: 9m 37s\tremaining: 6m 12s\n",
            "608:\tlearn: 0.0937498\ttest: 0.1149142\tbest: 0.1149142 (608)\ttotal: 9m 37s\tremaining: 6m 11s\n",
            "609:\tlearn: 0.0936824\ttest: 0.1148597\tbest: 0.1148597 (609)\ttotal: 9m 38s\tremaining: 6m 10s\n",
            "610:\tlearn: 0.0936514\ttest: 0.1148615\tbest: 0.1148597 (609)\ttotal: 9m 39s\tremaining: 6m 8s\n",
            "611:\tlearn: 0.0935540\ttest: 0.1147820\tbest: 0.1147820 (611)\ttotal: 9m 40s\tremaining: 6m 7s\n",
            "612:\tlearn: 0.0935266\ttest: 0.1147414\tbest: 0.1147414 (612)\ttotal: 9m 41s\tremaining: 6m 6s\n",
            "613:\tlearn: 0.0935009\ttest: 0.1147321\tbest: 0.1147321 (613)\ttotal: 9m 41s\tremaining: 6m 5s\n",
            "614:\tlearn: 0.0934052\ttest: 0.1146478\tbest: 0.1146478 (614)\ttotal: 9m 42s\tremaining: 6m 4s\n",
            "615:\tlearn: 0.0933754\ttest: 0.1146402\tbest: 0.1146402 (615)\ttotal: 9m 43s\tremaining: 6m 3s\n",
            "616:\tlearn: 0.0932598\ttest: 0.1145231\tbest: 0.1145231 (616)\ttotal: 9m 44s\tremaining: 6m 3s\n",
            "617:\tlearn: 0.0932052\ttest: 0.1144959\tbest: 0.1144959 (617)\ttotal: 9m 46s\tremaining: 6m 2s\n",
            "618:\tlearn: 0.0931267\ttest: 0.1144328\tbest: 0.1144328 (618)\ttotal: 9m 47s\tremaining: 6m 1s\n",
            "619:\tlearn: 0.0931003\ttest: 0.1144383\tbest: 0.1144328 (618)\ttotal: 9m 48s\tremaining: 6m\n",
            "620:\tlearn: 0.0930245\ttest: 0.1143962\tbest: 0.1143962 (620)\ttotal: 9m 49s\tremaining: 5m 59s\n",
            "621:\tlearn: 0.0929545\ttest: 0.1143386\tbest: 0.1143386 (621)\ttotal: 9m 50s\tremaining: 5m 58s\n",
            "622:\tlearn: 0.0929018\ttest: 0.1142982\tbest: 0.1142982 (622)\ttotal: 9m 51s\tremaining: 5m 57s\n",
            "623:\tlearn: 0.0928727\ttest: 0.1142610\tbest: 0.1142610 (623)\ttotal: 9m 52s\tremaining: 5m 56s\n",
            "624:\tlearn: 0.0927732\ttest: 0.1141895\tbest: 0.1141895 (624)\ttotal: 9m 53s\tremaining: 5m 55s\n",
            "625:\tlearn: 0.0927053\ttest: 0.1141266\tbest: 0.1141266 (625)\ttotal: 9m 53s\tremaining: 5m 54s\n",
            "626:\tlearn: 0.0926580\ttest: 0.1140929\tbest: 0.1140929 (626)\ttotal: 9m 54s\tremaining: 5m 53s\n",
            "627:\tlearn: 0.0925860\ttest: 0.1140554\tbest: 0.1140554 (627)\ttotal: 9m 55s\tremaining: 5m 52s\n",
            "628:\tlearn: 0.0925591\ttest: 0.1140273\tbest: 0.1140273 (628)\ttotal: 9m 56s\tremaining: 5m 51s\n",
            "629:\tlearn: 0.0924780\ttest: 0.1139803\tbest: 0.1139803 (629)\ttotal: 9m 57s\tremaining: 5m 50s\n",
            "630:\tlearn: 0.0924520\ttest: 0.1139828\tbest: 0.1139803 (629)\ttotal: 9m 57s\tremaining: 5m 49s\n",
            "631:\tlearn: 0.0924255\ttest: 0.1139724\tbest: 0.1139724 (631)\ttotal: 9m 58s\tremaining: 5m 48s\n",
            "632:\tlearn: 0.0923516\ttest: 0.1139372\tbest: 0.1139372 (632)\ttotal: 10m\tremaining: 5m 48s\n",
            "633:\tlearn: 0.0923117\ttest: 0.1139150\tbest: 0.1139150 (633)\ttotal: 10m 2s\tremaining: 5m 47s\n",
            "634:\tlearn: 0.0922797\ttest: 0.1139005\tbest: 0.1139005 (634)\ttotal: 10m 3s\tremaining: 5m 46s\n",
            "635:\tlearn: 0.0921931\ttest: 0.1138437\tbest: 0.1138437 (635)\ttotal: 10m 4s\tremaining: 5m 45s\n",
            "636:\tlearn: 0.0920805\ttest: 0.1137479\tbest: 0.1137479 (636)\ttotal: 10m 5s\tremaining: 5m 44s\n",
            "637:\tlearn: 0.0920141\ttest: 0.1137169\tbest: 0.1137169 (637)\ttotal: 10m 5s\tremaining: 5m 43s\n",
            "638:\tlearn: 0.0919887\ttest: 0.1136990\tbest: 0.1136990 (638)\ttotal: 10m 6s\tremaining: 5m 42s\n",
            "639:\tlearn: 0.0918590\ttest: 0.1136084\tbest: 0.1136084 (639)\ttotal: 10m 7s\tremaining: 5m 41s\n",
            "640:\tlearn: 0.0917823\ttest: 0.1135530\tbest: 0.1135530 (640)\ttotal: 10m 8s\tremaining: 5m 40s\n",
            "641:\tlearn: 0.0917392\ttest: 0.1135369\tbest: 0.1135369 (641)\ttotal: 10m 9s\tremaining: 5m 39s\n",
            "642:\tlearn: 0.0917121\ttest: 0.1135189\tbest: 0.1135189 (642)\ttotal: 10m 9s\tremaining: 5m 38s\n",
            "643:\tlearn: 0.0916949\ttest: 0.1135173\tbest: 0.1135173 (643)\ttotal: 10m 10s\tremaining: 5m 37s\n",
            "644:\tlearn: 0.0916660\ttest: 0.1135085\tbest: 0.1135085 (644)\ttotal: 10m 11s\tremaining: 5m 36s\n",
            "645:\tlearn: 0.0915820\ttest: 0.1134846\tbest: 0.1134846 (645)\ttotal: 10m 12s\tremaining: 5m 35s\n",
            "646:\tlearn: 0.0915572\ttest: 0.1134796\tbest: 0.1134796 (646)\ttotal: 10m 13s\tremaining: 5m 34s\n",
            "647:\tlearn: 0.0914842\ttest: 0.1134357\tbest: 0.1134357 (647)\ttotal: 10m 14s\tremaining: 5m 33s\n",
            "648:\tlearn: 0.0913696\ttest: 0.1133789\tbest: 0.1133789 (648)\ttotal: 10m 15s\tremaining: 5m 33s\n",
            "649:\tlearn: 0.0912515\ttest: 0.1132699\tbest: 0.1132699 (649)\ttotal: 10m 17s\tremaining: 5m 32s\n",
            "650:\tlearn: 0.0911682\ttest: 0.1132264\tbest: 0.1132264 (650)\ttotal: 10m 18s\tremaining: 5m 31s\n",
            "651:\tlearn: 0.0911096\ttest: 0.1132105\tbest: 0.1132105 (651)\ttotal: 10m 19s\tremaining: 5m 30s\n",
            "652:\tlearn: 0.0910848\ttest: 0.1131913\tbest: 0.1131913 (652)\ttotal: 10m 20s\tremaining: 5m 29s\n",
            "653:\tlearn: 0.0910422\ttest: 0.1131314\tbest: 0.1131314 (653)\ttotal: 10m 20s\tremaining: 5m 28s\n",
            "654:\tlearn: 0.0910143\ttest: 0.1131257\tbest: 0.1131257 (654)\ttotal: 10m 21s\tremaining: 5m 27s\n",
            "655:\tlearn: 0.0909907\ttest: 0.1131242\tbest: 0.1131242 (655)\ttotal: 10m 22s\tremaining: 5m 26s\n",
            "656:\tlearn: 0.0909395\ttest: 0.1130940\tbest: 0.1130940 (656)\ttotal: 10m 23s\tremaining: 5m 25s\n",
            "657:\tlearn: 0.0908787\ttest: 0.1130512\tbest: 0.1130512 (657)\ttotal: 10m 24s\tremaining: 5m 24s\n",
            "658:\tlearn: 0.0908587\ttest: 0.1130565\tbest: 0.1130512 (657)\ttotal: 10m 24s\tremaining: 5m 23s\n",
            "659:\tlearn: 0.0907713\ttest: 0.1129957\tbest: 0.1129957 (659)\ttotal: 10m 25s\tremaining: 5m 22s\n",
            "660:\tlearn: 0.0907144\ttest: 0.1129706\tbest: 0.1129706 (660)\ttotal: 10m 26s\tremaining: 5m 21s\n",
            "661:\tlearn: 0.0906821\ttest: 0.1129627\tbest: 0.1129627 (661)\ttotal: 10m 27s\tremaining: 5m 20s\n",
            "662:\tlearn: 0.0905975\ttest: 0.1129292\tbest: 0.1129292 (662)\ttotal: 10m 28s\tremaining: 5m 19s\n",
            "663:\tlearn: 0.0905405\ttest: 0.1128857\tbest: 0.1128857 (663)\ttotal: 10m 29s\tremaining: 5m 18s\n",
            "664:\tlearn: 0.0904997\ttest: 0.1128874\tbest: 0.1128857 (663)\ttotal: 10m 31s\tremaining: 5m 17s\n",
            "665:\tlearn: 0.0903620\ttest: 0.1127623\tbest: 0.1127623 (665)\ttotal: 10m 32s\tremaining: 5m 17s\n",
            "666:\tlearn: 0.0903294\ttest: 0.1127443\tbest: 0.1127443 (666)\ttotal: 10m 33s\tremaining: 5m 16s\n",
            "667:\tlearn: 0.0903054\ttest: 0.1127407\tbest: 0.1127407 (667)\ttotal: 10m 34s\tremaining: 5m 15s\n",
            "668:\tlearn: 0.0902187\ttest: 0.1126935\tbest: 0.1126935 (668)\ttotal: 10m 35s\tremaining: 5m 14s\n",
            "669:\tlearn: 0.0901509\ttest: 0.1126557\tbest: 0.1126557 (669)\ttotal: 10m 35s\tremaining: 5m 13s\n",
            "670:\tlearn: 0.0901056\ttest: 0.1126327\tbest: 0.1126327 (670)\ttotal: 10m 36s\tremaining: 5m 12s\n",
            "671:\tlearn: 0.0900436\ttest: 0.1126044\tbest: 0.1126044 (671)\ttotal: 10m 37s\tremaining: 5m 11s\n",
            "672:\tlearn: 0.0900133\ttest: 0.1125763\tbest: 0.1125763 (672)\ttotal: 10m 38s\tremaining: 5m 10s\n",
            "673:\tlearn: 0.0899853\ttest: 0.1125704\tbest: 0.1125704 (673)\ttotal: 10m 39s\tremaining: 5m 9s\n",
            "674:\tlearn: 0.0899141\ttest: 0.1125356\tbest: 0.1125356 (674)\ttotal: 10m 39s\tremaining: 5m 8s\n",
            "675:\tlearn: 0.0898968\ttest: 0.1125351\tbest: 0.1125351 (675)\ttotal: 10m 40s\tremaining: 5m 7s\n",
            "676:\tlearn: 0.0898515\ttest: 0.1125127\tbest: 0.1125127 (676)\ttotal: 10m 41s\tremaining: 5m 6s\n",
            "677:\tlearn: 0.0897768\ttest: 0.1124771\tbest: 0.1124771 (677)\ttotal: 10m 42s\tremaining: 5m 5s\n",
            "678:\tlearn: 0.0897523\ttest: 0.1124727\tbest: 0.1124727 (678)\ttotal: 10m 43s\tremaining: 5m 4s\n",
            "679:\tlearn: 0.0897090\ttest: 0.1124696\tbest: 0.1124696 (679)\ttotal: 10m 44s\tremaining: 5m 3s\n",
            "680:\tlearn: 0.0896639\ttest: 0.1124543\tbest: 0.1124543 (680)\ttotal: 10m 46s\tremaining: 5m 2s\n",
            "681:\tlearn: 0.0896294\ttest: 0.1124534\tbest: 0.1124534 (681)\ttotal: 10m 47s\tremaining: 5m 2s\n",
            "682:\tlearn: 0.0896060\ttest: 0.1124326\tbest: 0.1124326 (682)\ttotal: 10m 48s\tremaining: 5m 1s\n",
            "683:\tlearn: 0.0895443\ttest: 0.1123928\tbest: 0.1123928 (683)\ttotal: 10m 49s\tremaining: 4m 59s\n",
            "684:\tlearn: 0.0895128\ttest: 0.1123761\tbest: 0.1123761 (684)\ttotal: 10m 50s\tremaining: 4m 58s\n",
            "685:\tlearn: 0.0894279\ttest: 0.1123445\tbest: 0.1123445 (685)\ttotal: 10m 50s\tremaining: 4m 57s\n",
            "686:\tlearn: 0.0893583\ttest: 0.1122912\tbest: 0.1122912 (686)\ttotal: 10m 51s\tremaining: 4m 56s\n",
            "687:\tlearn: 0.0892788\ttest: 0.1122632\tbest: 0.1122632 (687)\ttotal: 10m 52s\tremaining: 4m 55s\n",
            "688:\tlearn: 0.0892182\ttest: 0.1122204\tbest: 0.1122204 (688)\ttotal: 10m 53s\tremaining: 4m 54s\n",
            "689:\tlearn: 0.0891162\ttest: 0.1121341\tbest: 0.1121341 (689)\ttotal: 10m 54s\tremaining: 4m 53s\n",
            "690:\tlearn: 0.0890904\ttest: 0.1121094\tbest: 0.1121094 (690)\ttotal: 10m 55s\tremaining: 4m 52s\n",
            "691:\tlearn: 0.0890641\ttest: 0.1120981\tbest: 0.1120981 (691)\ttotal: 10m 55s\tremaining: 4m 51s\n",
            "692:\tlearn: 0.0890489\ttest: 0.1120995\tbest: 0.1120981 (691)\ttotal: 10m 56s\tremaining: 4m 50s\n",
            "693:\tlearn: 0.0890190\ttest: 0.1120970\tbest: 0.1120970 (693)\ttotal: 10m 57s\tremaining: 4m 49s\n",
            "694:\tlearn: 0.0889845\ttest: 0.1120623\tbest: 0.1120623 (694)\ttotal: 10m 58s\tremaining: 4m 49s\n",
            "695:\tlearn: 0.0889394\ttest: 0.1120514\tbest: 0.1120514 (695)\ttotal: 11m\tremaining: 4m 48s\n",
            "696:\tlearn: 0.0888595\ttest: 0.1120002\tbest: 0.1120002 (696)\ttotal: 11m 1s\tremaining: 4m 47s\n",
            "697:\tlearn: 0.0888237\ttest: 0.1119806\tbest: 0.1119806 (697)\ttotal: 11m 2s\tremaining: 4m 46s\n",
            "698:\tlearn: 0.0887714\ttest: 0.1119554\tbest: 0.1119554 (698)\ttotal: 11m 3s\tremaining: 4m 45s\n",
            "699:\tlearn: 0.0887123\ttest: 0.1119362\tbest: 0.1119362 (699)\ttotal: 11m 4s\tremaining: 4m 44s\n",
            "700:\tlearn: 0.0886883\ttest: 0.1119270\tbest: 0.1119270 (700)\ttotal: 11m 5s\tremaining: 4m 43s\n",
            "701:\tlearn: 0.0886650\ttest: 0.1119099\tbest: 0.1119099 (701)\ttotal: 11m 6s\tremaining: 4m 42s\n",
            "702:\tlearn: 0.0886307\ttest: 0.1118945\tbest: 0.1118945 (702)\ttotal: 11m 7s\tremaining: 4m 41s\n",
            "703:\tlearn: 0.0885679\ttest: 0.1118833\tbest: 0.1118833 (703)\ttotal: 11m 8s\tremaining: 4m 40s\n",
            "704:\tlearn: 0.0884952\ttest: 0.1118602\tbest: 0.1118602 (704)\ttotal: 11m 8s\tremaining: 4m 39s\n",
            "705:\tlearn: 0.0884732\ttest: 0.1118609\tbest: 0.1118602 (704)\ttotal: 11m 9s\tremaining: 4m 38s\n",
            "706:\tlearn: 0.0884304\ttest: 0.1118307\tbest: 0.1118307 (706)\ttotal: 11m 10s\tremaining: 4m 37s\n",
            "707:\tlearn: 0.0883406\ttest: 0.1117927\tbest: 0.1117927 (707)\ttotal: 11m 11s\tremaining: 4m 36s\n",
            "708:\tlearn: 0.0883110\ttest: 0.1117798\tbest: 0.1117798 (708)\ttotal: 11m 12s\tremaining: 4m 35s\n",
            "709:\tlearn: 0.0882217\ttest: 0.1117145\tbest: 0.1117145 (709)\ttotal: 11m 13s\tremaining: 4m 34s\n",
            "710:\tlearn: 0.0881655\ttest: 0.1117137\tbest: 0.1117137 (710)\ttotal: 11m 14s\tremaining: 4m 34s\n",
            "711:\tlearn: 0.0881489\ttest: 0.1117138\tbest: 0.1117137 (710)\ttotal: 11m 15s\tremaining: 4m 33s\n",
            "712:\tlearn: 0.0881256\ttest: 0.1117095\tbest: 0.1117095 (712)\ttotal: 11m 17s\tremaining: 4m 32s\n",
            "713:\tlearn: 0.0881024\ttest: 0.1117033\tbest: 0.1117033 (713)\ttotal: 11m 18s\tremaining: 4m 31s\n",
            "714:\tlearn: 0.0880060\ttest: 0.1116620\tbest: 0.1116620 (714)\ttotal: 11m 19s\tremaining: 4m 30s\n",
            "715:\tlearn: 0.0879735\ttest: 0.1116645\tbest: 0.1116620 (714)\ttotal: 11m 19s\tremaining: 4m 29s\n",
            "716:\tlearn: 0.0878924\ttest: 0.1115932\tbest: 0.1115932 (716)\ttotal: 11m 20s\tremaining: 4m 28s\n",
            "717:\tlearn: 0.0878680\ttest: 0.1115931\tbest: 0.1115931 (717)\ttotal: 11m 21s\tremaining: 4m 27s\n",
            "718:\tlearn: 0.0878214\ttest: 0.1115895\tbest: 0.1115895 (718)\ttotal: 11m 22s\tremaining: 4m 26s\n",
            "719:\tlearn: 0.0877773\ttest: 0.1115723\tbest: 0.1115723 (719)\ttotal: 11m 23s\tremaining: 4m 25s\n",
            "720:\tlearn: 0.0877119\ttest: 0.1115351\tbest: 0.1115351 (720)\ttotal: 11m 23s\tremaining: 4m 24s\n",
            "721:\tlearn: 0.0876894\ttest: 0.1115194\tbest: 0.1115194 (721)\ttotal: 11m 24s\tremaining: 4m 23s\n",
            "722:\tlearn: 0.0876418\ttest: 0.1114962\tbest: 0.1114962 (722)\ttotal: 11m 25s\tremaining: 4m 22s\n",
            "723:\tlearn: 0.0875653\ttest: 0.1114569\tbest: 0.1114569 (723)\ttotal: 11m 26s\tremaining: 4m 21s\n",
            "724:\tlearn: 0.0874847\ttest: 0.1114138\tbest: 0.1114138 (724)\ttotal: 11m 27s\tremaining: 4m 20s\n",
            "725:\tlearn: 0.0874462\ttest: 0.1113975\tbest: 0.1113975 (725)\ttotal: 11m 28s\tremaining: 4m 19s\n",
            "726:\tlearn: 0.0873832\ttest: 0.1113514\tbest: 0.1113514 (726)\ttotal: 11m 29s\tremaining: 4m 19s\n",
            "727:\tlearn: 0.0872782\ttest: 0.1112822\tbest: 0.1112822 (727)\ttotal: 11m 31s\tremaining: 4m 18s\n",
            "728:\tlearn: 0.0872572\ttest: 0.1112775\tbest: 0.1112775 (728)\ttotal: 11m 32s\tremaining: 4m 17s\n",
            "729:\tlearn: 0.0872215\ttest: 0.1112459\tbest: 0.1112459 (729)\ttotal: 11m 33s\tremaining: 4m 16s\n",
            "730:\tlearn: 0.0871885\ttest: 0.1112303\tbest: 0.1112303 (730)\ttotal: 11m 34s\tremaining: 4m 15s\n",
            "731:\tlearn: 0.0871723\ttest: 0.1112315\tbest: 0.1112303 (730)\ttotal: 11m 34s\tremaining: 4m 14s\n",
            "732:\tlearn: 0.0870376\ttest: 0.1111488\tbest: 0.1111488 (732)\ttotal: 11m 35s\tremaining: 4m 13s\n",
            "733:\tlearn: 0.0870077\ttest: 0.1111459\tbest: 0.1111459 (733)\ttotal: 11m 36s\tremaining: 4m 12s\n",
            "734:\tlearn: 0.0869802\ttest: 0.1111331\tbest: 0.1111331 (734)\ttotal: 11m 37s\tremaining: 4m 11s\n",
            "735:\tlearn: 0.0869282\ttest: 0.1111102\tbest: 0.1111102 (735)\ttotal: 11m 38s\tremaining: 4m 10s\n",
            "736:\tlearn: 0.0868584\ttest: 0.1110822\tbest: 0.1110822 (736)\ttotal: 11m 38s\tremaining: 4m 9s\n",
            "737:\tlearn: 0.0868375\ttest: 0.1110849\tbest: 0.1110822 (736)\ttotal: 11m 39s\tremaining: 4m 8s\n",
            "738:\tlearn: 0.0867967\ttest: 0.1110788\tbest: 0.1110788 (738)\ttotal: 11m 40s\tremaining: 4m 7s\n",
            "739:\tlearn: 0.0867700\ttest: 0.1110669\tbest: 0.1110669 (739)\ttotal: 11m 41s\tremaining: 4m 6s\n",
            "740:\tlearn: 0.0867496\ttest: 0.1110720\tbest: 0.1110669 (739)\ttotal: 11m 42s\tremaining: 4m 5s\n",
            "741:\tlearn: 0.0866792\ttest: 0.1110439\tbest: 0.1110439 (741)\ttotal: 11m 43s\tremaining: 4m 4s\n",
            "742:\tlearn: 0.0866385\ttest: 0.1110282\tbest: 0.1110282 (742)\ttotal: 11m 45s\tremaining: 4m 3s\n",
            "743:\tlearn: 0.0866085\ttest: 0.1110141\tbest: 0.1110141 (743)\ttotal: 11m 46s\tremaining: 4m 3s\n",
            "744:\tlearn: 0.0865800\ttest: 0.1109953\tbest: 0.1109953 (744)\ttotal: 11m 47s\tremaining: 4m 2s\n",
            "745:\tlearn: 0.0865394\ttest: 0.1109773\tbest: 0.1109773 (745)\ttotal: 11m 48s\tremaining: 4m 1s\n",
            "746:\tlearn: 0.0864745\ttest: 0.1109482\tbest: 0.1109482 (746)\ttotal: 11m 49s\tremaining: 4m\n",
            "747:\tlearn: 0.0864511\ttest: 0.1109525\tbest: 0.1109482 (746)\ttotal: 11m 49s\tremaining: 3m 59s\n",
            "748:\tlearn: 0.0863949\ttest: 0.1109362\tbest: 0.1109362 (748)\ttotal: 11m 50s\tremaining: 3m 58s\n",
            "749:\tlearn: 0.0863012\ttest: 0.1108754\tbest: 0.1108754 (749)\ttotal: 11m 51s\tremaining: 3m 57s\n",
            "750:\tlearn: 0.0862727\ttest: 0.1108585\tbest: 0.1108585 (750)\ttotal: 11m 52s\tremaining: 3m 56s\n",
            "751:\tlearn: 0.0862248\ttest: 0.1108423\tbest: 0.1108423 (751)\ttotal: 11m 53s\tremaining: 3m 55s\n",
            "752:\tlearn: 0.0861320\ttest: 0.1107565\tbest: 0.1107565 (752)\ttotal: 11m 54s\tremaining: 3m 54s\n",
            "753:\tlearn: 0.0861111\ttest: 0.1107466\tbest: 0.1107466 (753)\ttotal: 11m 54s\tremaining: 3m 53s\n",
            "754:\tlearn: 0.0860684\ttest: 0.1107228\tbest: 0.1107228 (754)\ttotal: 11m 55s\tremaining: 3m 52s\n",
            "755:\tlearn: 0.0859822\ttest: 0.1106836\tbest: 0.1106836 (755)\ttotal: 11m 56s\tremaining: 3m 51s\n",
            "756:\tlearn: 0.0859605\ttest: 0.1106848\tbest: 0.1106836 (755)\ttotal: 11m 57s\tremaining: 3m 50s\n",
            "757:\tlearn: 0.0858847\ttest: 0.1106589\tbest: 0.1106589 (757)\ttotal: 11m 59s\tremaining: 3m 49s\n",
            "758:\tlearn: 0.0858254\ttest: 0.1106011\tbest: 0.1106011 (758)\ttotal: 12m\tremaining: 3m 48s\n",
            "759:\tlearn: 0.0857672\ttest: 0.1105625\tbest: 0.1105625 (759)\ttotal: 12m 2s\tremaining: 3m 48s\n",
            "760:\tlearn: 0.0857530\ttest: 0.1105627\tbest: 0.1105625 (759)\ttotal: 12m 2s\tremaining: 3m 47s\n",
            "761:\tlearn: 0.0856925\ttest: 0.1105366\tbest: 0.1105366 (761)\ttotal: 12m 3s\tremaining: 3m 46s\n",
            "762:\tlearn: 0.0856614\ttest: 0.1105053\tbest: 0.1105053 (762)\ttotal: 12m 4s\tremaining: 3m 45s\n",
            "763:\tlearn: 0.0856233\ttest: 0.1104916\tbest: 0.1104916 (763)\ttotal: 12m 5s\tremaining: 3m 44s\n",
            "764:\tlearn: 0.0856074\ttest: 0.1104926\tbest: 0.1104916 (763)\ttotal: 12m 6s\tremaining: 3m 43s\n",
            "765:\tlearn: 0.0855378\ttest: 0.1104274\tbest: 0.1104274 (765)\ttotal: 12m 7s\tremaining: 3m 42s\n",
            "766:\tlearn: 0.0855136\ttest: 0.1104328\tbest: 0.1104274 (765)\ttotal: 12m 7s\tremaining: 3m 41s\n",
            "767:\tlearn: 0.0854922\ttest: 0.1104093\tbest: 0.1104093 (767)\ttotal: 12m 8s\tremaining: 3m 40s\n",
            "768:\tlearn: 0.0854157\ttest: 0.1103596\tbest: 0.1103596 (768)\ttotal: 12m 9s\tremaining: 3m 39s\n",
            "769:\tlearn: 0.0853932\ttest: 0.1103367\tbest: 0.1103367 (769)\ttotal: 12m 10s\tremaining: 3m 38s\n",
            "770:\tlearn: 0.0853092\ttest: 0.1102607\tbest: 0.1102607 (770)\ttotal: 12m 11s\tremaining: 3m 37s\n",
            "771:\tlearn: 0.0852815\ttest: 0.1102520\tbest: 0.1102520 (771)\ttotal: 12m 12s\tremaining: 3m 36s\n",
            "772:\tlearn: 0.0852203\ttest: 0.1102307\tbest: 0.1102307 (772)\ttotal: 12m 13s\tremaining: 3m 35s\n",
            "773:\tlearn: 0.0851859\ttest: 0.1101914\tbest: 0.1101914 (773)\ttotal: 12m 14s\tremaining: 3m 34s\n",
            "774:\tlearn: 0.0851592\ttest: 0.1101677\tbest: 0.1101677 (774)\ttotal: 12m 16s\tremaining: 3m 33s\n",
            "775:\tlearn: 0.0851038\ttest: 0.1101427\tbest: 0.1101427 (775)\ttotal: 12m 17s\tremaining: 3m 32s\n",
            "776:\tlearn: 0.0850559\ttest: 0.1101087\tbest: 0.1101087 (776)\ttotal: 12m 18s\tremaining: 3m 31s\n",
            "777:\tlearn: 0.0850108\ttest: 0.1101040\tbest: 0.1101040 (777)\ttotal: 12m 18s\tremaining: 3m 30s\n",
            "778:\tlearn: 0.0849579\ttest: 0.1100647\tbest: 0.1100647 (778)\ttotal: 12m 19s\tremaining: 3m 29s\n",
            "779:\tlearn: 0.0848931\ttest: 0.1100326\tbest: 0.1100326 (779)\ttotal: 12m 20s\tremaining: 3m 28s\n",
            "780:\tlearn: 0.0848223\ttest: 0.1100037\tbest: 0.1100037 (780)\ttotal: 12m 21s\tremaining: 3m 27s\n",
            "781:\tlearn: 0.0847677\ttest: 0.1099849\tbest: 0.1099849 (781)\ttotal: 12m 22s\tremaining: 3m 26s\n",
            "782:\tlearn: 0.0847479\ttest: 0.1099627\tbest: 0.1099627 (782)\ttotal: 12m 23s\tremaining: 3m 25s\n",
            "783:\tlearn: 0.0847208\ttest: 0.1099369\tbest: 0.1099369 (783)\ttotal: 12m 23s\tremaining: 3m 24s\n",
            "784:\tlearn: 0.0846703\ttest: 0.1099445\tbest: 0.1099369 (783)\ttotal: 12m 24s\tremaining: 3m 23s\n",
            "785:\tlearn: 0.0845970\ttest: 0.1098992\tbest: 0.1098992 (785)\ttotal: 12m 25s\tremaining: 3m 22s\n",
            "786:\tlearn: 0.0845558\ttest: 0.1098713\tbest: 0.1098713 (786)\ttotal: 12m 26s\tremaining: 3m 21s\n",
            "787:\tlearn: 0.0844985\ttest: 0.1098045\tbest: 0.1098045 (787)\ttotal: 12m 27s\tremaining: 3m 21s\n",
            "788:\tlearn: 0.0844422\ttest: 0.1097975\tbest: 0.1097975 (788)\ttotal: 12m 28s\tremaining: 3m 20s\n",
            "789:\tlearn: 0.0844237\ttest: 0.1098035\tbest: 0.1097975 (788)\ttotal: 12m 30s\tremaining: 3m 19s\n",
            "790:\tlearn: 0.0843541\ttest: 0.1097601\tbest: 0.1097601 (790)\ttotal: 12m 31s\tremaining: 3m 18s\n",
            "791:\tlearn: 0.0842976\ttest: 0.1097394\tbest: 0.1097394 (791)\ttotal: 12m 32s\tremaining: 3m 17s\n",
            "792:\tlearn: 0.0842676\ttest: 0.1097302\tbest: 0.1097302 (792)\ttotal: 12m 33s\tremaining: 3m 16s\n",
            "793:\tlearn: 0.0842518\ttest: 0.1097308\tbest: 0.1097302 (792)\ttotal: 12m 34s\tremaining: 3m 15s\n",
            "794:\tlearn: 0.0842240\ttest: 0.1097294\tbest: 0.1097294 (794)\ttotal: 12m 34s\tremaining: 3m 14s\n",
            "795:\tlearn: 0.0841743\ttest: 0.1096980\tbest: 0.1096980 (795)\ttotal: 12m 35s\tremaining: 3m 13s\n",
            "796:\tlearn: 0.0841596\ttest: 0.1096992\tbest: 0.1096980 (795)\ttotal: 12m 36s\tremaining: 3m 12s\n",
            "797:\tlearn: 0.0841195\ttest: 0.1096649\tbest: 0.1096649 (797)\ttotal: 12m 37s\tremaining: 3m 11s\n",
            "798:\tlearn: 0.0840482\ttest: 0.1096235\tbest: 0.1096235 (798)\ttotal: 12m 38s\tremaining: 3m 10s\n",
            "799:\tlearn: 0.0839684\ttest: 0.1095927\tbest: 0.1095927 (799)\ttotal: 12m 39s\tremaining: 3m 9s\n",
            "800:\tlearn: 0.0839332\ttest: 0.1095893\tbest: 0.1095893 (800)\ttotal: 12m 39s\tremaining: 3m 8s\n",
            "801:\tlearn: 0.0838944\ttest: 0.1095613\tbest: 0.1095613 (801)\ttotal: 12m 40s\tremaining: 3m 7s\n",
            "802:\tlearn: 0.0838523\ttest: 0.1095342\tbest: 0.1095342 (802)\ttotal: 12m 41s\tremaining: 3m 6s\n",
            "803:\tlearn: 0.0838321\ttest: 0.1095370\tbest: 0.1095342 (802)\ttotal: 12m 43s\tremaining: 3m 6s\n",
            "804:\tlearn: 0.0837927\ttest: 0.1095325\tbest: 0.1095325 (804)\ttotal: 12m 44s\tremaining: 3m 5s\n",
            "805:\tlearn: 0.0837723\ttest: 0.1095309\tbest: 0.1095309 (805)\ttotal: 12m 45s\tremaining: 3m 4s\n",
            "806:\tlearn: 0.0837114\ttest: 0.1095133\tbest: 0.1095133 (806)\ttotal: 12m 46s\tremaining: 3m 3s\n",
            "807:\tlearn: 0.0836830\ttest: 0.1094918\tbest: 0.1094918 (807)\ttotal: 12m 47s\tremaining: 3m 2s\n",
            "808:\tlearn: 0.0836638\ttest: 0.1094895\tbest: 0.1094895 (808)\ttotal: 12m 48s\tremaining: 3m 1s\n",
            "809:\tlearn: 0.0836278\ttest: 0.1094759\tbest: 0.1094759 (809)\ttotal: 12m 49s\tremaining: 3m\n",
            "810:\tlearn: 0.0835583\ttest: 0.1094330\tbest: 0.1094330 (810)\ttotal: 12m 50s\tremaining: 2m 59s\n",
            "811:\tlearn: 0.0835434\ttest: 0.1094115\tbest: 0.1094115 (811)\ttotal: 12m 50s\tremaining: 2m 58s\n",
            "812:\tlearn: 0.0834524\ttest: 0.1093625\tbest: 0.1093625 (812)\ttotal: 12m 52s\tremaining: 2m 57s\n",
            "813:\tlearn: 0.0834328\ttest: 0.1093408\tbest: 0.1093408 (813)\ttotal: 12m 52s\tremaining: 2m 56s\n",
            "814:\tlearn: 0.0834052\ttest: 0.1093314\tbest: 0.1093314 (814)\ttotal: 12m 53s\tremaining: 2m 55s\n",
            "815:\tlearn: 0.0832884\ttest: 0.1092198\tbest: 0.1092198 (815)\ttotal: 12m 54s\tremaining: 2m 54s\n",
            "816:\tlearn: 0.0832047\ttest: 0.1091836\tbest: 0.1091836 (816)\ttotal: 12m 55s\tremaining: 2m 53s\n",
            "817:\tlearn: 0.0831171\ttest: 0.1091174\tbest: 0.1091174 (817)\ttotal: 12m 56s\tremaining: 2m 52s\n",
            "818:\tlearn: 0.0830633\ttest: 0.1090934\tbest: 0.1090934 (818)\ttotal: 12m 57s\tremaining: 2m 51s\n",
            "819:\tlearn: 0.0830485\ttest: 0.1090750\tbest: 0.1090750 (819)\ttotal: 12m 59s\tremaining: 2m 51s\n",
            "820:\tlearn: 0.0829997\ttest: 0.1090516\tbest: 0.1090516 (820)\ttotal: 13m\tremaining: 2m 50s\n",
            "821:\tlearn: 0.0829102\ttest: 0.1089958\tbest: 0.1089958 (821)\ttotal: 13m 1s\tremaining: 2m 49s\n",
            "822:\tlearn: 0.0828859\ttest: 0.1089905\tbest: 0.1089905 (822)\ttotal: 13m 2s\tremaining: 2m 48s\n",
            "823:\tlearn: 0.0828241\ttest: 0.1089603\tbest: 0.1089603 (823)\ttotal: 13m 3s\tremaining: 2m 47s\n",
            "824:\tlearn: 0.0827747\ttest: 0.1089339\tbest: 0.1089339 (824)\ttotal: 13m 3s\tremaining: 2m 46s\n",
            "825:\tlearn: 0.0827039\ttest: 0.1088835\tbest: 0.1088835 (825)\ttotal: 13m 4s\tremaining: 2m 45s\n",
            "826:\tlearn: 0.0826869\ttest: 0.1088882\tbest: 0.1088835 (825)\ttotal: 13m 5s\tremaining: 2m 44s\n",
            "827:\tlearn: 0.0826363\ttest: 0.1088528\tbest: 0.1088528 (827)\ttotal: 13m 6s\tremaining: 2m 43s\n",
            "828:\tlearn: 0.0825911\ttest: 0.1088429\tbest: 0.1088429 (828)\ttotal: 13m 7s\tremaining: 2m 42s\n",
            "829:\tlearn: 0.0825715\ttest: 0.1088473\tbest: 0.1088429 (828)\ttotal: 13m 7s\tremaining: 2m 41s\n",
            "830:\tlearn: 0.0825177\ttest: 0.1088390\tbest: 0.1088390 (830)\ttotal: 13m 8s\tremaining: 2m 40s\n",
            "831:\tlearn: 0.0824881\ttest: 0.1088406\tbest: 0.1088390 (830)\ttotal: 13m 9s\tremaining: 2m 39s\n",
            "832:\tlearn: 0.0824555\ttest: 0.1088224\tbest: 0.1088224 (832)\ttotal: 13m 10s\tremaining: 2m 38s\n",
            "833:\tlearn: 0.0824014\ttest: 0.1087916\tbest: 0.1087916 (833)\ttotal: 13m 11s\tremaining: 2m 37s\n",
            "834:\tlearn: 0.0823865\ttest: 0.1087736\tbest: 0.1087736 (834)\ttotal: 13m 12s\tremaining: 2m 36s\n",
            "835:\tlearn: 0.0823359\ttest: 0.1087401\tbest: 0.1087401 (835)\ttotal: 13m 14s\tremaining: 2m 35s\n",
            "836:\tlearn: 0.0822780\ttest: 0.1087423\tbest: 0.1087401 (835)\ttotal: 13m 15s\tremaining: 2m 34s\n",
            "837:\tlearn: 0.0822580\ttest: 0.1087335\tbest: 0.1087335 (837)\ttotal: 13m 16s\tremaining: 2m 34s\n",
            "838:\tlearn: 0.0822040\ttest: 0.1086937\tbest: 0.1086937 (838)\ttotal: 13m 17s\tremaining: 2m 33s\n",
            "839:\tlearn: 0.0821893\ttest: 0.1086741\tbest: 0.1086741 (839)\ttotal: 13m 18s\tremaining: 2m 32s\n",
            "840:\tlearn: 0.0821198\ttest: 0.1086423\tbest: 0.1086423 (840)\ttotal: 13m 19s\tremaining: 2m 31s\n",
            "841:\tlearn: 0.0820976\ttest: 0.1086326\tbest: 0.1086326 (841)\ttotal: 13m 19s\tremaining: 2m 30s\n",
            "842:\tlearn: 0.0820262\ttest: 0.1085706\tbest: 0.1085706 (842)\ttotal: 13m 20s\tremaining: 2m 29s\n",
            "843:\tlearn: 0.0819207\ttest: 0.1084852\tbest: 0.1084852 (843)\ttotal: 13m 21s\tremaining: 2m 28s\n",
            "844:\tlearn: 0.0818699\ttest: 0.1084505\tbest: 0.1084505 (844)\ttotal: 13m 22s\tremaining: 2m 27s\n",
            "845:\tlearn: 0.0818231\ttest: 0.1084409\tbest: 0.1084409 (845)\ttotal: 13m 23s\tremaining: 2m 26s\n",
            "846:\tlearn: 0.0818044\ttest: 0.1084267\tbest: 0.1084267 (846)\ttotal: 13m 23s\tremaining: 2m 25s\n",
            "847:\tlearn: 0.0817745\ttest: 0.1083955\tbest: 0.1083955 (847)\ttotal: 13m 24s\tremaining: 2m 24s\n",
            "848:\tlearn: 0.0817006\ttest: 0.1083449\tbest: 0.1083449 (848)\ttotal: 13m 25s\tremaining: 2m 23s\n",
            "849:\tlearn: 0.0816432\ttest: 0.1082957\tbest: 0.1082957 (849)\ttotal: 13m 27s\tremaining: 2m 22s\n",
            "850:\tlearn: 0.0815976\ttest: 0.1082830\tbest: 0.1082830 (850)\ttotal: 13m 28s\tremaining: 2m 21s\n",
            "851:\tlearn: 0.0815514\ttest: 0.1082636\tbest: 0.1082636 (851)\ttotal: 13m 30s\tremaining: 2m 20s\n",
            "852:\tlearn: 0.0815039\ttest: 0.1082454\tbest: 0.1082454 (852)\ttotal: 13m 30s\tremaining: 2m 19s\n",
            "853:\tlearn: 0.0814691\ttest: 0.1082395\tbest: 0.1082395 (853)\ttotal: 13m 31s\tremaining: 2m 18s\n",
            "854:\tlearn: 0.0813973\ttest: 0.1081912\tbest: 0.1081912 (854)\ttotal: 13m 32s\tremaining: 2m 17s\n",
            "855:\tlearn: 0.0813682\ttest: 0.1081961\tbest: 0.1081912 (854)\ttotal: 13m 33s\tremaining: 2m 16s\n",
            "856:\tlearn: 0.0813452\ttest: 0.1081905\tbest: 0.1081905 (856)\ttotal: 13m 34s\tremaining: 2m 15s\n",
            "857:\tlearn: 0.0813196\ttest: 0.1081877\tbest: 0.1081877 (857)\ttotal: 13m 35s\tremaining: 2m 14s\n",
            "858:\tlearn: 0.0812937\ttest: 0.1081829\tbest: 0.1081829 (858)\ttotal: 13m 36s\tremaining: 2m 13s\n",
            "859:\tlearn: 0.0812754\ttest: 0.1081677\tbest: 0.1081677 (859)\ttotal: 13m 37s\tremaining: 2m 13s\n",
            "860:\tlearn: 0.0812014\ttest: 0.1081469\tbest: 0.1081469 (860)\ttotal: 13m 37s\tremaining: 2m 12s\n",
            "861:\tlearn: 0.0811399\ttest: 0.1081007\tbest: 0.1081007 (861)\ttotal: 13m 38s\tremaining: 2m 11s\n",
            "862:\tlearn: 0.0811123\ttest: 0.1080930\tbest: 0.1080930 (862)\ttotal: 13m 39s\tremaining: 2m 10s\n",
            "863:\tlearn: 0.0810693\ttest: 0.1080527\tbest: 0.1080527 (863)\ttotal: 13m 40s\tremaining: 2m 9s\n",
            "864:\tlearn: 0.0810409\ttest: 0.1080329\tbest: 0.1080329 (864)\ttotal: 13m 41s\tremaining: 2m 8s\n",
            "865:\tlearn: 0.0809850\ttest: 0.1080026\tbest: 0.1080026 (865)\ttotal: 13m 43s\tremaining: 2m 7s\n",
            "866:\tlearn: 0.0809378\ttest: 0.1079638\tbest: 0.1079638 (866)\ttotal: 13m 44s\tremaining: 2m 6s\n",
            "867:\tlearn: 0.0808792\ttest: 0.1079132\tbest: 0.1079132 (867)\ttotal: 13m 45s\tremaining: 2m 5s\n",
            "868:\tlearn: 0.0808441\ttest: 0.1078989\tbest: 0.1078989 (868)\ttotal: 13m 46s\tremaining: 2m 4s\n",
            "869:\tlearn: 0.0808264\ttest: 0.1078975\tbest: 0.1078975 (869)\ttotal: 13m 47s\tremaining: 2m 3s\n",
            "870:\tlearn: 0.0807737\ttest: 0.1078688\tbest: 0.1078688 (870)\ttotal: 13m 48s\tremaining: 2m 2s\n",
            "871:\tlearn: 0.0807353\ttest: 0.1078648\tbest: 0.1078648 (871)\ttotal: 13m 48s\tremaining: 2m 1s\n",
            "872:\tlearn: 0.0807210\ttest: 0.1078660\tbest: 0.1078648 (871)\ttotal: 13m 49s\tremaining: 2m\n",
            "873:\tlearn: 0.0806527\ttest: 0.1078562\tbest: 0.1078562 (873)\ttotal: 13m 50s\tremaining: 1m 59s\n",
            "874:\tlearn: 0.0806116\ttest: 0.1078423\tbest: 0.1078423 (874)\ttotal: 13m 51s\tremaining: 1m 58s\n",
            "875:\tlearn: 0.0805334\ttest: 0.1077847\tbest: 0.1077847 (875)\ttotal: 13m 52s\tremaining: 1m 57s\n",
            "876:\tlearn: 0.0805065\ttest: 0.1077873\tbest: 0.1077847 (875)\ttotal: 13m 53s\tremaining: 1m 56s\n",
            "877:\tlearn: 0.0804736\ttest: 0.1077641\tbest: 0.1077641 (877)\ttotal: 13m 53s\tremaining: 1m 55s\n",
            "878:\tlearn: 0.0804543\ttest: 0.1077559\tbest: 0.1077559 (878)\ttotal: 13m 54s\tremaining: 1m 54s\n",
            "879:\tlearn: 0.0803884\ttest: 0.1077358\tbest: 0.1077358 (879)\ttotal: 13m 55s\tremaining: 1m 53s\n",
            "880:\tlearn: 0.0803638\ttest: 0.1077294\tbest: 0.1077294 (880)\ttotal: 13m 57s\tremaining: 1m 53s\n",
            "881:\tlearn: 0.0803101\ttest: 0.1076933\tbest: 0.1076933 (881)\ttotal: 13m 58s\tremaining: 1m 52s\n",
            "882:\tlearn: 0.0802647\ttest: 0.1076607\tbest: 0.1076607 (882)\ttotal: 13m 59s\tremaining: 1m 51s\n",
            "883:\tlearn: 0.0802496\ttest: 0.1076417\tbest: 0.1076417 (883)\ttotal: 14m\tremaining: 1m 50s\n",
            "884:\tlearn: 0.0802292\ttest: 0.1076376\tbest: 0.1076376 (884)\ttotal: 14m 1s\tremaining: 1m 49s\n",
            "885:\tlearn: 0.0802004\ttest: 0.1076192\tbest: 0.1076192 (885)\ttotal: 14m 2s\tremaining: 1m 48s\n",
            "886:\tlearn: 0.0801820\ttest: 0.1076214\tbest: 0.1076192 (885)\ttotal: 14m 3s\tremaining: 1m 47s\n",
            "887:\tlearn: 0.0801228\ttest: 0.1075726\tbest: 0.1075726 (887)\ttotal: 14m 4s\tremaining: 1m 46s\n",
            "888:\tlearn: 0.0800633\ttest: 0.1075325\tbest: 0.1075325 (888)\ttotal: 14m 4s\tremaining: 1m 45s\n",
            "889:\tlearn: 0.0800180\ttest: 0.1075117\tbest: 0.1075117 (889)\ttotal: 14m 5s\tremaining: 1m 44s\n",
            "890:\tlearn: 0.0799710\ttest: 0.1074831\tbest: 0.1074831 (890)\ttotal: 14m 6s\tremaining: 1m 43s\n",
            "891:\tlearn: 0.0799526\ttest: 0.1074739\tbest: 0.1074739 (891)\ttotal: 14m 7s\tremaining: 1m 42s\n",
            "892:\tlearn: 0.0799352\ttest: 0.1074769\tbest: 0.1074739 (891)\ttotal: 14m 8s\tremaining: 1m 41s\n",
            "893:\tlearn: 0.0799094\ttest: 0.1074802\tbest: 0.1074739 (891)\ttotal: 14m 9s\tremaining: 1m 40s\n",
            "894:\tlearn: 0.0798868\ttest: 0.1074842\tbest: 0.1074739 (891)\ttotal: 14m 9s\tremaining: 1m 39s\n",
            "895:\tlearn: 0.0798502\ttest: 0.1074631\tbest: 0.1074631 (895)\ttotal: 14m 11s\tremaining: 1m 38s\n",
            "896:\tlearn: 0.0798319\ttest: 0.1074589\tbest: 0.1074589 (896)\ttotal: 14m 12s\tremaining: 1m 37s\n",
            "897:\tlearn: 0.0798013\ttest: 0.1074635\tbest: 0.1074589 (896)\ttotal: 14m 13s\tremaining: 1m 37s\n",
            "898:\tlearn: 0.0797479\ttest: 0.1074189\tbest: 0.1074189 (898)\ttotal: 14m 15s\tremaining: 1m 36s\n",
            "899:\tlearn: 0.0797230\ttest: 0.1074142\tbest: 0.1074142 (899)\ttotal: 14m 15s\tremaining: 1m 35s\n",
            "900:\tlearn: 0.0796959\ttest: 0.1074134\tbest: 0.1074134 (900)\ttotal: 14m 16s\tremaining: 1m 34s\n",
            "901:\tlearn: 0.0796811\ttest: 0.1073954\tbest: 0.1073954 (901)\ttotal: 14m 17s\tremaining: 1m 33s\n",
            "902:\tlearn: 0.0796112\ttest: 0.1073789\tbest: 0.1073789 (902)\ttotal: 14m 18s\tremaining: 1m 32s\n",
            "903:\tlearn: 0.0795849\ttest: 0.1073497\tbest: 0.1073497 (903)\ttotal: 14m 19s\tremaining: 1m 31s\n",
            "904:\tlearn: 0.0795281\ttest: 0.1072962\tbest: 0.1072962 (904)\ttotal: 14m 20s\tremaining: 1m 30s\n",
            "905:\tlearn: 0.0795138\ttest: 0.1072799\tbest: 0.1072799 (905)\ttotal: 14m 20s\tremaining: 1m 29s\n",
            "906:\tlearn: 0.0794831\ttest: 0.1072748\tbest: 0.1072748 (906)\ttotal: 14m 21s\tremaining: 1m 28s\n",
            "907:\tlearn: 0.0794618\ttest: 0.1072714\tbest: 0.1072714 (907)\ttotal: 14m 22s\tremaining: 1m 27s\n",
            "908:\tlearn: 0.0794450\ttest: 0.1072648\tbest: 0.1072648 (908)\ttotal: 14m 23s\tremaining: 1m 26s\n",
            "909:\tlearn: 0.0794216\ttest: 0.1072555\tbest: 0.1072555 (909)\ttotal: 14m 24s\tremaining: 1m 25s\n",
            "910:\tlearn: 0.0793733\ttest: 0.1072095\tbest: 0.1072095 (910)\ttotal: 14m 25s\tremaining: 1m 24s\n",
            "911:\tlearn: 0.0793201\ttest: 0.1071899\tbest: 0.1071899 (911)\ttotal: 14m 27s\tremaining: 1m 23s\n",
            "912:\tlearn: 0.0792516\ttest: 0.1071418\tbest: 0.1071418 (912)\ttotal: 14m 28s\tremaining: 1m 22s\n",
            "913:\tlearn: 0.0792098\ttest: 0.1071201\tbest: 0.1071201 (913)\ttotal: 14m 29s\tremaining: 1m 21s\n",
            "914:\tlearn: 0.0791569\ttest: 0.1071185\tbest: 0.1071185 (914)\ttotal: 14m 30s\tremaining: 1m 20s\n",
            "915:\tlearn: 0.0791404\ttest: 0.1071136\tbest: 0.1071136 (915)\ttotal: 14m 31s\tremaining: 1m 19s\n",
            "916:\tlearn: 0.0791263\ttest: 0.1071153\tbest: 0.1071136 (915)\ttotal: 14m 32s\tremaining: 1m 18s\n",
            "917:\tlearn: 0.0790476\ttest: 0.1070833\tbest: 0.1070833 (917)\ttotal: 14m 33s\tremaining: 1m 17s\n",
            "918:\tlearn: 0.0789947\ttest: 0.1070561\tbest: 0.1070561 (918)\ttotal: 14m 33s\tremaining: 1m 17s\n",
            "919:\tlearn: 0.0789796\ttest: 0.1070570\tbest: 0.1070561 (918)\ttotal: 14m 34s\tremaining: 1m 16s\n",
            "920:\tlearn: 0.0789587\ttest: 0.1070541\tbest: 0.1070541 (920)\ttotal: 14m 35s\tremaining: 1m 15s\n",
            "921:\tlearn: 0.0789330\ttest: 0.1070248\tbest: 0.1070248 (921)\ttotal: 14m 36s\tremaining: 1m 14s\n",
            "922:\tlearn: 0.0789049\ttest: 0.1070295\tbest: 0.1070248 (921)\ttotal: 14m 37s\tremaining: 1m 13s\n",
            "923:\tlearn: 0.0788860\ttest: 0.1070095\tbest: 0.1070095 (923)\ttotal: 14m 38s\tremaining: 1m 12s\n",
            "924:\tlearn: 0.0788705\ttest: 0.1070093\tbest: 0.1070093 (924)\ttotal: 14m 38s\tremaining: 1m 11s\n",
            "925:\tlearn: 0.0788272\ttest: 0.1070013\tbest: 0.1070013 (925)\ttotal: 14m 39s\tremaining: 1m 10s\n",
            "926:\tlearn: 0.0787657\ttest: 0.1069907\tbest: 0.1069907 (926)\ttotal: 14m 41s\tremaining: 1m 9s\n",
            "927:\tlearn: 0.0787342\ttest: 0.1069602\tbest: 0.1069602 (927)\ttotal: 14m 42s\tremaining: 1m 8s\n",
            "928:\tlearn: 0.0787208\ttest: 0.1069627\tbest: 0.1069602 (927)\ttotal: 14m 43s\tremaining: 1m 7s\n",
            "929:\tlearn: 0.0786668\ttest: 0.1069311\tbest: 0.1069311 (929)\ttotal: 14m 45s\tremaining: 1m 6s\n",
            "930:\tlearn: 0.0785795\ttest: 0.1068809\tbest: 0.1068809 (930)\ttotal: 14m 45s\tremaining: 1m 5s\n",
            "931:\tlearn: 0.0785467\ttest: 0.1068615\tbest: 0.1068615 (931)\ttotal: 14m 46s\tremaining: 1m 4s\n",
            "932:\tlearn: 0.0785214\ttest: 0.1068555\tbest: 0.1068555 (932)\ttotal: 14m 47s\tremaining: 1m 3s\n",
            "933:\tlearn: 0.0785017\ttest: 0.1068528\tbest: 0.1068528 (933)\ttotal: 14m 48s\tremaining: 1m 2s\n",
            "934:\tlearn: 0.0784601\ttest: 0.1068453\tbest: 0.1068453 (934)\ttotal: 14m 49s\tremaining: 1m 1s\n",
            "935:\tlearn: 0.0784443\ttest: 0.1068454\tbest: 0.1068453 (934)\ttotal: 14m 50s\tremaining: 1m\n",
            "936:\tlearn: 0.0784268\ttest: 0.1068463\tbest: 0.1068453 (934)\ttotal: 14m 50s\tremaining: 59.9s\n",
            "937:\tlearn: 0.0784092\ttest: 0.1068520\tbest: 0.1068453 (934)\ttotal: 14m 51s\tremaining: 58.9s\n",
            "938:\tlearn: 0.0783855\ttest: 0.1068387\tbest: 0.1068387 (938)\ttotal: 14m 52s\tremaining: 58s\n",
            "939:\tlearn: 0.0783609\ttest: 0.1068202\tbest: 0.1068202 (939)\ttotal: 14m 53s\tremaining: 57s\n",
            "940:\tlearn: 0.0783113\ttest: 0.1067867\tbest: 0.1067867 (940)\ttotal: 14m 54s\tremaining: 56.1s\n",
            "941:\tlearn: 0.0782674\ttest: 0.1067735\tbest: 0.1067735 (941)\ttotal: 14m 55s\tremaining: 55.1s\n",
            "942:\tlearn: 0.0782433\ttest: 0.1067616\tbest: 0.1067616 (942)\ttotal: 14m 56s\tremaining: 54.2s\n",
            "943:\tlearn: 0.0782066\ttest: 0.1067626\tbest: 0.1067616 (942)\ttotal: 14m 58s\tremaining: 53.3s\n",
            "944:\tlearn: 0.0781912\ttest: 0.1067598\tbest: 0.1067598 (944)\ttotal: 14m 59s\tremaining: 52.4s\n",
            "945:\tlearn: 0.0781654\ttest: 0.1067588\tbest: 0.1067588 (945)\ttotal: 15m\tremaining: 51.4s\n",
            "946:\tlearn: 0.0781497\ttest: 0.1067624\tbest: 0.1067588 (945)\ttotal: 15m 1s\tremaining: 50.4s\n",
            "947:\tlearn: 0.0780580\ttest: 0.1066825\tbest: 0.1066825 (947)\ttotal: 15m 2s\tremaining: 49.5s\n",
            "948:\tlearn: 0.0780427\ttest: 0.1066826\tbest: 0.1066825 (947)\ttotal: 15m 2s\tremaining: 48.5s\n",
            "949:\tlearn: 0.0780271\ttest: 0.1066827\tbest: 0.1066825 (947)\ttotal: 15m 3s\tremaining: 47.6s\n",
            "950:\tlearn: 0.0780037\ttest: 0.1066622\tbest: 0.1066622 (950)\ttotal: 15m 4s\tremaining: 46.6s\n",
            "951:\tlearn: 0.0779467\ttest: 0.1066328\tbest: 0.1066328 (951)\ttotal: 15m 5s\tremaining: 45.7s\n",
            "952:\tlearn: 0.0778789\ttest: 0.1065792\tbest: 0.1065792 (952)\ttotal: 15m 6s\tremaining: 44.7s\n",
            "953:\tlearn: 0.0778611\ttest: 0.1065815\tbest: 0.1065792 (952)\ttotal: 15m 7s\tremaining: 43.7s\n",
            "954:\tlearn: 0.0778457\ttest: 0.1065645\tbest: 0.1065645 (954)\ttotal: 15m 7s\tremaining: 42.8s\n",
            "955:\tlearn: 0.0778311\ttest: 0.1065650\tbest: 0.1065645 (954)\ttotal: 15m 8s\tremaining: 41.8s\n",
            "956:\tlearn: 0.0777799\ttest: 0.1065448\tbest: 0.1065448 (956)\ttotal: 15m 9s\tremaining: 40.9s\n",
            "957:\tlearn: 0.0777437\ttest: 0.1065135\tbest: 0.1065135 (957)\ttotal: 15m 11s\tremaining: 39.9s\n",
            "958:\tlearn: 0.0776963\ttest: 0.1064903\tbest: 0.1064903 (958)\ttotal: 15m 12s\tremaining: 39s\n",
            "959:\tlearn: 0.0776701\ttest: 0.1064744\tbest: 0.1064744 (959)\ttotal: 15m 13s\tremaining: 38.1s\n",
            "960:\tlearn: 0.0776319\ttest: 0.1064687\tbest: 0.1064687 (960)\ttotal: 15m 14s\tremaining: 37.1s\n",
            "961:\tlearn: 0.0775717\ttest: 0.1064601\tbest: 0.1064601 (961)\ttotal: 15m 15s\tremaining: 36.2s\n",
            "962:\tlearn: 0.0775469\ttest: 0.1064419\tbest: 0.1064419 (962)\ttotal: 15m 16s\tremaining: 35.2s\n",
            "963:\tlearn: 0.0775310\ttest: 0.1064421\tbest: 0.1064419 (962)\ttotal: 15m 17s\tremaining: 34.3s\n",
            "964:\tlearn: 0.0775158\ttest: 0.1064402\tbest: 0.1064402 (964)\ttotal: 15m 18s\tremaining: 33.3s\n",
            "965:\tlearn: 0.0775012\ttest: 0.1064418\tbest: 0.1064402 (964)\ttotal: 15m 18s\tremaining: 32.3s\n",
            "966:\tlearn: 0.0774458\ttest: 0.1064204\tbest: 0.1064204 (966)\ttotal: 15m 19s\tremaining: 31.4s\n",
            "967:\tlearn: 0.0773808\ttest: 0.1063987\tbest: 0.1063987 (967)\ttotal: 15m 20s\tremaining: 30.4s\n",
            "968:\tlearn: 0.0773639\ttest: 0.1063895\tbest: 0.1063895 (968)\ttotal: 15m 21s\tremaining: 29.5s\n",
            "969:\tlearn: 0.0773173\ttest: 0.1063817\tbest: 0.1063817 (969)\ttotal: 15m 22s\tremaining: 28.5s\n",
            "970:\tlearn: 0.0773026\ttest: 0.1063844\tbest: 0.1063817 (969)\ttotal: 15m 23s\tremaining: 27.6s\n",
            "971:\tlearn: 0.0772325\ttest: 0.1063155\tbest: 0.1063155 (971)\ttotal: 15m 23s\tremaining: 26.6s\n",
            "972:\tlearn: 0.0772180\ttest: 0.1063160\tbest: 0.1063155 (971)\ttotal: 15m 25s\tremaining: 25.7s\n",
            "973:\tlearn: 0.0772024\ttest: 0.1063182\tbest: 0.1063155 (971)\ttotal: 15m 26s\tremaining: 24.7s\n",
            "974:\tlearn: 0.0771843\ttest: 0.1062997\tbest: 0.1062997 (974)\ttotal: 15m 28s\tremaining: 23.8s\n",
            "975:\tlearn: 0.0771615\ttest: 0.1062973\tbest: 0.1062973 (975)\ttotal: 15m 29s\tremaining: 22.9s\n",
            "976:\tlearn: 0.0771358\ttest: 0.1062885\tbest: 0.1062885 (976)\ttotal: 15m 30s\tremaining: 21.9s\n",
            "977:\tlearn: 0.0770956\ttest: 0.1062798\tbest: 0.1062798 (977)\ttotal: 15m 31s\tremaining: 20.9s\n",
            "978:\tlearn: 0.0770607\ttest: 0.1062499\tbest: 0.1062499 (978)\ttotal: 15m 31s\tremaining: 20s\n",
            "979:\tlearn: 0.0770032\ttest: 0.1062351\tbest: 0.1062351 (979)\ttotal: 15m 32s\tremaining: 19s\n",
            "980:\tlearn: 0.0769881\ttest: 0.1062362\tbest: 0.1062351 (979)\ttotal: 15m 33s\tremaining: 18.1s\n",
            "981:\tlearn: 0.0769356\ttest: 0.1062338\tbest: 0.1062338 (981)\ttotal: 15m 34s\tremaining: 17.1s\n",
            "982:\tlearn: 0.0769028\ttest: 0.1062247\tbest: 0.1062247 (982)\ttotal: 15m 35s\tremaining: 16.2s\n",
            "983:\tlearn: 0.0768536\ttest: 0.1062040\tbest: 0.1062040 (983)\ttotal: 15m 36s\tremaining: 15.2s\n",
            "984:\tlearn: 0.0768104\ttest: 0.1061820\tbest: 0.1061820 (984)\ttotal: 15m 36s\tremaining: 14.3s\n",
            "985:\tlearn: 0.0767954\ttest: 0.1061823\tbest: 0.1061820 (984)\ttotal: 15m 37s\tremaining: 13.3s\n",
            "986:\tlearn: 0.0767726\ttest: 0.1061818\tbest: 0.1061818 (986)\ttotal: 15m 38s\tremaining: 12.4s\n",
            "987:\tlearn: 0.0767584\ttest: 0.1061815\tbest: 0.1061815 (987)\ttotal: 15m 39s\tremaining: 11.4s\n",
            "988:\tlearn: 0.0767369\ttest: 0.1061616\tbest: 0.1061616 (988)\ttotal: 15m 41s\tremaining: 10.5s\n",
            "989:\tlearn: 0.0767135\ttest: 0.1061576\tbest: 0.1061576 (989)\ttotal: 15m 42s\tremaining: 9.52s\n",
            "990:\tlearn: 0.0766891\ttest: 0.1061461\tbest: 0.1061461 (990)\ttotal: 15m 43s\tremaining: 8.57s\n",
            "991:\tlearn: 0.0766419\ttest: 0.1061356\tbest: 0.1061356 (991)\ttotal: 15m 44s\tremaining: 7.62s\n",
            "992:\tlearn: 0.0765858\ttest: 0.1061227\tbest: 0.1061227 (992)\ttotal: 15m 45s\tremaining: 6.67s\n",
            "993:\tlearn: 0.0765266\ttest: 0.1060959\tbest: 0.1060959 (993)\ttotal: 15m 46s\tremaining: 5.71s\n",
            "994:\tlearn: 0.0765078\ttest: 0.1060785\tbest: 0.1060785 (994)\ttotal: 15m 47s\tremaining: 4.76s\n",
            "995:\tlearn: 0.0764540\ttest: 0.1060593\tbest: 0.1060593 (995)\ttotal: 15m 48s\tremaining: 3.81s\n",
            "996:\tlearn: 0.0764221\ttest: 0.1060444\tbest: 0.1060444 (996)\ttotal: 15m 48s\tremaining: 2.85s\n",
            "997:\tlearn: 0.0764071\ttest: 0.1060448\tbest: 0.1060444 (996)\ttotal: 15m 49s\tremaining: 1.9s\n",
            "998:\tlearn: 0.0763860\ttest: 0.1060473\tbest: 0.1060444 (996)\ttotal: 15m 50s\tremaining: 951ms\n",
            "999:\tlearn: 0.0763701\ttest: 0.1060400\tbest: 0.1060400 (999)\ttotal: 15m 51s\tremaining: 0us\n",
            "\n",
            "bestTest = 0.1060399807\n",
            "bestIteration = 999\n",
            "\n"
          ]
        },
        {
          "output_type": "execute_result",
          "data": {
            "text/plain": [
              "<catboost.core.CatBoostClassifier at 0x7f766a8d6680>"
            ]
          },
          "metadata": {},
          "execution_count": 252
        }
      ]
    },
    {
      "cell_type": "markdown",
      "source": [
        "# Model Interface"
      ],
      "metadata": {
        "id": "bUI3tBZX5iMw"
      }
    },
    {
      "cell_type": "code",
      "source": [
        "from typing import Optional, List, Set, Tuple, Union, Dict\n",
        "from keras.preprocessing.text import Tokenizer\n",
        "from nltk.tokenize.regexp import RegexpTokenizer\n",
        "from keras.utils import pad_sequences\n",
        "from keras.engine.sequential import Sequential\n",
        "import pickle\n",
        "import nltk\n",
        "from nltk.corpus import stopwords\n",
        "from keras.models import load_model\n",
        "from dataclasses import dataclass\n",
        "import numpy as np\n",
        "\n",
        "\n",
        "STOP_WORDS: Optional[Set[str]] = None\n",
        "MAX_WORD_COUNT = 5\n",
        "LABELS = ('manipulation', 'profanity', 'advertisement', 'begging', 'normal')\n",
        "\n",
        "\n",
        "class ModelNotLoadException(Exception):\n",
        "    def __init__(self):\n",
        "        super().__init__(\"Model not load\")\n",
        "\n",
        "\n",
        "class TokenizerNotLoadException(Exception):\n",
        "    def __init__(self):\n",
        "        super().__init__(\"Tokenizer not load\")\n",
        "\n",
        "\n",
        "def init_stopwords_nltk():\n",
        "    global STOP_WORDS\n",
        "\n",
        "    nltk.download(\"stopwords\")\n",
        "    stop_words = set(stopwords.words('russian'))\n",
        "    stop_words.update(['.', ',', '\"', \"'\", ':', ';', '(', ')', '[', ']', '{', '}'])\n",
        "\n",
        "    STOP_WORDS = stop_words\n",
        "\n",
        "\n",
        "def preprocess_input(text: str, stop_words: Set[str]) -> List[str]:\n",
        "    processed_docs = []\n",
        "    tokens = RegexpTokenizer(r'\\w+').tokenize(text)\n",
        "    filtered = [word for word in tokens if word not in stop_words]\n",
        "    return filtered\n",
        "\n",
        "\n",
        "def vectorize_input(processed_docs: List[str], tokenizer: Tokenizer) -> List[List[int]]:\n",
        "    return pad_sequences(tokenizer.texts_to_sequences(processed_docs), maxlen=64)\n",
        "\n",
        "\n",
        "class PredictResult:\n",
        "    separate_result: List[Tuple[str, np.array]]\n",
        "    total_result: np.array\n",
        "    text: str\n",
        "    max_separates_len: int\n",
        "\n",
        "    def __init__(self, separate_result):\n",
        "        self.separate_result = separate_result\n",
        "        self.total_result = self.calculate_total_result(separate_result)\n",
        "        self.text = self.calculate_text(separate_result)\n",
        "        self.max_separates_len = max(map(lambda x: len(x[0]), separate_result))\n",
        "\n",
        "    @staticmethod\n",
        "    def calculate_total_result(separate_result) -> np.array:\n",
        "        funcs = (max, max, max, max, min)\n",
        "        return np.array([funcs[i]([x[1][i] for x in separate_result]) for i in range(5)])\n",
        "\n",
        "    @staticmethod\n",
        "    def calculate_text(separate_result):\n",
        "        return \" \".join(map(lambda x: x[0], separate_result))\n",
        "\n",
        "    def get_max_result(self):\n",
        "        return np.max(self.total_result)\n",
        "\n",
        "    def get_max_label(self):\n",
        "        return LABELS[np.argmax(self.total_result)]\n",
        "\n",
        "    def __repr__(self):\n",
        "        return \"<Prediction for \\\"{:.20}...\\\": {} with probability {:%}>\".format(\n",
        "            self.text,\n",
        "            self.get_max_label(),\n",
        "            self.get_max_result()\n",
        "        )\n",
        "\n",
        "    def __str__(self):\n",
        "        return repr(self)\n",
        "\n",
        "    def get_scores(self) -> Dict[str, List[Tuple[float, str]]]:\n",
        "        return {LABELS[i]: [\n",
        "            (proba[i], text)\n",
        "            for text, proba in self.separate_result\n",
        "            if np.argmax(proba) == i\n",
        "        ] for i in range(len(LABELS))}\n",
        "\n",
        "    def get_human_readable_separates(self) -> str:\n",
        "        format_str = '{text:^{max_sep_len}} | {_class:^13} | {prob}'\n",
        "        header = format_str.format(\n",
        "            text=\"text\",\n",
        "            max_sep_len=self.max_separates_len,\n",
        "            _class=\"class\",\n",
        "            prob=\"prob, %\"\n",
        "        )\n",
        "        lines = [format_str.format(\n",
        "            text=text,\n",
        "            _class=LABELS[np.argmax(res)],\n",
        "            prob=np.max(res) * 100,\n",
        "            max_sep_len=self.max_separates_len\n",
        "        ) for text, res in self.separate_result]\n",
        "        return \"\\n\".join([header] + lines)\n",
        "\n",
        "\n",
        "class ClassifierModule:\n",
        "    _model: Optional[Sequential] = None\n",
        "    _tokenizer: Optional[Tokenizer]\n",
        "\n",
        "    def __init__(self, path_to_model: Optional[str], path_to_tokenizer: Optional[str], init_stopwords=True):\n",
        "        if path_to_model is not None:\n",
        "            self.load_model(path_to_model)\n",
        "        if path_to_tokenizer is not None:\n",
        "            self.load_tokenizer(path_to_tokenizer)\n",
        "        if init_stopwords:\n",
        "            init_stopwords_nltk()\n",
        "\n",
        "    def load_model(self, path_to_model: str, raise_exception: bool = False):\n",
        "        try:\n",
        "            self._model = load_model(path_to_model, compile=False)\n",
        "        except Exception as e:\n",
        "            self._model = None\n",
        "            if raise_exception:\n",
        "                raise e\n",
        "\n",
        "    def get_model(self, raise_exception: bool = False):\n",
        "        if self._model is None and raise_exception:\n",
        "            raise ModelNotLoadException\n",
        "        return self._model\n",
        "\n",
        "    def load_tokenizer(self, path_to_tokenizer: str, raise_exception: bool = False):\n",
        "        try:\n",
        "            with open(path_to_tokenizer, \"rb\") as f:\n",
        "                self._tokenizer = pickle.load(f)\n",
        "        except Exception as e:\n",
        "            self._tokenizer = None\n",
        "            if raise_exception:\n",
        "                raise e\n",
        "\n",
        "    def get_tokenizer(self, raise_exception: bool = False):\n",
        "        if self._tokenizer is None and raise_exception:\n",
        "            raise TokenizerNotLoadException\n",
        "        return self._tokenizer\n",
        "\n",
        "    def _predict(self, data: List[str], verbose: int | str = 0):\n",
        "        word_seq = vectorize_input(data, self.get_tokenizer(raise_exception=True))\n",
        "        return self.get_model(raise_exception=True).predict(word_seq, verbose=verbose)\n",
        "\n",
        "    def predict_one(self, text: str, max_words: Optional[int] = MAX_WORD_COUNT, verbose: int | str = 0):\n",
        "        text = preprocess_input(text, STOP_WORDS)\n",
        "        lines = []\n",
        "        if max_words is not None:\n",
        "            for i in range(max_words, len(text) + 1, max_words):\n",
        "                lines.append(\" \".join(text[i - max_words:i]))\n",
        "            if len(text) % max_words > 0:\n",
        "                lines.append(\" \".join(text[-(len(text) % max_words):]))\n",
        "        else:\n",
        "            lines.append(\" \".join(text))\n",
        "        return PredictResult([(line, res) for line, res in zip(lines, self._predict(lines, verbose))])\n",
        "\n",
        "    def predict_many(self, data: List[str], max_words: Optional[int] = MAX_WORD_COUNT, verbose: int | str = 0):\n",
        "        return list(map(lambda x: self.predict_one(x, max_words, verbose), data))"
      ],
      "metadata": {
        "id": "QkyBZyfblkJb"
      },
      "execution_count": null,
      "outputs": []
    },
    {
      "cell_type": "code",
      "source": [
        "model = ClassifierModule(\n",
        "    path_to_model=str(data_path / \"focloss_pulse_model\"),\n",
        "    path_to_tokenizer=str(data_path / \"0505_keras_tokenizer.pickle\"),\n",
        "    # init_stopwords=False\n",
        ")"
      ],
      "metadata": {
        "colab": {
          "base_uri": "https://localhost:8080/"
        },
        "id": "TYCjZiAF1pBC",
        "outputId": "3cb3841c-0578-429b-80a4-e13de8ebdfa0"
      },
      "execution_count": null,
      "outputs": [
        {
          "output_type": "stream",
          "name": "stderr",
          "text": [
            "[nltk_data] Downloading package stopwords to /root/nltk_data...\n",
            "[nltk_data]   Unzipping corpora/stopwords.zip.\n"
          ]
        }
      ]
    },
    {
      "cell_type": "code",
      "source": [
        "model.load_model(str(data_path / \"focloss_pulse_model\"), raise_exception=True)"
      ],
      "metadata": {
        "id": "SaifhFzN-IEy"
      },
      "execution_count": null,
      "outputs": []
    },
    {
      "cell_type": "code",
      "source": [
        "model.predict_one(\"пошли шортить акции\")"
      ],
      "metadata": {
        "colab": {
          "base_uri": "https://localhost:8080/"
        },
        "id": "tUH-8hgRBfjz",
        "outputId": "b1c82fe1-f3ac-4daf-ec6c-f30d8fb04fd3"
      },
      "execution_count": null,
      "outputs": [
        {
          "output_type": "execute_result",
          "data": {
            "text/plain": [
              "<Prediction for \"пошли шортить акции...\": manipulation with probability 75.992334%>"
            ]
          },
          "metadata": {},
          "execution_count": 10
        }
      ]
    },
    {
      "cell_type": "code",
      "source": [
        "print(model.predict_one(\"вообще я адекватный и не матерюсь но б#ять иногда\", 3).get_human_readable_separates())"
      ],
      "metadata": {
        "colab": {
          "base_uri": "https://localhost:8080/"
        },
        "id": "yY217ZDWdBSr",
        "outputId": "d5eb9ca9-609b-43aa-fb2d-76669589aa17"
      },
      "execution_count": null,
      "outputs": [
        {
          "output_type": "stream",
          "name": "stdout",
          "text": [
            "           text            |     class     | prob, %\n",
            "вообще адекватный матерюсь |    normal     | 69.26151514053345\n",
            "          б ять            |   profanity   | 85.07903218269348\n"
          ]
        }
      ]
    },
    {
      "cell_type": "code",
      "source": [
        "conf_matrix = [[0] * 5 for _ in range(5)]"
      ],
      "metadata": {
        "id": "ypIPO8rqHesk"
      },
      "execution_count": null,
      "outputs": []
    },
    {
      "cell_type": "code",
      "source": [
        "def f1(y_true, y_pred):\n",
        "    return np.mean([f1_score(y_train[:, i], (y_pred > .5)[:, i]) for i in range(5)])"
      ],
      "metadata": {
        "id": "OmdPmqYhrJS1"
      },
      "execution_count": null,
      "outputs": []
    },
    {
      "cell_type": "code",
      "source": [
        "rec_model = ClassifierModule(\n",
        "    path_to_model=str(data_path / \"rec_pulse_model\"),\n",
        "    path_to_tokenizer=str(data_path / \"keras_tokenizer.pickle\"),\n",
        "    # init_stopwords=False\n",
        ")"
      ],
      "metadata": {
        "colab": {
          "base_uri": "https://localhost:8080/"
        },
        "id": "YwtDpiqO9IdJ",
        "outputId": "7fad7c36-9d24-422a-81db-21c6c06e194e"
      },
      "execution_count": null,
      "outputs": [
        {
          "output_type": "stream",
          "name": "stderr",
          "text": [
            "[nltk_data] Downloading package stopwords to /root/nltk_data...\n",
            "[nltk_data]   Package stopwords is already up-to-date!\n"
          ]
        }
      ]
    },
    {
      "cell_type": "code",
      "source": [
        "vgg16_model = ClassifierModule(\n",
        "    path_to_model=str(data_path / \"vgg16_pulse_model\"),\n",
        "    path_to_tokenizer=str(data_path / \"keras_tokenizer.pickle\"),\n",
        "    # init_stopwords=False\n",
        ")"
      ],
      "metadata": {
        "colab": {
          "base_uri": "https://localhost:8080/"
        },
        "id": "rAayiuKFqT5O",
        "outputId": "a3f99e9c-0d00-4c23-cabe-f7fbe3a98fa5"
      },
      "execution_count": null,
      "outputs": [
        {
          "output_type": "stream",
          "name": "stderr",
          "text": [
            "[nltk_data] Downloading package stopwords to /root/nltk_data...\n",
            "[nltk_data]   Package stopwords is already up-to-date!\n"
          ]
        }
      ]
    },
    {
      "cell_type": "code",
      "source": [
        "print(model.predict_one(\"В статье поговорим про построение автоматической системы модерации для обработки \"\n",
        "                    \"английского языка с использованием алгоритмов машинного обучения пошёл нах*й\", 5).get_scores())"
      ],
      "metadata": {
        "colab": {
          "base_uri": "https://localhost:8080/"
        },
        "id": "Wri68AZn2Q0H",
        "outputId": "73bf96ca-f8ad-45cd-a08d-6dc1982ea62a"
      },
      "execution_count": null,
      "outputs": [
        {
          "output_type": "stream",
          "name": "stdout",
          "text": [
            "{'manipulation': [(0.5547716, 'В статье поговорим построение автоматической')], 'profanity': [(0.97552764, 'нах й')], 'advertisement': [], 'begging': [], 'normal': [(0.9976096, 'системы модерации обработки английского языка'), (0.98971075, 'использованием алгоритмов машинного обучения пошёл')]}\n"
          ]
        }
      ]
    },
    {
      "cell_type": "code",
      "source": [
        "print(vgg16_model.predict_one(\"В статье поговорим про построение автоматической системы модерации для обработки \"\n",
        "                    \"английского языка с использованием алгоритмов машинного обучения пошёл нах*й\", None))"
      ],
      "metadata": {
        "colab": {
          "base_uri": "https://localhost:8080/"
        },
        "id": "nbuY72KAqeef",
        "outputId": "6fbebcf5-e2d7-4808-db9d-5e189331daa5"
      },
      "execution_count": null,
      "outputs": [
        {
          "output_type": "stream",
          "name": "stdout",
          "text": [
            "<Prediction for \"В статье поговорим п...\": profanity with probability 95.993257%>\n"
          ]
        }
      ]
    },
    {
      "cell_type": "code",
      "source": [
        "print(vgg16_model.predict_one(\"привет видел вчера собаку\", 4))"
      ],
      "metadata": {
        "colab": {
          "base_uri": "https://localhost:8080/"
        },
        "id": "GY0uurxLsOrP",
        "outputId": "ecb2dd81-1ee6-4f1e-d7a0-68563353643f"
      },
      "execution_count": null,
      "outputs": [
        {
          "output_type": "stream",
          "name": "stdout",
          "text": [
            "<Prediction for \"привет видел вчера с...\": profanity with probability 30.183029%>\n"
          ]
        }
      ]
    },
    {
      "cell_type": "code",
      "source": [
        "print(vgg16_model.predict_one(\"Инвестируйте в нашу компанию, которая занимается разработкой\"\n",
        "                        \" и продажей мобильных приложений для управления финансами, и получите долю в прибыли\"))"
      ],
      "metadata": {
        "colab": {
          "base_uri": "https://localhost:8080/"
        },
        "id": "sZOMG44asq7d",
        "outputId": "c5722906-27ac-4a32-f2b4-4c169ede1c77"
      },
      "execution_count": null,
      "outputs": [
        {
          "output_type": "stream",
          "name": "stdout",
          "text": [
            "<Prediction for \"Инвестируйте нашу ко...\": manipulation with probability 99.192566%>\n"
          ]
        }
      ]
    },
    {
      "cell_type": "code",
      "source": [
        "print(rec_model.predict_one(\"В статье поговорим про построение автоматической системы модерации для обработки \"\n",
        "                    \"английского языка с использованием алгоритмов машинного обучения пошёл нах*й\", None))"
      ],
      "metadata": {
        "colab": {
          "base_uri": "https://localhost:8080/"
        },
        "id": "pGtQWkl_9Slr",
        "outputId": "98cb4674-66ed-494d-9611-8934fcaf26c9"
      },
      "execution_count": null,
      "outputs": [
        {
          "output_type": "stream",
          "name": "stdout",
          "text": [
            "<Prediction for \"В статье поговорим п...\": manipulation with probability 93.461818%>\n"
          ]
        }
      ]
    },
    {
      "cell_type": "code",
      "source": [
        "print(model.predict_one(\"Инвестируйте в нашу компанию, которая занимается разработкой\"\n",
        "                        \" и продажей мобильных приложений для управления финансами, и получите долю в прибыли\"))"
      ],
      "metadata": {
        "colab": {
          "base_uri": "https://localhost:8080/"
        },
        "id": "hIw797vfvo_g",
        "outputId": "d72dcc86-5890-4b40-8661-d78110e360f5"
      },
      "execution_count": null,
      "outputs": [
        {
          "output_type": "stream",
          "name": "stdout",
          "text": [
            "<Prediction for \"Инвестируйте нашу ко...\": manipulation with probability 96.332026%>\n"
          ]
        }
      ]
    },
    {
      "cell_type": "code",
      "source": [
        "print(rec_model.predict_one(\"Инвестируйте в нашу компанию, которая занимается разработкой\"\n",
        "                        \" и продажей мобильных приложений для управления финансами, и получите долю в прибыли\", None))"
      ],
      "metadata": {
        "colab": {
          "base_uri": "https://localhost:8080/"
        },
        "id": "weYY89Fp-EYm",
        "outputId": "e380877e-b9e6-4a85-a07f-a29c7f540a1e"
      },
      "execution_count": null,
      "outputs": [
        {
          "output_type": "stream",
          "name": "stdout",
          "text": [
            "<Prediction for \"Инвестируйте нашу ко...\": manipulation with probability 55.992001%>\n"
          ]
        }
      ]
    },
    {
      "cell_type": "code",
      "source": [
        "print(model.predict_one(\"подпишитесь на мой канал плиз ссылка в профиле\"))"
      ],
      "metadata": {
        "colab": {
          "base_uri": "https://localhost:8080/"
        },
        "id": "_6GYNQbdwuTF",
        "outputId": "7f04d88f-7720-46a5-829b-516dcad7213d"
      },
      "execution_count": null,
      "outputs": [
        {
          "output_type": "stream",
          "name": "stdout",
          "text": [
            "<Prediction for \"подпишитесь канал пл...\": advertisement with probability 86.349177%>\n"
          ]
        }
      ]
    },
    {
      "cell_type": "code",
      "source": [
        "print(rec_model.predict_one(\"подпишитесь на мой канал плиз ссылка в профиле\", None))"
      ],
      "metadata": {
        "colab": {
          "base_uri": "https://localhost:8080/"
        },
        "id": "7CLL5IkK-Hjc",
        "outputId": "90a60485-59a3-4e0a-9c42-7cdeacb20b11"
      },
      "execution_count": null,
      "outputs": [
        {
          "output_type": "stream",
          "name": "stdout",
          "text": [
            "<Prediction for \"подпишитесь канал пл...\": advertisement with probability 45.561236%>\n"
          ]
        }
      ]
    },
    {
      "cell_type": "code",
      "source": [
        "print(model.predict_one(\"Брат, это лучшая возможность в жизни, надо срочно вложиться!\"))"
      ],
      "metadata": {
        "colab": {
          "base_uri": "https://localhost:8080/"
        },
        "id": "mId9hnNE1Iim",
        "outputId": "53215903-8e68-40cc-d5b1-4b9b5789b626"
      },
      "execution_count": null,
      "outputs": [
        {
          "output_type": "stream",
          "name": "stdout",
          "text": [
            "<Prediction for \"Брат это лучшая возм...\": manipulation with probability 81.874144%>\n"
          ]
        }
      ]
    },
    {
      "cell_type": "code",
      "source": [
        "print(rec_model.predict_one(\"{$UNKL} не продаем! держим строй!\t\", None))"
      ],
      "metadata": {
        "colab": {
          "base_uri": "https://localhost:8080/"
        },
        "id": "eCxXBlbJ4il8",
        "outputId": "4a864bca-ad9f-4119-96c8-514bf2cd4283"
      },
      "execution_count": null,
      "outputs": [
        {
          "output_type": "stream",
          "name": "stdout",
          "text": [
            "<Prediction for \"UNKL продаем держим ...\": manipulation with probability 95.993727%>\n"
          ]
        }
      ]
    },
    {
      "cell_type": "markdown",
      "source": [
        "## HuggingFace Extension"
      ],
      "metadata": {
        "id": "rtdYrhVwxKhe"
      }
    },
    {
      "cell_type": "code",
      "source": [
        "!pip install transformers"
      ],
      "metadata": {
        "colab": {
          "base_uri": "https://localhost:8080/"
        },
        "id": "Qo4QMvl2xaYk",
        "outputId": "11c5ec04-2ece-457d-cae6-4ced669840db"
      },
      "execution_count": null,
      "outputs": [
        {
          "output_type": "stream",
          "name": "stdout",
          "text": [
            "Installing collected packages: tokenizers, huggingface-hub, transformers\n",
            "Successfully installed huggingface-hub-0.14.1 tokenizers-0.13.3 transformers-4.28.1\n"
          ]
        }
      ]
    },
    {
      "cell_type": "code",
      "source": [
        "from transformers import BertTokenizer, BertForSequenceClassification\n",
        "import tensorflow as tf\n",
        "\n",
        "\n",
        "HF_LABELS = (\"untoxic\", \"toxic\")\n",
        "\n",
        "\n",
        "class HFPredictResult(PredictResult):\n",
        "    total_result: np.array\n",
        "    text: str\n",
        "\n",
        "    def __init__(self, total_result, text):\n",
        "        self.total_result = total_result\n",
        "        self.text = text\n",
        "\n",
        "    @staticmethod\n",
        "    def calculate_total_result(separate_result) -> np.array:\n",
        "        raise NotImplementedError\n",
        "\n",
        "    @staticmethod\n",
        "    def calculate_text(separate_result):\n",
        "        raise NotImplementedError\n",
        "\n",
        "    def get_max_result(self):\n",
        "        return np.max(self.total_result)\n",
        "\n",
        "    def get_max_label(self):\n",
        "        return HF_LABELS[np.argmax(self.total_result)]\n",
        "\n",
        "    def __repr__(self):\n",
        "        return \"<Prediction for \\\"{:.20}...\\\": {}>\".format(\n",
        "            self.text,\n",
        "            self.get_max_label(),\n",
        "        )\n",
        "\n",
        "    def __str__(self):\n",
        "        return repr(self)\n",
        "\n",
        "    def get_scores(self) -> Dict[str, List[Tuple[float, str]]]:\n",
        "        return {self.get_max_label(): [self.text]}\n",
        "\n",
        "    def get_human_readable_separates(self) -> str:\n",
        "        raise NotImplementedError\n",
        "\n",
        "\n",
        "class HFClassifierModule(ClassifierModule):\n",
        "    def __init__(self, path_to_model: Optional[str], path_to_tokenizer: Optional[str] = None):\n",
        "        super().__init__(path_to_model, path_to_tokenizer or path_to_model, init_stopwords=False)\n",
        "\n",
        "    def load_model(self, path_to_model: str, raise_exception: bool = False):\n",
        "        try:\n",
        "            self._model = BertForSequenceClassification.from_pretrained('SkolkovoInstitute/russian_toxicity_classifier')\n",
        "        except Exception as e:\n",
        "            self._model = None\n",
        "            if raise_exception:\n",
        "                raise e\n",
        "\n",
        "    def load_tokenizer(self, path_to_tokenizer: str, raise_exception: bool = False):\n",
        "        try:\n",
        "            self._tokenizer = BertTokenizer.from_pretrained('SkolkovoInstitute/russian_toxicity_classifier')\n",
        "        except Exception as e:\n",
        "            self._tokenizer = None\n",
        "            if raise_exception:\n",
        "                raise e\n",
        "\n",
        "    def _predict(self, text: str) -> np.array:\n",
        "        batch = self.get_tokenizer(raise_exception=True).encode(text, return_tensors='pt')\n",
        "        return self.get_model(raise_exception=True)(batch).logits.detach().numpy()\n",
        "\n",
        "    def predict_one(self, text: str):\n",
        "        return HFPredictResult(self._predict(text), text)\n",
        "\n",
        "    def predict_many(self, data: List[str]):\n",
        "        return list(map(lambda x: self.predict_one(x), data))"
      ],
      "metadata": {
        "id": "q7PdV8aI0BaX"
      },
      "execution_count": null,
      "outputs": []
    },
    {
      "cell_type": "code",
      "source": [
        "model = HFClassifierModule(\"SkolkovoInstitute/russian_toxicity_classifier\")"
      ],
      "metadata": {
        "id": "D3kO3Xbo4unq"
      },
      "execution_count": null,
      "outputs": []
    },
    {
      "cell_type": "code",
      "source": [
        "model.predict_one('подпишитесь плиз')"
      ],
      "metadata": {
        "colab": {
          "base_uri": "https://localhost:8080/"
        },
        "id": "Mk0l4iUV5K__",
        "outputId": "cbb4cf9a-30ee-4406-a976-8e45fe9fba82"
      },
      "execution_count": null,
      "outputs": [
        {
          "output_type": "execute_result",
          "data": {
            "text/plain": [
              "<Prediction for \"подпишитесь плиз...\": untoxic>"
            ]
          },
          "metadata": {},
          "execution_count": 71
        }
      ]
    },
    {
      "cell_type": "code",
      "source": [
        "from transformers import BertTokenizer, BertForSequenceClassification\n",
        "import tensorflow as tf\n",
        "\n",
        "\n",
        "# load tokenizer and model weights\n",
        "tokenizer = BertTokenizer.from_pretrained('SkolkovoInstitute/russian_toxicity_classifier')\n",
        "model = BertForSequenceClassification.from_pretrained('SkolkovoInstitute/russian_toxicity_classifier')\n",
        "\n",
        "# prepare the input\n",
        "batch = tokenizer.encode('я любил', return_tensors='pt')\n",
        "\n",
        "# inference\n",
        "tf.round(tf.nn.sigmoid(model(batch).logits.detach().numpy())).numpy()"
      ],
      "metadata": {
        "colab": {
          "base_uri": "https://localhost:8080/"
        },
        "id": "obsvKHETxKIE",
        "outputId": "83cf26fc-e71c-4be5-8458-ba1bcc6209c5"
      },
      "execution_count": null,
      "outputs": [
        {
          "output_type": "execute_result",
          "data": {
            "text/plain": [
              "array([[1., 0.]], dtype=float32)"
            ]
          },
          "metadata": {},
          "execution_count": 37
        }
      ]
    },
    {
      "cell_type": "code",
      "source": [
        "tokenizer.encode('ты $$$супер', return_tensors='pt')"
      ],
      "metadata": {
        "colab": {
          "base_uri": "https://localhost:8080/"
        },
        "id": "er59NT2W1v9n",
        "outputId": "6d9049a7-d581-471f-b9ef-36aab705de5b"
      },
      "execution_count": null,
      "outputs": [
        {
          "output_type": "execute_result",
          "data": {
            "text/plain": [
              "tensor([[ 101, 1006,  112,  112,  112, 4648,  102]])"
            ]
          },
          "metadata": {},
          "execution_count": 20
        }
      ]
    }
  ]
}